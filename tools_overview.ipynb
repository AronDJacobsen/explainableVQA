{
 "cells": [
  {
   "cell_type": "markdown",
   "id": "2c9e6b3b",
   "metadata": {},
   "source": [
    "# Featurization ideas"
   ]
  },
  {
   "cell_type": "markdown",
   "id": "7fedfacd",
   "metadata": {},
   "source": [
    "**Sentence Embeddings:**\n",
    "> - *sent2vec (EPFL):* https://github.com/epfml/sent2vec (TODO: Build tools required!)\n",
    "> - *sen2vec:* https://pypi.org/project/sen2vec/1.44/#description"
   ]
  },
  {
   "cell_type": "code",
   "execution_count": null,
   "id": "99b35485",
   "metadata": {},
   "outputs": [],
   "source": [
    "import sent2vec\n",
    "\n",
    "model = sent2vec.Sent2vecModel()\n",
    "model.load_model('model.bin')\n",
    "emb = model.embed_sentence(\"once upon a time .\") \n",
    "embs = model.embed_sentences([\"first sentence .\", \"another sentence\"])"
   ]
  },
  {
   "cell_type": "code",
   "execution_count": null,
   "id": "afe9979b",
   "metadata": {},
   "outputs": [],
   "source": []
  }
 ],
 "metadata": {
  "kernelspec": {
   "display_name": "VQA environment",
   "language": "python",
   "name": "test_vqa"
  },
  "language_info": {
   "codemirror_mode": {
    "name": "ipython",
    "version": 3
   },
   "file_extension": ".py",
   "mimetype": "text/x-python",
   "name": "python",
   "nbconvert_exporter": "python",
   "pygments_lexer": "ipython3",
   "version": "3.8.12"
  }
 },
 "nbformat": 4,
 "nbformat_minor": 5
}
