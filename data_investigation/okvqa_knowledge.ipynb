{
 "cells": [
  {
   "cell_type": "code",
   "execution_count": 1,
   "id": "33772495",
   "metadata": {},
   "outputs": [],
   "source": [
    "import os, glob\n",
    "from pathlib import Path\n",
    "from tqdm.notebook import tqdm\n",
    "tqdm.pandas()\n",
    "\n",
    "from itertools import accumulate\n",
    "from collections import Counter\n",
    "\n",
    "import numpy as np\n",
    "import pandas as pd\n",
    "\n",
    "from tools.faster_rcnn import *\n",
    "\n",
    "import matplotlib.pyplot as plt\n",
    "%matplotlib inline\n",
    "\n",
    "from tools.utils import *\n",
    "\n",
    "import plotly.graph_objects as go\n",
    "\n",
    "import dash\n",
    "from dash import dcc\n",
    "from dash import html"
   ]
  },
  {
   "cell_type": "markdown",
   "id": "ecf92443",
   "metadata": {},
   "source": [
    "# OKVQA - Investigating Knowledge Graph\n",
    "\n",
    "This notebook examines the ConceptNet Knowledge Graph. First, the extracted data is loaded."
   ]
  },
  {
   "cell_type": "code",
   "execution_count": 2,
   "id": "a350c15f",
   "metadata": {},
   "outputs": [],
   "source": [
    "# path to okvqa dataset (from text-investigation)\n",
    "filename = 'OKVQA_conceptnet.json'\n",
    "data_path = Path(os.getcwd()) / 'data'\n",
    "\n",
    "okvqa = {}\n",
    "okvqa['conceptnet'] = pd.read_json(data_path/filename)"
   ]
  },
  {
   "cell_type": "code",
   "execution_count": 3,
   "id": "62751cdd",
   "metadata": {},
   "outputs": [
    {
     "data": {
      "text/html": [
       "<div>\n",
       "<style scoped>\n",
       "    .dataframe tbody tr th:only-of-type {\n",
       "        vertical-align: middle;\n",
       "    }\n",
       "\n",
       "    .dataframe tbody tr th {\n",
       "        vertical-align: top;\n",
       "    }\n",
       "\n",
       "    .dataframe thead th {\n",
       "        text-align: right;\n",
       "    }\n",
       "</style>\n",
       "<table border=\"1\" class=\"dataframe\">\n",
       "  <thead>\n",
       "    <tr style=\"text-align: right;\">\n",
       "      <th></th>\n",
       "      <th>start_label</th>\n",
       "      <th>relation</th>\n",
       "      <th>end_label</th>\n",
       "      <th>surfaceText</th>\n",
       "      <th>weight</th>\n",
       "      <th>dataset</th>\n",
       "      <th>language</th>\n",
       "      <th>query_word</th>\n",
       "      <th>from_question</th>\n",
       "      <th>from_image</th>\n",
       "    </tr>\n",
       "  </thead>\n",
       "  <tbody>\n",
       "    <tr>\n",
       "      <th>0</th>\n",
       "      <td>is</td>\n",
       "      <td>HasContext</td>\n",
       "      <td>computing</td>\n",
       "      <td>None</td>\n",
       "      <td>2.0</td>\n",
       "      <td>/d/wiktionary/en</td>\n",
       "      <td>en</td>\n",
       "      <td>is</td>\n",
       "      <td>True</td>\n",
       "      <td>False</td>\n",
       "    </tr>\n",
       "    <tr>\n",
       "      <th>1</th>\n",
       "      <td>ye olde</td>\n",
       "      <td>RelatedTo</td>\n",
       "      <td>the</td>\n",
       "      <td>None</td>\n",
       "      <td>1.0</td>\n",
       "      <td>/d/wiktionary/en</td>\n",
       "      <td>en</td>\n",
       "      <td>the</td>\n",
       "      <td>True</td>\n",
       "      <td>False</td>\n",
       "    </tr>\n",
       "    <tr>\n",
       "      <th>2</th>\n",
       "      <td>hairstyle</td>\n",
       "      <td>Synonym</td>\n",
       "      <td>hairdo</td>\n",
       "      <td>[[hairstyle]] is a synonym of [[hairdo]]</td>\n",
       "      <td>2.0</td>\n",
       "      <td>/d/wordnet/3.1</td>\n",
       "      <td>en</td>\n",
       "      <td>hairstyle</td>\n",
       "      <td>True</td>\n",
       "      <td>False</td>\n",
       "    </tr>\n",
       "    <tr>\n",
       "      <th>3</th>\n",
       "      <td>bingle</td>\n",
       "      <td>RelatedTo</td>\n",
       "      <td>hairstyle</td>\n",
       "      <td>None</td>\n",
       "      <td>1.0</td>\n",
       "      <td>/d/wiktionary/en</td>\n",
       "      <td>en</td>\n",
       "      <td>hairstyle</td>\n",
       "      <td>True</td>\n",
       "      <td>False</td>\n",
       "    </tr>\n",
       "    <tr>\n",
       "      <th>4</th>\n",
       "      <td>beehive</td>\n",
       "      <td>RelatedTo</td>\n",
       "      <td>hairstyle</td>\n",
       "      <td>None</td>\n",
       "      <td>1.0</td>\n",
       "      <td>/d/wiktionary/en</td>\n",
       "      <td>en</td>\n",
       "      <td>hairstyle</td>\n",
       "      <td>True</td>\n",
       "      <td>False</td>\n",
       "    </tr>\n",
       "  </tbody>\n",
       "</table>\n",
       "</div>"
      ],
      "text/plain": [
       "  start_label    relation  end_label  \\\n",
       "0          is  HasContext  computing   \n",
       "1     ye olde   RelatedTo        the   \n",
       "2   hairstyle     Synonym     hairdo   \n",
       "3      bingle   RelatedTo  hairstyle   \n",
       "4     beehive   RelatedTo  hairstyle   \n",
       "\n",
       "                                surfaceText  weight           dataset  \\\n",
       "0                                      None     2.0  /d/wiktionary/en   \n",
       "1                                      None     1.0  /d/wiktionary/en   \n",
       "2  [[hairstyle]] is a synonym of [[hairdo]]     2.0    /d/wordnet/3.1   \n",
       "3                                      None     1.0  /d/wiktionary/en   \n",
       "4                                      None     1.0  /d/wiktionary/en   \n",
       "\n",
       "  language query_word  from_question  from_image  \n",
       "0       en         is           True       False  \n",
       "1       en        the           True       False  \n",
       "2       en  hairstyle           True       False  \n",
       "3       en  hairstyle           True       False  \n",
       "4       en  hairstyle           True       False  "
      ]
     },
     "execution_count": 3,
     "metadata": {},
     "output_type": "execute_result"
    }
   ],
   "source": [
    "okvqa['conceptnet'].head()"
   ]
  },
  {
   "cell_type": "code",
   "execution_count": 4,
   "id": "84c4df94",
   "metadata": {},
   "outputs": [],
   "source": [
    "assert all(okvqa['conceptnet'].language == 'en')"
   ]
  },
  {
   "cell_type": "markdown",
   "id": "8e51e6f9",
   "metadata": {},
   "source": [
    "So it is evident that some query words are associated to multiple relations. Let's see how many unique start_labels and end_labels, the data consists of, as well as the number of unique relations."
   ]
  },
  {
   "cell_type": "code",
   "execution_count": 5,
   "id": "c3679178",
   "metadata": {},
   "outputs": [
    {
     "name": "stdout",
     "output_type": "stream",
     "text": [
      "Number of unique start labels: 18786\n",
      "Number of unique end labels: 14244\n",
      "\n",
      "Number of unique relations: 40\n"
     ]
    }
   ],
   "source": [
    "print(\"Number of unique start labels: {:d}\".format(okvqa['conceptnet'].start_label.unique().__len__()))\n",
    "print(\"Number of unique end labels: {:d}\".format(okvqa['conceptnet'].end_label.unique().__len__()))\n",
    "\n",
    "print(\"\\nNumber of unique relations: {:d}\".format(okvqa['conceptnet'].relation.unique().__len__()))"
   ]
  },
  {
   "cell_type": "code",
   "execution_count": 42,
   "id": "867b3c9d",
   "metadata": {},
   "outputs": [
    {
     "data": {
      "image/png": "[encoded data removed]",
      "text/plain": [
       "<Figure size 800x300 with 2 Axes>"
      ]
     },
     "metadata": {
      "needs_background": "light"
     },
     "output_type": "display_data"
    }
   ],
   "source": [
    "start_sorted, freq = list(zip(*sorted(Counter(okvqa['conceptnet'].start_label).items(), key=lambda x: x[1], reverse=True)))\n",
    "LogAndLinearHist(pd.Series(freq))"
   ]
  },
  {
   "cell_type": "code",
   "execution_count": 43,
   "id": "02abe1b3",
   "metadata": {},
   "outputs": [
    {
     "data": {
      "image/png": "[encoded data removed]",
      "text/plain": [
       "<Figure size 800x300 with 2 Axes>"
      ]
     },
     "metadata": {
      "needs_background": "light"
     },
     "output_type": "display_data"
    }
   ],
   "source": [
    "end_sorted, freq = list(zip(*sorted(Counter(okvqa['conceptnet'].end_label).items(), key=lambda x: x[1], reverse=True)))\n",
    "LogAndLinearHist(pd.Series(freq))"
   ]
  },
  {
   "cell_type": "code",
   "execution_count": 45,
   "id": "f87e710e",
   "metadata": {},
   "outputs": [
    {
     "data": {
      "image/png": "[encoded data removed]",
      "text/plain": [
       "<Figure size 800x300 with 2 Axes>"
      ]
     },
     "metadata": {
      "needs_background": "light"
     },
     "output_type": "display_data"
    }
   ],
   "source": [
    "rel_sorted, freq = list(zip(*sorted(Counter(okvqa['conceptnet'].relation).items(), key=lambda x: x[1], reverse=True)))\n",
    "LogAndLinearHist(pd.Series(freq))"
   ]
  },
  {
   "cell_type": "code",
   "execution_count": 81,
   "id": "6f33f186",
   "metadata": {},
   "outputs": [],
   "source": [
    "import plotly.express as px"
   ]
  },
  {
   "cell_type": "code",
   "execution_count": 87,
   "id": "65752b3d",
   "metadata": {},
   "outputs": [
    {
     "data": {
      "application/vnd.plotly.v1+json": {
       "config": {
        "plotlyServerURL": "https://plot.ly"
       },
       "data": [
        {
         "domain": {
          "x": [
           0,
           1
          ],
          "y": [
           0,
           1
          ]
         },
         "hovertemplate": "relation=%{label}<br>freq=%{value}<extra></extra>",
         "labels": [
          "RelatedTo",
          "IsA",
          "Synonym",
          "AtLocation",
          "FormOf",
          "SimilarTo",
          "UsedFor",
          "DerivedFrom",
          "CapableOf",
          "HasContext",
          "MannerOf",
          "PartOf",
          "HasProperty",
          "HasA",
          "HasPrerequisite",
          "HasSubevent",
          "Causes",
          "ReceivesAction",
          "Antonym",
          "MotivatedByGoal",
          "DistinctFrom",
          "CausesDesire",
          "Desires",
          "MadeOf",
          "DefinedAs",
          "EtymologicallyRelatedTo",
          "NotDesires",
          "Entails",
          "CreatedBy",
          "HasFirstSubevent",
          "HasLastSubevent",
          "NotCapableOf",
          "genre",
          "NotHasProperty",
          "product",
          "language",
          "LocatedNear",
          "capital",
          "EtymologicallyDerivedFrom",
          "occupation"
         ],
         "legendgroup": "",
         "name": "",
         "showlegend": true,
         "textposition": "inside",
         "type": "pie",
         "values": [
          15374,
          5507,
          3797,
          3078,
          2777,
          2372,
          1604,
          1271,
          1128,
          736,
          721,
          654,
          601,
          523,
          501,
          427,
          415,
          400,
          249,
          184,
          164,
          93,
          90,
          73,
          64,
          41,
          38,
          29,
          23,
          22,
          18,
          17,
          7,
          3,
          2,
          2,
          1,
          1,
          1,
          1
         ]
        }
       ],
       "layout": {
        "legend": {
         "tracegroupgap": 0
        },
        "margin": {
         "t": 60
        },
        "template": {
         "data": {
          "bar": [
           {
            "error_x": {
             "color": "#2a3f5f"
            },
            "error_y": {
             "color": "#2a3f5f"
            },
            "marker": {
             "line": {
              "color": "#E5ECF6",
              "width": 0.5
             },
             "pattern": {
              "fillmode": "overlay",
              "size": 10,
              "solidity": 0.2
             }
            },
            "type": "bar"
           }
          ],
          "barpolar": [
           {
            "marker": {
             "line": {
              "color": "#E5ECF6",
              "width": 0.5
             },
             "pattern": {
              "fillmode": "overlay",
              "size": 10,
              "solidity": 0.2
             }
            },
            "type": "barpolar"
           }
          ],
          "carpet": [
           {
            "aaxis": {
             "endlinecolor": "#2a3f5f",
             "gridcolor": "white",
             "linecolor": "white",
             "minorgridcolor": "white",
             "startlinecolor": "#2a3f5f"
            },
            "baxis": {
             "endlinecolor": "#2a3f5f",
             "gridcolor": "white",
             "linecolor": "white",
             "minorgridcolor": "white",
             "startlinecolor": "#2a3f5f"
            },
            "type": "carpet"
           }
          ],
          "choropleth": [
           {
            "colorbar": {
             "outlinewidth": 0,
             "ticks": ""
            },
            "type": "choropleth"
           }
          ],
          "contour": [
           {
            "colorbar": {
             "outlinewidth": 0,
             "ticks": ""
            },
            "colorscale": [
             [
              0,
              "#0d0887"
             ],
             [
              0.1111111111111111,
              "#46039f"
             ],
             [
              0.2222222222222222,
              "#7201a8"
             ],
             [
              0.3333333333333333,
              "#9c179e"
             ],
             [
              0.4444444444444444,
              "#bd3786"
             ],
             [
              0.5555555555555556,
              "#d8576b"
             ],
             [
              0.6666666666666666,
              "#ed7953"
             ],
             [
              0.7777777777777778,
              "#fb9f3a"
             ],
             [
              0.8888888888888888,
              "#fdca26"
             ],
             [
              1,
              "#f0f921"
             ]
            ],
            "type": "contour"
           }
          ],
          "contourcarpet": [
           {
            "colorbar": {
             "outlinewidth": 0,
             "ticks": ""
            },
            "type": "contourcarpet"
           }
          ],
          "heatmap": [
           {
            "colorbar": {
             "outlinewidth": 0,
             "ticks": ""
            },
            "colorscale": [
             [
              0,
              "#0d0887"
             ],
             [
              0.1111111111111111,
              "#46039f"
             ],
             [
              0.2222222222222222,
              "#7201a8"
             ],
             [
              0.3333333333333333,
              "#9c179e"
             ],
             [
              0.4444444444444444,
              "#bd3786"
             ],
             [
              0.5555555555555556,
              "#d8576b"
             ],
             [
              0.6666666666666666,
              "#ed7953"
             ],
             [
              0.7777777777777778,
              "#fb9f3a"
             ],
             [
              0.8888888888888888,
              "#fdca26"
             ],
             [
              1,
              "#f0f921"
             ]
            ],
            "type": "heatmap"
           }
          ],
          "heatmapgl": [
           {
            "colorbar": {
             "outlinewidth": 0,
             "ticks": ""
            },
            "colorscale": [
             [
              0,
              "#0d0887"
             ],
             [
              0.1111111111111111,
              "#46039f"
             ],
             [
              0.2222222222222222,
              "#7201a8"
             ],
             [
              0.3333333333333333,
              "#9c179e"
             ],
             [
              0.4444444444444444,
              "#bd3786"
             ],
             [
              0.5555555555555556,
              "#d8576b"
             ],
             [
              0.6666666666666666,
              "#ed7953"
             ],
             [
              0.7777777777777778,
              "#fb9f3a"
             ],
             [
              0.8888888888888888,
              "#fdca26"
             ],
             [
              1,
              "#f0f921"
             ]
            ],
            "type": "heatmapgl"
           }
          ],
          "histogram": [
           {
            "marker": {
             "pattern": {
              "fillmode": "overlay",
              "size": 10,
              "solidity": 0.2
             }
            },
            "type": "histogram"
           }
          ],
          "histogram2d": [
           {
            "colorbar": {
             "outlinewidth": 0,
             "ticks": ""
            },
            "colorscale": [
             [
              0,
              "#0d0887"
             ],
             [
              0.1111111111111111,
              "#46039f"
             ],
             [
              0.2222222222222222,
              "#7201a8"
             ],
             [
              0.3333333333333333,
              "#9c179e"
             ],
             [
              0.4444444444444444,
              "#bd3786"
             ],
             [
              0.5555555555555556,
              "#d8576b"
             ],
             [
              0.6666666666666666,
              "#ed7953"
             ],
             [
              0.7777777777777778,
              "#fb9f3a"
             ],
             [
              0.8888888888888888,
              "#fdca26"
             ],
             [
              1,
              "#f0f921"
             ]
            ],
            "type": "histogram2d"
           }
          ],
          "histogram2dcontour": [
           {
            "colorbar": {
             "outlinewidth": 0,
             "ticks": ""
            },
            "colorscale": [
             [
              0,
              "#0d0887"
             ],
             [
              0.1111111111111111,
              "#46039f"
             ],
             [
              0.2222222222222222,
              "#7201a8"
             ],
             [
              0.3333333333333333,
              "#9c179e"
             ],
             [
              0.4444444444444444,
              "#bd3786"
             ],
             [
              0.5555555555555556,
              "#d8576b"
             ],
             [
              0.6666666666666666,
              "#ed7953"
             ],
             [
              0.7777777777777778,
              "#fb9f3a"
             ],
             [
              0.8888888888888888,
              "#fdca26"
             ],
             [
              1,
              "#f0f921"
             ]
            ],
            "type": "histogram2dcontour"
           }
          ],
          "mesh3d": [
           {
            "colorbar": {
             "outlinewidth": 0,
             "ticks": ""
            },
            "type": "mesh3d"
           }
          ],
          "parcoords": [
           {
            "line": {
             "colorbar": {
              "outlinewidth": 0,
              "ticks": ""
             }
            },
            "type": "parcoords"
           }
          ],
          "pie": [
           {
            "automargin": true,
            "type": "pie"
           }
          ],
          "scatter": [
           {
            "marker": {
             "colorbar": {
              "outlinewidth": 0,
              "ticks": ""
             }
            },
            "type": "scatter"
           }
          ],
          "scatter3d": [
           {
            "line": {
             "colorbar": {
              "outlinewidth": 0,
              "ticks": ""
             }
            },
            "marker": {
             "colorbar": {
              "outlinewidth": 0,
              "ticks": ""
             }
            },
            "type": "scatter3d"
           }
          ],
          "scattercarpet": [
           {
            "marker": {
             "colorbar": {
              "outlinewidth": 0,
              "ticks": ""
             }
            },
            "type": "scattercarpet"
           }
          ],
          "scattergeo": [
           {
            "marker": {
             "colorbar": {
              "outlinewidth": 0,
              "ticks": ""
             }
            },
            "type": "scattergeo"
           }
          ],
          "scattergl": [
           {
            "marker": {
             "colorbar": {
              "outlinewidth": 0,
              "ticks": ""
             }
            },
            "type": "scattergl"
           }
          ],
          "scattermapbox": [
           {
            "marker": {
             "colorbar": {
              "outlinewidth": 0,
              "ticks": ""
             }
            },
            "type": "scattermapbox"
           }
          ],
          "scatterpolar": [
           {
            "marker": {
             "colorbar": {
              "outlinewidth": 0,
              "ticks": ""
             }
            },
            "type": "scatterpolar"
           }
          ],
          "scatterpolargl": [
           {
            "marker": {
             "colorbar": {
              "outlinewidth": 0,
              "ticks": ""
             }
            },
            "type": "scatterpolargl"
           }
          ],
          "scatterternary": [
           {
            "marker": {
             "colorbar": {
              "outlinewidth": 0,
              "ticks": ""
             }
            },
            "type": "scatterternary"
           }
          ],
          "surface": [
           {
            "colorbar": {
             "outlinewidth": 0,
             "ticks": ""
            },
            "colorscale": [
             [
              0,
              "#0d0887"
             ],
             [
              0.1111111111111111,
              "#46039f"
             ],
             [
              0.2222222222222222,
              "#7201a8"
             ],
             [
              0.3333333333333333,
              "#9c179e"
             ],
             [
              0.4444444444444444,
              "#bd3786"
             ],
             [
              0.5555555555555556,
              "#d8576b"
             ],
             [
              0.6666666666666666,
              "#ed7953"
             ],
             [
              0.7777777777777778,
              "#fb9f3a"
             ],
             [
              0.8888888888888888,
              "#fdca26"
             ],
             [
              1,
              "#f0f921"
             ]
            ],
            "type": "surface"
           }
          ],
          "table": [
           {
            "cells": {
             "fill": {
              "color": "#EBF0F8"
             },
             "line": {
              "color": "white"
             }
            },
            "header": {
             "fill": {
              "color": "#C8D4E3"
             },
             "line": {
              "color": "white"
             }
            },
            "type": "table"
           }
          ]
         },
         "layout": {
          "annotationdefaults": {
           "arrowcolor": "#2a3f5f",
           "arrowhead": 0,
           "arrowwidth": 1
          },
          "autotypenumbers": "strict",
          "coloraxis": {
           "colorbar": {
            "outlinewidth": 0,
            "ticks": ""
           }
          },
          "colorscale": {
           "diverging": [
            [
             0,
             "#8e0152"
            ],
            [
             0.1,
             "#c51b7d"
            ],
            [
             0.2,
             "#de77ae"
            ],
            [
             0.3,
             "#f1b6da"
            ],
            [
             0.4,
             "#fde0ef"
            ],
            [
             0.5,
             "#f7f7f7"
            ],
            [
             0.6,
             "#e6f5d0"
            ],
            [
             0.7,
             "#b8e186"
            ],
            [
             0.8,
             "#7fbc41"
            ],
            [
             0.9,
             "#4d9221"
            ],
            [
             1,
             "#276419"
            ]
           ],
           "sequential": [
            [
             0,
             "#0d0887"
            ],
            [
             0.1111111111111111,
             "#46039f"
            ],
            [
             0.2222222222222222,
             "#7201a8"
            ],
            [
             0.3333333333333333,
             "#9c179e"
            ],
            [
             0.4444444444444444,
             "#bd3786"
            ],
            [
             0.5555555555555556,
             "#d8576b"
            ],
            [
             0.6666666666666666,
             "#ed7953"
            ],
            [
             0.7777777777777778,
             "#fb9f3a"
            ],
            [
             0.8888888888888888,
             "#fdca26"
            ],
            [
             1,
             "#f0f921"
            ]
           ],
           "sequentialminus": [
            [
             0,
             "#0d0887"
            ],
            [
             0.1111111111111111,
             "#46039f"
            ],
            [
             0.2222222222222222,
             "#7201a8"
            ],
            [
             0.3333333333333333,
             "#9c179e"
            ],
            [
             0.4444444444444444,
             "#bd3786"
            ],
            [
             0.5555555555555556,
             "#d8576b"
            ],
            [
             0.6666666666666666,
             "#ed7953"
            ],
            [
             0.7777777777777778,
             "#fb9f3a"
            ],
            [
             0.8888888888888888,
             "#fdca26"
            ],
            [
             1,
             "#f0f921"
            ]
           ]
          },
          "colorway": [
           "#636efa",
           "#EF553B",
           "#00cc96",
           "#ab63fa",
           "#FFA15A",
           "#19d3f3",
           "#FF6692",
           "#B6E880",
           "#FF97FF",
           "#FECB52"
          ],
          "font": {
           "color": "#2a3f5f"
          },
          "geo": {
           "bgcolor": "white",
           "lakecolor": "white",
           "landcolor": "#E5ECF6",
           "showlakes": true,
           "showland": true,
           "subunitcolor": "white"
          },
          "hoverlabel": {
           "align": "left"
          },
          "hovermode": "closest",
          "mapbox": {
           "style": "light"
          },
          "paper_bgcolor": "white",
          "plot_bgcolor": "#E5ECF6",
          "polar": {
           "angularaxis": {
            "gridcolor": "white",
            "linecolor": "white",
            "ticks": ""
           },
           "bgcolor": "#E5ECF6",
           "radialaxis": {
            "gridcolor": "white",
            "linecolor": "white",
            "ticks": ""
           }
          },
          "scene": {
           "xaxis": {
            "backgroundcolor": "#E5ECF6",
            "gridcolor": "white",
            "gridwidth": 2,
            "linecolor": "white",
            "showbackground": true,
            "ticks": "",
            "zerolinecolor": "white"
           },
           "yaxis": {
            "backgroundcolor": "#E5ECF6",
            "gridcolor": "white",
            "gridwidth": 2,
            "linecolor": "white",
            "showbackground": true,
            "ticks": "",
            "zerolinecolor": "white"
           },
           "zaxis": {
            "backgroundcolor": "#E5ECF6",
            "gridcolor": "white",
            "gridwidth": 2,
            "linecolor": "white",
            "showbackground": true,
            "ticks": "",
            "zerolinecolor": "white"
           }
          },
          "shapedefaults": {
           "line": {
            "color": "#2a3f5f"
           }
          },
          "ternary": {
           "aaxis": {
            "gridcolor": "white",
            "linecolor": "white",
            "ticks": ""
           },
           "baxis": {
            "gridcolor": "white",
            "linecolor": "white",
            "ticks": ""
           },
           "bgcolor": "#E5ECF6",
           "caxis": {
            "gridcolor": "white",
            "linecolor": "white",
            "ticks": ""
           }
          },
          "title": {
           "x": 0.05
          },
          "xaxis": {
           "automargin": true,
           "gridcolor": "white",
           "linecolor": "white",
           "ticks": "",
           "title": {
            "standoff": 15
           },
           "zerolinecolor": "white",
           "zerolinewidth": 2
          },
          "yaxis": {
           "automargin": true,
           "gridcolor": "white",
           "linecolor": "white",
           "ticks": "",
           "title": {
            "standoff": 15
           },
           "zerolinecolor": "white",
           "zerolinewidth": 2
          }
         }
        },
        "uniformtext": {
         "minsize": 12,
         "mode": "hide"
        }
       }
      },
      "text/html": [
       "<div>                            <div id=\"cb54b957-c611-4ace-a3b7-27b3bc508fd8\" class=\"plotly-graph-div\" style=\"height:525px; width:100%;\"></div>            <script type=\"text/javascript\">                require([\"plotly\"], function(Plotly) {                    window.PLOTLYENV=window.PLOTLYENV || {};                                    if (document.getElementById(\"cb54b957-c611-4ace-a3b7-27b3bc508fd8\")) {                    Plotly.newPlot(                        \"cb54b957-c611-4ace-a3b7-27b3bc508fd8\",                        [{\"domain\":{\"x\":[0.0,1.0],\"y\":[0.0,1.0]},\"hovertemplate\":\"relation=%{label}<br>freq=%{value}<extra></extra>\",\"labels\":[\"RelatedTo\",\"IsA\",\"Synonym\",\"AtLocation\",\"FormOf\",\"SimilarTo\",\"UsedFor\",\"DerivedFrom\",\"CapableOf\",\"HasContext\",\"MannerOf\",\"PartOf\",\"HasProperty\",\"HasA\",\"HasPrerequisite\",\"HasSubevent\",\"Causes\",\"ReceivesAction\",\"Antonym\",\"MotivatedByGoal\",\"DistinctFrom\",\"CausesDesire\",\"Desires\",\"MadeOf\",\"DefinedAs\",\"EtymologicallyRelatedTo\",\"NotDesires\",\"Entails\",\"CreatedBy\",\"HasFirstSubevent\",\"HasLastSubevent\",\"NotCapableOf\",\"genre\",\"NotHasProperty\",\"product\",\"language\",\"LocatedNear\",\"capital\",\"EtymologicallyDerivedFrom\",\"occupation\"],\"legendgroup\":\"\",\"name\":\"\",\"showlegend\":true,\"values\":[15374,5507,3797,3078,2777,2372,1604,1271,1128,736,721,654,601,523,501,427,415,400,249,184,164,93,90,73,64,41,38,29,23,22,18,17,7,3,2,2,1,1,1,1],\"type\":\"pie\",\"textposition\":\"inside\"}],                        {\"template\":{\"data\":{\"bar\":[{\"error_x\":{\"color\":\"#2a3f5f\"},\"error_y\":{\"color\":\"#2a3f5f\"},\"marker\":{\"line\":{\"color\":\"#E5ECF6\",\"width\":0.5},\"pattern\":{\"fillmode\":\"overlay\",\"size\":10,\"solidity\":0.2}},\"type\":\"bar\"}],\"barpolar\":[{\"marker\":{\"line\":{\"color\":\"#E5ECF6\",\"width\":0.5},\"pattern\":{\"fillmode\":\"overlay\",\"size\":10,\"solidity\":0.2}},\"type\":\"barpolar\"}],\"carpet\":[{\"aaxis\":{\"endlinecolor\":\"#2a3f5f\",\"gridcolor\":\"white\",\"linecolor\":\"white\",\"minorgridcolor\":\"white\",\"startlinecolor\":\"#2a3f5f\"},\"baxis\":{\"endlinecolor\":\"#2a3f5f\",\"gridcolor\":\"white\",\"linecolor\":\"white\",\"minorgridcolor\":\"white\",\"startlinecolor\":\"#2a3f5f\"},\"type\":\"carpet\"}],\"choropleth\":[{\"colorbar\":{\"outlinewidth\":0,\"ticks\":\"\"},\"type\":\"choropleth\"}],\"contour\":[{\"colorbar\":{\"outlinewidth\":0,\"ticks\":\"\"},\"colorscale\":[[0.0,\"#0d0887\"],[0.1111111111111111,\"#46039f\"],[0.2222222222222222,\"#7201a8\"],[0.3333333333333333,\"#9c179e\"],[0.4444444444444444,\"#bd3786\"],[0.5555555555555556,\"#d8576b\"],[0.6666666666666666,\"#ed7953\"],[0.7777777777777778,\"#fb9f3a\"],[0.8888888888888888,\"#fdca26\"],[1.0,\"#f0f921\"]],\"type\":\"contour\"}],\"contourcarpet\":[{\"colorbar\":{\"outlinewidth\":0,\"ticks\":\"\"},\"type\":\"contourcarpet\"}],\"heatmap\":[{\"colorbar\":{\"outlinewidth\":0,\"ticks\":\"\"},\"colorscale\":[[0.0,\"#0d0887\"],[0.1111111111111111,\"#46039f\"],[0.2222222222222222,\"#7201a8\"],[0.3333333333333333,\"#9c179e\"],[0.4444444444444444,\"#bd3786\"],[0.5555555555555556,\"#d8576b\"],[0.6666666666666666,\"#ed7953\"],[0.7777777777777778,\"#fb9f3a\"],[0.8888888888888888,\"#fdca26\"],[1.0,\"#f0f921\"]],\"type\":\"heatmap\"}],\"heatmapgl\":[{\"colorbar\":{\"outlinewidth\":0,\"ticks\":\"\"},\"colorscale\":[[0.0,\"#0d0887\"],[0.1111111111111111,\"#46039f\"],[0.2222222222222222,\"#7201a8\"],[0.3333333333333333,\"#9c179e\"],[0.4444444444444444,\"#bd3786\"],[0.5555555555555556,\"#d8576b\"],[0.6666666666666666,\"#ed7953\"],[0.7777777777777778,\"#fb9f3a\"],[0.8888888888888888,\"#fdca26\"],[1.0,\"#f0f921\"]],\"type\":\"heatmapgl\"}],\"histogram\":[{\"marker\":{\"pattern\":{\"fillmode\":\"overlay\",\"size\":10,\"solidity\":0.2}},\"type\":\"histogram\"}],\"histogram2d\":[{\"colorbar\":{\"outlinewidth\":0,\"ticks\":\"\"},\"colorscale\":[[0.0,\"#0d0887\"],[0.1111111111111111,\"#46039f\"],[0.2222222222222222,\"#7201a8\"],[0.3333333333333333,\"#9c179e\"],[0.4444444444444444,\"#bd3786\"],[0.5555555555555556,\"#d8576b\"],[0.6666666666666666,\"#ed7953\"],[0.7777777777777778,\"#fb9f3a\"],[0.8888888888888888,\"#fdca26\"],[1.0,\"#f0f921\"]],\"type\":\"histogram2d\"}],\"histogram2dcontour\":[{\"colorbar\":{\"outlinewidth\":0,\"ticks\":\"\"},\"colorscale\":[[0.0,\"#0d0887\"],[0.1111111111111111,\"#46039f\"],[0.2222222222222222,\"#7201a8\"],[0.3333333333333333,\"#9c179e\"],[0.4444444444444444,\"#bd3786\"],[0.5555555555555556,\"#d8576b\"],[0.6666666666666666,\"#ed7953\"],[0.7777777777777778,\"#fb9f3a\"],[0.8888888888888888,\"#fdca26\"],[1.0,\"#f0f921\"]],\"type\":\"histogram2dcontour\"}],\"mesh3d\":[{\"colorbar\":{\"outlinewidth\":0,\"ticks\":\"\"},\"type\":\"mesh3d\"}],\"parcoords\":[{\"line\":{\"colorbar\":{\"outlinewidth\":0,\"ticks\":\"\"}},\"type\":\"parcoords\"}],\"pie\":[{\"automargin\":true,\"type\":\"pie\"}],\"scatter\":[{\"marker\":{\"colorbar\":{\"outlinewidth\":0,\"ticks\":\"\"}},\"type\":\"scatter\"}],\"scatter3d\":[{\"line\":{\"colorbar\":{\"outlinewidth\":0,\"ticks\":\"\"}},\"marker\":{\"colorbar\":{\"outlinewidth\":0,\"ticks\":\"\"}},\"type\":\"scatter3d\"}],\"scattercarpet\":[{\"marker\":{\"colorbar\":{\"outlinewidth\":0,\"ticks\":\"\"}},\"type\":\"scattercarpet\"}],\"scattergeo\":[{\"marker\":{\"colorbar\":{\"outlinewidth\":0,\"ticks\":\"\"}},\"type\":\"scattergeo\"}],\"scattergl\":[{\"marker\":{\"colorbar\":{\"outlinewidth\":0,\"ticks\":\"\"}},\"type\":\"scattergl\"}],\"scattermapbox\":[{\"marker\":{\"colorbar\":{\"outlinewidth\":0,\"ticks\":\"\"}},\"type\":\"scattermapbox\"}],\"scatterpolar\":[{\"marker\":{\"colorbar\":{\"outlinewidth\":0,\"ticks\":\"\"}},\"type\":\"scatterpolar\"}],\"scatterpolargl\":[{\"marker\":{\"colorbar\":{\"outlinewidth\":0,\"ticks\":\"\"}},\"type\":\"scatterpolargl\"}],\"scatterternary\":[{\"marker\":{\"colorbar\":{\"outlinewidth\":0,\"ticks\":\"\"}},\"type\":\"scatterternary\"}],\"surface\":[{\"colorbar\":{\"outlinewidth\":0,\"ticks\":\"\"},\"colorscale\":[[0.0,\"#0d0887\"],[0.1111111111111111,\"#46039f\"],[0.2222222222222222,\"#7201a8\"],[0.3333333333333333,\"#9c179e\"],[0.4444444444444444,\"#bd3786\"],[0.5555555555555556,\"#d8576b\"],[0.6666666666666666,\"#ed7953\"],[0.7777777777777778,\"#fb9f3a\"],[0.8888888888888888,\"#fdca26\"],[1.0,\"#f0f921\"]],\"type\":\"surface\"}],\"table\":[{\"cells\":{\"fill\":{\"color\":\"#EBF0F8\"},\"line\":{\"color\":\"white\"}},\"header\":{\"fill\":{\"color\":\"#C8D4E3\"},\"line\":{\"color\":\"white\"}},\"type\":\"table\"}]},\"layout\":{\"annotationdefaults\":{\"arrowcolor\":\"#2a3f5f\",\"arrowhead\":0,\"arrowwidth\":1},\"autotypenumbers\":\"strict\",\"coloraxis\":{\"colorbar\":{\"outlinewidth\":0,\"ticks\":\"\"}},\"colorscale\":{\"diverging\":[[0,\"#8e0152\"],[0.1,\"#c51b7d\"],[0.2,\"#de77ae\"],[0.3,\"#f1b6da\"],[0.4,\"#fde0ef\"],[0.5,\"#f7f7f7\"],[0.6,\"#e6f5d0\"],[0.7,\"#b8e186\"],[0.8,\"#7fbc41\"],[0.9,\"#4d9221\"],[1,\"#276419\"]],\"sequential\":[[0.0,\"#0d0887\"],[0.1111111111111111,\"#46039f\"],[0.2222222222222222,\"#7201a8\"],[0.3333333333333333,\"#9c179e\"],[0.4444444444444444,\"#bd3786\"],[0.5555555555555556,\"#d8576b\"],[0.6666666666666666,\"#ed7953\"],[0.7777777777777778,\"#fb9f3a\"],[0.8888888888888888,\"#fdca26\"],[1.0,\"#f0f921\"]],\"sequentialminus\":[[0.0,\"#0d0887\"],[0.1111111111111111,\"#46039f\"],[0.2222222222222222,\"#7201a8\"],[0.3333333333333333,\"#9c179e\"],[0.4444444444444444,\"#bd3786\"],[0.5555555555555556,\"#d8576b\"],[0.6666666666666666,\"#ed7953\"],[0.7777777777777778,\"#fb9f3a\"],[0.8888888888888888,\"#fdca26\"],[1.0,\"#f0f921\"]]},\"colorway\":[\"#636efa\",\"#EF553B\",\"#00cc96\",\"#ab63fa\",\"#FFA15A\",\"#19d3f3\",\"#FF6692\",\"#B6E880\",\"#FF97FF\",\"#FECB52\"],\"font\":{\"color\":\"#2a3f5f\"},\"geo\":{\"bgcolor\":\"white\",\"lakecolor\":\"white\",\"landcolor\":\"#E5ECF6\",\"showlakes\":true,\"showland\":true,\"subunitcolor\":\"white\"},\"hoverlabel\":{\"align\":\"left\"},\"hovermode\":\"closest\",\"mapbox\":{\"style\":\"light\"},\"paper_bgcolor\":\"white\",\"plot_bgcolor\":\"#E5ECF6\",\"polar\":{\"angularaxis\":{\"gridcolor\":\"white\",\"linecolor\":\"white\",\"ticks\":\"\"},\"bgcolor\":\"#E5ECF6\",\"radialaxis\":{\"gridcolor\":\"white\",\"linecolor\":\"white\",\"ticks\":\"\"}},\"scene\":{\"xaxis\":{\"backgroundcolor\":\"#E5ECF6\",\"gridcolor\":\"white\",\"gridwidth\":2,\"linecolor\":\"white\",\"showbackground\":true,\"ticks\":\"\",\"zerolinecolor\":\"white\"},\"yaxis\":{\"backgroundcolor\":\"#E5ECF6\",\"gridcolor\":\"white\",\"gridwidth\":2,\"linecolor\":\"white\",\"showbackground\":true,\"ticks\":\"\",\"zerolinecolor\":\"white\"},\"zaxis\":{\"backgroundcolor\":\"#E5ECF6\",\"gridcolor\":\"white\",\"gridwidth\":2,\"linecolor\":\"white\",\"showbackground\":true,\"ticks\":\"\",\"zerolinecolor\":\"white\"}},\"shapedefaults\":{\"line\":{\"color\":\"#2a3f5f\"}},\"ternary\":{\"aaxis\":{\"gridcolor\":\"white\",\"linecolor\":\"white\",\"ticks\":\"\"},\"baxis\":{\"gridcolor\":\"white\",\"linecolor\":\"white\",\"ticks\":\"\"},\"bgcolor\":\"#E5ECF6\",\"caxis\":{\"gridcolor\":\"white\",\"linecolor\":\"white\",\"ticks\":\"\"}},\"title\":{\"x\":0.05},\"xaxis\":{\"automargin\":true,\"gridcolor\":\"white\",\"linecolor\":\"white\",\"ticks\":\"\",\"title\":{\"standoff\":15},\"zerolinecolor\":\"white\",\"zerolinewidth\":2},\"yaxis\":{\"automargin\":true,\"gridcolor\":\"white\",\"linecolor\":\"white\",\"ticks\":\"\",\"title\":{\"standoff\":15},\"zerolinecolor\":\"white\",\"zerolinewidth\":2}}},\"legend\":{\"tracegroupgap\":0},\"margin\":{\"t\":60},\"uniformtext\":{\"minsize\":12,\"mode\":\"hide\"}},                        {\"responsive\": true}                    ).then(function(){\n",
       "                            \n",
       "var gd = document.getElementById('cb54b957-c611-4ace-a3b7-27b3bc508fd8');\n",
       "var x = new MutationObserver(function (mutations, observer) {{\n",
       "        var display = window.getComputedStyle(gd).display;\n",
       "        if (!display || display === 'none') {{\n",
       "            console.log([gd, 'removed!']);\n",
       "            Plotly.purge(gd);\n",
       "            observer.disconnect();\n",
       "        }}\n",
       "}});\n",
       "\n",
       "// Listen for the removal of the full notebook cells\n",
       "var notebookContainer = gd.closest('#notebook-container');\n",
       "if (notebookContainer) {{\n",
       "    x.observe(notebookContainer, {childList: true});\n",
       "}}\n",
       "\n",
       "// Listen for the clearing of the current output cell\n",
       "var outputEl = gd.closest('.output');\n",
       "if (outputEl) {{\n",
       "    x.observe(outputEl, {childList: true});\n",
       "}}\n",
       "\n",
       "                        })                };                });            </script>        </div>"
      ]
     },
     "metadata": {},
     "output_type": "display_data"
    }
   ],
   "source": [
    "temp = pd.DataFrame(Counter(okvqa['conceptnet'].relation).most_common(), columns=['relation', 'freq'])\n",
    "fig = px.pie(temp, values=temp.freq, names=temp.relation)\n",
    "fig.update_traces(textposition='inside')\n",
    "fig.update_layout(uniformtext_minsize=12, uniformtext_mode='hide')\n",
    "fig.show()"
   ]
  },
  {
   "cell_type": "code",
   "execution_count": 88,
   "id": "8f0e0c0c",
   "metadata": {},
   "outputs": [
    {
     "data": {
      "text/html": [
       "<div>\n",
       "<style scoped>\n",
       "    .dataframe tbody tr th:only-of-type {\n",
       "        vertical-align: middle;\n",
       "    }\n",
       "\n",
       "    .dataframe tbody tr th {\n",
       "        vertical-align: top;\n",
       "    }\n",
       "\n",
       "    .dataframe thead th {\n",
       "        text-align: right;\n",
       "    }\n",
       "</style>\n",
       "<table border=\"1\" class=\"dataframe\">\n",
       "  <thead>\n",
       "    <tr style=\"text-align: right;\">\n",
       "      <th></th>\n",
       "      <th>start_label</th>\n",
       "      <th>relation</th>\n",
       "      <th>end_label</th>\n",
       "      <th>surfaceText</th>\n",
       "      <th>weight</th>\n",
       "      <th>dataset</th>\n",
       "      <th>language</th>\n",
       "      <th>query_word</th>\n",
       "      <th>from_question</th>\n",
       "      <th>from_image</th>\n",
       "    </tr>\n",
       "  </thead>\n",
       "  <tbody>\n",
       "    <tr>\n",
       "      <th>26036</th>\n",
       "      <td>colony</td>\n",
       "      <td>RelatedTo</td>\n",
       "      <td>early</td>\n",
       "      <td>[[colony]] is related to [[early]]</td>\n",
       "      <td>2.007984</td>\n",
       "      <td>/d/verbosity</td>\n",
       "      <td>en</td>\n",
       "      <td>early</td>\n",
       "      <td>True</td>\n",
       "      <td>False</td>\n",
       "    </tr>\n",
       "    <tr>\n",
       "      <th>29673</th>\n",
       "      <td>uncredited</td>\n",
       "      <td>RelatedTo</td>\n",
       "      <td>credits</td>\n",
       "      <td>None</td>\n",
       "      <td>1.000000</td>\n",
       "      <td>/d/wiktionary/en</td>\n",
       "      <td>en</td>\n",
       "      <td>credits</td>\n",
       "      <td>True</td>\n",
       "      <td>False</td>\n",
       "    </tr>\n",
       "    <tr>\n",
       "      <th>35275</th>\n",
       "      <td>table</td>\n",
       "      <td>RelatedTo</td>\n",
       "      <td>kitchens</td>\n",
       "      <td>[[table]] is related to [[kitchens]]</td>\n",
       "      <td>0.323000</td>\n",
       "      <td>/d/verbosity</td>\n",
       "      <td>en</td>\n",
       "      <td>kitchens</td>\n",
       "      <td>True</td>\n",
       "      <td>False</td>\n",
       "    </tr>\n",
       "    <tr>\n",
       "      <th>4353</th>\n",
       "      <td>finish</td>\n",
       "      <td>RelatedTo</td>\n",
       "      <td>done</td>\n",
       "      <td>[[finish]] is related to [[done]]</td>\n",
       "      <td>1.355000</td>\n",
       "      <td>/d/verbosity</td>\n",
       "      <td>en</td>\n",
       "      <td>done</td>\n",
       "      <td>True</td>\n",
       "      <td>False</td>\n",
       "    </tr>\n",
       "    <tr>\n",
       "      <th>41769</th>\n",
       "      <td>w</td>\n",
       "      <td>RelatedTo</td>\n",
       "      <td>w o</td>\n",
       "      <td>None</td>\n",
       "      <td>2.000000</td>\n",
       "      <td>/d/wiktionary/en</td>\n",
       "      <td>en</td>\n",
       "      <td>w</td>\n",
       "      <td>True</td>\n",
       "      <td>False</td>\n",
       "    </tr>\n",
       "    <tr>\n",
       "      <th>32634</th>\n",
       "      <td>month</td>\n",
       "      <td>RelatedTo</td>\n",
       "      <td>year</td>\n",
       "      <td>[[month]] is related to [[year]]</td>\n",
       "      <td>6.264184</td>\n",
       "      <td>/d/verbosity</td>\n",
       "      <td>en</td>\n",
       "      <td>month</td>\n",
       "      <td>True</td>\n",
       "      <td>False</td>\n",
       "    </tr>\n",
       "    <tr>\n",
       "      <th>41677</th>\n",
       "      <td>huddled</td>\n",
       "      <td>RelatedTo</td>\n",
       "      <td>crowded</td>\n",
       "      <td>None</td>\n",
       "      <td>1.000000</td>\n",
       "      <td>/d/wiktionary/en</td>\n",
       "      <td>en</td>\n",
       "      <td>huddled</td>\n",
       "      <td>True</td>\n",
       "      <td>False</td>\n",
       "    </tr>\n",
       "    <tr>\n",
       "      <th>20372</th>\n",
       "      <td>ocean</td>\n",
       "      <td>RelatedTo</td>\n",
       "      <td>water</td>\n",
       "      <td>[[ocean]] is related to [[water]]</td>\n",
       "      <td>5.871627</td>\n",
       "      <td>/d/verbosity</td>\n",
       "      <td>en</td>\n",
       "      <td>ocean</td>\n",
       "      <td>True</td>\n",
       "      <td>False</td>\n",
       "    </tr>\n",
       "    <tr>\n",
       "      <th>7667</th>\n",
       "      <td>crowd</td>\n",
       "      <td>RelatedTo</td>\n",
       "      <td>spaces</td>\n",
       "      <td>[[crowd]] is related to [[spaces]]</td>\n",
       "      <td>0.206000</td>\n",
       "      <td>/d/verbosity</td>\n",
       "      <td>en</td>\n",
       "      <td>spaces</td>\n",
       "      <td>True</td>\n",
       "      <td>False</td>\n",
       "    </tr>\n",
       "    <tr>\n",
       "      <th>41962</th>\n",
       "      <td>cans</td>\n",
       "      <td>RelatedTo</td>\n",
       "      <td>can</td>\n",
       "      <td>None</td>\n",
       "      <td>1.000000</td>\n",
       "      <td>/d/wiktionary/fr</td>\n",
       "      <td>en</td>\n",
       "      <td>cans</td>\n",
       "      <td>True</td>\n",
       "      <td>False</td>\n",
       "    </tr>\n",
       "    <tr>\n",
       "      <th>14698</th>\n",
       "      <td>market</td>\n",
       "      <td>RelatedTo</td>\n",
       "      <td>shopping</td>\n",
       "      <td>[[market]] is related to [[shopping]]</td>\n",
       "      <td>3.633180</td>\n",
       "      <td>/d/verbosity</td>\n",
       "      <td>en</td>\n",
       "      <td>shopping</td>\n",
       "      <td>True</td>\n",
       "      <td>False</td>\n",
       "    </tr>\n",
       "    <tr>\n",
       "      <th>36234</th>\n",
       "      <td>predator</td>\n",
       "      <td>RelatedTo</td>\n",
       "      <td>predatory</td>\n",
       "      <td>None</td>\n",
       "      <td>2.000000</td>\n",
       "      <td>/d/wiktionary/en</td>\n",
       "      <td>en</td>\n",
       "      <td>predatory</td>\n",
       "      <td>True</td>\n",
       "      <td>False</td>\n",
       "    </tr>\n",
       "    <tr>\n",
       "      <th>1022</th>\n",
       "      <td>nest</td>\n",
       "      <td>RelatedTo</td>\n",
       "      <td>bird</td>\n",
       "      <td>[[nest]] is related to [[bird]]</td>\n",
       "      <td>11.847700</td>\n",
       "      <td>/d/verbosity</td>\n",
       "      <td>en</td>\n",
       "      <td>bird</td>\n",
       "      <td>True</td>\n",
       "      <td>False</td>\n",
       "    </tr>\n",
       "    <tr>\n",
       "      <th>41656</th>\n",
       "      <td>crown</td>\n",
       "      <td>RelatedTo</td>\n",
       "      <td>headgear</td>\n",
       "      <td>[[crown]] is related to [[headgear]]</td>\n",
       "      <td>4.654460</td>\n",
       "      <td>/d/verbosity</td>\n",
       "      <td>en</td>\n",
       "      <td>crown</td>\n",
       "      <td>True</td>\n",
       "      <td>False</td>\n",
       "    </tr>\n",
       "    <tr>\n",
       "      <th>23159</th>\n",
       "      <td>court</td>\n",
       "      <td>RelatedTo</td>\n",
       "      <td>law</td>\n",
       "      <td>[[court]] is related to [[law]]</td>\n",
       "      <td>2.819929</td>\n",
       "      <td>/d/verbosity</td>\n",
       "      <td>en</td>\n",
       "      <td>court</td>\n",
       "      <td>True</td>\n",
       "      <td>False</td>\n",
       "    </tr>\n",
       "    <tr>\n",
       "      <th>39575</th>\n",
       "      <td>poison</td>\n",
       "      <td>RelatedTo</td>\n",
       "      <td>killer</td>\n",
       "      <td>[[poison]] is related to [[killer]]</td>\n",
       "      <td>2.264509</td>\n",
       "      <td>/d/verbosity</td>\n",
       "      <td>en</td>\n",
       "      <td>killer</td>\n",
       "      <td>True</td>\n",
       "      <td>False</td>\n",
       "    </tr>\n",
       "    <tr>\n",
       "      <th>3061</th>\n",
       "      <td>head</td>\n",
       "      <td>RelatedTo</td>\n",
       "      <td>eyes</td>\n",
       "      <td>[[head]] is related to [[eyes]]</td>\n",
       "      <td>4.857983</td>\n",
       "      <td>/d/verbosity</td>\n",
       "      <td>en</td>\n",
       "      <td>eyes</td>\n",
       "      <td>True</td>\n",
       "      <td>False</td>\n",
       "    </tr>\n",
       "    <tr>\n",
       "      <th>4392</th>\n",
       "      <td>floor</td>\n",
       "      <td>RelatedTo</td>\n",
       "      <td>house</td>\n",
       "      <td>[[floor]] is related to [[house]]</td>\n",
       "      <td>3.011312</td>\n",
       "      <td>/d/verbosity</td>\n",
       "      <td>en</td>\n",
       "      <td>floor</td>\n",
       "      <td>True</td>\n",
       "      <td>False</td>\n",
       "    </tr>\n",
       "    <tr>\n",
       "      <th>25471</th>\n",
       "      <td>standpipe</td>\n",
       "      <td>RelatedTo</td>\n",
       "      <td>fixtures</td>\n",
       "      <td>None</td>\n",
       "      <td>1.000000</td>\n",
       "      <td>/d/wiktionary/en</td>\n",
       "      <td>en</td>\n",
       "      <td>fixtures</td>\n",
       "      <td>True</td>\n",
       "      <td>False</td>\n",
       "    </tr>\n",
       "    <tr>\n",
       "      <th>22614</th>\n",
       "      <td>tiles</td>\n",
       "      <td>RelatedTo</td>\n",
       "      <td>tile</td>\n",
       "      <td>None</td>\n",
       "      <td>1.000000</td>\n",
       "      <td>/d/wiktionary/fr</td>\n",
       "      <td>en</td>\n",
       "      <td>tiles</td>\n",
       "      <td>True</td>\n",
       "      <td>False</td>\n",
       "    </tr>\n",
       "  </tbody>\n",
       "</table>\n",
       "</div>"
      ],
      "text/plain": [
       "      start_label   relation  end_label  \\\n",
       "26036      colony  RelatedTo      early   \n",
       "29673  uncredited  RelatedTo    credits   \n",
       "35275       table  RelatedTo   kitchens   \n",
       "4353       finish  RelatedTo       done   \n",
       "41769           w  RelatedTo        w o   \n",
       "32634       month  RelatedTo       year   \n",
       "41677     huddled  RelatedTo    crowded   \n",
       "20372       ocean  RelatedTo      water   \n",
       "7667        crowd  RelatedTo     spaces   \n",
       "41962        cans  RelatedTo        can   \n",
       "14698      market  RelatedTo   shopping   \n",
       "36234    predator  RelatedTo  predatory   \n",
       "1022         nest  RelatedTo       bird   \n",
       "41656       crown  RelatedTo   headgear   \n",
       "23159       court  RelatedTo        law   \n",
       "39575      poison  RelatedTo     killer   \n",
       "3061         head  RelatedTo       eyes   \n",
       "4392        floor  RelatedTo      house   \n",
       "25471   standpipe  RelatedTo   fixtures   \n",
       "22614       tiles  RelatedTo       tile   \n",
       "\n",
       "                                 surfaceText     weight           dataset  \\\n",
       "26036     [[colony]] is related to [[early]]   2.007984      /d/verbosity   \n",
       "29673                                   None   1.000000  /d/wiktionary/en   \n",
       "35275   [[table]] is related to [[kitchens]]   0.323000      /d/verbosity   \n",
       "4353       [[finish]] is related to [[done]]   1.355000      /d/verbosity   \n",
       "41769                                   None   2.000000  /d/wiktionary/en   \n",
       "32634       [[month]] is related to [[year]]   6.264184      /d/verbosity   \n",
       "41677                                   None   1.000000  /d/wiktionary/en   \n",
       "20372      [[ocean]] is related to [[water]]   5.871627      /d/verbosity   \n",
       "7667      [[crowd]] is related to [[spaces]]   0.206000      /d/verbosity   \n",
       "41962                                   None   1.000000  /d/wiktionary/fr   \n",
       "14698  [[market]] is related to [[shopping]]   3.633180      /d/verbosity   \n",
       "36234                                   None   2.000000  /d/wiktionary/en   \n",
       "1022         [[nest]] is related to [[bird]]  11.847700      /d/verbosity   \n",
       "41656   [[crown]] is related to [[headgear]]   4.654460      /d/verbosity   \n",
       "23159        [[court]] is related to [[law]]   2.819929      /d/verbosity   \n",
       "39575    [[poison]] is related to [[killer]]   2.264509      /d/verbosity   \n",
       "3061         [[head]] is related to [[eyes]]   4.857983      /d/verbosity   \n",
       "4392       [[floor]] is related to [[house]]   3.011312      /d/verbosity   \n",
       "25471                                   None   1.000000  /d/wiktionary/en   \n",
       "22614                                   None   1.000000  /d/wiktionary/fr   \n",
       "\n",
       "      language query_word  from_question  from_image  \n",
       "26036       en      early           True       False  \n",
       "29673       en    credits           True       False  \n",
       "35275       en   kitchens           True       False  \n",
       "4353        en       done           True       False  \n",
       "41769       en          w           True       False  \n",
       "32634       en      month           True       False  \n",
       "41677       en    huddled           True       False  \n",
       "20372       en      ocean           True       False  \n",
       "7667        en     spaces           True       False  \n",
       "41962       en       cans           True       False  \n",
       "14698       en   shopping           True       False  \n",
       "36234       en  predatory           True       False  \n",
       "1022        en       bird           True       False  \n",
       "41656       en      crown           True       False  \n",
       "23159       en      court           True       False  \n",
       "39575       en     killer           True       False  \n",
       "3061        en       eyes           True       False  \n",
       "4392        en      floor           True       False  \n",
       "25471       en   fixtures           True       False  \n",
       "22614       en      tiles           True       False  "
      ]
     },
     "execution_count": 88,
     "metadata": {},
     "output_type": "execute_result"
    }
   ],
   "source": [
    "okvqa['conceptnet'][okvqa['conceptnet'].relation == 'RelatedTo'].sample(20)"
   ]
  },
  {
   "cell_type": "code",
   "execution_count": 36,
   "id": "d9a9fcde",
   "metadata": {},
   "outputs": [
    {
     "data": {
      "text/plain": [
       "[('/d/conceptnet/4/en', 11052),\n",
       " ('/d/wordnet/3.1', 11014),\n",
       " ('/d/wiktionary/en', 9541),\n",
       " ('/d/verbosity', 8512),\n",
       " ('/d/wiktionary/fr', 1558),\n",
       " ('/d/wiktionary/de', 1012),\n",
       " ('/d/opencyc', 265),\n",
       " ('/d/dbpedia/en', 55)]"
      ]
     },
     "execution_count": 36,
     "metadata": {},
     "output_type": "execute_result"
    }
   ],
   "source": [
    "from pprint import pprint\n",
    "\n",
    "Counter(okvqa['conceptnet'].dataset).most_common()"
   ]
  },
  {
   "cell_type": "markdown",
   "id": "72e4e1a4",
   "metadata": {},
   "source": [
    "Even though we asserted that the language of all extracted relations is English, we want to make sure when seeing the above structure of dataset sources, since it contains both the french (fr) and german (de) wiktionary. Luckily, when looking at these indeces, the relations are still in English - which means that they are just extracted from the Wiktionary of a foreign language."
   ]
  },
  {
   "cell_type": "code",
   "execution_count": 11,
   "id": "810052fc",
   "metadata": {},
   "outputs": [
    {
     "data": {
      "text/html": [
       "<div>\n",
       "<style scoped>\n",
       "    .dataframe tbody tr th:only-of-type {\n",
       "        vertical-align: middle;\n",
       "    }\n",
       "\n",
       "    .dataframe tbody tr th {\n",
       "        vertical-align: top;\n",
       "    }\n",
       "\n",
       "    .dataframe thead th {\n",
       "        text-align: right;\n",
       "    }\n",
       "</style>\n",
       "<table border=\"1\" class=\"dataframe\">\n",
       "  <thead>\n",
       "    <tr style=\"text-align: right;\">\n",
       "      <th></th>\n",
       "      <th>start_label</th>\n",
       "      <th>relation</th>\n",
       "      <th>end_label</th>\n",
       "      <th>surfaceText</th>\n",
       "      <th>weight</th>\n",
       "      <th>dataset</th>\n",
       "      <th>language</th>\n",
       "      <th>query_word</th>\n",
       "      <th>from_question</th>\n",
       "      <th>from_image</th>\n",
       "    </tr>\n",
       "  </thead>\n",
       "  <tbody>\n",
       "    <tr>\n",
       "      <th>40625</th>\n",
       "      <td>deejay</td>\n",
       "      <td>FormOf</td>\n",
       "      <td>dj</td>\n",
       "      <td>None</td>\n",
       "      <td>1.0</td>\n",
       "      <td>/d/wiktionary/fr</td>\n",
       "      <td>en</td>\n",
       "      <td>dj</td>\n",
       "      <td>True</td>\n",
       "      <td>False</td>\n",
       "    </tr>\n",
       "    <tr>\n",
       "      <th>16357</th>\n",
       "      <td>rails</td>\n",
       "      <td>RelatedTo</td>\n",
       "      <td>rail</td>\n",
       "      <td>None</td>\n",
       "      <td>1.0</td>\n",
       "      <td>/d/wiktionary/fr</td>\n",
       "      <td>en</td>\n",
       "      <td>rails</td>\n",
       "      <td>True</td>\n",
       "      <td>False</td>\n",
       "    </tr>\n",
       "    <tr>\n",
       "      <th>31539</th>\n",
       "      <td>representing</td>\n",
       "      <td>RelatedTo</td>\n",
       "      <td>represent</td>\n",
       "      <td>None</td>\n",
       "      <td>1.0</td>\n",
       "      <td>/d/wiktionary/fr</td>\n",
       "      <td>en</td>\n",
       "      <td>representing</td>\n",
       "      <td>True</td>\n",
       "      <td>False</td>\n",
       "    </tr>\n",
       "    <tr>\n",
       "      <th>29422</th>\n",
       "      <td>respondent</td>\n",
       "      <td>RelatedTo</td>\n",
       "      <td>responder</td>\n",
       "      <td>None</td>\n",
       "      <td>1.0</td>\n",
       "      <td>/d/wiktionary/fr</td>\n",
       "      <td>en</td>\n",
       "      <td>responder</td>\n",
       "      <td>True</td>\n",
       "      <td>False</td>\n",
       "    </tr>\n",
       "    <tr>\n",
       "      <th>41421</th>\n",
       "      <td>goers</td>\n",
       "      <td>RelatedTo</td>\n",
       "      <td>goer</td>\n",
       "      <td>None</td>\n",
       "      <td>1.0</td>\n",
       "      <td>/d/wiktionary/fr</td>\n",
       "      <td>en</td>\n",
       "      <td>goers</td>\n",
       "      <td>True</td>\n",
       "      <td>False</td>\n",
       "    </tr>\n",
       "    <tr>\n",
       "      <th>15292</th>\n",
       "      <td>clocks</td>\n",
       "      <td>RelatedTo</td>\n",
       "      <td>clock</td>\n",
       "      <td>None</td>\n",
       "      <td>1.0</td>\n",
       "      <td>/d/wiktionary/fr</td>\n",
       "      <td>en</td>\n",
       "      <td>clocks</td>\n",
       "      <td>True</td>\n",
       "      <td>False</td>\n",
       "    </tr>\n",
       "    <tr>\n",
       "      <th>36401</th>\n",
       "      <td>attacks</td>\n",
       "      <td>RelatedTo</td>\n",
       "      <td>attack</td>\n",
       "      <td>None</td>\n",
       "      <td>1.0</td>\n",
       "      <td>/d/wiktionary/fr</td>\n",
       "      <td>en</td>\n",
       "      <td>attacks</td>\n",
       "      <td>True</td>\n",
       "      <td>False</td>\n",
       "    </tr>\n",
       "    <tr>\n",
       "      <th>25985</th>\n",
       "      <td>rode</td>\n",
       "      <td>RelatedTo</td>\n",
       "      <td>ride</td>\n",
       "      <td>None</td>\n",
       "      <td>1.0</td>\n",
       "      <td>/d/wiktionary/fr</td>\n",
       "      <td>en</td>\n",
       "      <td>rode</td>\n",
       "      <td>True</td>\n",
       "      <td>False</td>\n",
       "    </tr>\n",
       "    <tr>\n",
       "      <th>5894</th>\n",
       "      <td>he’d</td>\n",
       "      <td>RelatedTo</td>\n",
       "      <td>had</td>\n",
       "      <td>None</td>\n",
       "      <td>1.0</td>\n",
       "      <td>/d/wiktionary/fr</td>\n",
       "      <td>en</td>\n",
       "      <td>had</td>\n",
       "      <td>True</td>\n",
       "      <td>False</td>\n",
       "    </tr>\n",
       "    <tr>\n",
       "      <th>34478</th>\n",
       "      <td>occurred</td>\n",
       "      <td>RelatedTo</td>\n",
       "      <td>occur</td>\n",
       "      <td>None</td>\n",
       "      <td>1.0</td>\n",
       "      <td>/d/wiktionary/fr</td>\n",
       "      <td>en</td>\n",
       "      <td>occurred</td>\n",
       "      <td>True</td>\n",
       "      <td>False</td>\n",
       "    </tr>\n",
       "    <tr>\n",
       "      <th>37081</th>\n",
       "      <td>corded</td>\n",
       "      <td>RelatedTo</td>\n",
       "      <td>cord</td>\n",
       "      <td>None</td>\n",
       "      <td>1.0</td>\n",
       "      <td>/d/wiktionary/fr</td>\n",
       "      <td>en</td>\n",
       "      <td>corded</td>\n",
       "      <td>True</td>\n",
       "      <td>False</td>\n",
       "    </tr>\n",
       "    <tr>\n",
       "      <th>36711</th>\n",
       "      <td>oncoming</td>\n",
       "      <td>Synonym</td>\n",
       "      <td>approach</td>\n",
       "      <td>None</td>\n",
       "      <td>1.0</td>\n",
       "      <td>/d/wiktionary/fr</td>\n",
       "      <td>en</td>\n",
       "      <td>oncoming</td>\n",
       "      <td>True</td>\n",
       "      <td>False</td>\n",
       "    </tr>\n",
       "    <tr>\n",
       "      <th>38003</th>\n",
       "      <td>devastating</td>\n",
       "      <td>Synonym</td>\n",
       "      <td>cataclysmic</td>\n",
       "      <td>None</td>\n",
       "      <td>1.0</td>\n",
       "      <td>/d/wiktionary/fr</td>\n",
       "      <td>en</td>\n",
       "      <td>devastating</td>\n",
       "      <td>True</td>\n",
       "      <td>False</td>\n",
       "    </tr>\n",
       "    <tr>\n",
       "      <th>34426</th>\n",
       "      <td>heels</td>\n",
       "      <td>RelatedTo</td>\n",
       "      <td>heel</td>\n",
       "      <td>None</td>\n",
       "      <td>1.0</td>\n",
       "      <td>/d/wiktionary/fr</td>\n",
       "      <td>en</td>\n",
       "      <td>heels</td>\n",
       "      <td>True</td>\n",
       "      <td>False</td>\n",
       "    </tr>\n",
       "    <tr>\n",
       "      <th>30592</th>\n",
       "      <td>fuzzy</td>\n",
       "      <td>SimilarTo</td>\n",
       "      <td>blurry</td>\n",
       "      <td>None</td>\n",
       "      <td>1.0</td>\n",
       "      <td>/d/wiktionary/fr</td>\n",
       "      <td>en</td>\n",
       "      <td>blurry</td>\n",
       "      <td>True</td>\n",
       "      <td>False</td>\n",
       "    </tr>\n",
       "    <tr>\n",
       "      <th>27284</th>\n",
       "      <td>hairstyles</td>\n",
       "      <td>RelatedTo</td>\n",
       "      <td>hairstyle</td>\n",
       "      <td>None</td>\n",
       "      <td>1.0</td>\n",
       "      <td>/d/wiktionary/fr</td>\n",
       "      <td>en</td>\n",
       "      <td>hairstyles</td>\n",
       "      <td>True</td>\n",
       "      <td>False</td>\n",
       "    </tr>\n",
       "    <tr>\n",
       "      <th>42174</th>\n",
       "      <td>spices</td>\n",
       "      <td>RelatedTo</td>\n",
       "      <td>spice</td>\n",
       "      <td>None</td>\n",
       "      <td>1.0</td>\n",
       "      <td>/d/wiktionary/fr</td>\n",
       "      <td>en</td>\n",
       "      <td>spices</td>\n",
       "      <td>True</td>\n",
       "      <td>False</td>\n",
       "    </tr>\n",
       "    <tr>\n",
       "      <th>41384</th>\n",
       "      <td>distances</td>\n",
       "      <td>RelatedTo</td>\n",
       "      <td>distance</td>\n",
       "      <td>None</td>\n",
       "      <td>1.0</td>\n",
       "      <td>/d/wiktionary/fr</td>\n",
       "      <td>en</td>\n",
       "      <td>distances</td>\n",
       "      <td>True</td>\n",
       "      <td>False</td>\n",
       "    </tr>\n",
       "    <tr>\n",
       "      <th>25554</th>\n",
       "      <td>firefighters</td>\n",
       "      <td>RelatedTo</td>\n",
       "      <td>firefighter</td>\n",
       "      <td>None</td>\n",
       "      <td>1.0</td>\n",
       "      <td>/d/wiktionary/fr</td>\n",
       "      <td>en</td>\n",
       "      <td>firefighters</td>\n",
       "      <td>True</td>\n",
       "      <td>False</td>\n",
       "    </tr>\n",
       "    <tr>\n",
       "      <th>24815</th>\n",
       "      <td>stunts</td>\n",
       "      <td>RelatedTo</td>\n",
       "      <td>stunt</td>\n",
       "      <td>None</td>\n",
       "      <td>1.0</td>\n",
       "      <td>/d/wiktionary/fr</td>\n",
       "      <td>en</td>\n",
       "      <td>stunts</td>\n",
       "      <td>True</td>\n",
       "      <td>False</td>\n",
       "    </tr>\n",
       "  </tbody>\n",
       "</table>\n",
       "</div>"
      ],
      "text/plain": [
       "        start_label   relation    end_label surfaceText  weight  \\\n",
       "40625        deejay     FormOf           dj        None     1.0   \n",
       "16357         rails  RelatedTo         rail        None     1.0   \n",
       "31539  representing  RelatedTo    represent        None     1.0   \n",
       "29422    respondent  RelatedTo    responder        None     1.0   \n",
       "41421         goers  RelatedTo         goer        None     1.0   \n",
       "15292        clocks  RelatedTo        clock        None     1.0   \n",
       "36401       attacks  RelatedTo       attack        None     1.0   \n",
       "25985          rode  RelatedTo         ride        None     1.0   \n",
       "5894           he’d  RelatedTo          had        None     1.0   \n",
       "34478      occurred  RelatedTo        occur        None     1.0   \n",
       "37081        corded  RelatedTo         cord        None     1.0   \n",
       "36711      oncoming    Synonym     approach        None     1.0   \n",
       "38003   devastating    Synonym  cataclysmic        None     1.0   \n",
       "34426         heels  RelatedTo         heel        None     1.0   \n",
       "30592         fuzzy  SimilarTo       blurry        None     1.0   \n",
       "27284    hairstyles  RelatedTo    hairstyle        None     1.0   \n",
       "42174        spices  RelatedTo        spice        None     1.0   \n",
       "41384     distances  RelatedTo     distance        None     1.0   \n",
       "25554  firefighters  RelatedTo  firefighter        None     1.0   \n",
       "24815        stunts  RelatedTo        stunt        None     1.0   \n",
       "\n",
       "                dataset language    query_word  from_question  from_image  \n",
       "40625  /d/wiktionary/fr       en            dj           True       False  \n",
       "16357  /d/wiktionary/fr       en         rails           True       False  \n",
       "31539  /d/wiktionary/fr       en  representing           True       False  \n",
       "29422  /d/wiktionary/fr       en     responder           True       False  \n",
       "41421  /d/wiktionary/fr       en         goers           True       False  \n",
       "15292  /d/wiktionary/fr       en        clocks           True       False  \n",
       "36401  /d/wiktionary/fr       en       attacks           True       False  \n",
       "25985  /d/wiktionary/fr       en          rode           True       False  \n",
       "5894   /d/wiktionary/fr       en           had           True       False  \n",
       "34478  /d/wiktionary/fr       en      occurred           True       False  \n",
       "37081  /d/wiktionary/fr       en        corded           True       False  \n",
       "36711  /d/wiktionary/fr       en      oncoming           True       False  \n",
       "38003  /d/wiktionary/fr       en   devastating           True       False  \n",
       "34426  /d/wiktionary/fr       en         heels           True       False  \n",
       "30592  /d/wiktionary/fr       en        blurry           True       False  \n",
       "27284  /d/wiktionary/fr       en    hairstyles           True       False  \n",
       "42174  /d/wiktionary/fr       en        spices           True       False  \n",
       "41384  /d/wiktionary/fr       en     distances           True       False  \n",
       "25554  /d/wiktionary/fr       en  firefighters           True       False  \n",
       "24815  /d/wiktionary/fr       en        stunts           True       False  "
      ]
     },
     "execution_count": 11,
     "metadata": {},
     "output_type": "execute_result"
    }
   ],
   "source": [
    "okvqa['conceptnet'][okvqa['conceptnet'].dataset == '/d/wiktionary/fr'].sample(20)"
   ]
  },
  {
   "cell_type": "code",
   "execution_count": 12,
   "id": "e0890e28",
   "metadata": {},
   "outputs": [
    {
     "data": {
      "text/html": [
       "<div>\n",
       "<style scoped>\n",
       "    .dataframe tbody tr th:only-of-type {\n",
       "        vertical-align: middle;\n",
       "    }\n",
       "\n",
       "    .dataframe tbody tr th {\n",
       "        vertical-align: top;\n",
       "    }\n",
       "\n",
       "    .dataframe thead th {\n",
       "        text-align: right;\n",
       "    }\n",
       "</style>\n",
       "<table border=\"1\" class=\"dataframe\">\n",
       "  <thead>\n",
       "    <tr style=\"text-align: right;\">\n",
       "      <th></th>\n",
       "      <th>start_label</th>\n",
       "      <th>relation</th>\n",
       "      <th>end_label</th>\n",
       "      <th>surfaceText</th>\n",
       "      <th>weight</th>\n",
       "      <th>dataset</th>\n",
       "      <th>language</th>\n",
       "      <th>query_word</th>\n",
       "      <th>from_question</th>\n",
       "      <th>from_image</th>\n",
       "    </tr>\n",
       "  </thead>\n",
       "  <tbody>\n",
       "    <tr>\n",
       "      <th>32655</th>\n",
       "      <td>wary</td>\n",
       "      <td>Synonym</td>\n",
       "      <td>cautious</td>\n",
       "      <td>None</td>\n",
       "      <td>2.0</td>\n",
       "      <td>/d/wiktionary/de</td>\n",
       "      <td>en</td>\n",
       "      <td>wary</td>\n",
       "      <td>True</td>\n",
       "      <td>False</td>\n",
       "    </tr>\n",
       "    <tr>\n",
       "      <th>10158</th>\n",
       "      <td>dwellings</td>\n",
       "      <td>FormOf</td>\n",
       "      <td>dwelling</td>\n",
       "      <td>None</td>\n",
       "      <td>1.0</td>\n",
       "      <td>/d/wiktionary/de</td>\n",
       "      <td>en</td>\n",
       "      <td>dwellings</td>\n",
       "      <td>True</td>\n",
       "      <td>False</td>\n",
       "    </tr>\n",
       "    <tr>\n",
       "      <th>22532</th>\n",
       "      <td>protects</td>\n",
       "      <td>FormOf</td>\n",
       "      <td>protect</td>\n",
       "      <td>None</td>\n",
       "      <td>1.0</td>\n",
       "      <td>/d/wiktionary/de</td>\n",
       "      <td>en</td>\n",
       "      <td>protects</td>\n",
       "      <td>True</td>\n",
       "      <td>False</td>\n",
       "    </tr>\n",
       "    <tr>\n",
       "      <th>22913</th>\n",
       "      <td>remain</td>\n",
       "      <td>Synonym</td>\n",
       "      <td>stay</td>\n",
       "      <td>None</td>\n",
       "      <td>2.0</td>\n",
       "      <td>/d/wiktionary/de</td>\n",
       "      <td>en</td>\n",
       "      <td>remain</td>\n",
       "      <td>True</td>\n",
       "      <td>False</td>\n",
       "    </tr>\n",
       "    <tr>\n",
       "      <th>38942</th>\n",
       "      <td>eg</td>\n",
       "      <td>RelatedTo</td>\n",
       "      <td>grin</td>\n",
       "      <td>None</td>\n",
       "      <td>1.0</td>\n",
       "      <td>/d/wiktionary/de</td>\n",
       "      <td>en</td>\n",
       "      <td>eg</td>\n",
       "      <td>True</td>\n",
       "      <td>False</td>\n",
       "    </tr>\n",
       "    <tr>\n",
       "      <th>1236</th>\n",
       "      <td>does</td>\n",
       "      <td>FormOf</td>\n",
       "      <td>doe</td>\n",
       "      <td>None</td>\n",
       "      <td>1.0</td>\n",
       "      <td>/d/wiktionary/de</td>\n",
       "      <td>en</td>\n",
       "      <td>does</td>\n",
       "      <td>True</td>\n",
       "      <td>False</td>\n",
       "    </tr>\n",
       "    <tr>\n",
       "      <th>24856</th>\n",
       "      <td>drivers</td>\n",
       "      <td>FormOf</td>\n",
       "      <td>driver</td>\n",
       "      <td>None</td>\n",
       "      <td>1.0</td>\n",
       "      <td>/d/wiktionary/de</td>\n",
       "      <td>en</td>\n",
       "      <td>drivers</td>\n",
       "      <td>True</td>\n",
       "      <td>False</td>\n",
       "    </tr>\n",
       "    <tr>\n",
       "      <th>40046</th>\n",
       "      <td>drew</td>\n",
       "      <td>FormOf</td>\n",
       "      <td>draw</td>\n",
       "      <td>None</td>\n",
       "      <td>1.0</td>\n",
       "      <td>/d/wiktionary/de</td>\n",
       "      <td>en</td>\n",
       "      <td>drew</td>\n",
       "      <td>True</td>\n",
       "      <td>False</td>\n",
       "    </tr>\n",
       "    <tr>\n",
       "      <th>39067</th>\n",
       "      <td>professions</td>\n",
       "      <td>FormOf</td>\n",
       "      <td>profession</td>\n",
       "      <td>None</td>\n",
       "      <td>1.0</td>\n",
       "      <td>/d/wiktionary/de</td>\n",
       "      <td>en</td>\n",
       "      <td>professions</td>\n",
       "      <td>True</td>\n",
       "      <td>False</td>\n",
       "    </tr>\n",
       "    <tr>\n",
       "      <th>37908</th>\n",
       "      <td>sparrows</td>\n",
       "      <td>FormOf</td>\n",
       "      <td>sparrow</td>\n",
       "      <td>None</td>\n",
       "      <td>1.0</td>\n",
       "      <td>/d/wiktionary/de</td>\n",
       "      <td>en</td>\n",
       "      <td>sparrows</td>\n",
       "      <td>True</td>\n",
       "      <td>False</td>\n",
       "    </tr>\n",
       "    <tr>\n",
       "      <th>30890</th>\n",
       "      <td>towns</td>\n",
       "      <td>FormOf</td>\n",
       "      <td>town</td>\n",
       "      <td>None</td>\n",
       "      <td>1.0</td>\n",
       "      <td>/d/wiktionary/de</td>\n",
       "      <td>en</td>\n",
       "      <td>towns</td>\n",
       "      <td>True</td>\n",
       "      <td>False</td>\n",
       "    </tr>\n",
       "    <tr>\n",
       "      <th>35044</th>\n",
       "      <td>levels</td>\n",
       "      <td>FormOf</td>\n",
       "      <td>level</td>\n",
       "      <td>None</td>\n",
       "      <td>1.0</td>\n",
       "      <td>/d/wiktionary/de</td>\n",
       "      <td>en</td>\n",
       "      <td>levels</td>\n",
       "      <td>True</td>\n",
       "      <td>False</td>\n",
       "    </tr>\n",
       "    <tr>\n",
       "      <th>41749</th>\n",
       "      <td>cupcakes</td>\n",
       "      <td>FormOf</td>\n",
       "      <td>cupcake</td>\n",
       "      <td>None</td>\n",
       "      <td>1.0</td>\n",
       "      <td>/d/wiktionary/de</td>\n",
       "      <td>en</td>\n",
       "      <td>cupcakes</td>\n",
       "      <td>True</td>\n",
       "      <td>False</td>\n",
       "    </tr>\n",
       "    <tr>\n",
       "      <th>17864</th>\n",
       "      <td>travels</td>\n",
       "      <td>FormOf</td>\n",
       "      <td>travel</td>\n",
       "      <td>None</td>\n",
       "      <td>1.0</td>\n",
       "      <td>/d/wiktionary/de</td>\n",
       "      <td>en</td>\n",
       "      <td>travels</td>\n",
       "      <td>True</td>\n",
       "      <td>False</td>\n",
       "    </tr>\n",
       "    <tr>\n",
       "      <th>32272</th>\n",
       "      <td>chores</td>\n",
       "      <td>FormOf</td>\n",
       "      <td>chore</td>\n",
       "      <td>None</td>\n",
       "      <td>1.0</td>\n",
       "      <td>/d/wiktionary/de</td>\n",
       "      <td>en</td>\n",
       "      <td>chores</td>\n",
       "      <td>True</td>\n",
       "      <td>False</td>\n",
       "    </tr>\n",
       "    <tr>\n",
       "      <th>41157</th>\n",
       "      <td>reigns</td>\n",
       "      <td>FormOf</td>\n",
       "      <td>reign</td>\n",
       "      <td>None</td>\n",
       "      <td>1.0</td>\n",
       "      <td>/d/wiktionary/de</td>\n",
       "      <td>en</td>\n",
       "      <td>reigns</td>\n",
       "      <td>True</td>\n",
       "      <td>False</td>\n",
       "    </tr>\n",
       "    <tr>\n",
       "      <th>14963</th>\n",
       "      <td>inventing</td>\n",
       "      <td>FormOf</td>\n",
       "      <td>invent</td>\n",
       "      <td>None</td>\n",
       "      <td>1.0</td>\n",
       "      <td>/d/wiktionary/de</td>\n",
       "      <td>en</td>\n",
       "      <td>inventing</td>\n",
       "      <td>True</td>\n",
       "      <td>False</td>\n",
       "    </tr>\n",
       "    <tr>\n",
       "      <th>24686</th>\n",
       "      <td>cheeses</td>\n",
       "      <td>FormOf</td>\n",
       "      <td>cheese</td>\n",
       "      <td>None</td>\n",
       "      <td>1.0</td>\n",
       "      <td>/d/wiktionary/de</td>\n",
       "      <td>en</td>\n",
       "      <td>cheeses</td>\n",
       "      <td>True</td>\n",
       "      <td>False</td>\n",
       "    </tr>\n",
       "    <tr>\n",
       "      <th>40738</th>\n",
       "      <td>percentage</td>\n",
       "      <td>DerivedFrom</td>\n",
       "      <td>percent</td>\n",
       "      <td>None</td>\n",
       "      <td>2.0</td>\n",
       "      <td>/d/wiktionary/de</td>\n",
       "      <td>en</td>\n",
       "      <td>percent</td>\n",
       "      <td>True</td>\n",
       "      <td>False</td>\n",
       "    </tr>\n",
       "    <tr>\n",
       "      <th>12226</th>\n",
       "      <td>messages</td>\n",
       "      <td>FormOf</td>\n",
       "      <td>message</td>\n",
       "      <td>None</td>\n",
       "      <td>1.0</td>\n",
       "      <td>/d/wiktionary/de</td>\n",
       "      <td>en</td>\n",
       "      <td>messages</td>\n",
       "      <td>True</td>\n",
       "      <td>False</td>\n",
       "    </tr>\n",
       "  </tbody>\n",
       "</table>\n",
       "</div>"
      ],
      "text/plain": [
       "       start_label     relation   end_label surfaceText  weight  \\\n",
       "32655         wary      Synonym    cautious        None     2.0   \n",
       "10158    dwellings       FormOf    dwelling        None     1.0   \n",
       "22532     protects       FormOf     protect        None     1.0   \n",
       "22913       remain      Synonym        stay        None     2.0   \n",
       "38942           eg    RelatedTo        grin        None     1.0   \n",
       "1236          does       FormOf         doe        None     1.0   \n",
       "24856      drivers       FormOf      driver        None     1.0   \n",
       "40046         drew       FormOf        draw        None     1.0   \n",
       "39067  professions       FormOf  profession        None     1.0   \n",
       "37908     sparrows       FormOf     sparrow        None     1.0   \n",
       "30890        towns       FormOf        town        None     1.0   \n",
       "35044       levels       FormOf       level        None     1.0   \n",
       "41749     cupcakes       FormOf     cupcake        None     1.0   \n",
       "17864      travels       FormOf      travel        None     1.0   \n",
       "32272       chores       FormOf       chore        None     1.0   \n",
       "41157       reigns       FormOf       reign        None     1.0   \n",
       "14963    inventing       FormOf      invent        None     1.0   \n",
       "24686      cheeses       FormOf      cheese        None     1.0   \n",
       "40738   percentage  DerivedFrom     percent        None     2.0   \n",
       "12226     messages       FormOf     message        None     1.0   \n",
       "\n",
       "                dataset language   query_word  from_question  from_image  \n",
       "32655  /d/wiktionary/de       en         wary           True       False  \n",
       "10158  /d/wiktionary/de       en    dwellings           True       False  \n",
       "22532  /d/wiktionary/de       en     protects           True       False  \n",
       "22913  /d/wiktionary/de       en       remain           True       False  \n",
       "38942  /d/wiktionary/de       en           eg           True       False  \n",
       "1236   /d/wiktionary/de       en         does           True       False  \n",
       "24856  /d/wiktionary/de       en      drivers           True       False  \n",
       "40046  /d/wiktionary/de       en         drew           True       False  \n",
       "39067  /d/wiktionary/de       en  professions           True       False  \n",
       "37908  /d/wiktionary/de       en     sparrows           True       False  \n",
       "30890  /d/wiktionary/de       en        towns           True       False  \n",
       "35044  /d/wiktionary/de       en       levels           True       False  \n",
       "41749  /d/wiktionary/de       en     cupcakes           True       False  \n",
       "17864  /d/wiktionary/de       en      travels           True       False  \n",
       "32272  /d/wiktionary/de       en       chores           True       False  \n",
       "41157  /d/wiktionary/de       en       reigns           True       False  \n",
       "14963  /d/wiktionary/de       en    inventing           True       False  \n",
       "24686  /d/wiktionary/de       en      cheeses           True       False  \n",
       "40738  /d/wiktionary/de       en      percent           True       False  \n",
       "12226  /d/wiktionary/de       en     messages           True       False  "
      ]
     },
     "execution_count": 12,
     "metadata": {},
     "output_type": "execute_result"
    }
   ],
   "source": [
    "okvqa['conceptnet'][okvqa['conceptnet'].dataset == '/d/wiktionary/de'].sample(20)"
   ]
  },
  {
   "cell_type": "code",
   "execution_count": null,
   "id": "9d1914ad",
   "metadata": {},
   "outputs": [],
   "source": []
  },
  {
   "cell_type": "code",
   "execution_count": null,
   "id": "732bb069",
   "metadata": {},
   "outputs": [],
   "source": []
  },
  {
   "cell_type": "code",
   "execution_count": null,
   "id": "5e6f5107",
   "metadata": {},
   "outputs": [],
   "source": []
  },
  {
   "cell_type": "code",
   "execution_count": 24,
   "id": "c034470d",
   "metadata": {},
   "outputs": [
    {
     "name": "stdout",
     "output_type": "stream",
     "text": [
      "Number of extracted relations from questions: 42438\n",
      "Number of extracted relations from questions: 807\n",
      "\n",
      "Relations occurring in both question and images: 236\n"
     ]
    }
   ],
   "source": [
    "print(\"Number of extracted relations from questions: {:d}\".format(okvqa['conceptnet'].from_question.sum()))\n",
    "print(\"Number of extracted relations from questions: {:d}\".format(okvqa['conceptnet'].from_image.sum()))\n",
    "\n",
    "overlap = okvqa['conceptnet'][np.logical_and(okvqa['conceptnet']['from_question'] == True, okvqa['conceptnet']['from_image'] == True)]\n",
    "\n",
    "print(\"\\nRelations occurring in both question and images: {:d}\".format(overlap.__len__()))"
   ]
  },
  {
   "cell_type": "code",
   "execution_count": 31,
   "id": "85569f86",
   "metadata": {},
   "outputs": [
    {
     "name": "stdout",
     "output_type": "stream",
     "text": [
      "Total number of relations extracted: 43009\n"
     ]
    }
   ],
   "source": [
    "print(\"Total number of relations extracted: {:d}\".format(42438 + 807 - 236))"
   ]
  },
  {
   "cell_type": "code",
   "execution_count": 25,
   "id": "b4ffeff0",
   "metadata": {},
   "outputs": [
    {
     "data": {
      "text/html": [
       "<div>\n",
       "<style scoped>\n",
       "    .dataframe tbody tr th:only-of-type {\n",
       "        vertical-align: middle;\n",
       "    }\n",
       "\n",
       "    .dataframe tbody tr th {\n",
       "        vertical-align: top;\n",
       "    }\n",
       "\n",
       "    .dataframe thead th {\n",
       "        text-align: right;\n",
       "    }\n",
       "</style>\n",
       "<table border=\"1\" class=\"dataframe\">\n",
       "  <thead>\n",
       "    <tr style=\"text-align: right;\">\n",
       "      <th></th>\n",
       "      <th>start_label</th>\n",
       "      <th>relation</th>\n",
       "      <th>end_label</th>\n",
       "      <th>surfaceText</th>\n",
       "      <th>weight</th>\n",
       "      <th>dataset</th>\n",
       "      <th>language</th>\n",
       "      <th>query_word</th>\n",
       "      <th>from_question</th>\n",
       "      <th>from_image</th>\n",
       "    </tr>\n",
       "  </thead>\n",
       "  <tbody>\n",
       "    <tr>\n",
       "      <th>592</th>\n",
       "      <td>dog</td>\n",
       "      <td>CapableOf</td>\n",
       "      <td>bark</td>\n",
       "      <td>[[dog]] can [[bark]]</td>\n",
       "      <td>16.0</td>\n",
       "      <td>/d/conceptnet/4/en</td>\n",
       "      <td>en</td>\n",
       "      <td>dog</td>\n",
       "      <td>True</td>\n",
       "      <td>True</td>\n",
       "    </tr>\n",
       "    <tr>\n",
       "      <th>602</th>\n",
       "      <td>a dog</td>\n",
       "      <td>IsA</td>\n",
       "      <td>pet</td>\n",
       "      <td>[[a dog]] is a type of [[pet]]</td>\n",
       "      <td>6.0</td>\n",
       "      <td>/d/conceptnet/4/en</td>\n",
       "      <td>en</td>\n",
       "      <td>dog</td>\n",
       "      <td>True</td>\n",
       "      <td>True</td>\n",
       "    </tr>\n",
       "    <tr>\n",
       "      <th>603</th>\n",
       "      <td>a dog</td>\n",
       "      <td>CapableOf</td>\n",
       "      <td>run</td>\n",
       "      <td>An activity [[a dog]] can do is [[run]]</td>\n",
       "      <td>6.0</td>\n",
       "      <td>/d/conceptnet/4/en</td>\n",
       "      <td>en</td>\n",
       "      <td>dog</td>\n",
       "      <td>True</td>\n",
       "      <td>True</td>\n",
       "    </tr>\n",
       "    <tr>\n",
       "      <th>712</th>\n",
       "      <td>a person</td>\n",
       "      <td>Desires</td>\n",
       "      <td>clothing</td>\n",
       "      <td>[[a person]] wants [[clothing]]</td>\n",
       "      <td>6.0</td>\n",
       "      <td>/d/conceptnet/4/en</td>\n",
       "      <td>en</td>\n",
       "      <td>person</td>\n",
       "      <td>True</td>\n",
       "      <td>True</td>\n",
       "    </tr>\n",
       "    <tr>\n",
       "      <th>713</th>\n",
       "      <td>A slave</td>\n",
       "      <td>IsA</td>\n",
       "      <td>a person</td>\n",
       "      <td>[[A slave]] is [[a person]]</td>\n",
       "      <td>6.0</td>\n",
       "      <td>/d/conceptnet/4/en</td>\n",
       "      <td>en</td>\n",
       "      <td>person</td>\n",
       "      <td>True</td>\n",
       "      <td>True</td>\n",
       "    </tr>\n",
       "    <tr>\n",
       "      <th>...</th>\n",
       "      <td>...</td>\n",
       "      <td>...</td>\n",
       "      <td>...</td>\n",
       "      <td>...</td>\n",
       "      <td>...</td>\n",
       "      <td>...</td>\n",
       "      <td>...</td>\n",
       "      <td>...</td>\n",
       "      <td>...</td>\n",
       "      <td>...</td>\n",
       "    </tr>\n",
       "    <tr>\n",
       "      <th>23114</th>\n",
       "      <td>purse</td>\n",
       "      <td>Synonym</td>\n",
       "      <td>handbag</td>\n",
       "      <td>None</td>\n",
       "      <td>2.0</td>\n",
       "      <td>/d/wiktionary/en</td>\n",
       "      <td>en</td>\n",
       "      <td>handbag</td>\n",
       "      <td>True</td>\n",
       "      <td>True</td>\n",
       "    </tr>\n",
       "    <tr>\n",
       "      <th>23115</th>\n",
       "      <td>a handbag</td>\n",
       "      <td>UsedFor</td>\n",
       "      <td>carry makeup</td>\n",
       "      <td>You can use [[a handbag]] to [[carry makeup]]</td>\n",
       "      <td>2.0</td>\n",
       "      <td>/d/conceptnet/4/en</td>\n",
       "      <td>en</td>\n",
       "      <td>handbag</td>\n",
       "      <td>True</td>\n",
       "      <td>True</td>\n",
       "    </tr>\n",
       "    <tr>\n",
       "      <th>23116</th>\n",
       "      <td>a handbag</td>\n",
       "      <td>UsedFor</td>\n",
       "      <td>carry money</td>\n",
       "      <td>You can use [[a handbag]] to [[carry money]]</td>\n",
       "      <td>2.0</td>\n",
       "      <td>/d/conceptnet/4/en</td>\n",
       "      <td>en</td>\n",
       "      <td>handbag</td>\n",
       "      <td>True</td>\n",
       "      <td>True</td>\n",
       "    </tr>\n",
       "    <tr>\n",
       "      <th>23117</th>\n",
       "      <td>handbag</td>\n",
       "      <td>Synonym</td>\n",
       "      <td>purse</td>\n",
       "      <td>None</td>\n",
       "      <td>2.0</td>\n",
       "      <td>/d/wiktionary/en</td>\n",
       "      <td>en</td>\n",
       "      <td>handbag</td>\n",
       "      <td>True</td>\n",
       "      <td>True</td>\n",
       "    </tr>\n",
       "    <tr>\n",
       "      <th>23118</th>\n",
       "      <td>a handbag</td>\n",
       "      <td>AtLocation</td>\n",
       "      <td>a store</td>\n",
       "      <td>You are likely to find [[a handbag]] in [[a st...</td>\n",
       "      <td>2.0</td>\n",
       "      <td>/d/conceptnet/4/en</td>\n",
       "      <td>en</td>\n",
       "      <td>handbag</td>\n",
       "      <td>True</td>\n",
       "      <td>True</td>\n",
       "    </tr>\n",
       "  </tbody>\n",
       "</table>\n",
       "<p>236 rows × 10 columns</p>\n",
       "</div>"
      ],
      "text/plain": [
       "      start_label    relation     end_label  \\\n",
       "592           dog   CapableOf          bark   \n",
       "602         a dog         IsA           pet   \n",
       "603         a dog   CapableOf           run   \n",
       "712      a person     Desires      clothing   \n",
       "713       A slave         IsA      a person   \n",
       "...           ...         ...           ...   \n",
       "23114       purse     Synonym       handbag   \n",
       "23115   a handbag     UsedFor  carry makeup   \n",
       "23116   a handbag     UsedFor   carry money   \n",
       "23117     handbag     Synonym         purse   \n",
       "23118   a handbag  AtLocation       a store   \n",
       "\n",
       "                                             surfaceText  weight  \\\n",
       "592                                 [[dog]] can [[bark]]    16.0   \n",
       "602                       [[a dog]] is a type of [[pet]]     6.0   \n",
       "603              An activity [[a dog]] can do is [[run]]     6.0   \n",
       "712                      [[a person]] wants [[clothing]]     6.0   \n",
       "713                          [[A slave]] is [[a person]]     6.0   \n",
       "...                                                  ...     ...   \n",
       "23114                                               None     2.0   \n",
       "23115      You can use [[a handbag]] to [[carry makeup]]     2.0   \n",
       "23116       You can use [[a handbag]] to [[carry money]]     2.0   \n",
       "23117                                               None     2.0   \n",
       "23118  You are likely to find [[a handbag]] in [[a st...     2.0   \n",
       "\n",
       "                  dataset language query_word  from_question  from_image  \n",
       "592    /d/conceptnet/4/en       en        dog           True        True  \n",
       "602    /d/conceptnet/4/en       en        dog           True        True  \n",
       "603    /d/conceptnet/4/en       en        dog           True        True  \n",
       "712    /d/conceptnet/4/en       en     person           True        True  \n",
       "713    /d/conceptnet/4/en       en     person           True        True  \n",
       "...                   ...      ...        ...            ...         ...  \n",
       "23114    /d/wiktionary/en       en    handbag           True        True  \n",
       "23115  /d/conceptnet/4/en       en    handbag           True        True  \n",
       "23116  /d/conceptnet/4/en       en    handbag           True        True  \n",
       "23117    /d/wiktionary/en       en    handbag           True        True  \n",
       "23118  /d/conceptnet/4/en       en    handbag           True        True  \n",
       "\n",
       "[236 rows x 10 columns]"
      ]
     },
     "execution_count": 25,
     "metadata": {},
     "output_type": "execute_result"
    }
   ],
   "source": [
    "overlap"
   ]
  },
  {
   "cell_type": "code",
   "execution_count": null,
   "id": "ffcd0a1d",
   "metadata": {},
   "outputs": [],
   "source": []
  },
  {
   "cell_type": "code",
   "execution_count": 13,
   "id": "e0966fe3",
   "metadata": {},
   "outputs": [
    {
     "data": {
      "text/html": [
       "<div>\n",
       "<style scoped>\n",
       "    .dataframe tbody tr th:only-of-type {\n",
       "        vertical-align: middle;\n",
       "    }\n",
       "\n",
       "    .dataframe tbody tr th {\n",
       "        vertical-align: top;\n",
       "    }\n",
       "\n",
       "    .dataframe thead th {\n",
       "        text-align: right;\n",
       "    }\n",
       "</style>\n",
       "<table border=\"1\" class=\"dataframe\">\n",
       "  <thead>\n",
       "    <tr style=\"text-align: right;\">\n",
       "      <th></th>\n",
       "      <th>start_label</th>\n",
       "      <th>relation</th>\n",
       "      <th>end_label</th>\n",
       "      <th>surfaceText</th>\n",
       "      <th>weight</th>\n",
       "      <th>dataset</th>\n",
       "      <th>language</th>\n",
       "      <th>query_word</th>\n",
       "      <th>from_question</th>\n",
       "      <th>from_image</th>\n",
       "    </tr>\n",
       "  </thead>\n",
       "  <tbody>\n",
       "    <tr>\n",
       "      <th>592</th>\n",
       "      <td>dog</td>\n",
       "      <td>CapableOf</td>\n",
       "      <td>bark</td>\n",
       "      <td>[[dog]] can [[bark]]</td>\n",
       "      <td>16.0</td>\n",
       "      <td>/d/conceptnet/4/en</td>\n",
       "      <td>en</td>\n",
       "      <td>dog</td>\n",
       "      <td>True</td>\n",
       "      <td>True</td>\n",
       "    </tr>\n",
       "    <tr>\n",
       "      <th>602</th>\n",
       "      <td>a dog</td>\n",
       "      <td>IsA</td>\n",
       "      <td>pet</td>\n",
       "      <td>[[a dog]] is a type of [[pet]]</td>\n",
       "      <td>6.0</td>\n",
       "      <td>/d/conceptnet/4/en</td>\n",
       "      <td>en</td>\n",
       "      <td>dog</td>\n",
       "      <td>True</td>\n",
       "      <td>True</td>\n",
       "    </tr>\n",
       "    <tr>\n",
       "      <th>603</th>\n",
       "      <td>a dog</td>\n",
       "      <td>CapableOf</td>\n",
       "      <td>run</td>\n",
       "      <td>An activity [[a dog]] can do is [[run]]</td>\n",
       "      <td>6.0</td>\n",
       "      <td>/d/conceptnet/4/en</td>\n",
       "      <td>en</td>\n",
       "      <td>dog</td>\n",
       "      <td>True</td>\n",
       "      <td>True</td>\n",
       "    </tr>\n",
       "    <tr>\n",
       "      <th>712</th>\n",
       "      <td>a person</td>\n",
       "      <td>Desires</td>\n",
       "      <td>clothing</td>\n",
       "      <td>[[a person]] wants [[clothing]]</td>\n",
       "      <td>6.0</td>\n",
       "      <td>/d/conceptnet/4/en</td>\n",
       "      <td>en</td>\n",
       "      <td>person</td>\n",
       "      <td>True</td>\n",
       "      <td>True</td>\n",
       "    </tr>\n",
       "    <tr>\n",
       "      <th>713</th>\n",
       "      <td>A slave</td>\n",
       "      <td>IsA</td>\n",
       "      <td>a person</td>\n",
       "      <td>[[A slave]] is [[a person]]</td>\n",
       "      <td>6.0</td>\n",
       "      <td>/d/conceptnet/4/en</td>\n",
       "      <td>en</td>\n",
       "      <td>person</td>\n",
       "      <td>True</td>\n",
       "      <td>True</td>\n",
       "    </tr>\n",
       "    <tr>\n",
       "      <th>...</th>\n",
       "      <td>...</td>\n",
       "      <td>...</td>\n",
       "      <td>...</td>\n",
       "      <td>...</td>\n",
       "      <td>...</td>\n",
       "      <td>...</td>\n",
       "      <td>...</td>\n",
       "      <td>...</td>\n",
       "      <td>...</td>\n",
       "      <td>...</td>\n",
       "    </tr>\n",
       "    <tr>\n",
       "      <th>23114</th>\n",
       "      <td>purse</td>\n",
       "      <td>Synonym</td>\n",
       "      <td>handbag</td>\n",
       "      <td>None</td>\n",
       "      <td>2.0</td>\n",
       "      <td>/d/wiktionary/en</td>\n",
       "      <td>en</td>\n",
       "      <td>handbag</td>\n",
       "      <td>True</td>\n",
       "      <td>True</td>\n",
       "    </tr>\n",
       "    <tr>\n",
       "      <th>23115</th>\n",
       "      <td>a handbag</td>\n",
       "      <td>UsedFor</td>\n",
       "      <td>carry makeup</td>\n",
       "      <td>You can use [[a handbag]] to [[carry makeup]]</td>\n",
       "      <td>2.0</td>\n",
       "      <td>/d/conceptnet/4/en</td>\n",
       "      <td>en</td>\n",
       "      <td>handbag</td>\n",
       "      <td>True</td>\n",
       "      <td>True</td>\n",
       "    </tr>\n",
       "    <tr>\n",
       "      <th>23116</th>\n",
       "      <td>a handbag</td>\n",
       "      <td>UsedFor</td>\n",
       "      <td>carry money</td>\n",
       "      <td>You can use [[a handbag]] to [[carry money]]</td>\n",
       "      <td>2.0</td>\n",
       "      <td>/d/conceptnet/4/en</td>\n",
       "      <td>en</td>\n",
       "      <td>handbag</td>\n",
       "      <td>True</td>\n",
       "      <td>True</td>\n",
       "    </tr>\n",
       "    <tr>\n",
       "      <th>23117</th>\n",
       "      <td>handbag</td>\n",
       "      <td>Synonym</td>\n",
       "      <td>purse</td>\n",
       "      <td>None</td>\n",
       "      <td>2.0</td>\n",
       "      <td>/d/wiktionary/en</td>\n",
       "      <td>en</td>\n",
       "      <td>handbag</td>\n",
       "      <td>True</td>\n",
       "      <td>True</td>\n",
       "    </tr>\n",
       "    <tr>\n",
       "      <th>23118</th>\n",
       "      <td>a handbag</td>\n",
       "      <td>AtLocation</td>\n",
       "      <td>a store</td>\n",
       "      <td>You are likely to find [[a handbag]] in [[a st...</td>\n",
       "      <td>2.0</td>\n",
       "      <td>/d/conceptnet/4/en</td>\n",
       "      <td>en</td>\n",
       "      <td>handbag</td>\n",
       "      <td>True</td>\n",
       "      <td>True</td>\n",
       "    </tr>\n",
       "  </tbody>\n",
       "</table>\n",
       "<p>236 rows × 10 columns</p>\n",
       "</div>"
      ],
      "text/plain": [
       "      start_label    relation     end_label  \\\n",
       "592           dog   CapableOf          bark   \n",
       "602         a dog         IsA           pet   \n",
       "603         a dog   CapableOf           run   \n",
       "712      a person     Desires      clothing   \n",
       "713       A slave         IsA      a person   \n",
       "...           ...         ...           ...   \n",
       "23114       purse     Synonym       handbag   \n",
       "23115   a handbag     UsedFor  carry makeup   \n",
       "23116   a handbag     UsedFor   carry money   \n",
       "23117     handbag     Synonym         purse   \n",
       "23118   a handbag  AtLocation       a store   \n",
       "\n",
       "                                             surfaceText  weight  \\\n",
       "592                                 [[dog]] can [[bark]]    16.0   \n",
       "602                       [[a dog]] is a type of [[pet]]     6.0   \n",
       "603              An activity [[a dog]] can do is [[run]]     6.0   \n",
       "712                      [[a person]] wants [[clothing]]     6.0   \n",
       "713                          [[A slave]] is [[a person]]     6.0   \n",
       "...                                                  ...     ...   \n",
       "23114                                               None     2.0   \n",
       "23115      You can use [[a handbag]] to [[carry makeup]]     2.0   \n",
       "23116       You can use [[a handbag]] to [[carry money]]     2.0   \n",
       "23117                                               None     2.0   \n",
       "23118  You are likely to find [[a handbag]] in [[a st...     2.0   \n",
       "\n",
       "                  dataset language query_word  from_question  from_image  \n",
       "592    /d/conceptnet/4/en       en        dog           True        True  \n",
       "602    /d/conceptnet/4/en       en        dog           True        True  \n",
       "603    /d/conceptnet/4/en       en        dog           True        True  \n",
       "712    /d/conceptnet/4/en       en     person           True        True  \n",
       "713    /d/conceptnet/4/en       en     person           True        True  \n",
       "...                   ...      ...        ...            ...         ...  \n",
       "23114    /d/wiktionary/en       en    handbag           True        True  \n",
       "23115  /d/conceptnet/4/en       en    handbag           True        True  \n",
       "23116  /d/conceptnet/4/en       en    handbag           True        True  \n",
       "23117    /d/wiktionary/en       en    handbag           True        True  \n",
       "23118  /d/conceptnet/4/en       en    handbag           True        True  \n",
       "\n",
       "[236 rows x 10 columns]"
      ]
     },
     "execution_count": 13,
     "metadata": {},
     "output_type": "execute_result"
    }
   ],
   "source": [
    "# overlapping relations (images and questions)\n",
    "okvqa['conceptnet'][np.logical_and(okvqa['conceptnet']['from_question'] == True, okvqa['conceptnet']['from_image'] == True)]"
   ]
  },
  {
   "cell_type": "code",
   "execution_count": null,
   "id": "6d21dc11",
   "metadata": {},
   "outputs": [],
   "source": []
  },
  {
   "cell_type": "code",
   "execution_count": null,
   "id": "b8b6be52",
   "metadata": {},
   "outputs": [],
   "source": []
  },
  {
   "cell_type": "code",
   "execution_count": null,
   "id": "12cd7710",
   "metadata": {},
   "outputs": [],
   "source": [
    "okvqa['conceptnet'].weight.plot(kind='hist', bins=51, width=0.3)\n",
    "plt.show()"
   ]
  },
  {
   "cell_type": "code",
   "execution_count": 130,
   "id": "baa06650",
   "metadata": {},
   "outputs": [
    {
     "data": {
      "text/plain": [
       "start_label                         baseball\n",
       "relation                                 IsA\n",
       "end_label                            a sport\n",
       "surfaceText      [[baseball]] is [[a sport]]\n",
       "weight                             22.891046\n",
       "dataset                   /d/conceptnet/4/en\n",
       "language                                  en\n",
       "query_word                             sport\n",
       "from_question                           True\n",
       "from_image                             False\n",
       "Name: 2077, dtype: object"
      ]
     },
     "execution_count": 130,
     "metadata": {},
     "output_type": "execute_result"
    }
   ],
   "source": [
    "okvqa['conceptnet'].iloc[okvqa['conceptnet'].weight.argmax()]"
   ]
  },
  {
   "cell_type": "code",
   "execution_count": 131,
   "id": "cce21d17",
   "metadata": {},
   "outputs": [
    {
     "data": {
      "text/plain": [
       "start_label                                      letter\n",
       "relation                                      RelatedTo\n",
       "end_label                                     keyboards\n",
       "surfaceText      [[letter]] is related to [[keyboards]]\n",
       "weight                                              0.1\n",
       "dataset                                    /d/verbosity\n",
       "language                                             en\n",
       "query_word                                    keyboards\n",
       "from_question                                      True\n",
       "from_image                                        False\n",
       "Name: 17398, dtype: object"
      ]
     },
     "execution_count": 131,
     "metadata": {},
     "output_type": "execute_result"
    }
   ],
   "source": [
    "okvqa['conceptnet'].iloc[okvqa['conceptnet'].weight.argmin()]"
   ]
  },
  {
   "cell_type": "code",
   "execution_count": null,
   "id": "45315b2e",
   "metadata": {},
   "outputs": [],
   "source": []
  },
  {
   "cell_type": "markdown",
   "id": "5fbe5f48",
   "metadata": {},
   "source": [
    "## Investigating ConceptNet Numberbatch for OKVQA text"
   ]
  },
  {
   "cell_type": "code",
   "execution_count": null,
   "id": "5d636530",
   "metadata": {},
   "outputs": [],
   "source": []
  },
  {
   "cell_type": "code",
   "execution_count": null,
   "id": "9a0d8e9a",
   "metadata": {},
   "outputs": [],
   "source": []
  },
  {
   "cell_type": "code",
   "execution_count": null,
   "id": "bbca67b5",
   "metadata": {},
   "outputs": [],
   "source": []
  },
  {
   "cell_type": "code",
   "execution_count": null,
   "id": "4d9bfa81",
   "metadata": {},
   "outputs": [],
   "source": []
  },
  {
   "cell_type": "markdown",
   "id": "74f03e62",
   "metadata": {},
   "source": [
    "## Investigating ConceptNet downloaded through MMF"
   ]
  },
  {
   "cell_type": "code",
   "execution_count": null,
   "id": "c339c9ea",
   "metadata": {},
   "outputs": [],
   "source": [
    "# path to okvqa dataset (from text-investigation)\n",
    "vocab_file = 'graph_vocab_cn.pth.tar'\n",
    "conceptnet_file = 'cn_graph.pth.tar'\n",
    "data_path = Path(os.getcwd()) / 'data/mmf/conceptnet'\n",
    "\n",
    "graph_vocab = torch.load(data_path/vocab_file)\n",
    "conceptNet = torch.load(data_path/conceptnet_file)"
   ]
  },
  {
   "cell_type": "code",
   "execution_count": null,
   "id": "aaef523b",
   "metadata": {},
   "outputs": [],
   "source": [
    "conceptNet.keys()"
   ]
  },
  {
   "cell_type": "code",
   "execution_count": null,
   "id": "4a83f3af",
   "metadata": {},
   "outputs": [],
   "source": [
    "conceptNet['concepts'].__len__()"
   ]
  },
  {
   "cell_type": "code",
   "execution_count": null,
   "id": "aea920f2",
   "metadata": {},
   "outputs": [],
   "source": [
    "np.shape(conceptNet['triplets'])"
   ]
  },
  {
   "cell_type": "code",
   "execution_count": null,
   "id": "674f6921",
   "metadata": {},
   "outputs": [],
   "source": [
    "graph_vocab.__len__()"
   ]
  },
  {
   "cell_type": "code",
   "execution_count": null,
   "id": "d4baa0b7",
   "metadata": {},
   "outputs": [],
   "source": [
    "for i in range(conceptNet['triplets'].__len__()):\n",
    "    concept1, relation, concept2 = conceptNet['triplets'][i]\n",
    "\n",
    "    print(f\"{conceptNet['concepts'][concept1]} - {conceptNet['relations'][relation]} - {conceptNet['concepts'][concept2]}\")"
   ]
  },
  {
   "cell_type": "code",
   "execution_count": null,
   "id": "001f1296",
   "metadata": {},
   "outputs": [],
   "source": []
  }
 ],
 "metadata": {
  "kernelspec": {
   "display_name": "Python 3 (ipykernel)",
   "language": "python",
   "name": "python3"
  },
  "language_info": {
   "codemirror_mode": {
    "name": "ipython",
    "version": 3
   },
   "file_extension": ".py",
   "mimetype": "text/x-python",
   "name": "python",
   "nbconvert_exporter": "python",
   "pygments_lexer": "ipython3",
   "version": "3.7.11"
  }
 },
 "nbformat": 4,
 "nbformat_minor": 5
}
