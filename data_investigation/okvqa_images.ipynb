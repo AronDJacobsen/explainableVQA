{
 "cells": [
  {
   "cell_type": "code",
   "execution_count": 1,
   "id": "d34aa98b",
   "metadata": {},
   "outputs": [],
   "source": [
    "import os, glob\n",
    "from pathlib import Path\n",
    "from tqdm.notebook import tqdm\n",
    "tqdm.pandas()\n",
    "\n",
    "from datetime import datetime\n",
    "from itertools import accumulate\n",
    "from collections import Counter\n",
    "\n",
    "import numpy as np\n",
    "import pandas as pd\n",
    "\n",
    "from tools.faster_rcnn import *\n",
    "\n",
    "import matplotlib.pyplot as plt\n",
    "%matplotlib inline\n",
    "\n",
    "from tools.utils import *\n",
    "\n",
    "import plotly.graph_objects as go\n",
    "\n",
    "import dash\n",
    "from dash import dcc\n",
    "from dash import html"
   ]
  },
  {
   "cell_type": "markdown",
   "id": "162c89a7",
   "metadata": {},
   "source": [
    "# OKVQA - Investigating Visual data\n",
    "\n",
    "This notebook examines the OKVQA dataset Visual side. The attributes and building of the dataset follows the configuration used by the widely applied [VQA dataset](https://visualqa.org/download.html). \n",
    "\n",
    "## 1) Load data and initial investigation\n",
    "We start by loading the OKVQA datasets that we analyzed and modified a bit in the `okvqa_test.ipynb` file. Furthermore, we load the image file names!"
   ]
  },
  {
   "cell_type": "code",
   "execution_count": 2,
   "id": "a2e5b6a3",
   "metadata": {},
   "outputs": [
    {
     "data": {
      "text/html": [
       "<div>\n",
       "<style scoped>\n",
       "    .dataframe tbody tr th:only-of-type {\n",
       "        vertical-align: middle;\n",
       "    }\n",
       "\n",
       "    .dataframe tbody tr th {\n",
       "        vertical-align: top;\n",
       "    }\n",
       "\n",
       "    .dataframe thead th {\n",
       "        text-align: right;\n",
       "    }\n",
       "</style>\n",
       "<table border=\"1\" class=\"dataframe\">\n",
       "  <thead>\n",
       "    <tr style=\"text-align: right;\">\n",
       "      <th></th>\n",
       "      <th>image_id</th>\n",
       "      <th>question_id</th>\n",
       "      <th>answer_type</th>\n",
       "      <th>question_type</th>\n",
       "      <th>confidence</th>\n",
       "      <th>question_str</th>\n",
       "      <th>question_tokens</th>\n",
       "      <th>all_answers</th>\n",
       "      <th>answers</th>\n",
       "      <th>image_name</th>\n",
       "      <th>feature_path</th>\n",
       "      <th>annotator_agreement_cos</th>\n",
       "    </tr>\n",
       "  </thead>\n",
       "  <tbody>\n",
       "    <tr>\n",
       "      <th>0</th>\n",
       "      <td>51606</td>\n",
       "      <td>516065</td>\n",
       "      <td>other</td>\n",
       "      <td>four</td>\n",
       "      <td>3</td>\n",
       "      <td>What is the hairstyle of the blond called?</td>\n",
       "      <td>[what, is, the, hairstyle, of, the, blond, cal...</td>\n",
       "      <td>[pony tail, pony tail, pony tail, pony tail, p...</td>\n",
       "      <td>[pony tail, pony tail, pony tail, pony tail, p...</td>\n",
       "      <td>COCO_train2014_000000051606</td>\n",
       "      <td>COCO_train2014_000000051606.npy</td>\n",
       "      <td>0.977160</td>\n",
       "    </tr>\n",
       "    <tr>\n",
       "      <th>1</th>\n",
       "      <td>81721</td>\n",
       "      <td>817215</td>\n",
       "      <td>other</td>\n",
       "      <td>seven</td>\n",
       "      <td>5</td>\n",
       "      <td>How old do you have to be in canada to do this?</td>\n",
       "      <td>[how, old, do, you, have, to, be, in, canada, ...</td>\n",
       "      <td>[18, 18, 18, 18, 18, 18, 18, 18, 18, 18]</td>\n",
       "      <td>[18, 18, 18, 18, 18, 18, 18, 18, 18, 18]</td>\n",
       "      <td>COCO_train2014_000000081721</td>\n",
       "      <td>COCO_train2014_000000081721.npy</td>\n",
       "      <td>NaN</td>\n",
       "    </tr>\n",
       "    <tr>\n",
       "      <th>2</th>\n",
       "      <td>480208</td>\n",
       "      <td>4802085</td>\n",
       "      <td>other</td>\n",
       "      <td>four</td>\n",
       "      <td>2</td>\n",
       "      <td>Can you guess the place where the man is playing?</td>\n",
       "      <td>[can, you, guess, the, place, where, the, man,...</td>\n",
       "      <td>[aspen, aspen, mountain, mountain, mountain, m...</td>\n",
       "      <td>[aspen, aspen, mountain, mountain, mountain, m...</td>\n",
       "      <td>COCO_train2014_000000480208</td>\n",
       "      <td>COCO_train2014_000000480208.npy</td>\n",
       "      <td>0.974979</td>\n",
       "    </tr>\n",
       "    <tr>\n",
       "      <th>3</th>\n",
       "      <td>570618</td>\n",
       "      <td>5706185</td>\n",
       "      <td>other</td>\n",
       "      <td>one</td>\n",
       "      <td>2</td>\n",
       "      <td>Which rail company is named after a town in ne...</td>\n",
       "      <td>[which, rail, company, is, named, after, a, to...</td>\n",
       "      <td>[santa fe, santa fe, santa fe, santa fe, new e...</td>\n",
       "      <td>[santa fe, santa fe, santa fe, santa fe, new e...</td>\n",
       "      <td>COCO_train2014_000000570618</td>\n",
       "      <td>COCO_train2014_000000570618.npy</td>\n",
       "      <td>0.960305</td>\n",
       "    </tr>\n",
       "    <tr>\n",
       "      <th>4</th>\n",
       "      <td>478903</td>\n",
       "      <td>4789035</td>\n",
       "      <td>other</td>\n",
       "      <td>seven</td>\n",
       "      <td>2</td>\n",
       "      <td>Is the boy swimming or doing another water act...</td>\n",
       "      <td>[is, the, boy, swimming, or, doing, another, w...</td>\n",
       "      <td>[another activity, another activity, another a...</td>\n",
       "      <td>[another activity, another activity, another a...</td>\n",
       "      <td>COCO_train2014_000000478903</td>\n",
       "      <td>COCO_train2014_000000478903.npy</td>\n",
       "      <td>0.955901</td>\n",
       "    </tr>\n",
       "  </tbody>\n",
       "</table>\n",
       "</div>"
      ],
      "text/plain": [
       "   image_id  question_id answer_type question_type  confidence  \\\n",
       "0     51606       516065       other          four           3   \n",
       "1     81721       817215       other         seven           5   \n",
       "2    480208      4802085       other          four           2   \n",
       "3    570618      5706185       other           one           2   \n",
       "4    478903      4789035       other         seven           2   \n",
       "\n",
       "                                        question_str  \\\n",
       "0         What is the hairstyle of the blond called?   \n",
       "1    How old do you have to be in canada to do this?   \n",
       "2  Can you guess the place where the man is playing?   \n",
       "3  Which rail company is named after a town in ne...   \n",
       "4  Is the boy swimming or doing another water act...   \n",
       "\n",
       "                                     question_tokens  \\\n",
       "0  [what, is, the, hairstyle, of, the, blond, cal...   \n",
       "1  [how, old, do, you, have, to, be, in, canada, ...   \n",
       "2  [can, you, guess, the, place, where, the, man,...   \n",
       "3  [which, rail, company, is, named, after, a, to...   \n",
       "4  [is, the, boy, swimming, or, doing, another, w...   \n",
       "\n",
       "                                         all_answers  \\\n",
       "0  [pony tail, pony tail, pony tail, pony tail, p...   \n",
       "1           [18, 18, 18, 18, 18, 18, 18, 18, 18, 18]   \n",
       "2  [aspen, aspen, mountain, mountain, mountain, m...   \n",
       "3  [santa fe, santa fe, santa fe, santa fe, new e...   \n",
       "4  [another activity, another activity, another a...   \n",
       "\n",
       "                                             answers  \\\n",
       "0  [pony tail, pony tail, pony tail, pony tail, p...   \n",
       "1           [18, 18, 18, 18, 18, 18, 18, 18, 18, 18]   \n",
       "2  [aspen, aspen, mountain, mountain, mountain, m...   \n",
       "3  [santa fe, santa fe, santa fe, santa fe, new e...   \n",
       "4  [another activity, another activity, another a...   \n",
       "\n",
       "                    image_name                     feature_path  \\\n",
       "0  COCO_train2014_000000051606  COCO_train2014_000000051606.npy   \n",
       "1  COCO_train2014_000000081721  COCO_train2014_000000081721.npy   \n",
       "2  COCO_train2014_000000480208  COCO_train2014_000000480208.npy   \n",
       "3  COCO_train2014_000000570618  COCO_train2014_000000570618.npy   \n",
       "4  COCO_train2014_000000478903  COCO_train2014_000000478903.npy   \n",
       "\n",
       "   annotator_agreement_cos  \n",
       "0                 0.977160  \n",
       "1                      NaN  \n",
       "2                 0.974979  \n",
       "3                 0.960305  \n",
       "4                 0.955901  "
      ]
     },
     "execution_count": 2,
     "metadata": {},
     "output_type": "execute_result"
    }
   ],
   "source": [
    "# path to okvqa dataset (from text-investigation)\n",
    "filename = 'OKVQA_text.json'\n",
    "data_path = Path(os.getcwd()) / 'data'\n",
    "\n",
    "okvqa = {}\n",
    "okvqa['full'] = pd.read_json(data_path/filename)\n",
    "okvqa['full'].head()"
   ]
  },
  {
   "cell_type": "code",
   "execution_count": 3,
   "id": "20700b11",
   "metadata": {},
   "outputs": [],
   "source": [
    "# load image filenames\n",
    "# Load features\n",
    "data_path = Path.home() / '.cache/torch/mmf/data/datasets/okvqa/defaults/images'\n",
    "\n",
    "image_names = glob.glob(data_path.as_posix()+'/*.jpg')"
   ]
  },
  {
   "cell_type": "markdown",
   "id": "c22ca90c",
   "metadata": {},
   "source": [
    "Let's try to find out how many unique images that are in the data!"
   ]
  },
  {
   "cell_type": "code",
   "execution_count": 4,
   "id": "7f648974",
   "metadata": {},
   "outputs": [
    {
     "data": {
      "text/plain": [
       "14031"
      ]
     },
     "execution_count": 4,
     "metadata": {},
     "output_type": "execute_result"
    }
   ],
   "source": [
    "okvqa['full'].image_name.unique().__len__()"
   ]
  },
  {
   "cell_type": "markdown",
   "id": "f151bed4",
   "metadata": {},
   "source": [
    "This is shorter than the full dataset that is of size 14055, which is due to some images having 2 associated questions."
   ]
  },
  {
   "cell_type": "code",
   "execution_count": 5,
   "id": "8ecd1348",
   "metadata": {},
   "outputs": [
    {
     "data": {
      "text/plain": [
       "[('COCO_train2014_000000318924', 2),\n",
       " ('COCO_train2014_000000120179', 2),\n",
       " ('COCO_train2014_000000526713', 2),\n",
       " ('COCO_train2014_000000404990', 2),\n",
       " ('COCO_train2014_000000525212', 2),\n",
       " ('COCO_train2014_000000556497', 2),\n",
       " ('COCO_train2014_000000319818', 2),\n",
       " ('COCO_train2014_000000194159', 2),\n",
       " ('COCO_train2014_000000555102', 2),\n",
       " ('COCO_train2014_000000512950', 2),\n",
       " ('COCO_train2014_000000151658', 2),\n",
       " ('COCO_val2014_000000572399', 2),\n",
       " ('COCO_val2014_000000236542', 2),\n",
       " ('COCO_val2014_000000058472', 2),\n",
       " ('COCO_val2014_000000191585', 2),\n",
       " ('COCO_val2014_000000318671', 2),\n",
       " ('COCO_val2014_000000084643', 2),\n",
       " ('COCO_val2014_000000536375', 2),\n",
       " ('COCO_val2014_000000553942', 2),\n",
       " ('COCO_val2014_000000282037', 2),\n",
       " ('COCO_val2014_000000519475', 2),\n",
       " ('COCO_val2014_000000558253', 2),\n",
       " ('COCO_val2014_000000382307', 2),\n",
       " ('COCO_val2014_000000055299', 2),\n",
       " ('COCO_train2014_000000051606', 1),\n",
       " ('COCO_train2014_000000081721', 1),\n",
       " ('COCO_train2014_000000480208', 1),\n",
       " ('COCO_train2014_000000570618', 1),\n",
       " ('COCO_train2014_000000478903', 1),\n",
       " ('COCO_train2014_000000542651', 1),\n",
       " ('COCO_train2014_000000025024', 1),\n",
       " ('COCO_train2014_000000002056', 1),\n",
       " ('COCO_train2014_000000179526', 1),\n",
       " ('COCO_train2014_000000386927', 1),\n",
       " ('COCO_train2014_000000407809', 1),\n",
       " ('COCO_train2014_000000214137', 1),\n",
       " ('COCO_train2014_000000139878', 1),\n",
       " ('COCO_train2014_000000460095', 1),\n",
       " ('COCO_train2014_000000410622', 1),\n",
       " ('COCO_train2014_000000040085', 1),\n",
       " ('COCO_train2014_000000166533', 1),\n",
       " ('COCO_train2014_000000009745', 1),\n",
       " ('COCO_train2014_000000473100', 1),\n",
       " ('COCO_train2014_000000052153', 1),\n",
       " ('COCO_train2014_000000075643', 1),\n",
       " ('COCO_train2014_000000097747', 1),\n",
       " ('COCO_train2014_000000447977', 1),\n",
       " ('COCO_train2014_000000183240', 1),\n",
       " ('COCO_train2014_000000316170', 1),\n",
       " ('COCO_train2014_000000128264', 1),\n",
       " ('COCO_train2014_000000456792', 1),\n",
       " ('COCO_train2014_000000382997', 1),\n",
       " ('COCO_train2014_000000229525', 1),\n",
       " ('COCO_train2014_000000270688', 1),\n",
       " ('COCO_train2014_000000053615', 1),\n",
       " ('COCO_train2014_000000075190', 1),\n",
       " ('COCO_train2014_000000058435', 1),\n",
       " ('COCO_train2014_000000296137', 1),\n",
       " ('COCO_train2014_000000082131', 1),\n",
       " ('COCO_train2014_000000269490', 1),\n",
       " ('COCO_train2014_000000573485', 1),\n",
       " ('COCO_train2014_000000297488', 1),\n",
       " ('COCO_train2014_000000438306', 1),\n",
       " ('COCO_train2014_000000214834', 1),\n",
       " ('COCO_train2014_000000059367', 1),\n",
       " ('COCO_train2014_000000236015', 1),\n",
       " ('COCO_train2014_000000415569', 1),\n",
       " ('COCO_train2014_000000453287', 1),\n",
       " ('COCO_train2014_000000448046', 1),\n",
       " ('COCO_train2014_000000036755', 1),\n",
       " ('COCO_train2014_000000217306', 1),\n",
       " ('COCO_train2014_000000123201', 1),\n",
       " ('COCO_train2014_000000283875', 1),\n",
       " ('COCO_train2014_000000054386', 1),\n",
       " ('COCO_train2014_000000468276', 1),\n",
       " ('COCO_train2014_000000021451', 1),\n",
       " ('COCO_train2014_000000059843', 1),\n",
       " ('COCO_train2014_000000271079', 1),\n",
       " ('COCO_train2014_000000079552', 1),\n",
       " ('COCO_train2014_000000295370', 1),\n",
       " ('COCO_train2014_000000408272', 1),\n",
       " ('COCO_train2014_000000370493', 1),\n",
       " ('COCO_train2014_000000137281', 1),\n",
       " ('COCO_train2014_000000295776', 1),\n",
       " ('COCO_train2014_000000003713', 1),\n",
       " ('COCO_train2014_000000123535', 1),\n",
       " ('COCO_train2014_000000103676', 1),\n",
       " ('COCO_train2014_000000304625', 1),\n",
       " ('COCO_train2014_000000370121', 1),\n",
       " ('COCO_train2014_000000538821', 1),\n",
       " ('COCO_train2014_000000071005', 1),\n",
       " ('COCO_train2014_000000426274', 1),\n",
       " ('COCO_train2014_000000410425', 1),\n",
       " ('COCO_train2014_000000182468', 1),\n",
       " ('COCO_train2014_000000496891', 1),\n",
       " ('COCO_train2014_000000054691', 1),\n",
       " ('COCO_train2014_000000437857', 1),\n",
       " ('COCO_train2014_000000081704', 1),\n",
       " ('COCO_train2014_000000282669', 1),\n",
       " ('COCO_train2014_000000056442', 1),\n",
       " ('COCO_train2014_000000064827', 1),\n",
       " ('COCO_train2014_000000165347', 1),\n",
       " ('COCO_train2014_000000210806', 1),\n",
       " ('COCO_train2014_000000083979', 1),\n",
       " ('COCO_train2014_000000031437', 1),\n",
       " ('COCO_train2014_000000057515', 1),\n",
       " ('COCO_train2014_000000025060', 1),\n",
       " ('COCO_train2014_000000236626', 1),\n",
       " ('COCO_train2014_000000449197', 1),\n",
       " ('COCO_train2014_000000004042', 1),\n",
       " ('COCO_train2014_000000386390', 1),\n",
       " ('COCO_train2014_000000289766', 1),\n",
       " ('COCO_train2014_000000251475', 1),\n",
       " ('COCO_train2014_000000283445', 1),\n",
       " ('COCO_train2014_000000247604', 1),\n",
       " ('COCO_train2014_000000550660', 1),\n",
       " ('COCO_train2014_000000083174', 1),\n",
       " ('COCO_train2014_000000019251', 1),\n",
       " ('COCO_train2014_000000319996', 1),\n",
       " ('COCO_train2014_000000006229', 1),\n",
       " ('COCO_train2014_000000077260', 1),\n",
       " ('COCO_train2014_000000403271', 1),\n",
       " ('COCO_train2014_000000443752', 1),\n",
       " ('COCO_train2014_000000024702', 1),\n",
       " ('COCO_train2014_000000240074', 1),\n",
       " ('COCO_train2014_000000001810', 1),\n",
       " ('COCO_train2014_000000470770', 1),\n",
       " ('COCO_train2014_000000461878', 1),\n",
       " ('COCO_train2014_000000300629', 1),\n",
       " ('COCO_train2014_000000196035', 1),\n",
       " ('COCO_train2014_000000198997', 1),\n",
       " ('COCO_train2014_000000392067', 1),\n",
       " ('COCO_train2014_000000287854', 1),\n",
       " ('COCO_train2014_000000170406', 1),\n",
       " ('COCO_train2014_000000115328', 1),\n",
       " ('COCO_train2014_000000465060', 1),\n",
       " ('COCO_train2014_000000074183', 1),\n",
       " ('COCO_train2014_000000134169', 1),\n",
       " ('COCO_train2014_000000434951', 1),\n",
       " ('COCO_train2014_000000243504', 1),\n",
       " ('COCO_train2014_000000517985', 1),\n",
       " ('COCO_train2014_000000030054', 1),\n",
       " ('COCO_train2014_000000489986', 1),\n",
       " ('COCO_train2014_000000381460', 1),\n",
       " ('COCO_train2014_000000436145', 1),\n",
       " ('COCO_train2014_000000237831', 1),\n",
       " ('COCO_train2014_000000236075', 1),\n",
       " ('COCO_train2014_000000387759', 1),\n",
       " ('COCO_train2014_000000443192', 1),\n",
       " ('COCO_train2014_000000085483', 1),\n",
       " ('COCO_train2014_000000571575', 1),\n",
       " ('COCO_train2014_000000421597', 1),\n",
       " ('COCO_train2014_000000527314', 1),\n",
       " ('COCO_train2014_000000082860', 1),\n",
       " ('COCO_train2014_000000008176', 1),\n",
       " ('COCO_train2014_000000074861', 1),\n",
       " ('COCO_train2014_000000291868', 1),\n",
       " ('COCO_train2014_000000404221', 1),\n",
       " ('COCO_train2014_000000360566', 1),\n",
       " ('COCO_train2014_000000490555', 1),\n",
       " ('COCO_train2014_000000284454', 1),\n",
       " ('COCO_train2014_000000161836', 1),\n",
       " ('COCO_train2014_000000152209', 1),\n",
       " ('COCO_train2014_000000083407', 1),\n",
       " ('COCO_train2014_000000024257', 1),\n",
       " ('COCO_train2014_000000091858', 1),\n",
       " ('COCO_train2014_000000042385', 1),\n",
       " ('COCO_train2014_000000075842', 1),\n",
       " ('COCO_train2014_000000526196', 1),\n",
       " ('COCO_train2014_000000387102', 1),\n",
       " ('COCO_train2014_000000443496', 1),\n",
       " ('COCO_train2014_000000117428', 1),\n",
       " ('COCO_train2014_000000152913', 1),\n",
       " ('COCO_train2014_000000070702', 1),\n",
       " ('COCO_train2014_000000238687', 1),\n",
       " ('COCO_train2014_000000004893', 1),\n",
       " ('COCO_train2014_000000192585', 1),\n",
       " ('COCO_train2014_000000301591', 1),\n",
       " ('COCO_train2014_000000534690', 1),\n",
       " ('COCO_train2014_000000516740', 1),\n",
       " ('COCO_train2014_000000436878', 1),\n",
       " ('COCO_train2014_000000030643', 1),\n",
       " ('COCO_train2014_000000510333', 1),\n",
       " ('COCO_train2014_000000471647', 1),\n",
       " ('COCO_train2014_000000080386', 1),\n",
       " ('COCO_train2014_000000062057', 1),\n",
       " ('COCO_train2014_000000246446', 1),\n",
       " ('COCO_train2014_000000167118', 1),\n",
       " ('COCO_train2014_000000276951', 1),\n",
       " ('COCO_train2014_000000232434', 1),\n",
       " ('COCO_train2014_000000270166', 1),\n",
       " ('COCO_train2014_000000070444', 1),\n",
       " ('COCO_train2014_000000155795', 1),\n",
       " ('COCO_train2014_000000217726', 1),\n",
       " ('COCO_train2014_000000321700', 1),\n",
       " ('COCO_train2014_000000363957', 1),\n",
       " ('COCO_train2014_000000350421', 1),\n",
       " ('COCO_train2014_000000231542', 1),\n",
       " ('COCO_train2014_000000029274', 1),\n",
       " ('COCO_train2014_000000037326', 1),\n",
       " ('COCO_train2014_000000283913', 1),\n",
       " ('COCO_train2014_000000353723', 1),\n",
       " ('COCO_train2014_000000274562', 1),\n",
       " ('COCO_train2014_000000518071', 1),\n",
       " ('COCO_train2014_000000293366', 1),\n",
       " ('COCO_train2014_000000380949', 1),\n",
       " ('COCO_train2014_000000162646', 1),\n",
       " ('COCO_train2014_000000553719', 1),\n",
       " ('COCO_train2014_000000097367', 1),\n",
       " ('COCO_train2014_000000502134', 1),\n",
       " ('COCO_train2014_000000502379', 1),\n",
       " ('COCO_train2014_000000030175', 1),\n",
       " ('COCO_train2014_000000518866', 1),\n",
       " ('COCO_train2014_000000553758', 1),\n",
       " ('COCO_train2014_000000556811', 1),\n",
       " ('COCO_train2014_000000429491', 1),\n",
       " ('COCO_train2014_000000460702', 1),\n",
       " ('COCO_train2014_000000103059', 1),\n",
       " ('COCO_train2014_000000439493', 1),\n",
       " ('COCO_train2014_000000501307', 1),\n",
       " ('COCO_train2014_000000226577', 1),\n",
       " ('COCO_train2014_000000458894', 1),\n",
       " ('COCO_train2014_000000200946', 1),\n",
       " ('COCO_train2014_000000146760', 1),\n",
       " ('COCO_train2014_000000216304', 1),\n",
       " ('COCO_train2014_000000474614', 1),\n",
       " ('COCO_train2014_000000136951', 1),\n",
       " ('COCO_train2014_000000387480', 1),\n",
       " ('COCO_train2014_000000053275', 1),\n",
       " ('COCO_train2014_000000354392', 1),\n",
       " ('COCO_train2014_000000289852', 1),\n",
       " ('COCO_train2014_000000281330', 1),\n",
       " ('COCO_train2014_000000092353', 1),\n",
       " ('COCO_train2014_000000480016', 1),\n",
       " ('COCO_train2014_000000045468', 1),\n",
       " ('COCO_train2014_000000537412', 1),\n",
       " ('COCO_train2014_000000063166', 1),\n",
       " ('COCO_train2014_000000516205', 1),\n",
       " ('COCO_train2014_000000182968', 1),\n",
       " ('COCO_train2014_000000255124', 1),\n",
       " ('COCO_train2014_000000535526', 1),\n",
       " ('COCO_train2014_000000107072', 1),\n",
       " ('COCO_train2014_000000443693', 1),\n",
       " ('COCO_train2014_000000183844', 1),\n",
       " ('COCO_train2014_000000024980', 1),\n",
       " ('COCO_train2014_000000551746', 1),\n",
       " ('COCO_train2014_000000081416', 1),\n",
       " ('COCO_train2014_000000036783', 1),\n",
       " ('COCO_train2014_000000046356', 1),\n",
       " ('COCO_train2014_000000395830', 1),\n",
       " ('COCO_train2014_000000192357', 1),\n",
       " ('COCO_train2014_000000068206', 1),\n",
       " ('COCO_train2014_000000103427', 1),\n",
       " ('COCO_train2014_000000109835', 1),\n",
       " ('COCO_train2014_000000283757', 1),\n",
       " ('COCO_train2014_000000161818', 1),\n",
       " ('COCO_train2014_000000248002', 1),\n",
       " ('COCO_train2014_000000441263', 1),\n",
       " ('COCO_train2014_000000149878', 1),\n",
       " ('COCO_train2014_000000467674', 1),\n",
       " ('COCO_train2014_000000546021', 1),\n",
       " ('COCO_train2014_000000494622', 1),\n",
       " ('COCO_train2014_000000514725', 1),\n",
       " ('COCO_train2014_000000030163', 1),\n",
       " ('COCO_train2014_000000490099', 1),\n",
       " ('COCO_train2014_000000235168', 1),\n",
       " ('COCO_train2014_000000370945', 1),\n",
       " ('COCO_train2014_000000081476', 1),\n",
       " ('COCO_train2014_000000239654', 1),\n",
       " ('COCO_train2014_000000040449', 1),\n",
       " ('COCO_train2014_000000045230', 1),\n",
       " ('COCO_train2014_000000262099', 1),\n",
       " ('COCO_train2014_000000201714', 1),\n",
       " ('COCO_train2014_000000385626', 1),\n",
       " ('COCO_train2014_000000035248', 1),\n",
       " ('COCO_train2014_000000379105', 1),\n",
       " ('COCO_train2014_000000528108', 1),\n",
       " ('COCO_train2014_000000437774', 1),\n",
       " ('COCO_train2014_000000000897', 1),\n",
       " ('COCO_train2014_000000287512', 1),\n",
       " ('COCO_train2014_000000181103', 1),\n",
       " ('COCO_train2014_000000253332', 1),\n",
       " ('COCO_train2014_000000400829', 1),\n",
       " ('COCO_train2014_000000105252', 1),\n",
       " ('COCO_train2014_000000164290', 1),\n",
       " ('COCO_train2014_000000539617', 1),\n",
       " ('COCO_train2014_000000447574', 1),\n",
       " ('COCO_train2014_000000140284', 1),\n",
       " ('COCO_train2014_000000042804', 1),\n",
       " ('COCO_train2014_000000013169', 1),\n",
       " ('COCO_train2014_000000222659', 1),\n",
       " ('COCO_train2014_000000240057', 1),\n",
       " ('COCO_train2014_000000039686', 1),\n",
       " ('COCO_train2014_000000459152', 1),\n",
       " ('COCO_train2014_000000501299', 1),\n",
       " ('COCO_train2014_000000545071', 1),\n",
       " ('COCO_train2014_000000116831', 1),\n",
       " ('COCO_train2014_000000096466', 1),\n",
       " ('COCO_train2014_000000078656', 1),\n",
       " ('COCO_train2014_000000544623', 1),\n",
       " ('COCO_train2014_000000425944', 1),\n",
       " ('COCO_train2014_000000065345', 1),\n",
       " ('COCO_train2014_000000163716', 1),\n",
       " ('COCO_train2014_000000330696', 1),\n",
       " ('COCO_train2014_000000492286', 1),\n",
       " ('COCO_train2014_000000413585', 1),\n",
       " ('COCO_train2014_000000112228', 1),\n",
       " ('COCO_train2014_000000475984', 1),\n",
       " ('COCO_train2014_000000368827', 1),\n",
       " ('COCO_train2014_000000336580', 1),\n",
       " ('COCO_train2014_000000409722', 1),\n",
       " ('COCO_train2014_000000526098', 1),\n",
       " ('COCO_train2014_000000148480', 1),\n",
       " ('COCO_train2014_000000183882', 1),\n",
       " ('COCO_train2014_000000441523', 1),\n",
       " ('COCO_train2014_000000561594', 1),\n",
       " ('COCO_train2014_000000407047', 1),\n",
       " ('COCO_train2014_000000377044', 1),\n",
       " ('COCO_train2014_000000544913', 1),\n",
       " ('COCO_train2014_000000466378', 1),\n",
       " ('COCO_train2014_000000011487', 1),\n",
       " ('COCO_train2014_000000099539', 1),\n",
       " ('COCO_train2014_000000570215', 1),\n",
       " ('COCO_train2014_000000456949', 1),\n",
       " ('COCO_train2014_000000078307', 1),\n",
       " ('COCO_train2014_000000547422', 1),\n",
       " ('COCO_train2014_000000082622', 1),\n",
       " ('COCO_train2014_000000119904', 1),\n",
       " ('COCO_train2014_000000529624', 1),\n",
       " ('COCO_train2014_000000362555', 1),\n",
       " ('COCO_train2014_000000133874', 1),\n",
       " ('COCO_train2014_000000558303', 1),\n",
       " ('COCO_train2014_000000193977', 1),\n",
       " ('COCO_train2014_000000390943', 1),\n",
       " ('COCO_train2014_000000425187', 1),\n",
       " ('COCO_train2014_000000117497', 1),\n",
       " ('COCO_train2014_000000247504', 1),\n",
       " ('COCO_train2014_000000397353', 1),\n",
       " ('COCO_train2014_000000347736', 1),\n",
       " ('COCO_train2014_000000045524', 1),\n",
       " ('COCO_train2014_000000025115', 1),\n",
       " ('COCO_train2014_000000422064', 1),\n",
       " ('COCO_train2014_000000311637', 1),\n",
       " ('COCO_train2014_000000378896', 1),\n",
       " ('COCO_train2014_000000427610', 1),\n",
       " ('COCO_train2014_000000130070', 1),\n",
       " ('COCO_train2014_000000384070', 1),\n",
       " ('COCO_train2014_000000526514', 1),\n",
       " ('COCO_train2014_000000005294', 1),\n",
       " ('COCO_train2014_000000394964', 1),\n",
       " ('COCO_train2014_000000526663', 1),\n",
       " ('COCO_train2014_000000378214', 1),\n",
       " ('COCO_train2014_000000404533', 1),\n",
       " ('COCO_train2014_000000516167', 1),\n",
       " ('COCO_train2014_000000464856', 1),\n",
       " ('COCO_train2014_000000049643', 1),\n",
       " ('COCO_train2014_000000557659', 1),\n",
       " ('COCO_train2014_000000250434', 1),\n",
       " ('COCO_train2014_000000328898', 1),\n",
       " ('COCO_train2014_000000473590', 1),\n",
       " ('COCO_train2014_000000047221', 1),\n",
       " ('COCO_train2014_000000066737', 1),\n",
       " ('COCO_train2014_000000492243', 1),\n",
       " ('COCO_train2014_000000211570', 1),\n",
       " ('COCO_train2014_000000331629', 1),\n",
       " ('COCO_train2014_000000179770', 1),\n",
       " ('COCO_train2014_000000535898', 1),\n",
       " ('COCO_train2014_000000451842', 1),\n",
       " ('COCO_train2014_000000065135', 1),\n",
       " ('COCO_train2014_000000492648', 1),\n",
       " ('COCO_train2014_000000217118', 1),\n",
       " ('COCO_train2014_000000002258', 1),\n",
       " ('COCO_train2014_000000436070', 1),\n",
       " ('COCO_train2014_000000466591', 1),\n",
       " ('COCO_train2014_000000081810', 1),\n",
       " ('COCO_train2014_000000546723', 1),\n",
       " ('COCO_train2014_000000061400', 1),\n",
       " ('COCO_train2014_000000204321', 1),\n",
       " ('COCO_train2014_000000136943', 1),\n",
       " ('COCO_train2014_000000087217', 1),\n",
       " ('COCO_train2014_000000292730', 1),\n",
       " ('COCO_train2014_000000079146', 1),\n",
       " ('COCO_train2014_000000234162', 1),\n",
       " ('COCO_train2014_000000034523', 1),\n",
       " ('COCO_train2014_000000417823', 1),\n",
       " ('COCO_train2014_000000175421', 1),\n",
       " ('COCO_train2014_000000442026', 1),\n",
       " ('COCO_train2014_000000532155', 1),\n",
       " ('COCO_train2014_000000049378', 1),\n",
       " ('COCO_train2014_000000258882', 1),\n",
       " ('COCO_train2014_000000157707', 1),\n",
       " ('COCO_train2014_000000575252', 1),\n",
       " ('COCO_train2014_000000086875', 1),\n",
       " ('COCO_train2014_000000077185', 1),\n",
       " ('COCO_train2014_000000392330', 1),\n",
       " ('COCO_train2014_000000186131', 1),\n",
       " ('COCO_train2014_000000118299', 1),\n",
       " ('COCO_train2014_000000076001', 1),\n",
       " ('COCO_train2014_000000478872', 1),\n",
       " ('COCO_train2014_000000355786', 1),\n",
       " ('COCO_train2014_000000136394', 1),\n",
       " ('COCO_train2014_000000146128', 1),\n",
       " ('COCO_train2014_000000003602', 1),\n",
       " ('COCO_train2014_000000169653', 1),\n",
       " ('COCO_train2014_000000256981', 1),\n",
       " ('COCO_train2014_000000555237', 1),\n",
       " ('COCO_train2014_000000146620', 1),\n",
       " ('COCO_train2014_000000111280', 1),\n",
       " ('COCO_train2014_000000552374', 1),\n",
       " ('COCO_train2014_000000194701', 1),\n",
       " ('COCO_train2014_000000275631', 1),\n",
       " ('COCO_train2014_000000376988', 1),\n",
       " ('COCO_train2014_000000233647', 1),\n",
       " ('COCO_train2014_000000079258', 1),\n",
       " ('COCO_train2014_000000498782', 1),\n",
       " ('COCO_train2014_000000301427', 1),\n",
       " ('COCO_train2014_000000063263', 1),\n",
       " ('COCO_train2014_000000401688', 1),\n",
       " ('COCO_train2014_000000039455', 1),\n",
       " ('COCO_train2014_000000265114', 1),\n",
       " ('COCO_train2014_000000073892', 1),\n",
       " ('COCO_train2014_000000400134', 1),\n",
       " ('COCO_train2014_000000328853', 1),\n",
       " ('COCO_train2014_000000514666', 1),\n",
       " ('COCO_train2014_000000522946', 1),\n",
       " ('COCO_train2014_000000014546', 1),\n",
       " ('COCO_train2014_000000483305', 1),\n",
       " ('COCO_train2014_000000481885', 1),\n",
       " ('COCO_train2014_000000568455', 1),\n",
       " ('COCO_train2014_000000488889', 1),\n",
       " ('COCO_train2014_000000447511', 1),\n",
       " ('COCO_train2014_000000320217', 1),\n",
       " ('COCO_train2014_000000426778', 1),\n",
       " ('COCO_train2014_000000559652', 1),\n",
       " ('COCO_train2014_000000486002', 1),\n",
       " ('COCO_train2014_000000463665', 1),\n",
       " ('COCO_train2014_000000129722', 1),\n",
       " ('COCO_train2014_000000357837', 1),\n",
       " ('COCO_train2014_000000270234', 1),\n",
       " ('COCO_train2014_000000306554', 1),\n",
       " ('COCO_train2014_000000569747', 1),\n",
       " ('COCO_train2014_000000293233', 1),\n",
       " ('COCO_train2014_000000047544', 1),\n",
       " ('COCO_train2014_000000125693', 1),\n",
       " ('COCO_train2014_000000250920', 1),\n",
       " ('COCO_train2014_000000497622', 1),\n",
       " ('COCO_train2014_000000427069', 1),\n",
       " ('COCO_train2014_000000406807', 1),\n",
       " ('COCO_train2014_000000527073', 1),\n",
       " ('COCO_train2014_000000505713', 1),\n",
       " ('COCO_train2014_000000197029', 1),\n",
       " ('COCO_train2014_000000040938', 1),\n",
       " ('COCO_train2014_000000480464', 1),\n",
       " ('COCO_train2014_000000204505', 1),\n",
       " ('COCO_train2014_000000160259', 1),\n",
       " ('COCO_train2014_000000065448', 1),\n",
       " ('COCO_train2014_000000166069', 1),\n",
       " ('COCO_train2014_000000151731', 1),\n",
       " ('COCO_train2014_000000098549', 1),\n",
       " ('COCO_train2014_000000237538', 1),\n",
       " ('COCO_train2014_000000367260', 1),\n",
       " ('COCO_train2014_000000280808', 1),\n",
       " ('COCO_train2014_000000062216', 1),\n",
       " ('COCO_train2014_000000314064', 1),\n",
       " ('COCO_train2014_000000471558', 1),\n",
       " ('COCO_train2014_000000527624', 1),\n",
       " ('COCO_train2014_000000519356', 1),\n",
       " ('COCO_train2014_000000089147', 1),\n",
       " ('COCO_train2014_000000553038', 1),\n",
       " ('COCO_train2014_000000411475', 1),\n",
       " ('COCO_train2014_000000421689', 1),\n",
       " ('COCO_train2014_000000303992', 1),\n",
       " ('COCO_train2014_000000202522', 1),\n",
       " ('COCO_train2014_000000359917', 1),\n",
       " ('COCO_train2014_000000281288', 1),\n",
       " ('COCO_train2014_000000452457', 1),\n",
       " ('COCO_train2014_000000496977', 1),\n",
       " ('COCO_train2014_000000264699', 1),\n",
       " ('COCO_train2014_000000516799', 1),\n",
       " ('COCO_train2014_000000487824', 1),\n",
       " ('COCO_train2014_000000341963', 1),\n",
       " ('COCO_train2014_000000458931', 1),\n",
       " ('COCO_train2014_000000529532', 1),\n",
       " ('COCO_train2014_000000167863', 1),\n",
       " ('COCO_train2014_000000033488', 1),\n",
       " ('COCO_train2014_000000310450', 1),\n",
       " ('COCO_train2014_000000319594', 1),\n",
       " ('COCO_train2014_000000141160', 1),\n",
       " ('COCO_train2014_000000269847', 1),\n",
       " ('COCO_train2014_000000069809', 1),\n",
       " ('COCO_train2014_000000461445', 1),\n",
       " ('COCO_train2014_000000250223', 1),\n",
       " ('COCO_train2014_000000393086', 1),\n",
       " ('COCO_train2014_000000517632', 1),\n",
       " ('COCO_train2014_000000304384', 1),\n",
       " ('COCO_train2014_000000225709', 1),\n",
       " ('COCO_train2014_000000277292', 1),\n",
       " ('COCO_train2014_000000387105', 1),\n",
       " ('COCO_train2014_000000307552', 1),\n",
       " ('COCO_train2014_000000453096', 1),\n",
       " ('COCO_train2014_000000083219', 1),\n",
       " ('COCO_train2014_000000430610', 1),\n",
       " ('COCO_train2014_000000541702', 1),\n",
       " ('COCO_train2014_000000018661', 1),\n",
       " ('COCO_train2014_000000561082', 1),\n",
       " ('COCO_train2014_000000418935', 1),\n",
       " ('COCO_train2014_000000105605', 1),\n",
       " ('COCO_train2014_000000088499', 1),\n",
       " ('COCO_train2014_000000031434', 1),\n",
       " ('COCO_train2014_000000314378', 1),\n",
       " ('COCO_train2014_000000292763', 1),\n",
       " ('COCO_train2014_000000375802', 1),\n",
       " ('COCO_train2014_000000049495', 1),\n",
       " ('COCO_train2014_000000464616', 1),\n",
       " ('COCO_train2014_000000473372', 1),\n",
       " ('COCO_train2014_000000173198', 1),\n",
       " ('COCO_train2014_000000293086', 1),\n",
       " ('COCO_train2014_000000294084', 1),\n",
       " ('COCO_train2014_000000025784', 1),\n",
       " ('COCO_train2014_000000237385', 1),\n",
       " ('COCO_train2014_000000465213', 1),\n",
       " ('COCO_train2014_000000016556', 1),\n",
       " ('COCO_train2014_000000181413', 1),\n",
       " ('COCO_train2014_000000046580', 1),\n",
       " ('COCO_train2014_000000353997', 1),\n",
       " ('COCO_train2014_000000571774', 1),\n",
       " ('COCO_train2014_000000040930', 1),\n",
       " ('COCO_train2014_000000203989', 1),\n",
       " ('COCO_train2014_000000449238', 1),\n",
       " ('COCO_train2014_000000201419', 1),\n",
       " ('COCO_train2014_000000188510', 1),\n",
       " ('COCO_train2014_000000307280', 1),\n",
       " ('COCO_train2014_000000444235', 1),\n",
       " ('COCO_train2014_000000548702', 1),\n",
       " ('COCO_train2014_000000318528', 1),\n",
       " ('COCO_train2014_000000369631', 1),\n",
       " ('COCO_train2014_000000164569', 1),\n",
       " ('COCO_train2014_000000152299', 1),\n",
       " ('COCO_train2014_000000155162', 1),\n",
       " ('COCO_train2014_000000437994', 1),\n",
       " ('COCO_train2014_000000499913', 1),\n",
       " ('COCO_train2014_000000432762', 1),\n",
       " ('COCO_train2014_000000542444', 1),\n",
       " ('COCO_train2014_000000422336', 1),\n",
       " ('COCO_train2014_000000147568', 1),\n",
       " ('COCO_train2014_000000494678', 1),\n",
       " ('COCO_train2014_000000078286', 1),\n",
       " ('COCO_train2014_000000034645', 1),\n",
       " ('COCO_train2014_000000437605', 1),\n",
       " ('COCO_train2014_000000355458', 1),\n",
       " ('COCO_train2014_000000228876', 1),\n",
       " ('COCO_train2014_000000213405', 1),\n",
       " ('COCO_train2014_000000327191', 1),\n",
       " ('COCO_train2014_000000529780', 1),\n",
       " ('COCO_train2014_000000279089', 1),\n",
       " ('COCO_train2014_000000414555', 1),\n",
       " ('COCO_train2014_000000269827', 1),\n",
       " ('COCO_train2014_000000214800', 1),\n",
       " ('COCO_train2014_000000291321', 1),\n",
       " ('COCO_train2014_000000225645', 1),\n",
       " ('COCO_train2014_000000526922', 1),\n",
       " ('COCO_train2014_000000436410', 1),\n",
       " ('COCO_train2014_000000119799', 1),\n",
       " ('COCO_train2014_000000061819', 1),\n",
       " ('COCO_train2014_000000424536', 1),\n",
       " ('COCO_train2014_000000380447', 1),\n",
       " ('COCO_train2014_000000206841', 1),\n",
       " ('COCO_train2014_000000465204', 1),\n",
       " ('COCO_train2014_000000011326', 1),\n",
       " ('COCO_train2014_000000197663', 1),\n",
       " ('COCO_train2014_000000451036', 1),\n",
       " ('COCO_train2014_000000333066', 1),\n",
       " ('COCO_train2014_000000053131', 1),\n",
       " ('COCO_train2014_000000196205', 1),\n",
       " ('COCO_train2014_000000515053', 1),\n",
       " ('COCO_train2014_000000013468', 1),\n",
       " ('COCO_train2014_000000442154', 1),\n",
       " ('COCO_train2014_000000023803', 1),\n",
       " ('COCO_train2014_000000432598', 1),\n",
       " ('COCO_train2014_000000179753', 1),\n",
       " ('COCO_train2014_000000157424', 1),\n",
       " ('COCO_train2014_000000251860', 1),\n",
       " ('COCO_train2014_000000556112', 1),\n",
       " ('COCO_train2014_000000118081', 1),\n",
       " ('COCO_train2014_000000220989', 1),\n",
       " ('COCO_train2014_000000334352', 1),\n",
       " ('COCO_train2014_000000359897', 1),\n",
       " ('COCO_train2014_000000210861', 1),\n",
       " ('COCO_train2014_000000293489', 1),\n",
       " ('COCO_train2014_000000560254', 1),\n",
       " ('COCO_train2014_000000005312', 1),\n",
       " ('COCO_train2014_000000267126', 1),\n",
       " ('COCO_train2014_000000029096', 1),\n",
       " ('COCO_train2014_000000431696', 1),\n",
       " ('COCO_train2014_000000343066', 1),\n",
       " ('COCO_train2014_000000273081', 1),\n",
       " ('COCO_train2014_000000491400', 1),\n",
       " ('COCO_train2014_000000115911', 1),\n",
       " ('COCO_train2014_000000115917', 1),\n",
       " ('COCO_train2014_000000322095', 1),\n",
       " ('COCO_train2014_000000379064', 1),\n",
       " ('COCO_train2014_000000276365', 1),\n",
       " ('COCO_train2014_000000506965', 1),\n",
       " ('COCO_train2014_000000335860', 1),\n",
       " ('COCO_train2014_000000351404', 1),\n",
       " ('COCO_train2014_000000265544', 1),\n",
       " ('COCO_train2014_000000513744', 1),\n",
       " ('COCO_train2014_000000477636', 1),\n",
       " ('COCO_train2014_000000026132', 1),\n",
       " ('COCO_train2014_000000012567', 1),\n",
       " ('COCO_train2014_000000051281', 1),\n",
       " ('COCO_train2014_000000482940', 1),\n",
       " ('COCO_train2014_000000243846', 1),\n",
       " ('COCO_train2014_000000477475', 1),\n",
       " ('COCO_train2014_000000012428', 1),\n",
       " ('COCO_train2014_000000183321', 1),\n",
       " ('COCO_train2014_000000122834', 1),\n",
       " ('COCO_train2014_000000392474', 1),\n",
       " ('COCO_train2014_000000491229', 1),\n",
       " ('COCO_train2014_000000569827', 1),\n",
       " ('COCO_train2014_000000097311', 1),\n",
       " ('COCO_train2014_000000445621', 1),\n",
       " ('COCO_train2014_000000050429', 1),\n",
       " ('COCO_train2014_000000186906', 1),\n",
       " ('COCO_train2014_000000079021', 1),\n",
       " ('COCO_train2014_000000463625', 1),\n",
       " ('COCO_train2014_000000042756', 1),\n",
       " ('COCO_train2014_000000540321', 1),\n",
       " ('COCO_train2014_000000557387', 1),\n",
       " ('COCO_train2014_000000506136', 1),\n",
       " ('COCO_train2014_000000277688', 1),\n",
       " ('COCO_train2014_000000489028', 1),\n",
       " ('COCO_train2014_000000443243', 1),\n",
       " ('COCO_train2014_000000176403', 1),\n",
       " ('COCO_train2014_000000320234', 1),\n",
       " ('COCO_train2014_000000462067', 1),\n",
       " ('COCO_train2014_000000360185', 1),\n",
       " ('COCO_train2014_000000323720', 1),\n",
       " ('COCO_train2014_000000553501', 1),\n",
       " ('COCO_train2014_000000564031', 1),\n",
       " ('COCO_train2014_000000472432', 1),\n",
       " ('COCO_train2014_000000388381', 1),\n",
       " ('COCO_train2014_000000088382', 1),\n",
       " ('COCO_train2014_000000506327', 1),\n",
       " ('COCO_train2014_000000011635', 1),\n",
       " ('COCO_train2014_000000335565', 1),\n",
       " ('COCO_train2014_000000547100', 1),\n",
       " ('COCO_train2014_000000176392', 1),\n",
       " ('COCO_train2014_000000086221', 1),\n",
       " ('COCO_train2014_000000238070', 1),\n",
       " ('COCO_train2014_000000371090', 1),\n",
       " ('COCO_train2014_000000071907', 1),\n",
       " ('COCO_train2014_000000343256', 1),\n",
       " ('COCO_train2014_000000356068', 1),\n",
       " ('COCO_train2014_000000052472', 1),\n",
       " ('COCO_train2014_000000531459', 1),\n",
       " ('COCO_train2014_000000529580', 1),\n",
       " ('COCO_train2014_000000310416', 1),\n",
       " ('COCO_train2014_000000517549', 1),\n",
       " ('COCO_train2014_000000358874', 1),\n",
       " ('COCO_train2014_000000551900', 1),\n",
       " ('COCO_train2014_000000068183', 1),\n",
       " ('COCO_train2014_000000113310', 1),\n",
       " ('COCO_train2014_000000428018', 1),\n",
       " ('COCO_train2014_000000427618', 1),\n",
       " ('COCO_train2014_000000299704', 1),\n",
       " ('COCO_train2014_000000042698', 1),\n",
       " ('COCO_train2014_000000072370', 1),\n",
       " ('COCO_train2014_000000127743', 1),\n",
       " ('COCO_train2014_000000300684', 1),\n",
       " ('COCO_train2014_000000463830', 1),\n",
       " ('COCO_train2014_000000184669', 1),\n",
       " ('COCO_train2014_000000023176', 1),\n",
       " ('COCO_train2014_000000007539', 1),\n",
       " ('COCO_train2014_000000554688', 1),\n",
       " ('COCO_train2014_000000159525', 1),\n",
       " ('COCO_train2014_000000099229', 1),\n",
       " ('COCO_train2014_000000477136', 1),\n",
       " ('COCO_train2014_000000160910', 1),\n",
       " ('COCO_train2014_000000557948', 1),\n",
       " ('COCO_train2014_000000482251', 1),\n",
       " ('COCO_train2014_000000269680', 1),\n",
       " ('COCO_train2014_000000429635', 1),\n",
       " ('COCO_train2014_000000418394', 1),\n",
       " ('COCO_train2014_000000292912', 1),\n",
       " ('COCO_train2014_000000118459', 1),\n",
       " ('COCO_train2014_000000503212', 1),\n",
       " ('COCO_train2014_000000361359', 1),\n",
       " ('COCO_train2014_000000473765', 1),\n",
       " ('COCO_train2014_000000521923', 1),\n",
       " ('COCO_train2014_000000398051', 1),\n",
       " ('COCO_train2014_000000085383', 1),\n",
       " ('COCO_train2014_000000283329', 1),\n",
       " ('COCO_train2014_000000544117', 1),\n",
       " ('COCO_train2014_000000325503', 1),\n",
       " ('COCO_train2014_000000325206', 1),\n",
       " ('COCO_train2014_000000055085', 1),\n",
       " ('COCO_train2014_000000196049', 1),\n",
       " ('COCO_train2014_000000190407', 1),\n",
       " ('COCO_train2014_000000539977', 1),\n",
       " ('COCO_train2014_000000341206', 1),\n",
       " ('COCO_train2014_000000572993', 1),\n",
       " ('COCO_train2014_000000493626', 1),\n",
       " ('COCO_train2014_000000266165', 1),\n",
       " ('COCO_train2014_000000167683', 1),\n",
       " ('COCO_train2014_000000447883', 1),\n",
       " ('COCO_train2014_000000019136', 1),\n",
       " ('COCO_train2014_000000462944', 1),\n",
       " ('COCO_train2014_000000576776', 1),\n",
       " ('COCO_train2014_000000210368', 1),\n",
       " ('COCO_train2014_000000018935', 1),\n",
       " ('COCO_train2014_000000538737', 1),\n",
       " ('COCO_train2014_000000343403', 1),\n",
       " ('COCO_train2014_000000513551', 1),\n",
       " ('COCO_train2014_000000391460', 1),\n",
       " ('COCO_train2014_000000409979', 1),\n",
       " ('COCO_train2014_000000391018', 1),\n",
       " ('COCO_train2014_000000049886', 1),\n",
       " ('COCO_train2014_000000039548', 1),\n",
       " ('COCO_train2014_000000112395', 1),\n",
       " ('COCO_train2014_000000580120', 1),\n",
       " ('COCO_train2014_000000472329', 1),\n",
       " ('COCO_train2014_000000529117', 1),\n",
       " ('COCO_train2014_000000489195', 1),\n",
       " ('COCO_train2014_000000482196', 1),\n",
       " ('COCO_train2014_000000388500', 1),\n",
       " ('COCO_train2014_000000396212', 1),\n",
       " ('COCO_train2014_000000038117', 1),\n",
       " ('COCO_train2014_000000340081', 1),\n",
       " ('COCO_train2014_000000476113', 1),\n",
       " ('COCO_train2014_000000223599', 1),\n",
       " ('COCO_train2014_000000019665', 1),\n",
       " ('COCO_train2014_000000220376', 1),\n",
       " ('COCO_train2014_000000336569', 1),\n",
       " ('COCO_train2014_000000375869', 1),\n",
       " ('COCO_train2014_000000273088', 1),\n",
       " ('COCO_train2014_000000042228', 1),\n",
       " ('COCO_train2014_000000400536', 1),\n",
       " ('COCO_train2014_000000235651', 1),\n",
       " ('COCO_train2014_000000441228', 1),\n",
       " ('COCO_train2014_000000447879', 1),\n",
       " ('COCO_train2014_000000456161', 1),\n",
       " ('COCO_train2014_000000390864', 1),\n",
       " ('COCO_train2014_000000318598', 1),\n",
       " ('COCO_train2014_000000407139', 1),\n",
       " ('COCO_train2014_000000451482', 1),\n",
       " ('COCO_train2014_000000513881', 1),\n",
       " ('COCO_train2014_000000229622', 1),\n",
       " ('COCO_train2014_000000243214', 1),\n",
       " ('COCO_train2014_000000182906', 1),\n",
       " ('COCO_train2014_000000424665', 1),\n",
       " ('COCO_train2014_000000287718', 1),\n",
       " ('COCO_train2014_000000210731', 1),\n",
       " ('COCO_train2014_000000465220', 1),\n",
       " ('COCO_train2014_000000210205', 1),\n",
       " ('COCO_train2014_000000467273', 1),\n",
       " ('COCO_train2014_000000448439', 1),\n",
       " ('COCO_train2014_000000184477', 1),\n",
       " ('COCO_train2014_000000466710', 1),\n",
       " ('COCO_train2014_000000312286', 1),\n",
       " ('COCO_train2014_000000573482', 1),\n",
       " ('COCO_train2014_000000079498', 1),\n",
       " ('COCO_train2014_000000012422', 1),\n",
       " ('COCO_train2014_000000519234', 1),\n",
       " ('COCO_train2014_000000371735', 1),\n",
       " ('COCO_train2014_000000053330', 1),\n",
       " ('COCO_train2014_000000536760', 1),\n",
       " ('COCO_train2014_000000209040', 1),\n",
       " ('COCO_train2014_000000303540', 1),\n",
       " ('COCO_train2014_000000064602', 1),\n",
       " ('COCO_train2014_000000478306', 1),\n",
       " ('COCO_train2014_000000366417', 1),\n",
       " ('COCO_train2014_000000128351', 1),\n",
       " ('COCO_train2014_000000454155', 1),\n",
       " ('COCO_train2014_000000578231', 1),\n",
       " ('COCO_train2014_000000251504', 1),\n",
       " ('COCO_train2014_000000319197', 1),\n",
       " ('COCO_train2014_000000536039', 1),\n",
       " ('COCO_train2014_000000173843', 1),\n",
       " ('COCO_train2014_000000223481', 1),\n",
       " ('COCO_train2014_000000390073', 1),\n",
       " ('COCO_train2014_000000507196', 1),\n",
       " ('COCO_train2014_000000249261', 1),\n",
       " ('COCO_train2014_000000131015', 1),\n",
       " ('COCO_train2014_000000552297', 1),\n",
       " ('COCO_train2014_000000218647', 1),\n",
       " ('COCO_train2014_000000538682', 1),\n",
       " ('COCO_train2014_000000382032', 1),\n",
       " ('COCO_train2014_000000030437', 1),\n",
       " ('COCO_train2014_000000238709', 1),\n",
       " ('COCO_train2014_000000357877', 1),\n",
       " ('COCO_train2014_000000326065', 1),\n",
       " ('COCO_train2014_000000055199', 1),\n",
       " ('COCO_train2014_000000200550', 1),\n",
       " ('COCO_train2014_000000007510', 1),\n",
       " ('COCO_train2014_000000062652', 1),\n",
       " ('COCO_train2014_000000007921', 1),\n",
       " ('COCO_train2014_000000253515', 1),\n",
       " ('COCO_train2014_000000522243', 1),\n",
       " ('COCO_train2014_000000522195', 1),\n",
       " ('COCO_train2014_000000470036', 1),\n",
       " ('COCO_train2014_000000008630', 1),\n",
       " ('COCO_train2014_000000365329', 1),\n",
       " ('COCO_train2014_000000118140', 1),\n",
       " ('COCO_train2014_000000553659', 1),\n",
       " ('COCO_train2014_000000274801', 1),\n",
       " ('COCO_train2014_000000226363', 1),\n",
       " ('COCO_train2014_000000214726', 1),\n",
       " ('COCO_train2014_000000140984', 1),\n",
       " ('COCO_train2014_000000049424', 1),\n",
       " ('COCO_train2014_000000483646', 1),\n",
       " ('COCO_train2014_000000417350', 1),\n",
       " ('COCO_train2014_000000019980', 1),\n",
       " ('COCO_train2014_000000373294', 1),\n",
       " ('COCO_train2014_000000384412', 1),\n",
       " ('COCO_train2014_000000214008', 1),\n",
       " ('COCO_train2014_000000030276', 1),\n",
       " ('COCO_train2014_000000413360', 1),\n",
       " ('COCO_train2014_000000147883', 1),\n",
       " ('COCO_train2014_000000143538', 1),\n",
       " ('COCO_train2014_000000018683', 1),\n",
       " ('COCO_train2014_000000407369', 1),\n",
       " ('COCO_train2014_000000193011', 1),\n",
       " ('COCO_train2014_000000175781', 1),\n",
       " ('COCO_train2014_000000436830', 1),\n",
       " ('COCO_train2014_000000539844', 1),\n",
       " ('COCO_train2014_000000500675', 1),\n",
       " ('COCO_train2014_000000455015', 1),\n",
       " ('COCO_train2014_000000411645', 1),\n",
       " ('COCO_train2014_000000015249', 1),\n",
       " ('COCO_train2014_000000549184', 1),\n",
       " ('COCO_train2014_000000088780', 1),\n",
       " ('COCO_train2014_000000043425', 1),\n",
       " ('COCO_train2014_000000005215', 1),\n",
       " ('COCO_train2014_000000404163', 1),\n",
       " ('COCO_train2014_000000327921', 1),\n",
       " ('COCO_train2014_000000373015', 1),\n",
       " ('COCO_train2014_000000002415', 1),\n",
       " ('COCO_train2014_000000287841', 1),\n",
       " ('COCO_train2014_000000278347', 1),\n",
       " ('COCO_train2014_000000277470', 1),\n",
       " ('COCO_train2014_000000009738', 1),\n",
       " ('COCO_train2014_000000274685', 1),\n",
       " ('COCO_train2014_000000037174', 1),\n",
       " ('COCO_train2014_000000429829', 1),\n",
       " ('COCO_train2014_000000514628', 1),\n",
       " ('COCO_train2014_000000315994', 1),\n",
       " ('COCO_train2014_000000452619', 1),\n",
       " ('COCO_train2014_000000298050', 1),\n",
       " ('COCO_train2014_000000485614', 1),\n",
       " ('COCO_train2014_000000306681', 1),\n",
       " ('COCO_train2014_000000568237', 1),\n",
       " ('COCO_train2014_000000245209', 1),\n",
       " ('COCO_train2014_000000464903', 1),\n",
       " ('COCO_train2014_000000139240', 1),\n",
       " ('COCO_train2014_000000174909', 1),\n",
       " ('COCO_train2014_000000047388', 1),\n",
       " ('COCO_train2014_000000151581', 1),\n",
       " ('COCO_train2014_000000287360', 1),\n",
       " ('COCO_train2014_000000080566', 1),\n",
       " ('COCO_train2014_000000318525', 1),\n",
       " ('COCO_train2014_000000170207', 1),\n",
       " ('COCO_train2014_000000558424', 1),\n",
       " ('COCO_train2014_000000183957', 1),\n",
       " ('COCO_train2014_000000054541', 1),\n",
       " ('COCO_train2014_000000522233', 1),\n",
       " ('COCO_train2014_000000034816', 1),\n",
       " ('COCO_train2014_000000580434', 1),\n",
       " ('COCO_train2014_000000260347', 1),\n",
       " ('COCO_train2014_000000297607', 1),\n",
       " ('COCO_train2014_000000539675', 1),\n",
       " ('COCO_train2014_000000318245', 1),\n",
       " ('COCO_train2014_000000357904', 1),\n",
       " ('COCO_train2014_000000252702', 1),\n",
       " ('COCO_train2014_000000468826', 1),\n",
       " ('COCO_train2014_000000004180', 1),\n",
       " ('COCO_train2014_000000429573', 1),\n",
       " ('COCO_train2014_000000081135', 1),\n",
       " ('COCO_train2014_000000080472', 1),\n",
       " ('COCO_train2014_000000469142', 1),\n",
       " ('COCO_train2014_000000042166', 1),\n",
       " ('COCO_train2014_000000250225', 1),\n",
       " ('COCO_train2014_000000106025', 1),\n",
       " ('COCO_train2014_000000014960', 1),\n",
       " ('COCO_train2014_000000357584', 1),\n",
       " ('COCO_train2014_000000377868', 1),\n",
       " ('COCO_train2014_000000483070', 1),\n",
       " ('COCO_train2014_000000121782', 1),\n",
       " ('COCO_train2014_000000459793', 1),\n",
       " ('COCO_train2014_000000198119', 1),\n",
       " ('COCO_train2014_000000524679', 1),\n",
       " ('COCO_train2014_000000462129', 1),\n",
       " ('COCO_train2014_000000546651', 1),\n",
       " ('COCO_train2014_000000534448', 1),\n",
       " ('COCO_train2014_000000168954', 1),\n",
       " ('COCO_train2014_000000225986', 1),\n",
       " ('COCO_train2014_000000374282', 1),\n",
       " ('COCO_train2014_000000443308', 1),\n",
       " ('COCO_train2014_000000044039', 1),\n",
       " ('COCO_train2014_000000415571', 1),\n",
       " ('COCO_train2014_000000045829', 1),\n",
       " ('COCO_train2014_000000571867', 1),\n",
       " ('COCO_train2014_000000337265', 1),\n",
       " ('COCO_train2014_000000438429', 1),\n",
       " ('COCO_train2014_000000421134', 1),\n",
       " ('COCO_train2014_000000140940', 1),\n",
       " ('COCO_train2014_000000342688', 1),\n",
       " ('COCO_train2014_000000087642', 1),\n",
       " ('COCO_train2014_000000451825', 1),\n",
       " ('COCO_train2014_000000509210', 1),\n",
       " ('COCO_train2014_000000374357', 1),\n",
       " ('COCO_train2014_000000178849', 1),\n",
       " ('COCO_train2014_000000001036', 1),\n",
       " ('COCO_train2014_000000560563', 1),\n",
       " ('COCO_train2014_000000440244', 1),\n",
       " ('COCO_train2014_000000217378', 1),\n",
       " ('COCO_train2014_000000052562', 1),\n",
       " ('COCO_train2014_000000285570', 1),\n",
       " ('COCO_train2014_000000409706', 1),\n",
       " ('COCO_train2014_000000451160', 1),\n",
       " ('COCO_train2014_000000152781', 1),\n",
       " ('COCO_train2014_000000288547', 1),\n",
       " ('COCO_train2014_000000387605', 1),\n",
       " ('COCO_train2014_000000372788', 1),\n",
       " ('COCO_train2014_000000535891', 1),\n",
       " ('COCO_train2014_000000399332', 1),\n",
       " ('COCO_train2014_000000431077', 1),\n",
       " ('COCO_train2014_000000268065', 1),\n",
       " ('COCO_train2014_000000183224', 1),\n",
       " ('COCO_train2014_000000311031', 1),\n",
       " ('COCO_train2014_000000320159', 1),\n",
       " ('COCO_train2014_000000265329', 1),\n",
       " ('COCO_train2014_000000379143', 1),\n",
       " ('COCO_train2014_000000523571', 1),\n",
       " ('COCO_train2014_000000470207', 1),\n",
       " ('COCO_train2014_000000187268', 1),\n",
       " ('COCO_train2014_000000188826', 1),\n",
       " ('COCO_train2014_000000085349', 1),\n",
       " ('COCO_train2014_000000398858', 1),\n",
       " ('COCO_train2014_000000439531', 1),\n",
       " ('COCO_train2014_000000420215', 1),\n",
       " ('COCO_train2014_000000253265', 1),\n",
       " ('COCO_train2014_000000492729', 1),\n",
       " ('COCO_train2014_000000321592', 1),\n",
       " ('COCO_train2014_000000286645', 1),\n",
       " ('COCO_train2014_000000361477', 1),\n",
       " ('COCO_train2014_000000546575', 1),\n",
       " ('COCO_train2014_000000007455', 1),\n",
       " ('COCO_train2014_000000040201', 1),\n",
       " ('COCO_train2014_000000429559', 1),\n",
       " ('COCO_train2014_000000068636', 1),\n",
       " ('COCO_train2014_000000027175', 1),\n",
       " ('COCO_train2014_000000312958', 1),\n",
       " ('COCO_train2014_000000094884', 1),\n",
       " ('COCO_train2014_000000468428', 1),\n",
       " ('COCO_train2014_000000542146', 1),\n",
       " ('COCO_train2014_000000033869', 1),\n",
       " ('COCO_train2014_000000108802', 1),\n",
       " ('COCO_train2014_000000538640', 1),\n",
       " ('COCO_train2014_000000535141', 1),\n",
       " ('COCO_train2014_000000547082', 1),\n",
       " ('COCO_train2014_000000287572', 1),\n",
       " ('COCO_train2014_000000063886', 1),\n",
       " ('COCO_train2014_000000462987', 1),\n",
       " ('COCO_train2014_000000239144', 1),\n",
       " ('COCO_train2014_000000551877', 1),\n",
       " ('COCO_train2014_000000547827', 1),\n",
       " ('COCO_train2014_000000581766', 1),\n",
       " ('COCO_train2014_000000071122', 1),\n",
       " ('COCO_train2014_000000408995', 1),\n",
       " ('COCO_train2014_000000369321', 1),\n",
       " ('COCO_train2014_000000454898', 1),\n",
       " ('COCO_train2014_000000144353', 1),\n",
       " ('COCO_train2014_000000450608', 1),\n",
       " ('COCO_train2014_000000534925', 1),\n",
       " ('COCO_train2014_000000489914', 1),\n",
       " ('COCO_train2014_000000455370', 1),\n",
       " ('COCO_train2014_000000325833', 1),\n",
       " ('COCO_train2014_000000479720', 1),\n",
       " ('COCO_train2014_000000117494', 1),\n",
       " ('COCO_train2014_000000332311', 1),\n",
       " ('COCO_train2014_000000133436', 1),\n",
       " ('COCO_train2014_000000184223', 1),\n",
       " ('COCO_train2014_000000283393', 1),\n",
       " ('COCO_train2014_000000448461', 1),\n",
       " ('COCO_train2014_000000325387', 1),\n",
       " ('COCO_train2014_000000023405', 1),\n",
       " ('COCO_train2014_000000123184', 1),\n",
       " ('COCO_train2014_000000460296', 1),\n",
       " ('COCO_train2014_000000385108', 1),\n",
       " ('COCO_train2014_000000105280', 1),\n",
       " ('COCO_train2014_000000258890', 1),\n",
       " ('COCO_train2014_000000421315', 1),\n",
       " ('COCO_train2014_000000461844', 1),\n",
       " ('COCO_train2014_000000388980', 1),\n",
       " ('COCO_train2014_000000284247', 1),\n",
       " ('COCO_train2014_000000377578', 1),\n",
       " ('COCO_train2014_000000017180', 1),\n",
       " ('COCO_train2014_000000169003', 1),\n",
       " ('COCO_train2014_000000423502', 1),\n",
       " ...]"
      ]
     },
     "execution_count": 5,
     "metadata": {},
     "output_type": "execute_result"
    }
   ],
   "source": [
    "sorted(Counter(okvqa['full'].image_name).items(), key=lambda x: x[1], reverse=True)"
   ]
  },
  {
   "cell_type": "markdown",
   "id": "4b6e6ce8",
   "metadata": {},
   "source": [
    "## 2) Object detection on Images\n",
    "\n",
    "We will analyze the images by applying an object detection model to each image and then analyzing the item content of images. For simplicity, we use a pretrained Faster-RCNN object detection model with a ResNet50 structure for object detection, as it is similar to how we model the VQA task. The code is taken with inspiration from [here.](https://haochen23.github.io/2020/04/object-detection-faster-rcnn.html#.YksEji0Ykb0)"
   ]
  },
  {
   "cell_type": "code",
   "execution_count": 77,
   "id": "a13b1085",
   "metadata": {},
   "outputs": [
    {
     "data": {
      "text/plain": [
       "FasterRCNN(\n",
       "  (transform): GeneralizedRCNNTransform(\n",
       "      Normalize(mean=[0.485, 0.456, 0.406], std=[0.229, 0.224, 0.225])\n",
       "      Resize(min_size=(800,), max_size=1333, mode='bilinear')\n",
       "  )\n",
       "  (backbone): BackboneWithFPN(\n",
       "    (body): IntermediateLayerGetter(\n",
       "      (conv1): Conv2d(3, 64, kernel_size=(7, 7), stride=(2, 2), padding=(3, 3), bias=False)\n",
       "      (bn1): FrozenBatchNorm2d(64, eps=0.0)\n",
       "      (relu): ReLU(inplace=True)\n",
       "      (maxpool): MaxPool2d(kernel_size=3, stride=2, padding=1, dilation=1, ceil_mode=False)\n",
       "      (layer1): Sequential(\n",
       "        (0): Bottleneck(\n",
       "          (conv1): Conv2d(64, 64, kernel_size=(1, 1), stride=(1, 1), bias=False)\n",
       "          (bn1): FrozenBatchNorm2d(64, eps=0.0)\n",
       "          (conv2): Conv2d(64, 64, kernel_size=(3, 3), stride=(1, 1), padding=(1, 1), bias=False)\n",
       "          (bn2): FrozenBatchNorm2d(64, eps=0.0)\n",
       "          (conv3): Conv2d(64, 256, kernel_size=(1, 1), stride=(1, 1), bias=False)\n",
       "          (bn3): FrozenBatchNorm2d(256, eps=0.0)\n",
       "          (relu): ReLU(inplace=True)\n",
       "          (downsample): Sequential(\n",
       "            (0): Conv2d(64, 256, kernel_size=(1, 1), stride=(1, 1), bias=False)\n",
       "            (1): FrozenBatchNorm2d(256, eps=0.0)\n",
       "          )\n",
       "        )\n",
       "        (1): Bottleneck(\n",
       "          (conv1): Conv2d(256, 64, kernel_size=(1, 1), stride=(1, 1), bias=False)\n",
       "          (bn1): FrozenBatchNorm2d(64, eps=0.0)\n",
       "          (conv2): Conv2d(64, 64, kernel_size=(3, 3), stride=(1, 1), padding=(1, 1), bias=False)\n",
       "          (bn2): FrozenBatchNorm2d(64, eps=0.0)\n",
       "          (conv3): Conv2d(64, 256, kernel_size=(1, 1), stride=(1, 1), bias=False)\n",
       "          (bn3): FrozenBatchNorm2d(256, eps=0.0)\n",
       "          (relu): ReLU(inplace=True)\n",
       "        )\n",
       "        (2): Bottleneck(\n",
       "          (conv1): Conv2d(256, 64, kernel_size=(1, 1), stride=(1, 1), bias=False)\n",
       "          (bn1): FrozenBatchNorm2d(64, eps=0.0)\n",
       "          (conv2): Conv2d(64, 64, kernel_size=(3, 3), stride=(1, 1), padding=(1, 1), bias=False)\n",
       "          (bn2): FrozenBatchNorm2d(64, eps=0.0)\n",
       "          (conv3): Conv2d(64, 256, kernel_size=(1, 1), stride=(1, 1), bias=False)\n",
       "          (bn3): FrozenBatchNorm2d(256, eps=0.0)\n",
       "          (relu): ReLU(inplace=True)\n",
       "        )\n",
       "      )\n",
       "      (layer2): Sequential(\n",
       "        (0): Bottleneck(\n",
       "          (conv1): Conv2d(256, 128, kernel_size=(1, 1), stride=(1, 1), bias=False)\n",
       "          (bn1): FrozenBatchNorm2d(128, eps=0.0)\n",
       "          (conv2): Conv2d(128, 128, kernel_size=(3, 3), stride=(2, 2), padding=(1, 1), bias=False)\n",
       "          (bn2): FrozenBatchNorm2d(128, eps=0.0)\n",
       "          (conv3): Conv2d(128, 512, kernel_size=(1, 1), stride=(1, 1), bias=False)\n",
       "          (bn3): FrozenBatchNorm2d(512, eps=0.0)\n",
       "          (relu): ReLU(inplace=True)\n",
       "          (downsample): Sequential(\n",
       "            (0): Conv2d(256, 512, kernel_size=(1, 1), stride=(2, 2), bias=False)\n",
       "            (1): FrozenBatchNorm2d(512, eps=0.0)\n",
       "          )\n",
       "        )\n",
       "        (1): Bottleneck(\n",
       "          (conv1): Conv2d(512, 128, kernel_size=(1, 1), stride=(1, 1), bias=False)\n",
       "          (bn1): FrozenBatchNorm2d(128, eps=0.0)\n",
       "          (conv2): Conv2d(128, 128, kernel_size=(3, 3), stride=(1, 1), padding=(1, 1), bias=False)\n",
       "          (bn2): FrozenBatchNorm2d(128, eps=0.0)\n",
       "          (conv3): Conv2d(128, 512, kernel_size=(1, 1), stride=(1, 1), bias=False)\n",
       "          (bn3): FrozenBatchNorm2d(512, eps=0.0)\n",
       "          (relu): ReLU(inplace=True)\n",
       "        )\n",
       "        (2): Bottleneck(\n",
       "          (conv1): Conv2d(512, 128, kernel_size=(1, 1), stride=(1, 1), bias=False)\n",
       "          (bn1): FrozenBatchNorm2d(128, eps=0.0)\n",
       "          (conv2): Conv2d(128, 128, kernel_size=(3, 3), stride=(1, 1), padding=(1, 1), bias=False)\n",
       "          (bn2): FrozenBatchNorm2d(128, eps=0.0)\n",
       "          (conv3): Conv2d(128, 512, kernel_size=(1, 1), stride=(1, 1), bias=False)\n",
       "          (bn3): FrozenBatchNorm2d(512, eps=0.0)\n",
       "          (relu): ReLU(inplace=True)\n",
       "        )\n",
       "        (3): Bottleneck(\n",
       "          (conv1): Conv2d(512, 128, kernel_size=(1, 1), stride=(1, 1), bias=False)\n",
       "          (bn1): FrozenBatchNorm2d(128, eps=0.0)\n",
       "          (conv2): Conv2d(128, 128, kernel_size=(3, 3), stride=(1, 1), padding=(1, 1), bias=False)\n",
       "          (bn2): FrozenBatchNorm2d(128, eps=0.0)\n",
       "          (conv3): Conv2d(128, 512, kernel_size=(1, 1), stride=(1, 1), bias=False)\n",
       "          (bn3): FrozenBatchNorm2d(512, eps=0.0)\n",
       "          (relu): ReLU(inplace=True)\n",
       "        )\n",
       "      )\n",
       "      (layer3): Sequential(\n",
       "        (0): Bottleneck(\n",
       "          (conv1): Conv2d(512, 256, kernel_size=(1, 1), stride=(1, 1), bias=False)\n",
       "          (bn1): FrozenBatchNorm2d(256, eps=0.0)\n",
       "          (conv2): Conv2d(256, 256, kernel_size=(3, 3), stride=(2, 2), padding=(1, 1), bias=False)\n",
       "          (bn2): FrozenBatchNorm2d(256, eps=0.0)\n",
       "          (conv3): Conv2d(256, 1024, kernel_size=(1, 1), stride=(1, 1), bias=False)\n",
       "          (bn3): FrozenBatchNorm2d(1024, eps=0.0)\n",
       "          (relu): ReLU(inplace=True)\n",
       "          (downsample): Sequential(\n",
       "            (0): Conv2d(512, 1024, kernel_size=(1, 1), stride=(2, 2), bias=False)\n",
       "            (1): FrozenBatchNorm2d(1024, eps=0.0)\n",
       "          )\n",
       "        )\n",
       "        (1): Bottleneck(\n",
       "          (conv1): Conv2d(1024, 256, kernel_size=(1, 1), stride=(1, 1), bias=False)\n",
       "          (bn1): FrozenBatchNorm2d(256, eps=0.0)\n",
       "          (conv2): Conv2d(256, 256, kernel_size=(3, 3), stride=(1, 1), padding=(1, 1), bias=False)\n",
       "          (bn2): FrozenBatchNorm2d(256, eps=0.0)\n",
       "          (conv3): Conv2d(256, 1024, kernel_size=(1, 1), stride=(1, 1), bias=False)\n",
       "          (bn3): FrozenBatchNorm2d(1024, eps=0.0)\n",
       "          (relu): ReLU(inplace=True)\n",
       "        )\n",
       "        (2): Bottleneck(\n",
       "          (conv1): Conv2d(1024, 256, kernel_size=(1, 1), stride=(1, 1), bias=False)\n",
       "          (bn1): FrozenBatchNorm2d(256, eps=0.0)\n",
       "          (conv2): Conv2d(256, 256, kernel_size=(3, 3), stride=(1, 1), padding=(1, 1), bias=False)\n",
       "          (bn2): FrozenBatchNorm2d(256, eps=0.0)\n",
       "          (conv3): Conv2d(256, 1024, kernel_size=(1, 1), stride=(1, 1), bias=False)\n",
       "          (bn3): FrozenBatchNorm2d(1024, eps=0.0)\n",
       "          (relu): ReLU(inplace=True)\n",
       "        )\n",
       "        (3): Bottleneck(\n",
       "          (conv1): Conv2d(1024, 256, kernel_size=(1, 1), stride=(1, 1), bias=False)\n",
       "          (bn1): FrozenBatchNorm2d(256, eps=0.0)\n",
       "          (conv2): Conv2d(256, 256, kernel_size=(3, 3), stride=(1, 1), padding=(1, 1), bias=False)\n",
       "          (bn2): FrozenBatchNorm2d(256, eps=0.0)\n",
       "          (conv3): Conv2d(256, 1024, kernel_size=(1, 1), stride=(1, 1), bias=False)\n",
       "          (bn3): FrozenBatchNorm2d(1024, eps=0.0)\n",
       "          (relu): ReLU(inplace=True)\n",
       "        )\n",
       "        (4): Bottleneck(\n",
       "          (conv1): Conv2d(1024, 256, kernel_size=(1, 1), stride=(1, 1), bias=False)\n",
       "          (bn1): FrozenBatchNorm2d(256, eps=0.0)\n",
       "          (conv2): Conv2d(256, 256, kernel_size=(3, 3), stride=(1, 1), padding=(1, 1), bias=False)\n",
       "          (bn2): FrozenBatchNorm2d(256, eps=0.0)\n",
       "          (conv3): Conv2d(256, 1024, kernel_size=(1, 1), stride=(1, 1), bias=False)\n",
       "          (bn3): FrozenBatchNorm2d(1024, eps=0.0)\n",
       "          (relu): ReLU(inplace=True)\n",
       "        )\n",
       "        (5): Bottleneck(\n",
       "          (conv1): Conv2d(1024, 256, kernel_size=(1, 1), stride=(1, 1), bias=False)\n",
       "          (bn1): FrozenBatchNorm2d(256, eps=0.0)\n",
       "          (conv2): Conv2d(256, 256, kernel_size=(3, 3), stride=(1, 1), padding=(1, 1), bias=False)\n",
       "          (bn2): FrozenBatchNorm2d(256, eps=0.0)\n",
       "          (conv3): Conv2d(256, 1024, kernel_size=(1, 1), stride=(1, 1), bias=False)\n",
       "          (bn3): FrozenBatchNorm2d(1024, eps=0.0)\n",
       "          (relu): ReLU(inplace=True)\n",
       "        )\n",
       "      )\n",
       "      (layer4): Sequential(\n",
       "        (0): Bottleneck(\n",
       "          (conv1): Conv2d(1024, 512, kernel_size=(1, 1), stride=(1, 1), bias=False)\n",
       "          (bn1): FrozenBatchNorm2d(512, eps=0.0)\n",
       "          (conv2): Conv2d(512, 512, kernel_size=(3, 3), stride=(2, 2), padding=(1, 1), bias=False)\n",
       "          (bn2): FrozenBatchNorm2d(512, eps=0.0)\n",
       "          (conv3): Conv2d(512, 2048, kernel_size=(1, 1), stride=(1, 1), bias=False)\n",
       "          (bn3): FrozenBatchNorm2d(2048, eps=0.0)\n",
       "          (relu): ReLU(inplace=True)\n",
       "          (downsample): Sequential(\n",
       "            (0): Conv2d(1024, 2048, kernel_size=(1, 1), stride=(2, 2), bias=False)\n",
       "            (1): FrozenBatchNorm2d(2048, eps=0.0)\n",
       "          )\n",
       "        )\n",
       "        (1): Bottleneck(\n",
       "          (conv1): Conv2d(2048, 512, kernel_size=(1, 1), stride=(1, 1), bias=False)\n",
       "          (bn1): FrozenBatchNorm2d(512, eps=0.0)\n",
       "          (conv2): Conv2d(512, 512, kernel_size=(3, 3), stride=(1, 1), padding=(1, 1), bias=False)\n",
       "          (bn2): FrozenBatchNorm2d(512, eps=0.0)\n",
       "          (conv3): Conv2d(512, 2048, kernel_size=(1, 1), stride=(1, 1), bias=False)\n",
       "          (bn3): FrozenBatchNorm2d(2048, eps=0.0)\n",
       "          (relu): ReLU(inplace=True)\n",
       "        )\n",
       "        (2): Bottleneck(\n",
       "          (conv1): Conv2d(2048, 512, kernel_size=(1, 1), stride=(1, 1), bias=False)\n",
       "          (bn1): FrozenBatchNorm2d(512, eps=0.0)\n",
       "          (conv2): Conv2d(512, 512, kernel_size=(3, 3), stride=(1, 1), padding=(1, 1), bias=False)\n",
       "          (bn2): FrozenBatchNorm2d(512, eps=0.0)\n",
       "          (conv3): Conv2d(512, 2048, kernel_size=(1, 1), stride=(1, 1), bias=False)\n",
       "          (bn3): FrozenBatchNorm2d(2048, eps=0.0)\n",
       "          (relu): ReLU(inplace=True)\n",
       "        )\n",
       "      )\n",
       "    )\n",
       "    (fpn): FeaturePyramidNetwork(\n",
       "      (inner_blocks): ModuleList(\n",
       "        (0): Conv2d(256, 256, kernel_size=(1, 1), stride=(1, 1))\n",
       "        (1): Conv2d(512, 256, kernel_size=(1, 1), stride=(1, 1))\n",
       "        (2): Conv2d(1024, 256, kernel_size=(1, 1), stride=(1, 1))\n",
       "        (3): Conv2d(2048, 256, kernel_size=(1, 1), stride=(1, 1))\n",
       "      )\n",
       "      (layer_blocks): ModuleList(\n",
       "        (0): Conv2d(256, 256, kernel_size=(3, 3), stride=(1, 1), padding=(1, 1))\n",
       "        (1): Conv2d(256, 256, kernel_size=(3, 3), stride=(1, 1), padding=(1, 1))\n",
       "        (2): Conv2d(256, 256, kernel_size=(3, 3), stride=(1, 1), padding=(1, 1))\n",
       "        (3): Conv2d(256, 256, kernel_size=(3, 3), stride=(1, 1), padding=(1, 1))\n",
       "      )\n",
       "      (extra_blocks): LastLevelMaxPool()\n",
       "    )\n",
       "  )\n",
       "  (rpn): RegionProposalNetwork(\n",
       "    (anchor_generator): AnchorGenerator()\n",
       "    (head): RPNHead(\n",
       "      (conv): Conv2d(256, 256, kernel_size=(3, 3), stride=(1, 1), padding=(1, 1))\n",
       "      (cls_logits): Conv2d(256, 3, kernel_size=(1, 1), stride=(1, 1))\n",
       "      (bbox_pred): Conv2d(256, 12, kernel_size=(1, 1), stride=(1, 1))\n",
       "    )\n",
       "  )\n",
       "  (roi_heads): RoIHeads(\n",
       "    (box_roi_pool): MultiScaleRoIAlign(featmap_names=['0', '1', '2', '3'], output_size=(7, 7), sampling_ratio=2)\n",
       "    (box_head): TwoMLPHead(\n",
       "      (fc6): Linear(in_features=12544, out_features=1024, bias=True)\n",
       "      (fc7): Linear(in_features=1024, out_features=1024, bias=True)\n",
       "    )\n",
       "    (box_predictor): FastRCNNPredictor(\n",
       "      (cls_score): Linear(in_features=1024, out_features=91, bias=True)\n",
       "      (bbox_pred): Linear(in_features=1024, out_features=364, bias=True)\n",
       "    )\n",
       "  )\n",
       ")"
      ]
     },
     "execution_count": 77,
     "metadata": {},
     "output_type": "execute_result"
    }
   ],
   "source": [
    "# load model\n",
    "model = torchvision.models.detection.fasterrcnn_resnet50_fpn(pretrained=True)\n",
    "# set to evaluation mode\n",
    "model.eval()"
   ]
  },
  {
   "cell_type": "markdown",
   "id": "2f482d0f",
   "metadata": {},
   "source": [
    "We show an example of the object detection before applying it \"blindly\" to all images in the OKVQA dataset."
   ]
  },
  {
   "cell_type": "code",
   "execution_count": 9,
   "id": "3db54d57",
   "metadata": {
    "scrolled": false
   },
   "outputs": [],
   "source": [
    "filename = image_names[0]\n",
    "\n",
    "# show detected objects\n",
    "detect_object(model, filename, confidence=0.7)#, figsize=(10,15))"
   ]
  },
  {
   "cell_type": "markdown",
   "id": "59834d5f",
   "metadata": {},
   "source": [
    "Now we apply the object detection model on all images in the OKVQA dataset. This is done with a threshold of 70% certainty of the object."
   ]
  },
  {
   "cell_type": "code",
   "execution_count": 9,
   "id": "8e56778d",
   "metadata": {},
   "outputs": [],
   "source": [
    "image_names = image_names[:5]"
   ]
  },
  {
   "cell_type": "code",
   "execution_count": 10,
   "id": "8da3b3d9",
   "metadata": {},
   "outputs": [
    {
     "data": {
      "application/vnd.jupyter.widget-view+json": {
       "model_id": "b793c2aede5f420c97aa1ed302c452a6",
       "version_major": 2,
       "version_minor": 0
      },
      "text/plain": [
       "HBox(children=(FloatProgress(value=0.0, max=5.0), HTML(value='')))"
      ]
     },
     "metadata": {},
     "output_type": "display_data"
    },
    {
     "name": "stdout",
     "output_type": "stream",
     "text": [
      "\n"
     ]
    }
   ],
   "source": [
    "image_labels = {}\n",
    "for filename in tqdm(image_names):\n",
    "    # predict / detect objects in image\n",
    "    _, pred_class = get_prediction(model, filename, confidence=0.7)\n",
    "    \n",
    "    # save labels\n",
    "    img_name = filename.split(os.sep)[-1].split(\".\")[0]\n",
    "    image_labels[img_name] = pred_class\n"
   ]
  },
  {
   "cell_type": "code",
   "execution_count": null,
   "id": "16f29fea",
   "metadata": {},
   "outputs": [],
   "source": [
    "image_items = [image_labels.get(name, []) for name in tqdm(okvqa['full'].image_name)]\n",
    "okvqa['full']['image_objects'] = image_items"
   ]
  },
  {
   "cell_type": "markdown",
   "id": "93c2d595",
   "metadata": {},
   "source": [
    "Save the dataframe for later use!"
   ]
  },
  {
   "cell_type": "code",
   "execution_count": 73,
   "id": "65847fb2",
   "metadata": {},
   "outputs": [],
   "source": [
    "okvqa['full'].to_json(f'data/OKVQA_object_{str(datetime.now())}.json')"
   ]
  },
  {
   "cell_type": "markdown",
   "id": "f245a738",
   "metadata": {},
   "source": [
    "## 3) Load pre-defined data"
   ]
  },
  {
   "cell_type": "code",
   "execution_count": 6,
   "id": "c00c1a3b",
   "metadata": {},
   "outputs": [
    {
     "data": {
      "text/html": [
       "<div>\n",
       "<style scoped>\n",
       "    .dataframe tbody tr th:only-of-type {\n",
       "        vertical-align: middle;\n",
       "    }\n",
       "\n",
       "    .dataframe tbody tr th {\n",
       "        vertical-align: top;\n",
       "    }\n",
       "\n",
       "    .dataframe thead th {\n",
       "        text-align: right;\n",
       "    }\n",
       "</style>\n",
       "<table border=\"1\" class=\"dataframe\">\n",
       "  <thead>\n",
       "    <tr style=\"text-align: right;\">\n",
       "      <th></th>\n",
       "      <th>image_id</th>\n",
       "      <th>question_id</th>\n",
       "      <th>answer_type</th>\n",
       "      <th>question_type</th>\n",
       "      <th>confidence</th>\n",
       "      <th>question_str</th>\n",
       "      <th>question_tokens</th>\n",
       "      <th>all_answers</th>\n",
       "      <th>answers</th>\n",
       "      <th>image_name</th>\n",
       "      <th>feature_path</th>\n",
       "      <th>annotator_agreement_cos</th>\n",
       "      <th>image_objects</th>\n",
       "    </tr>\n",
       "  </thead>\n",
       "  <tbody>\n",
       "    <tr>\n",
       "      <th>0</th>\n",
       "      <td>51606</td>\n",
       "      <td>516065</td>\n",
       "      <td>other</td>\n",
       "      <td>four</td>\n",
       "      <td>3</td>\n",
       "      <td>What is the hairstyle of the blond called?</td>\n",
       "      <td>[what, is, the, hairstyle, of, the, blond, cal...</td>\n",
       "      <td>[pony tail, pony tail, pony tail, pony tail, p...</td>\n",
       "      <td>[pony tail, pony tail, pony tail, pony tail, p...</td>\n",
       "      <td>COCO_train2014_000000051606</td>\n",
       "      <td>COCO_train2014_000000051606.npy</td>\n",
       "      <td>0.977160</td>\n",
       "      <td>[person, person, tennis racket, chair]</td>\n",
       "    </tr>\n",
       "    <tr>\n",
       "      <th>1</th>\n",
       "      <td>81721</td>\n",
       "      <td>817215</td>\n",
       "      <td>other</td>\n",
       "      <td>seven</td>\n",
       "      <td>5</td>\n",
       "      <td>How old do you have to be in canada to do this?</td>\n",
       "      <td>[how, old, do, you, have, to, be, in, canada, ...</td>\n",
       "      <td>[18, 18, 18, 18, 18, 18, 18, 18, 18, 18]</td>\n",
       "      <td>[18, 18, 18, 18, 18, 18, 18, 18, 18, 18]</td>\n",
       "      <td>COCO_train2014_000000081721</td>\n",
       "      <td>COCO_train2014_000000081721.npy</td>\n",
       "      <td>NaN</td>\n",
       "      <td>[person, wine glass, person, wine glass, perso...</td>\n",
       "    </tr>\n",
       "    <tr>\n",
       "      <th>2</th>\n",
       "      <td>480208</td>\n",
       "      <td>4802085</td>\n",
       "      <td>other</td>\n",
       "      <td>four</td>\n",
       "      <td>2</td>\n",
       "      <td>Can you guess the place where the man is playing?</td>\n",
       "      <td>[can, you, guess, the, place, where, the, man,...</td>\n",
       "      <td>[aspen, aspen, mountain, mountain, mountain, m...</td>\n",
       "      <td>[aspen, aspen, mountain, mountain, mountain, m...</td>\n",
       "      <td>COCO_train2014_000000480208</td>\n",
       "      <td>COCO_train2014_000000480208.npy</td>\n",
       "      <td>0.974979</td>\n",
       "      <td>[person, backpack, skis]</td>\n",
       "    </tr>\n",
       "    <tr>\n",
       "      <th>3</th>\n",
       "      <td>570618</td>\n",
       "      <td>5706185</td>\n",
       "      <td>other</td>\n",
       "      <td>one</td>\n",
       "      <td>2</td>\n",
       "      <td>Which rail company is named after a town in ne...</td>\n",
       "      <td>[which, rail, company, is, named, after, a, to...</td>\n",
       "      <td>[santa fe, santa fe, santa fe, santa fe, new e...</td>\n",
       "      <td>[santa fe, santa fe, santa fe, santa fe, new e...</td>\n",
       "      <td>COCO_train2014_000000570618</td>\n",
       "      <td>COCO_train2014_000000570618.npy</td>\n",
       "      <td>0.960305</td>\n",
       "      <td>[train]</td>\n",
       "    </tr>\n",
       "    <tr>\n",
       "      <th>4</th>\n",
       "      <td>478903</td>\n",
       "      <td>4789035</td>\n",
       "      <td>other</td>\n",
       "      <td>seven</td>\n",
       "      <td>2</td>\n",
       "      <td>Is the boy swimming or doing another water act...</td>\n",
       "      <td>[is, the, boy, swimming, or, doing, another, w...</td>\n",
       "      <td>[another activity, another activity, another a...</td>\n",
       "      <td>[another activity, another activity, another a...</td>\n",
       "      <td>COCO_train2014_000000478903</td>\n",
       "      <td>COCO_train2014_000000478903.npy</td>\n",
       "      <td>0.955901</td>\n",
       "      <td>[person, surfboard]</td>\n",
       "    </tr>\n",
       "  </tbody>\n",
       "</table>\n",
       "</div>"
      ],
      "text/plain": [
       "   image_id  question_id answer_type question_type  confidence  \\\n",
       "0     51606       516065       other          four           3   \n",
       "1     81721       817215       other         seven           5   \n",
       "2    480208      4802085       other          four           2   \n",
       "3    570618      5706185       other           one           2   \n",
       "4    478903      4789035       other         seven           2   \n",
       "\n",
       "                                        question_str  \\\n",
       "0         What is the hairstyle of the blond called?   \n",
       "1    How old do you have to be in canada to do this?   \n",
       "2  Can you guess the place where the man is playing?   \n",
       "3  Which rail company is named after a town in ne...   \n",
       "4  Is the boy swimming or doing another water act...   \n",
       "\n",
       "                                     question_tokens  \\\n",
       "0  [what, is, the, hairstyle, of, the, blond, cal...   \n",
       "1  [how, old, do, you, have, to, be, in, canada, ...   \n",
       "2  [can, you, guess, the, place, where, the, man,...   \n",
       "3  [which, rail, company, is, named, after, a, to...   \n",
       "4  [is, the, boy, swimming, or, doing, another, w...   \n",
       "\n",
       "                                         all_answers  \\\n",
       "0  [pony tail, pony tail, pony tail, pony tail, p...   \n",
       "1           [18, 18, 18, 18, 18, 18, 18, 18, 18, 18]   \n",
       "2  [aspen, aspen, mountain, mountain, mountain, m...   \n",
       "3  [santa fe, santa fe, santa fe, santa fe, new e...   \n",
       "4  [another activity, another activity, another a...   \n",
       "\n",
       "                                             answers  \\\n",
       "0  [pony tail, pony tail, pony tail, pony tail, p...   \n",
       "1           [18, 18, 18, 18, 18, 18, 18, 18, 18, 18]   \n",
       "2  [aspen, aspen, mountain, mountain, mountain, m...   \n",
       "3  [santa fe, santa fe, santa fe, santa fe, new e...   \n",
       "4  [another activity, another activity, another a...   \n",
       "\n",
       "                    image_name                     feature_path  \\\n",
       "0  COCO_train2014_000000051606  COCO_train2014_000000051606.npy   \n",
       "1  COCO_train2014_000000081721  COCO_train2014_000000081721.npy   \n",
       "2  COCO_train2014_000000480208  COCO_train2014_000000480208.npy   \n",
       "3  COCO_train2014_000000570618  COCO_train2014_000000570618.npy   \n",
       "4  COCO_train2014_000000478903  COCO_train2014_000000478903.npy   \n",
       "\n",
       "   annotator_agreement_cos                                      image_objects  \n",
       "0                 0.977160             [person, person, tennis racket, chair]  \n",
       "1                      NaN  [person, wine glass, person, wine glass, perso...  \n",
       "2                 0.974979                           [person, backpack, skis]  \n",
       "3                 0.960305                                            [train]  \n",
       "4                 0.955901                                [person, surfboard]  "
      ]
     },
     "execution_count": 6,
     "metadata": {},
     "output_type": "execute_result"
    }
   ],
   "source": [
    "# path to okvqa dataset (from text-investigation)\n",
    "filename = 'OKVQA_object.json'\n",
    "data_path = Path(os.getcwd()) / 'data'\n",
    "\n",
    "okvqa = {}\n",
    "okvqa['full'] = pd.read_json(data_path/filename)\n",
    "okvqa['full'].head()"
   ]
  },
  {
   "cell_type": "code",
   "execution_count": 7,
   "id": "19670e19",
   "metadata": {},
   "outputs": [
    {
     "data": {
      "text/plain": [
       "(14055, 13)"
      ]
     },
     "execution_count": 7,
     "metadata": {},
     "output_type": "execute_result"
    }
   ],
   "source": [
    "okvqa['full'].shape"
   ]
  },
  {
   "cell_type": "markdown",
   "id": "28e8298e",
   "metadata": {},
   "source": [
    "We check whether there are certain images where the object detection model did not find any objects - if so, they are removed from the further analyses. "
   ]
  },
  {
   "cell_type": "code",
   "execution_count": 8,
   "id": "d817d43a",
   "metadata": {},
   "outputs": [
    {
     "name": "stdout",
     "output_type": "stream",
     "text": [
      "Number of QA-pairs without clear objects on the image: 172\n"
     ]
    },
    {
     "data": {
      "text/html": [
       "<div>\n",
       "<style scoped>\n",
       "    .dataframe tbody tr th:only-of-type {\n",
       "        vertical-align: middle;\n",
       "    }\n",
       "\n",
       "    .dataframe tbody tr th {\n",
       "        vertical-align: top;\n",
       "    }\n",
       "\n",
       "    .dataframe thead th {\n",
       "        text-align: right;\n",
       "    }\n",
       "</style>\n",
       "<table border=\"1\" class=\"dataframe\">\n",
       "  <thead>\n",
       "    <tr style=\"text-align: right;\">\n",
       "      <th></th>\n",
       "      <th>image_id</th>\n",
       "      <th>question_id</th>\n",
       "      <th>answer_type</th>\n",
       "      <th>question_type</th>\n",
       "      <th>confidence</th>\n",
       "      <th>question_str</th>\n",
       "      <th>question_tokens</th>\n",
       "      <th>all_answers</th>\n",
       "      <th>answers</th>\n",
       "      <th>image_name</th>\n",
       "      <th>feature_path</th>\n",
       "      <th>annotator_agreement_cos</th>\n",
       "      <th>image_objects</th>\n",
       "    </tr>\n",
       "  </thead>\n",
       "  <tbody>\n",
       "    <tr>\n",
       "      <th>0</th>\n",
       "      <td>51606</td>\n",
       "      <td>516065</td>\n",
       "      <td>other</td>\n",
       "      <td>four</td>\n",
       "      <td>3</td>\n",
       "      <td>What is the hairstyle of the blond called?</td>\n",
       "      <td>[what, is, the, hairstyle, of, the, blond, cal...</td>\n",
       "      <td>[pony tail, pony tail, pony tail, pony tail, p...</td>\n",
       "      <td>[pony tail, pony tail, pony tail, pony tail, p...</td>\n",
       "      <td>COCO_train2014_000000051606</td>\n",
       "      <td>COCO_train2014_000000051606.npy</td>\n",
       "      <td>0.977160</td>\n",
       "      <td>[person, person, tennis racket, chair]</td>\n",
       "    </tr>\n",
       "    <tr>\n",
       "      <th>1</th>\n",
       "      <td>81721</td>\n",
       "      <td>817215</td>\n",
       "      <td>other</td>\n",
       "      <td>seven</td>\n",
       "      <td>5</td>\n",
       "      <td>How old do you have to be in canada to do this?</td>\n",
       "      <td>[how, old, do, you, have, to, be, in, canada, ...</td>\n",
       "      <td>[18, 18, 18, 18, 18, 18, 18, 18, 18, 18]</td>\n",
       "      <td>[18, 18, 18, 18, 18, 18, 18, 18, 18, 18]</td>\n",
       "      <td>COCO_train2014_000000081721</td>\n",
       "      <td>COCO_train2014_000000081721.npy</td>\n",
       "      <td>NaN</td>\n",
       "      <td>[person, wine glass, person, wine glass, perso...</td>\n",
       "    </tr>\n",
       "    <tr>\n",
       "      <th>2</th>\n",
       "      <td>480208</td>\n",
       "      <td>4802085</td>\n",
       "      <td>other</td>\n",
       "      <td>four</td>\n",
       "      <td>2</td>\n",
       "      <td>Can you guess the place where the man is playing?</td>\n",
       "      <td>[can, you, guess, the, place, where, the, man,...</td>\n",
       "      <td>[aspen, aspen, mountain, mountain, mountain, m...</td>\n",
       "      <td>[aspen, aspen, mountain, mountain, mountain, m...</td>\n",
       "      <td>COCO_train2014_000000480208</td>\n",
       "      <td>COCO_train2014_000000480208.npy</td>\n",
       "      <td>0.974979</td>\n",
       "      <td>[person, backpack, skis]</td>\n",
       "    </tr>\n",
       "    <tr>\n",
       "      <th>3</th>\n",
       "      <td>570618</td>\n",
       "      <td>5706185</td>\n",
       "      <td>other</td>\n",
       "      <td>one</td>\n",
       "      <td>2</td>\n",
       "      <td>Which rail company is named after a town in ne...</td>\n",
       "      <td>[which, rail, company, is, named, after, a, to...</td>\n",
       "      <td>[santa fe, santa fe, santa fe, santa fe, new e...</td>\n",
       "      <td>[santa fe, santa fe, santa fe, santa fe, new e...</td>\n",
       "      <td>COCO_train2014_000000570618</td>\n",
       "      <td>COCO_train2014_000000570618.npy</td>\n",
       "      <td>0.960305</td>\n",
       "      <td>[train]</td>\n",
       "    </tr>\n",
       "    <tr>\n",
       "      <th>4</th>\n",
       "      <td>478903</td>\n",
       "      <td>4789035</td>\n",
       "      <td>other</td>\n",
       "      <td>seven</td>\n",
       "      <td>2</td>\n",
       "      <td>Is the boy swimming or doing another water act...</td>\n",
       "      <td>[is, the, boy, swimming, or, doing, another, w...</td>\n",
       "      <td>[another activity, another activity, another a...</td>\n",
       "      <td>[another activity, another activity, another a...</td>\n",
       "      <td>COCO_train2014_000000478903</td>\n",
       "      <td>COCO_train2014_000000478903.npy</td>\n",
       "      <td>0.955901</td>\n",
       "      <td>[person, surfboard]</td>\n",
       "    </tr>\n",
       "  </tbody>\n",
       "</table>\n",
       "</div>"
      ],
      "text/plain": [
       "   image_id  question_id answer_type question_type  confidence  \\\n",
       "0     51606       516065       other          four           3   \n",
       "1     81721       817215       other         seven           5   \n",
       "2    480208      4802085       other          four           2   \n",
       "3    570618      5706185       other           one           2   \n",
       "4    478903      4789035       other         seven           2   \n",
       "\n",
       "                                        question_str  \\\n",
       "0         What is the hairstyle of the blond called?   \n",
       "1    How old do you have to be in canada to do this?   \n",
       "2  Can you guess the place where the man is playing?   \n",
       "3  Which rail company is named after a town in ne...   \n",
       "4  Is the boy swimming or doing another water act...   \n",
       "\n",
       "                                     question_tokens  \\\n",
       "0  [what, is, the, hairstyle, of, the, blond, cal...   \n",
       "1  [how, old, do, you, have, to, be, in, canada, ...   \n",
       "2  [can, you, guess, the, place, where, the, man,...   \n",
       "3  [which, rail, company, is, named, after, a, to...   \n",
       "4  [is, the, boy, swimming, or, doing, another, w...   \n",
       "\n",
       "                                         all_answers  \\\n",
       "0  [pony tail, pony tail, pony tail, pony tail, p...   \n",
       "1           [18, 18, 18, 18, 18, 18, 18, 18, 18, 18]   \n",
       "2  [aspen, aspen, mountain, mountain, mountain, m...   \n",
       "3  [santa fe, santa fe, santa fe, santa fe, new e...   \n",
       "4  [another activity, another activity, another a...   \n",
       "\n",
       "                                             answers  \\\n",
       "0  [pony tail, pony tail, pony tail, pony tail, p...   \n",
       "1           [18, 18, 18, 18, 18, 18, 18, 18, 18, 18]   \n",
       "2  [aspen, aspen, mountain, mountain, mountain, m...   \n",
       "3  [santa fe, santa fe, santa fe, santa fe, new e...   \n",
       "4  [another activity, another activity, another a...   \n",
       "\n",
       "                    image_name                     feature_path  \\\n",
       "0  COCO_train2014_000000051606  COCO_train2014_000000051606.npy   \n",
       "1  COCO_train2014_000000081721  COCO_train2014_000000081721.npy   \n",
       "2  COCO_train2014_000000480208  COCO_train2014_000000480208.npy   \n",
       "3  COCO_train2014_000000570618  COCO_train2014_000000570618.npy   \n",
       "4  COCO_train2014_000000478903  COCO_train2014_000000478903.npy   \n",
       "\n",
       "   annotator_agreement_cos                                      image_objects  \n",
       "0                 0.977160             [person, person, tennis racket, chair]  \n",
       "1                      NaN  [person, wine glass, person, wine glass, perso...  \n",
       "2                 0.974979                           [person, backpack, skis]  \n",
       "3                 0.960305                                            [train]  \n",
       "4                 0.955901                                [person, surfboard]  "
      ]
     },
     "execution_count": 8,
     "metadata": {},
     "output_type": "execute_result"
    }
   ],
   "source": [
    "# find images where no objects were detected\n",
    "no_objects = okvqa['full'].image_objects.apply(lambda x: x.__len__() == 0)\n",
    "print(f\"Number of QA-pairs without clear objects on the image: {no_objects.sum()}\")\n",
    "\n",
    "# drop images where no objects were detected\n",
    "okvqa['full'] = okvqa['full'][-no_objects].reset_index().drop('index', axis=1)\n",
    "okvqa['full'].head()"
   ]
  },
  {
   "cell_type": "markdown",
   "id": "9f9108fd",
   "metadata": {},
   "source": [
    "### 3) Analyze Content of Images\n",
    "\n"
   ]
  },
  {
   "cell_type": "code",
   "execution_count": 11,
   "id": "e80f1fd8",
   "metadata": {},
   "outputs": [],
   "source": [
    "# number of objects and unique objects\n",
    "okvqa['full']['num_objects'] = okvqa['full'].image_objects.apply(lambda x: x.__len__())\n",
    "okvqa['full']['unique_objects'] = okvqa['full'].image_objects.apply(lambda x: np.unique(x))\n",
    "okvqa['full']['num_unique'] = okvqa['full'].image_objects.apply(lambda x: np.unique(x).__len__())"
   ]
  },
  {
   "cell_type": "code",
   "execution_count": 62,
   "id": "d4415e29",
   "metadata": {},
   "outputs": [],
   "source": [
    "\n",
    "# define plotting function\n",
    "def LogAndLinearHist(data, xlabel='', figsize=((8,3)), dpi=100):\n",
    "    min_val, max_val = (min(data), max(data))\n",
    "    \n",
    "    # compute bins\n",
    "    log_bins = np.logspace(min_val if min_val == 0 else np.log10(min_val), np.log10(max_val), 31)\n",
    "    lin_bins = np.linspace(min_val, max_val, 31)\n",
    "\n",
    "    # create histogram values\n",
    "    hist_log, edges_log = np.histogram(data.values, log_bins, density=True)\n",
    "    hist_lin, edges_lin = np.histogram(data.values, lin_bins)\n",
    "\n",
    "    # determine x-values\n",
    "    log_x = (edges_log[1:] + edges_log[:-1]) / 2.\n",
    "    lin_x = (edges_lin[1:] + edges_lin[:-1]) / 2.\n",
    "\n",
    "    xx, yy = zip(*[(i,j) for (i,j) in zip(log_x, hist_log) if j > 0])\n",
    "    \n",
    "    # plot figure\n",
    "    fig, ax = plt.subplots(nrows=1, ncols=2, figsize=figsize, dpi=dpi)\n",
    "\n",
    "    # linear scale plot\n",
    "    ax[0].plot(lin_x, hist_lin, marker='.', alpha=0.5)\n",
    "    ax[0].set_xlabel(xlabel)\n",
    "    ax[0].set_ylabel('count')\n",
    "    ax[0].set_title('linear scale')\n",
    "    #ax[0].legend()\n",
    "\n",
    "    # log-log scale plot\n",
    "    ax[1].plot(xx, yy, marker='.', alpha=0.5)\n",
    "    ax[1].set_yscale('log')\n",
    "    ax[1].set_xscale('log')\n",
    "    ax[1].set_xlabel(xlabel)\n",
    "    ax[1].set_ylabel('probability density')\n",
    "    ax[1].set_title('log-log scale')\n",
    "    #ax[1].legend()\n",
    "\n",
    "    # show figure\n",
    "    plt.tight_layout()\n",
    "    plt.show()"
   ]
  },
  {
   "cell_type": "code",
   "execution_count": 58,
   "id": "cd265cdb",
   "metadata": {},
   "outputs": [
    {
     "data": {
      "image/png": "[encoded data removed]",
      "text/plain": [
       "<Figure size 2400x1600 with 1 Axes>"
      ]
     },
     "metadata": {
      "needs_background": "light"
     },
     "output_type": "display_data"
    }
   ],
   "source": [
    "plt.figure(dpi=400)\n",
    "ticks, heights = list(zip(*sorted(Counter(okvqa['full'].num_unique).items(), key=lambda x: x[0])))\n",
    "plt.bar(ticks, heights)\n",
    "plt.xlabel('# of unique objects')\n",
    "plt.show()"
   ]
  },
  {
   "cell_type": "code",
   "execution_count": 63,
   "id": "718890ab",
   "metadata": {},
   "outputs": [
    {
     "data": {
      "image/png": "[encoded data removed]",
      "text/plain": [
       "<Figure size 800x300 with 2 Axes>"
      ]
     },
     "metadata": {
      "needs_background": "light"
     },
     "output_type": "display_data"
    }
   ],
   "source": [
    "LogAndLinearHist(okvqa['full'].num_objects, xlabel='# of objects')"
   ]
  },
  {
   "cell_type": "code",
   "execution_count": null,
   "id": "d97241ec",
   "metadata": {},
   "outputs": [],
   "source": [
    "# SHOW THE IMAGE WITH MOST OBJECTS DETECTED"
   ]
  },
  {
   "cell_type": "code",
   "execution_count": 1,
   "id": "dac7b5f9",
   "metadata": {},
   "outputs": [],
   "source": [
    "filename = okvqa['full'][okvqa['full'].num_objects == 68].image_name.iloc[0]\n",
    "\n",
    "# show detected objects\n",
    "detect_object(model, filename, confidence=0.7)#, figsize=(10,15))"
   ]
  },
  {
   "cell_type": "code",
   "execution_count": 64,
   "id": "ae3ab1bf",
   "metadata": {},
   "outputs": [
    {
     "data": {
      "image/png": "[encoded data removed]",
      "text/plain": [
       "<Figure size 800x300 with 2 Axes>"
      ]
     },
     "metadata": {
      "needs_background": "light"
     },
     "output_type": "display_data"
    },
    {
     "data": {
      "text/html": [
       "<div>\n",
       "<style scoped>\n",
       "    .dataframe tbody tr th:only-of-type {\n",
       "        vertical-align: middle;\n",
       "    }\n",
       "\n",
       "    .dataframe tbody tr th {\n",
       "        vertical-align: top;\n",
       "    }\n",
       "\n",
       "    .dataframe thead th {\n",
       "        text-align: right;\n",
       "    }\n",
       "</style>\n",
       "<table border=\"1\" class=\"dataframe\">\n",
       "  <thead>\n",
       "    <tr style=\"text-align: right;\">\n",
       "      <th></th>\n",
       "      <th>object</th>\n",
       "      <th>count</th>\n",
       "    </tr>\n",
       "  </thead>\n",
       "  <tbody>\n",
       "    <tr>\n",
       "      <th>0</th>\n",
       "      <td>person</td>\n",
       "      <td>31586</td>\n",
       "    </tr>\n",
       "    <tr>\n",
       "      <th>1</th>\n",
       "      <td>car</td>\n",
       "      <td>4909</td>\n",
       "    </tr>\n",
       "    <tr>\n",
       "      <th>2</th>\n",
       "      <td>chair</td>\n",
       "      <td>3614</td>\n",
       "    </tr>\n",
       "    <tr>\n",
       "      <th>3</th>\n",
       "      <td>bottle</td>\n",
       "      <td>2850</td>\n",
       "    </tr>\n",
       "    <tr>\n",
       "      <th>4</th>\n",
       "      <td>book</td>\n",
       "      <td>2542</td>\n",
       "    </tr>\n",
       "    <tr>\n",
       "      <th>...</th>\n",
       "      <td>...</td>\n",
       "      <td>...</td>\n",
       "    </tr>\n",
       "    <tr>\n",
       "      <th>75</th>\n",
       "      <td>microwave</td>\n",
       "      <td>175</td>\n",
       "    </tr>\n",
       "    <tr>\n",
       "      <th>76</th>\n",
       "      <td>fire hydrant</td>\n",
       "      <td>165</td>\n",
       "    </tr>\n",
       "    <tr>\n",
       "      <th>77</th>\n",
       "      <td>parking meter</td>\n",
       "      <td>123</td>\n",
       "    </tr>\n",
       "    <tr>\n",
       "      <th>78</th>\n",
       "      <td>toaster</td>\n",
       "      <td>16</td>\n",
       "    </tr>\n",
       "    <tr>\n",
       "      <th>79</th>\n",
       "      <td>hair drier</td>\n",
       "      <td>5</td>\n",
       "    </tr>\n",
       "  </tbody>\n",
       "</table>\n",
       "<p>80 rows × 2 columns</p>\n",
       "</div>"
      ],
      "text/plain": [
       "           object  count\n",
       "0          person  31586\n",
       "1             car   4909\n",
       "2           chair   3614\n",
       "3          bottle   2850\n",
       "4            book   2542\n",
       "..            ...    ...\n",
       "75      microwave    175\n",
       "76   fire hydrant    165\n",
       "77  parking meter    123\n",
       "78        toaster     16\n",
       "79     hair drier      5\n",
       "\n",
       "[80 rows x 2 columns]"
      ]
     },
     "execution_count": 64,
     "metadata": {},
     "output_type": "execute_result"
    }
   ],
   "source": [
    "all_objects = okvqa['full'].image_objects.apply(pd.Series).stack().reset_index(drop=True)\n",
    "all_objects = pd.DataFrame(sorted(Counter(all_objects).items(), key=lambda x: x[1], reverse=True), columns=['object','count'])\n",
    "\n",
    "LogAndLinearHist(all_objects['count'], xlabel='frequency of detected objects')\n",
    "all_objects"
   ]
  },
  {
   "cell_type": "markdown",
   "id": "55c6f180",
   "metadata": {},
   "source": [
    "Let's try to get some standard infromation about the object, such as the average number of objects on an image, the distribution of number of each unique object-type, etc.."
   ]
  },
  {
   "cell_type": "code",
   "execution_count": 71,
   "id": "25cb8eed",
   "metadata": {},
   "outputs": [
    {
     "data": {
      "application/vnd.plotly.v1+json": {
       "config": {
        "plotlyServerURL": "https://plot.ly"
       },
       "data": [
        {
         "domain": {
          "x": [
           0,
           1
          ],
          "y": [
           0,
           1
          ]
         },
         "hovertemplate": "object=%{label}<br>count=%{value}<extra></extra>",
         "labels": [
          "person",
          "car",
          "chair",
          "bottle",
          "book",
          "cup",
          "dining table",
          "bird",
          "bowl",
          "boat",
          "traffic light",
          "umbrella",
          "banana",
          "broccoli",
          "carrot",
          "donut",
          "truck",
          "potted plant",
          "sheep",
          "motorcycle"
         ],
         "legendgroup": "",
         "name": "",
         "showlegend": true,
         "type": "pie",
         "values": [
          31586,
          4909,
          3614,
          2850,
          2542,
          2489,
          1917,
          1805,
          1803,
          1746,
          1393,
          1300,
          1248,
          1213,
          1207,
          1172,
          1118,
          1058,
          1049,
          1016
         ]
        }
       ],
       "layout": {
        "legend": {
         "tracegroupgap": 0
        },
        "margin": {
         "t": 60
        },
        "template": {
         "data": {
          "bar": [
           {
            "error_x": {
             "color": "#2a3f5f"
            },
            "error_y": {
             "color": "#2a3f5f"
            },
            "marker": {
             "line": {
              "color": "#E5ECF6",
              "width": 0.5
             },
             "pattern": {
              "fillmode": "overlay",
              "size": 10,
              "solidity": 0.2
             }
            },
            "type": "bar"
           }
          ],
          "barpolar": [
           {
            "marker": {
             "line": {
              "color": "#E5ECF6",
              "width": 0.5
             },
             "pattern": {
              "fillmode": "overlay",
              "size": 10,
              "solidity": 0.2
             }
            },
            "type": "barpolar"
           }
          ],
          "carpet": [
           {
            "aaxis": {
             "endlinecolor": "#2a3f5f",
             "gridcolor": "white",
             "linecolor": "white",
             "minorgridcolor": "white",
             "startlinecolor": "#2a3f5f"
            },
            "baxis": {
             "endlinecolor": "#2a3f5f",
             "gridcolor": "white",
             "linecolor": "white",
             "minorgridcolor": "white",
             "startlinecolor": "#2a3f5f"
            },
            "type": "carpet"
           }
          ],
          "choropleth": [
           {
            "colorbar": {
             "outlinewidth": 0,
             "ticks": ""
            },
            "type": "choropleth"
           }
          ],
          "contour": [
           {
            "colorbar": {
             "outlinewidth": 0,
             "ticks": ""
            },
            "colorscale": [
             [
              0,
              "#0d0887"
             ],
             [
              0.1111111111111111,
              "#46039f"
             ],
             [
              0.2222222222222222,
              "#7201a8"
             ],
             [
              0.3333333333333333,
              "#9c179e"
             ],
             [
              0.4444444444444444,
              "#bd3786"
             ],
             [
              0.5555555555555556,
              "#d8576b"
             ],
             [
              0.6666666666666666,
              "#ed7953"
             ],
             [
              0.7777777777777778,
              "#fb9f3a"
             ],
             [
              0.8888888888888888,
              "#fdca26"
             ],
             [
              1,
              "#f0f921"
             ]
            ],
            "type": "contour"
           }
          ],
          "contourcarpet": [
           {
            "colorbar": {
             "outlinewidth": 0,
             "ticks": ""
            },
            "type": "contourcarpet"
           }
          ],
          "heatmap": [
           {
            "colorbar": {
             "outlinewidth": 0,
             "ticks": ""
            },
            "colorscale": [
             [
              0,
              "#0d0887"
             ],
             [
              0.1111111111111111,
              "#46039f"
             ],
             [
              0.2222222222222222,
              "#7201a8"
             ],
             [
              0.3333333333333333,
              "#9c179e"
             ],
             [
              0.4444444444444444,
              "#bd3786"
             ],
             [
              0.5555555555555556,
              "#d8576b"
             ],
             [
              0.6666666666666666,
              "#ed7953"
             ],
             [
              0.7777777777777778,
              "#fb9f3a"
             ],
             [
              0.8888888888888888,
              "#fdca26"
             ],
             [
              1,
              "#f0f921"
             ]
            ],
            "type": "heatmap"
           }
          ],
          "heatmapgl": [
           {
            "colorbar": {
             "outlinewidth": 0,
             "ticks": ""
            },
            "colorscale": [
             [
              0,
              "#0d0887"
             ],
             [
              0.1111111111111111,
              "#46039f"
             ],
             [
              0.2222222222222222,
              "#7201a8"
             ],
             [
              0.3333333333333333,
              "#9c179e"
             ],
             [
              0.4444444444444444,
              "#bd3786"
             ],
             [
              0.5555555555555556,
              "#d8576b"
             ],
             [
              0.6666666666666666,
              "#ed7953"
             ],
             [
              0.7777777777777778,
              "#fb9f3a"
             ],
             [
              0.8888888888888888,
              "#fdca26"
             ],
             [
              1,
              "#f0f921"
             ]
            ],
            "type": "heatmapgl"
           }
          ],
          "histogram": [
           {
            "marker": {
             "pattern": {
              "fillmode": "overlay",
              "size": 10,
              "solidity": 0.2
             }
            },
            "type": "histogram"
           }
          ],
          "histogram2d": [
           {
            "colorbar": {
             "outlinewidth": 0,
             "ticks": ""
            },
            "colorscale": [
             [
              0,
              "#0d0887"
             ],
             [
              0.1111111111111111,
              "#46039f"
             ],
             [
              0.2222222222222222,
              "#7201a8"
             ],
             [
              0.3333333333333333,
              "#9c179e"
             ],
             [
              0.4444444444444444,
              "#bd3786"
             ],
             [
              0.5555555555555556,
              "#d8576b"
             ],
             [
              0.6666666666666666,
              "#ed7953"
             ],
             [
              0.7777777777777778,
              "#fb9f3a"
             ],
             [
              0.8888888888888888,
              "#fdca26"
             ],
             [
              1,
              "#f0f921"
             ]
            ],
            "type": "histogram2d"
           }
          ],
          "histogram2dcontour": [
           {
            "colorbar": {
             "outlinewidth": 0,
             "ticks": ""
            },
            "colorscale": [
             [
              0,
              "#0d0887"
             ],
             [
              0.1111111111111111,
              "#46039f"
             ],
             [
              0.2222222222222222,
              "#7201a8"
             ],
             [
              0.3333333333333333,
              "#9c179e"
             ],
             [
              0.4444444444444444,
              "#bd3786"
             ],
             [
              0.5555555555555556,
              "#d8576b"
             ],
             [
              0.6666666666666666,
              "#ed7953"
             ],
             [
              0.7777777777777778,
              "#fb9f3a"
             ],
             [
              0.8888888888888888,
              "#fdca26"
             ],
             [
              1,
              "#f0f921"
             ]
            ],
            "type": "histogram2dcontour"
           }
          ],
          "mesh3d": [
           {
            "colorbar": {
             "outlinewidth": 0,
             "ticks": ""
            },
            "type": "mesh3d"
           }
          ],
          "parcoords": [
           {
            "line": {
             "colorbar": {
              "outlinewidth": 0,
              "ticks": ""
             }
            },
            "type": "parcoords"
           }
          ],
          "pie": [
           {
            "automargin": true,
            "type": "pie"
           }
          ],
          "scatter": [
           {
            "marker": {
             "colorbar": {
              "outlinewidth": 0,
              "ticks": ""
             }
            },
            "type": "scatter"
           }
          ],
          "scatter3d": [
           {
            "line": {
             "colorbar": {
              "outlinewidth": 0,
              "ticks": ""
             }
            },
            "marker": {
             "colorbar": {
              "outlinewidth": 0,
              "ticks": ""
             }
            },
            "type": "scatter3d"
           }
          ],
          "scattercarpet": [
           {
            "marker": {
             "colorbar": {
              "outlinewidth": 0,
              "ticks": ""
             }
            },
            "type": "scattercarpet"
           }
          ],
          "scattergeo": [
           {
            "marker": {
             "colorbar": {
              "outlinewidth": 0,
              "ticks": ""
             }
            },
            "type": "scattergeo"
           }
          ],
          "scattergl": [
           {
            "marker": {
             "colorbar": {
              "outlinewidth": 0,
              "ticks": ""
             }
            },
            "type": "scattergl"
           }
          ],
          "scattermapbox": [
           {
            "marker": {
             "colorbar": {
              "outlinewidth": 0,
              "ticks": ""
             }
            },
            "type": "scattermapbox"
           }
          ],
          "scatterpolar": [
           {
            "marker": {
             "colorbar": {
              "outlinewidth": 0,
              "ticks": ""
             }
            },
            "type": "scatterpolar"
           }
          ],
          "scatterpolargl": [
           {
            "marker": {
             "colorbar": {
              "outlinewidth": 0,
              "ticks": ""
             }
            },
            "type": "scatterpolargl"
           }
          ],
          "scatterternary": [
           {
            "marker": {
             "colorbar": {
              "outlinewidth": 0,
              "ticks": ""
             }
            },
            "type": "scatterternary"
           }
          ],
          "surface": [
           {
            "colorbar": {
             "outlinewidth": 0,
             "ticks": ""
            },
            "colorscale": [
             [
              0,
              "#0d0887"
             ],
             [
              0.1111111111111111,
              "#46039f"
             ],
             [
              0.2222222222222222,
              "#7201a8"
             ],
             [
              0.3333333333333333,
              "#9c179e"
             ],
             [
              0.4444444444444444,
              "#bd3786"
             ],
             [
              0.5555555555555556,
              "#d8576b"
             ],
             [
              0.6666666666666666,
              "#ed7953"
             ],
             [
              0.7777777777777778,
              "#fb9f3a"
             ],
             [
              0.8888888888888888,
              "#fdca26"
             ],
             [
              1,
              "#f0f921"
             ]
            ],
            "type": "surface"
           }
          ],
          "table": [
           {
            "cells": {
             "fill": {
              "color": "#EBF0F8"
             },
             "line": {
              "color": "white"
             }
            },
            "header": {
             "fill": {
              "color": "#C8D4E3"
             },
             "line": {
              "color": "white"
             }
            },
            "type": "table"
           }
          ]
         },
         "layout": {
          "annotationdefaults": {
           "arrowcolor": "#2a3f5f",
           "arrowhead": 0,
           "arrowwidth": 1
          },
          "autotypenumbers": "strict",
          "coloraxis": {
           "colorbar": {
            "outlinewidth": 0,
            "ticks": ""
           }
          },
          "colorscale": {
           "diverging": [
            [
             0,
             "#8e0152"
            ],
            [
             0.1,
             "#c51b7d"
            ],
            [
             0.2,
             "#de77ae"
            ],
            [
             0.3,
             "#f1b6da"
            ],
            [
             0.4,
             "#fde0ef"
            ],
            [
             0.5,
             "#f7f7f7"
            ],
            [
             0.6,
             "#e6f5d0"
            ],
            [
             0.7,
             "#b8e186"
            ],
            [
             0.8,
             "#7fbc41"
            ],
            [
             0.9,
             "#4d9221"
            ],
            [
             1,
             "#276419"
            ]
           ],
           "sequential": [
            [
             0,
             "#0d0887"
            ],
            [
             0.1111111111111111,
             "#46039f"
            ],
            [
             0.2222222222222222,
             "#7201a8"
            ],
            [
             0.3333333333333333,
             "#9c179e"
            ],
            [
             0.4444444444444444,
             "#bd3786"
            ],
            [
             0.5555555555555556,
             "#d8576b"
            ],
            [
             0.6666666666666666,
             "#ed7953"
            ],
            [
             0.7777777777777778,
             "#fb9f3a"
            ],
            [
             0.8888888888888888,
             "#fdca26"
            ],
            [
             1,
             "#f0f921"
            ]
           ],
           "sequentialminus": [
            [
             0,
             "#0d0887"
            ],
            [
             0.1111111111111111,
             "#46039f"
            ],
            [
             0.2222222222222222,
             "#7201a8"
            ],
            [
             0.3333333333333333,
             "#9c179e"
            ],
            [
             0.4444444444444444,
             "#bd3786"
            ],
            [
             0.5555555555555556,
             "#d8576b"
            ],
            [
             0.6666666666666666,
             "#ed7953"
            ],
            [
             0.7777777777777778,
             "#fb9f3a"
            ],
            [
             0.8888888888888888,
             "#fdca26"
            ],
            [
             1,
             "#f0f921"
            ]
           ]
          },
          "colorway": [
           "#636efa",
           "#EF553B",
           "#00cc96",
           "#ab63fa",
           "#FFA15A",
           "#19d3f3",
           "#FF6692",
           "#B6E880",
           "#FF97FF",
           "#FECB52"
          ],
          "font": {
           "color": "#2a3f5f"
          },
          "geo": {
           "bgcolor": "white",
           "lakecolor": "white",
           "landcolor": "#E5ECF6",
           "showlakes": true,
           "showland": true,
           "subunitcolor": "white"
          },
          "hoverlabel": {
           "align": "left"
          },
          "hovermode": "closest",
          "mapbox": {
           "style": "light"
          },
          "paper_bgcolor": "white",
          "plot_bgcolor": "#E5ECF6",
          "polar": {
           "angularaxis": {
            "gridcolor": "white",
            "linecolor": "white",
            "ticks": ""
           },
           "bgcolor": "#E5ECF6",
           "radialaxis": {
            "gridcolor": "white",
            "linecolor": "white",
            "ticks": ""
           }
          },
          "scene": {
           "xaxis": {
            "backgroundcolor": "#E5ECF6",
            "gridcolor": "white",
            "gridwidth": 2,
            "linecolor": "white",
            "showbackground": true,
            "ticks": "",
            "zerolinecolor": "white"
           },
           "yaxis": {
            "backgroundcolor": "#E5ECF6",
            "gridcolor": "white",
            "gridwidth": 2,
            "linecolor": "white",
            "showbackground": true,
            "ticks": "",
            "zerolinecolor": "white"
           },
           "zaxis": {
            "backgroundcolor": "#E5ECF6",
            "gridcolor": "white",
            "gridwidth": 2,
            "linecolor": "white",
            "showbackground": true,
            "ticks": "",
            "zerolinecolor": "white"
           }
          },
          "shapedefaults": {
           "line": {
            "color": "#2a3f5f"
           }
          },
          "ternary": {
           "aaxis": {
            "gridcolor": "white",
            "linecolor": "white",
            "ticks": ""
           },
           "baxis": {
            "gridcolor": "white",
            "linecolor": "white",
            "ticks": ""
           },
           "bgcolor": "#E5ECF6",
           "caxis": {
            "gridcolor": "white",
            "linecolor": "white",
            "ticks": ""
           }
          },
          "title": {
           "x": 0.05
          },
          "xaxis": {
           "automargin": true,
           "gridcolor": "white",
           "linecolor": "white",
           "ticks": "",
           "title": {
            "standoff": 15
           },
           "zerolinecolor": "white",
           "zerolinewidth": 2
          },
          "yaxis": {
           "automargin": true,
           "gridcolor": "white",
           "linecolor": "white",
           "ticks": "",
           "title": {
            "standoff": 15
           },
           "zerolinecolor": "white",
           "zerolinewidth": 2
          }
         }
        }
       }
      },
      "text/html": [
       "<div>                            <div id=\"a037d0cb-906a-4eeb-97dd-4219c11f3499\" class=\"plotly-graph-div\" style=\"height:525px; width:100%;\"></div>            <script type=\"text/javascript\">                require([\"plotly\"], function(Plotly) {                    window.PLOTLYENV=window.PLOTLYENV || {};                                    if (document.getElementById(\"a037d0cb-906a-4eeb-97dd-4219c11f3499\")) {                    Plotly.newPlot(                        \"a037d0cb-906a-4eeb-97dd-4219c11f3499\",                        [{\"domain\":{\"x\":[0.0,1.0],\"y\":[0.0,1.0]},\"hovertemplate\":\"object=%{label}<br>count=%{value}<extra></extra>\",\"labels\":[\"person\",\"car\",\"chair\",\"bottle\",\"book\",\"cup\",\"dining table\",\"bird\",\"bowl\",\"boat\",\"traffic light\",\"umbrella\",\"banana\",\"broccoli\",\"carrot\",\"donut\",\"truck\",\"potted plant\",\"sheep\",\"motorcycle\"],\"legendgroup\":\"\",\"name\":\"\",\"showlegend\":true,\"values\":[31586,4909,3614,2850,2542,2489,1917,1805,1803,1746,1393,1300,1248,1213,1207,1172,1118,1058,1049,1016],\"type\":\"pie\"}],                        {\"template\":{\"data\":{\"bar\":[{\"error_x\":{\"color\":\"#2a3f5f\"},\"error_y\":{\"color\":\"#2a3f5f\"},\"marker\":{\"line\":{\"color\":\"#E5ECF6\",\"width\":0.5},\"pattern\":{\"fillmode\":\"overlay\",\"size\":10,\"solidity\":0.2}},\"type\":\"bar\"}],\"barpolar\":[{\"marker\":{\"line\":{\"color\":\"#E5ECF6\",\"width\":0.5},\"pattern\":{\"fillmode\":\"overlay\",\"size\":10,\"solidity\":0.2}},\"type\":\"barpolar\"}],\"carpet\":[{\"aaxis\":{\"endlinecolor\":\"#2a3f5f\",\"gridcolor\":\"white\",\"linecolor\":\"white\",\"minorgridcolor\":\"white\",\"startlinecolor\":\"#2a3f5f\"},\"baxis\":{\"endlinecolor\":\"#2a3f5f\",\"gridcolor\":\"white\",\"linecolor\":\"white\",\"minorgridcolor\":\"white\",\"startlinecolor\":\"#2a3f5f\"},\"type\":\"carpet\"}],\"choropleth\":[{\"colorbar\":{\"outlinewidth\":0,\"ticks\":\"\"},\"type\":\"choropleth\"}],\"contour\":[{\"colorbar\":{\"outlinewidth\":0,\"ticks\":\"\"},\"colorscale\":[[0.0,\"#0d0887\"],[0.1111111111111111,\"#46039f\"],[0.2222222222222222,\"#7201a8\"],[0.3333333333333333,\"#9c179e\"],[0.4444444444444444,\"#bd3786\"],[0.5555555555555556,\"#d8576b\"],[0.6666666666666666,\"#ed7953\"],[0.7777777777777778,\"#fb9f3a\"],[0.8888888888888888,\"#fdca26\"],[1.0,\"#f0f921\"]],\"type\":\"contour\"}],\"contourcarpet\":[{\"colorbar\":{\"outlinewidth\":0,\"ticks\":\"\"},\"type\":\"contourcarpet\"}],\"heatmap\":[{\"colorbar\":{\"outlinewidth\":0,\"ticks\":\"\"},\"colorscale\":[[0.0,\"#0d0887\"],[0.1111111111111111,\"#46039f\"],[0.2222222222222222,\"#7201a8\"],[0.3333333333333333,\"#9c179e\"],[0.4444444444444444,\"#bd3786\"],[0.5555555555555556,\"#d8576b\"],[0.6666666666666666,\"#ed7953\"],[0.7777777777777778,\"#fb9f3a\"],[0.8888888888888888,\"#fdca26\"],[1.0,\"#f0f921\"]],\"type\":\"heatmap\"}],\"heatmapgl\":[{\"colorbar\":{\"outlinewidth\":0,\"ticks\":\"\"},\"colorscale\":[[0.0,\"#0d0887\"],[0.1111111111111111,\"#46039f\"],[0.2222222222222222,\"#7201a8\"],[0.3333333333333333,\"#9c179e\"],[0.4444444444444444,\"#bd3786\"],[0.5555555555555556,\"#d8576b\"],[0.6666666666666666,\"#ed7953\"],[0.7777777777777778,\"#fb9f3a\"],[0.8888888888888888,\"#fdca26\"],[1.0,\"#f0f921\"]],\"type\":\"heatmapgl\"}],\"histogram\":[{\"marker\":{\"pattern\":{\"fillmode\":\"overlay\",\"size\":10,\"solidity\":0.2}},\"type\":\"histogram\"}],\"histogram2d\":[{\"colorbar\":{\"outlinewidth\":0,\"ticks\":\"\"},\"colorscale\":[[0.0,\"#0d0887\"],[0.1111111111111111,\"#46039f\"],[0.2222222222222222,\"#7201a8\"],[0.3333333333333333,\"#9c179e\"],[0.4444444444444444,\"#bd3786\"],[0.5555555555555556,\"#d8576b\"],[0.6666666666666666,\"#ed7953\"],[0.7777777777777778,\"#fb9f3a\"],[0.8888888888888888,\"#fdca26\"],[1.0,\"#f0f921\"]],\"type\":\"histogram2d\"}],\"histogram2dcontour\":[{\"colorbar\":{\"outlinewidth\":0,\"ticks\":\"\"},\"colorscale\":[[0.0,\"#0d0887\"],[0.1111111111111111,\"#46039f\"],[0.2222222222222222,\"#7201a8\"],[0.3333333333333333,\"#9c179e\"],[0.4444444444444444,\"#bd3786\"],[0.5555555555555556,\"#d8576b\"],[0.6666666666666666,\"#ed7953\"],[0.7777777777777778,\"#fb9f3a\"],[0.8888888888888888,\"#fdca26\"],[1.0,\"#f0f921\"]],\"type\":\"histogram2dcontour\"}],\"mesh3d\":[{\"colorbar\":{\"outlinewidth\":0,\"ticks\":\"\"},\"type\":\"mesh3d\"}],\"parcoords\":[{\"line\":{\"colorbar\":{\"outlinewidth\":0,\"ticks\":\"\"}},\"type\":\"parcoords\"}],\"pie\":[{\"automargin\":true,\"type\":\"pie\"}],\"scatter\":[{\"marker\":{\"colorbar\":{\"outlinewidth\":0,\"ticks\":\"\"}},\"type\":\"scatter\"}],\"scatter3d\":[{\"line\":{\"colorbar\":{\"outlinewidth\":0,\"ticks\":\"\"}},\"marker\":{\"colorbar\":{\"outlinewidth\":0,\"ticks\":\"\"}},\"type\":\"scatter3d\"}],\"scattercarpet\":[{\"marker\":{\"colorbar\":{\"outlinewidth\":0,\"ticks\":\"\"}},\"type\":\"scattercarpet\"}],\"scattergeo\":[{\"marker\":{\"colorbar\":{\"outlinewidth\":0,\"ticks\":\"\"}},\"type\":\"scattergeo\"}],\"scattergl\":[{\"marker\":{\"colorbar\":{\"outlinewidth\":0,\"ticks\":\"\"}},\"type\":\"scattergl\"}],\"scattermapbox\":[{\"marker\":{\"colorbar\":{\"outlinewidth\":0,\"ticks\":\"\"}},\"type\":\"scattermapbox\"}],\"scatterpolar\":[{\"marker\":{\"colorbar\":{\"outlinewidth\":0,\"ticks\":\"\"}},\"type\":\"scatterpolar\"}],\"scatterpolargl\":[{\"marker\":{\"colorbar\":{\"outlinewidth\":0,\"ticks\":\"\"}},\"type\":\"scatterpolargl\"}],\"scatterternary\":[{\"marker\":{\"colorbar\":{\"outlinewidth\":0,\"ticks\":\"\"}},\"type\":\"scatterternary\"}],\"surface\":[{\"colorbar\":{\"outlinewidth\":0,\"ticks\":\"\"},\"colorscale\":[[0.0,\"#0d0887\"],[0.1111111111111111,\"#46039f\"],[0.2222222222222222,\"#7201a8\"],[0.3333333333333333,\"#9c179e\"],[0.4444444444444444,\"#bd3786\"],[0.5555555555555556,\"#d8576b\"],[0.6666666666666666,\"#ed7953\"],[0.7777777777777778,\"#fb9f3a\"],[0.8888888888888888,\"#fdca26\"],[1.0,\"#f0f921\"]],\"type\":\"surface\"}],\"table\":[{\"cells\":{\"fill\":{\"color\":\"#EBF0F8\"},\"line\":{\"color\":\"white\"}},\"header\":{\"fill\":{\"color\":\"#C8D4E3\"},\"line\":{\"color\":\"white\"}},\"type\":\"table\"}]},\"layout\":{\"annotationdefaults\":{\"arrowcolor\":\"#2a3f5f\",\"arrowhead\":0,\"arrowwidth\":1},\"autotypenumbers\":\"strict\",\"coloraxis\":{\"colorbar\":{\"outlinewidth\":0,\"ticks\":\"\"}},\"colorscale\":{\"diverging\":[[0,\"#8e0152\"],[0.1,\"#c51b7d\"],[0.2,\"#de77ae\"],[0.3,\"#f1b6da\"],[0.4,\"#fde0ef\"],[0.5,\"#f7f7f7\"],[0.6,\"#e6f5d0\"],[0.7,\"#b8e186\"],[0.8,\"#7fbc41\"],[0.9,\"#4d9221\"],[1,\"#276419\"]],\"sequential\":[[0.0,\"#0d0887\"],[0.1111111111111111,\"#46039f\"],[0.2222222222222222,\"#7201a8\"],[0.3333333333333333,\"#9c179e\"],[0.4444444444444444,\"#bd3786\"],[0.5555555555555556,\"#d8576b\"],[0.6666666666666666,\"#ed7953\"],[0.7777777777777778,\"#fb9f3a\"],[0.8888888888888888,\"#fdca26\"],[1.0,\"#f0f921\"]],\"sequentialminus\":[[0.0,\"#0d0887\"],[0.1111111111111111,\"#46039f\"],[0.2222222222222222,\"#7201a8\"],[0.3333333333333333,\"#9c179e\"],[0.4444444444444444,\"#bd3786\"],[0.5555555555555556,\"#d8576b\"],[0.6666666666666666,\"#ed7953\"],[0.7777777777777778,\"#fb9f3a\"],[0.8888888888888888,\"#fdca26\"],[1.0,\"#f0f921\"]]},\"colorway\":[\"#636efa\",\"#EF553B\",\"#00cc96\",\"#ab63fa\",\"#FFA15A\",\"#19d3f3\",\"#FF6692\",\"#B6E880\",\"#FF97FF\",\"#FECB52\"],\"font\":{\"color\":\"#2a3f5f\"},\"geo\":{\"bgcolor\":\"white\",\"lakecolor\":\"white\",\"landcolor\":\"#E5ECF6\",\"showlakes\":true,\"showland\":true,\"subunitcolor\":\"white\"},\"hoverlabel\":{\"align\":\"left\"},\"hovermode\":\"closest\",\"mapbox\":{\"style\":\"light\"},\"paper_bgcolor\":\"white\",\"plot_bgcolor\":\"#E5ECF6\",\"polar\":{\"angularaxis\":{\"gridcolor\":\"white\",\"linecolor\":\"white\",\"ticks\":\"\"},\"bgcolor\":\"#E5ECF6\",\"radialaxis\":{\"gridcolor\":\"white\",\"linecolor\":\"white\",\"ticks\":\"\"}},\"scene\":{\"xaxis\":{\"backgroundcolor\":\"#E5ECF6\",\"gridcolor\":\"white\",\"gridwidth\":2,\"linecolor\":\"white\",\"showbackground\":true,\"ticks\":\"\",\"zerolinecolor\":\"white\"},\"yaxis\":{\"backgroundcolor\":\"#E5ECF6\",\"gridcolor\":\"white\",\"gridwidth\":2,\"linecolor\":\"white\",\"showbackground\":true,\"ticks\":\"\",\"zerolinecolor\":\"white\"},\"zaxis\":{\"backgroundcolor\":\"#E5ECF6\",\"gridcolor\":\"white\",\"gridwidth\":2,\"linecolor\":\"white\",\"showbackground\":true,\"ticks\":\"\",\"zerolinecolor\":\"white\"}},\"shapedefaults\":{\"line\":{\"color\":\"#2a3f5f\"}},\"ternary\":{\"aaxis\":{\"gridcolor\":\"white\",\"linecolor\":\"white\",\"ticks\":\"\"},\"baxis\":{\"gridcolor\":\"white\",\"linecolor\":\"white\",\"ticks\":\"\"},\"bgcolor\":\"#E5ECF6\",\"caxis\":{\"gridcolor\":\"white\",\"linecolor\":\"white\",\"ticks\":\"\"}},\"title\":{\"x\":0.05},\"xaxis\":{\"automargin\":true,\"gridcolor\":\"white\",\"linecolor\":\"white\",\"ticks\":\"\",\"title\":{\"standoff\":15},\"zerolinecolor\":\"white\",\"zerolinewidth\":2},\"yaxis\":{\"automargin\":true,\"gridcolor\":\"white\",\"linecolor\":\"white\",\"ticks\":\"\",\"title\":{\"standoff\":15},\"zerolinecolor\":\"white\",\"zerolinewidth\":2}}},\"legend\":{\"tracegroupgap\":0},\"margin\":{\"t\":60}},                        {\"responsive\": true}                    ).then(function(){\n",
       "                            \n",
       "var gd = document.getElementById('a037d0cb-906a-4eeb-97dd-4219c11f3499');\n",
       "var x = new MutationObserver(function (mutations, observer) {{\n",
       "        var display = window.getComputedStyle(gd).display;\n",
       "        if (!display || display === 'none') {{\n",
       "            console.log([gd, 'removed!']);\n",
       "            Plotly.purge(gd);\n",
       "            observer.disconnect();\n",
       "        }}\n",
       "}});\n",
       "\n",
       "// Listen for the removal of the full notebook cells\n",
       "var notebookContainer = gd.closest('#notebook-container');\n",
       "if (notebookContainer) {{\n",
       "    x.observe(notebookContainer, {childList: true});\n",
       "}}\n",
       "\n",
       "// Listen for the clearing of the current output cell\n",
       "var outputEl = gd.closest('.output');\n",
       "if (outputEl) {{\n",
       "    x.observe(outputEl, {childList: true});\n",
       "}}\n",
       "\n",
       "                        })                };                });            </script>        </div>"
      ]
     },
     "metadata": {},
     "output_type": "display_data"
    }
   ],
   "source": [
    "import plotly.express as px\n",
    "\n",
    "fig = px.pie(all_objects[:20], values='count', names='object', title='Distribution of the top 20 oquestion types in OKVQA')\n",
    "fig.show()"
   ]
  },
  {
   "cell_type": "code",
   "execution_count": 34,
   "id": "0fb5ea43",
   "metadata": {},
   "outputs": [
    {
     "data": {
      "text/plain": [
       "7.099618238132968"
      ]
     },
     "execution_count": 34,
     "metadata": {},
     "output_type": "execute_result"
    }
   ],
   "source": [
    "# mean number of objects on an image\n",
    "okvqa['full'].num_objects.mean()"
   ]
  },
  {
   "cell_type": "code",
   "execution_count": 36,
   "id": "d021ff85",
   "metadata": {},
   "outputs": [
    {
     "data": {
      "text/plain": [
       "2.8830944320391847"
      ]
     },
     "execution_count": 36,
     "metadata": {},
     "output_type": "execute_result"
    }
   ],
   "source": [
    "# mean number of unique objects on an image\n",
    "okvqa['full'].num_unique.mean()"
   ]
  },
  {
   "cell_type": "markdown",
   "id": "7264eb63",
   "metadata": {},
   "source": [
    "Let's instead look at how much the questions, answers and image objects have in common. We will check how many of the image objects that (across all questions and answers) occur in the text."
   ]
  },
  {
   "cell_type": "code",
   "execution_count": 93,
   "id": "dcefbd5a",
   "metadata": {},
   "outputs": [],
   "source": [
    "all_answers = okvqa['full'].answers.apply(pd.Series).stack().reset_index(drop=True).unique()\n",
    "all_q_tokens = okvqa['full'].question_tokens.apply(pd.Series).stack().reset_index(drop=True).unique()"
   ]
  },
  {
   "cell_type": "code",
   "execution_count": 95,
   "id": "b68d1aa6",
   "metadata": {},
   "outputs": [
    {
     "data": {
      "text/plain": [
       "72"
      ]
     },
     "execution_count": 95,
     "metadata": {},
     "output_type": "execute_result"
    }
   ],
   "source": [
    "# objects on images that are mentioned in answers\n",
    "relevant = set(all_answers)\n",
    "sum([some_object in relevant for some_object in all_objects['object']])"
   ]
  },
  {
   "cell_type": "code",
   "execution_count": 96,
   "id": "84983f4f",
   "metadata": {},
   "outputs": [
    {
     "data": {
      "text/plain": [
       "62"
      ]
     },
     "execution_count": 96,
     "metadata": {},
     "output_type": "execute_result"
    }
   ],
   "source": [
    "# objects on images that are mentioned in questions\n",
    "relevant = set(all_q_tokens)\n",
    "sum([some_object in relevant for some_object in all_objects['object']])"
   ]
  },
  {
   "cell_type": "markdown",
   "id": "cf034d4b",
   "metadata": {},
   "source": [
    "Find out whether the objects occurring on images are mentioned in question and answers, respectively, for each IQ pair."
   ]
  },
  {
   "cell_type": "code",
   "execution_count": 84,
   "id": "2f1f955e",
   "metadata": {},
   "outputs": [
    {
     "data": {
      "application/vnd.jupyter.widget-view+json": {
       "model_id": "58d4e21c7af8425f8acc7fe41b700af9",
       "version_major": 2,
       "version_minor": 0
      },
      "text/plain": [
       "HBox(children=(FloatProgress(value=0.0, max=13883.0), HTML(value='')))"
      ]
     },
     "metadata": {},
     "output_type": "display_data"
    },
    {
     "name": "stdout",
     "output_type": "stream",
     "text": [
      "\n"
     ]
    }
   ],
   "source": [
    "object_in_question = []\n",
    "object_in_answers = []\n",
    "for i, subframe in tqdm(okvqa['full'].iterrows(), total=okvqa['full'].__len__()):\n",
    "    temp = pd.DataFrame(subframe).T\n",
    "    question_tokens = list(temp.question_tokens)[0]\n",
    "    answer_tokens = list(temp.answers)[0]\n",
    "    object_tokens = list(temp.image_objects)[0]\n",
    "    \n",
    "    object_in_question.append(np.mean([some_object in question_tokens for some_object in object_tokens]))\n",
    "    object_in_answers.append(np.mean([some_object in answer_tokens for some_object in object_tokens]))\n",
    "\n",
    "okvqa['full']['object_in_question'] = object_in_question\n",
    "okvqa['full']['object_in_answers'] = object_in_answers"
   ]
  },
  {
   "cell_type": "code",
   "execution_count": 105,
   "id": "9dfb7189",
   "metadata": {},
   "outputs": [
    {
     "data": {
      "text/plain": [
       "count    13883.000000\n",
       "mean         0.085607\n",
       "std          0.231072\n",
       "min          0.000000\n",
       "25%          0.000000\n",
       "50%          0.000000\n",
       "75%          0.000000\n",
       "max          1.000000\n",
       "Name: object_in_question, dtype: float64"
      ]
     },
     "execution_count": 105,
     "metadata": {},
     "output_type": "execute_result"
    }
   ],
   "source": [
    "okvqa['full'].object_in_question.describe()"
   ]
  },
  {
   "cell_type": "code",
   "execution_count": 106,
   "id": "fb018057",
   "metadata": {},
   "outputs": [
    {
     "data": {
      "text/plain": [
       "count    13883.000000\n",
       "mean         0.040236\n",
       "std          0.162965\n",
       "min          0.000000\n",
       "25%          0.000000\n",
       "50%          0.000000\n",
       "75%          0.000000\n",
       "max          1.000000\n",
       "Name: object_in_answers, dtype: float64"
      ]
     },
     "execution_count": 106,
     "metadata": {},
     "output_type": "execute_result"
    }
   ],
   "source": [
    "okvqa['full'].object_in_answers.describe()"
   ]
  },
  {
   "cell_type": "code",
   "execution_count": 97,
   "id": "d5cf3b2e",
   "metadata": {},
   "outputs": [
    {
     "data": {
      "image/png": "[encoded data removed]",
      "text/plain": [
       "<Figure size 800x300 with 2 Axes>"
      ]
     },
     "metadata": {
      "needs_background": "light"
     },
     "output_type": "display_data"
    }
   ],
   "source": [
    "LogAndLinearHist(okvqa['full'].object_in_question)#, xlabel='frequency of detected objects')"
   ]
  },
  {
   "cell_type": "code",
   "execution_count": 102,
   "id": "8b1c5ee4",
   "metadata": {},
   "outputs": [
    {
     "data": {
      "image/png": "[encoded data removed]",
      "text/plain": [
       "<Figure size 800x300 with 2 Axes>"
      ]
     },
     "metadata": {
      "needs_background": "light"
     },
     "output_type": "display_data"
    }
   ],
   "source": [
    "LogAndLinearHist(okvqa['full'].object_in_answers)#, xlabel='frequency of detected objects')"
   ]
  },
  {
   "cell_type": "code",
   "execution_count": 106,
   "id": "33c6f1f6",
   "metadata": {},
   "outputs": [
    {
     "data": {
      "text/html": [
       "<div>\n",
       "<style scoped>\n",
       "    .dataframe tbody tr th:only-of-type {\n",
       "        vertical-align: middle;\n",
       "    }\n",
       "\n",
       "    .dataframe tbody tr th {\n",
       "        vertical-align: top;\n",
       "    }\n",
       "\n",
       "    .dataframe thead th {\n",
       "        text-align: right;\n",
       "    }\n",
       "</style>\n",
       "<table border=\"1\" class=\"dataframe\">\n",
       "  <thead>\n",
       "    <tr style=\"text-align: right;\">\n",
       "      <th></th>\n",
       "      <th>object_in_answer</th>\n",
       "      <th>object_in_question</th>\n",
       "    </tr>\n",
       "  </thead>\n",
       "  <tbody>\n",
       "    <tr>\n",
       "      <th>count</th>\n",
       "      <td>13883.000000</td>\n",
       "      <td>13883.000000</td>\n",
       "    </tr>\n",
       "    <tr>\n",
       "      <th>mean</th>\n",
       "      <td>0.039399</td>\n",
       "      <td>0.088270</td>\n",
       "    </tr>\n",
       "    <tr>\n",
       "      <th>std</th>\n",
       "      <td>0.154029</td>\n",
       "      <td>0.226994</td>\n",
       "    </tr>\n",
       "    <tr>\n",
       "      <th>min</th>\n",
       "      <td>0.000000</td>\n",
       "      <td>0.000000</td>\n",
       "    </tr>\n",
       "    <tr>\n",
       "      <th>25%</th>\n",
       "      <td>0.000000</td>\n",
       "      <td>0.000000</td>\n",
       "    </tr>\n",
       "    <tr>\n",
       "      <th>50%</th>\n",
       "      <td>0.000000</td>\n",
       "      <td>0.000000</td>\n",
       "    </tr>\n",
       "    <tr>\n",
       "      <th>75%</th>\n",
       "      <td>0.000000</td>\n",
       "      <td>0.000000</td>\n",
       "    </tr>\n",
       "    <tr>\n",
       "      <th>max</th>\n",
       "      <td>1.000000</td>\n",
       "      <td>1.000000</td>\n",
       "    </tr>\n",
       "  </tbody>\n",
       "</table>\n",
       "</div>"
      ],
      "text/plain": [
       "       object_in_answer  object_in_question\n",
       "count      13883.000000        13883.000000\n",
       "mean           0.039399            0.088270\n",
       "std            0.154029            0.226994\n",
       "min            0.000000            0.000000\n",
       "25%            0.000000            0.000000\n",
       "50%            0.000000            0.000000\n",
       "75%            0.000000            0.000000\n",
       "max            1.000000            1.000000"
      ]
     },
     "execution_count": 106,
     "metadata": {},
     "output_type": "execute_result"
    }
   ],
   "source": [
    "okvqa['full'][['object_in_answer', 'object_in_question']].describe()"
   ]
  },
  {
   "cell_type": "markdown",
   "id": "419bbc89",
   "metadata": {},
   "source": [
    "So it is quite clear, that image objects do not in general directly occur in the text - both for quetsions and answers. This suggest a reasonable level of complexity, as it suggests that questions are not about just understanding the visual content."
   ]
  },
  {
   "cell_type": "code",
   "execution_count": null,
   "id": "9ea2bb2e",
   "metadata": {},
   "outputs": [],
   "source": []
  }
 ],
 "metadata": {
  "kernelspec": {
   "display_name": "Python 3 (ipykernel)",
   "language": "python",
   "name": "python3"
  },
  "language_info": {
   "codemirror_mode": {
    "name": "ipython",
    "version": 3
   },
   "file_extension": ".py",
   "mimetype": "text/x-python",
   "name": "python",
   "nbconvert_exporter": "python",
   "pygments_lexer": "ipython3",
   "version": "3.7.11"
  }
 },
 "nbformat": 4,
 "nbformat_minor": 5
}
