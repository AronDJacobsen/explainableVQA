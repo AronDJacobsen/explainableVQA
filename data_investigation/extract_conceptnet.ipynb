{
 "cells": [
  {
   "cell_type": "code",
   "execution_count": 1,
   "id": "06ba8ba5",
   "metadata": {},
   "outputs": [],
   "source": [
    "import os, glob\n",
    "from pathlib import Path\n",
    "from tqdm.notebook import tqdm\n",
    "tqdm.pandas()\n",
    "\n",
    "import requests\n",
    "\n",
    "from collections import Counter\n",
    "\n",
    "import numpy as np\n",
    "import pandas as pd"
   ]
  },
  {
   "cell_type": "markdown",
   "id": "a30f13a9",
   "metadata": {},
   "source": [
    "# ConceptNet - Extracting the Part related to OKVQA Questions\n",
    "\n",
    "This notebook examines the ConceptNet Knowledge Graph wrt. the OKVQA Question tokens."
   ]
  },
  {
   "cell_type": "markdown",
   "id": "780a7f92",
   "metadata": {},
   "source": [
    "## 1) Call the ConceptNet API\n",
    "\n",
    "We rely on a function for filtering the ConceptNet API, such that we only take interesting data (for our case) into account. Since the ConceptNet knowledge graph is defined for a large set of languages, we filter by 'english' language by setting a `language_key`. Other implementation details can be seen below."
   ]
  },
  {
   "cell_type": "code",
   "execution_count": 2,
   "id": "601488cf",
   "metadata": {},
   "outputs": [],
   "source": [
    "def filter_ConceptNet(word, language_key='en', same_language=True):\n",
    "\n",
    "    # call the ConceptNet API\n",
    "    json_object = requests.get(f'http://api.conceptnet.io/c/{language_key}/{word}').json()\n",
    "    \n",
    "    # check if the concept exists in the graph\n",
    "    try:\n",
    "        query_error = json_object['error']['status'] == 404\n",
    "    except KeyError:\n",
    "        query_error = False        \n",
    "    \n",
    "    # if queried concept exists in conceptnet\n",
    "    if not query_error:\n",
    "        # create a dataframe from the nested json-object\n",
    "        df = pd.json_normalize(json_object, record_path='edges', meta=['@id'], record_prefix='_')        \n",
    "        try:\n",
    "            df = df[df['_start.language'] == language_key]\n",
    "\n",
    "            # dataframe might be empty due to language filtering\n",
    "            if not df.empty:\n",
    "\n",
    "                # assert that all rows are of form (Node, Edge, Node)\n",
    "                try:\n",
    "                    type_assertion = ['_start.@type', '_@type', '_end.@type']\n",
    "                    assert all(df[type_assertion] == ('Node', 'Edge', 'Node'))\n",
    "\n",
    "                except AssertionError:\n",
    "                    df = df[np.all(df[['_start.@type', '_@type', '_end.@type']] == ('Node', 'Edge', 'Node'), axis=1)]\n",
    "\n",
    "                # attributes of interest\n",
    "                aoi = ['start_label', 'relation', 'end_label', 'surfaceText', 'weight', 'dataset']\n",
    "\n",
    "                # only find relations with identical language\n",
    "                if same_language:\n",
    "                    df['language'] = [language_key] * df.__len__()\n",
    "                    language = [concept['_start.language'] == concept['_end.language'] for (_, concept) in df.iterrows()]\n",
    "                    df = df[language]\n",
    "                    aoi.append('language')\n",
    "                else:\n",
    "                    df = df.rename(columns={'_start.language':'start_language',\n",
    "                                            '_end.language': 'end_language'})\n",
    "                    aoi += ['start_language', 'end_language']\n",
    "\n",
    "                # rename columns\n",
    "                df.columns = df.columns.str.lstrip(\"_\")\n",
    "                df = df.rename(columns={'start.label':'start_label', \n",
    "                                        'rel.label':'relation', \n",
    "                                        'end.label':'end_label',\n",
    "                                       })\n",
    "\n",
    "                df = df[aoi].reset_index(drop=True)\n",
    "                df['query_word'] = [word] * df.__len__()\n",
    "                return df\n",
    "        except KeyError:\n",
    "            pass\n",
    "    \n",
    "    # if concept doesn't exist in conceptnet\n",
    "    else:\n",
    "        return pd.DataFrame()\n",
    "        #raise KeyError(\"Concept does not exist in ConceptNet...\")"
   ]
  },
  {
   "cell_type": "markdown",
   "id": "8523da86",
   "metadata": {},
   "source": [
    "Let's try out the filtering on a simple example in Danish - namley, the word 'hej' which means 'hello'."
   ]
  },
  {
   "cell_type": "code",
   "execution_count": 3,
   "id": "5f47c8e6",
   "metadata": {},
   "outputs": [
    {
     "data": {
      "text/html": [
       "<div>\n",
       "<style scoped>\n",
       "    .dataframe tbody tr th:only-of-type {\n",
       "        vertical-align: middle;\n",
       "    }\n",
       "\n",
       "    .dataframe tbody tr th {\n",
       "        vertical-align: top;\n",
       "    }\n",
       "\n",
       "    .dataframe thead th {\n",
       "        text-align: right;\n",
       "    }\n",
       "</style>\n",
       "<table border=\"1\" class=\"dataframe\">\n",
       "  <thead>\n",
       "    <tr style=\"text-align: right;\">\n",
       "      <th></th>\n",
       "      <th>start_label</th>\n",
       "      <th>relation</th>\n",
       "      <th>end_label</th>\n",
       "      <th>surfaceText</th>\n",
       "      <th>weight</th>\n",
       "      <th>dataset</th>\n",
       "      <th>language</th>\n",
       "      <th>query_word</th>\n",
       "    </tr>\n",
       "  </thead>\n",
       "  <tbody>\n",
       "    <tr>\n",
       "      <th>0</th>\n",
       "      <td>hej</td>\n",
       "      <td>Antonym</td>\n",
       "      <td>farvel</td>\n",
       "      <td>None</td>\n",
       "      <td>1.0</td>\n",
       "      <td>/d/wiktionary/en</td>\n",
       "      <td>da</td>\n",
       "      <td>hej</td>\n",
       "    </tr>\n",
       "    <tr>\n",
       "      <th>1</th>\n",
       "      <td>dav</td>\n",
       "      <td>RelatedTo</td>\n",
       "      <td>hej</td>\n",
       "      <td>None</td>\n",
       "      <td>1.0</td>\n",
       "      <td>/d/wiktionary/de</td>\n",
       "      <td>da</td>\n",
       "      <td>hej</td>\n",
       "    </tr>\n",
       "    <tr>\n",
       "      <th>2</th>\n",
       "      <td>hej</td>\n",
       "      <td>Synonym</td>\n",
       "      <td>goddag</td>\n",
       "      <td>None</td>\n",
       "      <td>1.0</td>\n",
       "      <td>/d/wiktionary/en</td>\n",
       "      <td>da</td>\n",
       "      <td>hej</td>\n",
       "    </tr>\n",
       "  </tbody>\n",
       "</table>\n",
       "</div>"
      ],
      "text/plain": [
       "  start_label   relation end_label surfaceText  weight           dataset  \\\n",
       "0         hej    Antonym    farvel        None     1.0  /d/wiktionary/en   \n",
       "1         dav  RelatedTo       hej        None     1.0  /d/wiktionary/de   \n",
       "2         hej    Synonym    goddag        None     1.0  /d/wiktionary/en   \n",
       "\n",
       "  language query_word  \n",
       "0       da        hej  \n",
       "1       da        hej  \n",
       "2       da        hej  "
      ]
     },
     "execution_count": 3,
     "metadata": {},
     "output_type": "execute_result"
    }
   ],
   "source": [
    "language_key = 'da'\n",
    "concept = 'hej'\n",
    "same_language = True\n",
    "\n",
    "temp = filter_ConceptNet(concept, language_key, same_language=same_language)\n",
    "temp"
   ]
  },
  {
   "cell_type": "markdown",
   "id": "ecea26cd",
   "metadata": {},
   "source": [
    "Yeah, it works out as expected!"
   ]
  },
  {
   "cell_type": "markdown",
   "id": "dcdb8547",
   "metadata": {},
   "source": [
    "## 2) Load OKVQA data\n",
    "\n",
    "We start out by loading the processed OKVQA dataset that was created in the Question-Answer and Image investigation files."
   ]
  },
  {
   "cell_type": "code",
   "execution_count": 4,
   "id": "663bca04",
   "metadata": {},
   "outputs": [
    {
     "data": {
      "text/html": [
       "<div>\n",
       "<style scoped>\n",
       "    .dataframe tbody tr th:only-of-type {\n",
       "        vertical-align: middle;\n",
       "    }\n",
       "\n",
       "    .dataframe tbody tr th {\n",
       "        vertical-align: top;\n",
       "    }\n",
       "\n",
       "    .dataframe thead th {\n",
       "        text-align: right;\n",
       "    }\n",
       "</style>\n",
       "<table border=\"1\" class=\"dataframe\">\n",
       "  <thead>\n",
       "    <tr style=\"text-align: right;\">\n",
       "      <th></th>\n",
       "      <th>image_id</th>\n",
       "      <th>question_id</th>\n",
       "      <th>answer_type</th>\n",
       "      <th>question_type</th>\n",
       "      <th>confidence</th>\n",
       "      <th>question_str</th>\n",
       "      <th>question_tokens</th>\n",
       "      <th>all_answers</th>\n",
       "      <th>answers</th>\n",
       "      <th>image_name</th>\n",
       "      <th>feature_path</th>\n",
       "      <th>annotator_agreement_cos</th>\n",
       "      <th>image_objects</th>\n",
       "    </tr>\n",
       "  </thead>\n",
       "  <tbody>\n",
       "    <tr>\n",
       "      <th>0</th>\n",
       "      <td>51606</td>\n",
       "      <td>516065</td>\n",
       "      <td>other</td>\n",
       "      <td>four</td>\n",
       "      <td>3</td>\n",
       "      <td>What is the hairstyle of the blond called?</td>\n",
       "      <td>[what, is, the, hairstyle, of, the, blond, cal...</td>\n",
       "      <td>[pony tail, pony tail, pony tail, pony tail, p...</td>\n",
       "      <td>[pony tail, pony tail, pony tail, pony tail, p...</td>\n",
       "      <td>COCO_train2014_000000051606</td>\n",
       "      <td>COCO_train2014_000000051606.npy</td>\n",
       "      <td>0.977160</td>\n",
       "      <td>[person, person, tennis racket, chair]</td>\n",
       "    </tr>\n",
       "    <tr>\n",
       "      <th>1</th>\n",
       "      <td>81721</td>\n",
       "      <td>817215</td>\n",
       "      <td>other</td>\n",
       "      <td>seven</td>\n",
       "      <td>5</td>\n",
       "      <td>How old do you have to be in canada to do this?</td>\n",
       "      <td>[how, old, do, you, have, to, be, in, canada, ...</td>\n",
       "      <td>[18, 18, 18, 18, 18, 18, 18, 18, 18, 18]</td>\n",
       "      <td>[18, 18, 18, 18, 18, 18, 18, 18, 18, 18]</td>\n",
       "      <td>COCO_train2014_000000081721</td>\n",
       "      <td>COCO_train2014_000000081721.npy</td>\n",
       "      <td>NaN</td>\n",
       "      <td>[person, wine glass, person, wine glass, perso...</td>\n",
       "    </tr>\n",
       "    <tr>\n",
       "      <th>2</th>\n",
       "      <td>480208</td>\n",
       "      <td>4802085</td>\n",
       "      <td>other</td>\n",
       "      <td>four</td>\n",
       "      <td>2</td>\n",
       "      <td>Can you guess the place where the man is playing?</td>\n",
       "      <td>[can, you, guess, the, place, where, the, man,...</td>\n",
       "      <td>[aspen, aspen, mountain, mountain, mountain, m...</td>\n",
       "      <td>[aspen, aspen, mountain, mountain, mountain, m...</td>\n",
       "      <td>COCO_train2014_000000480208</td>\n",
       "      <td>COCO_train2014_000000480208.npy</td>\n",
       "      <td>0.974979</td>\n",
       "      <td>[person, backpack, skis]</td>\n",
       "    </tr>\n",
       "    <tr>\n",
       "      <th>3</th>\n",
       "      <td>570618</td>\n",
       "      <td>5706185</td>\n",
       "      <td>other</td>\n",
       "      <td>one</td>\n",
       "      <td>2</td>\n",
       "      <td>Which rail company is named after a town in ne...</td>\n",
       "      <td>[which, rail, company, is, named, after, a, to...</td>\n",
       "      <td>[santa fe, santa fe, santa fe, santa fe, new e...</td>\n",
       "      <td>[santa fe, santa fe, santa fe, santa fe, new e...</td>\n",
       "      <td>COCO_train2014_000000570618</td>\n",
       "      <td>COCO_train2014_000000570618.npy</td>\n",
       "      <td>0.960305</td>\n",
       "      <td>[train]</td>\n",
       "    </tr>\n",
       "    <tr>\n",
       "      <th>4</th>\n",
       "      <td>478903</td>\n",
       "      <td>4789035</td>\n",
       "      <td>other</td>\n",
       "      <td>seven</td>\n",
       "      <td>2</td>\n",
       "      <td>Is the boy swimming or doing another water act...</td>\n",
       "      <td>[is, the, boy, swimming, or, doing, another, w...</td>\n",
       "      <td>[another activity, another activity, another a...</td>\n",
       "      <td>[another activity, another activity, another a...</td>\n",
       "      <td>COCO_train2014_000000478903</td>\n",
       "      <td>COCO_train2014_000000478903.npy</td>\n",
       "      <td>0.955901</td>\n",
       "      <td>[person, surfboard]</td>\n",
       "    </tr>\n",
       "  </tbody>\n",
       "</table>\n",
       "</div>"
      ],
      "text/plain": [
       "   image_id  question_id answer_type question_type  confidence  \\\n",
       "0     51606       516065       other          four           3   \n",
       "1     81721       817215       other         seven           5   \n",
       "2    480208      4802085       other          four           2   \n",
       "3    570618      5706185       other           one           2   \n",
       "4    478903      4789035       other         seven           2   \n",
       "\n",
       "                                        question_str  \\\n",
       "0         What is the hairstyle of the blond called?   \n",
       "1    How old do you have to be in canada to do this?   \n",
       "2  Can you guess the place where the man is playing?   \n",
       "3  Which rail company is named after a town in ne...   \n",
       "4  Is the boy swimming or doing another water act...   \n",
       "\n",
       "                                     question_tokens  \\\n",
       "0  [what, is, the, hairstyle, of, the, blond, cal...   \n",
       "1  [how, old, do, you, have, to, be, in, canada, ...   \n",
       "2  [can, you, guess, the, place, where, the, man,...   \n",
       "3  [which, rail, company, is, named, after, a, to...   \n",
       "4  [is, the, boy, swimming, or, doing, another, w...   \n",
       "\n",
       "                                         all_answers  \\\n",
       "0  [pony tail, pony tail, pony tail, pony tail, p...   \n",
       "1           [18, 18, 18, 18, 18, 18, 18, 18, 18, 18]   \n",
       "2  [aspen, aspen, mountain, mountain, mountain, m...   \n",
       "3  [santa fe, santa fe, santa fe, santa fe, new e...   \n",
       "4  [another activity, another activity, another a...   \n",
       "\n",
       "                                             answers  \\\n",
       "0  [pony tail, pony tail, pony tail, pony tail, p...   \n",
       "1           [18, 18, 18, 18, 18, 18, 18, 18, 18, 18]   \n",
       "2  [aspen, aspen, mountain, mountain, mountain, m...   \n",
       "3  [santa fe, santa fe, santa fe, santa fe, new e...   \n",
       "4  [another activity, another activity, another a...   \n",
       "\n",
       "                    image_name                     feature_path  \\\n",
       "0  COCO_train2014_000000051606  COCO_train2014_000000051606.npy   \n",
       "1  COCO_train2014_000000081721  COCO_train2014_000000081721.npy   \n",
       "2  COCO_train2014_000000480208  COCO_train2014_000000480208.npy   \n",
       "3  COCO_train2014_000000570618  COCO_train2014_000000570618.npy   \n",
       "4  COCO_train2014_000000478903  COCO_train2014_000000478903.npy   \n",
       "\n",
       "   annotator_agreement_cos                                      image_objects  \n",
       "0                 0.977160             [person, person, tennis racket, chair]  \n",
       "1                      NaN  [person, wine glass, person, wine glass, perso...  \n",
       "2                 0.974979                           [person, backpack, skis]  \n",
       "3                 0.960305                                            [train]  \n",
       "4                 0.955901                                [person, surfboard]  "
      ]
     },
     "execution_count": 4,
     "metadata": {},
     "output_type": "execute_result"
    }
   ],
   "source": [
    "# path to okvqa dataset (from text-investigation)\n",
    "filename = 'OKVQA_object.json'\n",
    "data_path = Path(os.getcwd()) / 'data'\n",
    "\n",
    "okvqa = {}\n",
    "okvqa['full'] = pd.read_json(data_path/filename)\n",
    "okvqa['full'].head()"
   ]
  },
  {
   "cell_type": "markdown",
   "id": "a54a0269",
   "metadata": {},
   "source": [
    "## 3) Linking ConceptNet to OKVQA questions\n",
    "\n",
    "Next, we aim at filtering ConceptNet based on the question-input from the OKVQA dataset. Since we already have a tokenized version of all questions, we start by concatenating these into a single list of unique tokens."
   ]
  },
  {
   "cell_type": "code",
   "execution_count": 13,
   "id": "b34b4716",
   "metadata": {},
   "outputs": [],
   "source": [
    "all_question_tokens = okvqa['full'].question_tokens.apply(pd.Series).stack().reset_index(drop=True)\n",
    "unique_question_tokens = list(Counter(all_question_tokens).keys())"
   ]
  },
  {
   "cell_type": "code",
   "execution_count": 14,
   "id": "3e8c5b90",
   "metadata": {},
   "outputs": [
    {
     "data": {
      "text/plain": [
       "['what', 'is', 'the', 'hairstyle', 'of', 'blond', 'called', 'how', 'old', 'do']"
      ]
     },
     "execution_count": 14,
     "metadata": {},
     "output_type": "execute_result"
    }
   ],
   "source": [
    "unique_question_tokens[:10]"
   ]
  },
  {
   "cell_type": "markdown",
   "id": "d61ea23d",
   "metadata": {},
   "source": [
    "Now - using these tokens as input for the ConceptNet-filtering function - we extract relevant concepts and their relations for the question tokens. This takes a while."
   ]
  },
  {
   "cell_type": "code",
   "execution_count": 16,
   "id": "2c1a5d91",
   "metadata": {},
   "outputs": [],
   "source": [
    "okvqa['conceptnet'] = pd.DataFrame()\n",
    "\n",
    "for token in tqdm(unique_question_tokens):\n",
    "    temp = filter_ConceptNet(token, language_key='en', same_language=True)\n",
    "    okvqa['conceptnet'] = okvqa['conceptnet'].append(temp)\n",
    "\n",
    "okvqa['conceptnet'].reset_index(drop=True, inplace=True)"
   ]
  },
  {
   "cell_type": "markdown",
   "id": "c6a29998",
   "metadata": {},
   "source": [
    "## 4) Linking ConceptNet to OKVQA image objects\n",
    "\n",
    "Next, we aim at filtering ConceptNet based on the image-input from the OKVQA dataset. Since we already have a run object detection with Faster-RCNN on the images, we start by concatenating these into a single list of unique tokens."
   ]
  },
  {
   "cell_type": "code",
   "execution_count": 24,
   "id": "89eed41f",
   "metadata": {},
   "outputs": [],
   "source": [
    "all_image_objects = okvqa['full'].image_objects.apply(pd.Series).stack().reset_index(drop=True)\n",
    "unique_image_objects = list(Counter(all_image_objects).keys())"
   ]
  },
  {
   "cell_type": "code",
   "execution_count": 25,
   "id": "a76efae2",
   "metadata": {},
   "outputs": [
    {
     "data": {
      "text/plain": [
       "['person',\n",
       " 'tennis racket',\n",
       " 'chair',\n",
       " 'wine glass',\n",
       " 'backpack',\n",
       " 'skis',\n",
       " 'train',\n",
       " 'surfboard',\n",
       " 'tv',\n",
       " 'bird']"
      ]
     },
     "execution_count": 25,
     "metadata": {},
     "output_type": "execute_result"
    }
   ],
   "source": [
    "unique_image_objects[:10]"
   ]
  },
  {
   "cell_type": "markdown",
   "id": "7611978a",
   "metadata": {},
   "source": [
    "Now - using these objects as input for the ConceptNet-filtering function - we extract relevant concepts and their relations for the question tokens."
   ]
  },
  {
   "cell_type": "code",
   "execution_count": 28,
   "id": "ccb539ad",
   "metadata": {},
   "outputs": [
    {
     "data": {
      "application/vnd.jupyter.widget-view+json": {
       "model_id": "456ab859419f4e6d949c35ad0b53d2d2",
       "version_major": 2,
       "version_minor": 0
      },
      "text/plain": [
       "HBox(children=(FloatProgress(value=0.0, max=80.0), HTML(value='')))"
      ]
     },
     "metadata": {},
     "output_type": "display_data"
    },
    {
     "name": "stdout",
     "output_type": "stream",
     "text": [
      "\n"
     ]
    }
   ],
   "source": [
    "temp_conceptnet = pd.DataFrame()\n",
    "\n",
    "for some_object in tqdm(unique_image_objects):\n",
    "    temp = filter_ConceptNet(some_object, language_key='en', same_language=True)\n",
    "    temp_conceptnet = temp_conceptnet.append(temp)\n",
    "\n",
    "temp_conceptnet.reset_index(drop=True, inplace=True)"
   ]
  },
  {
   "cell_type": "markdown",
   "id": "59088275",
   "metadata": {},
   "source": [
    "Let's add an attribute on the extracted information to determine if the relation is extracted from question tokens or image objects."
   ]
  },
  {
   "cell_type": "code",
   "execution_count": 41,
   "id": "5168c295",
   "metadata": {},
   "outputs": [],
   "source": [
    "okvqa['conceptnet']['from_question'] = [True] * okvqa['conceptnet'].__len__()\n",
    "temp_conceptnet['from_image'] = [True] * temp_conceptnet.__len__()"
   ]
  },
  {
   "cell_type": "code",
   "execution_count": 72,
   "id": "b10d0b97",
   "metadata": {},
   "outputs": [],
   "source": [
    "okvqa['conceptnet'] = okvqa['conceptnet'].merge(temp_conceptnet, how='outer')\n",
    "okvqa['conceptnet'][['from_question', 'from_image']] = okvqa['conceptnet'][['from_question', 'from_image']].fillna(False)"
   ]
  },
  {
   "cell_type": "code",
   "execution_count": 73,
   "id": "cdcae32c",
   "metadata": {},
   "outputs": [
    {
     "data": {
      "text/html": [
       "<div>\n",
       "<style scoped>\n",
       "    .dataframe tbody tr th:only-of-type {\n",
       "        vertical-align: middle;\n",
       "    }\n",
       "\n",
       "    .dataframe tbody tr th {\n",
       "        vertical-align: top;\n",
       "    }\n",
       "\n",
       "    .dataframe thead th {\n",
       "        text-align: right;\n",
       "    }\n",
       "</style>\n",
       "<table border=\"1\" class=\"dataframe\">\n",
       "  <thead>\n",
       "    <tr style=\"text-align: right;\">\n",
       "      <th></th>\n",
       "      <th>start_label</th>\n",
       "      <th>relation</th>\n",
       "      <th>end_label</th>\n",
       "      <th>surfaceText</th>\n",
       "      <th>weight</th>\n",
       "      <th>dataset</th>\n",
       "      <th>language</th>\n",
       "      <th>query_word</th>\n",
       "      <th>from_question</th>\n",
       "      <th>from_image</th>\n",
       "    </tr>\n",
       "  </thead>\n",
       "  <tbody>\n",
       "    <tr>\n",
       "      <th>0</th>\n",
       "      <td>is</td>\n",
       "      <td>HasContext</td>\n",
       "      <td>computing</td>\n",
       "      <td>None</td>\n",
       "      <td>2.000000</td>\n",
       "      <td>/d/wiktionary/en</td>\n",
       "      <td>en</td>\n",
       "      <td>is</td>\n",
       "      <td>True</td>\n",
       "      <td>False</td>\n",
       "    </tr>\n",
       "    <tr>\n",
       "      <th>1</th>\n",
       "      <td>ye olde</td>\n",
       "      <td>RelatedTo</td>\n",
       "      <td>the</td>\n",
       "      <td>None</td>\n",
       "      <td>1.000000</td>\n",
       "      <td>/d/wiktionary/en</td>\n",
       "      <td>en</td>\n",
       "      <td>the</td>\n",
       "      <td>True</td>\n",
       "      <td>False</td>\n",
       "    </tr>\n",
       "    <tr>\n",
       "      <th>2</th>\n",
       "      <td>hairstyle</td>\n",
       "      <td>Synonym</td>\n",
       "      <td>hairdo</td>\n",
       "      <td>[[hairstyle]] is a synonym of [[hairdo]]</td>\n",
       "      <td>2.000000</td>\n",
       "      <td>/d/wordnet/3.1</td>\n",
       "      <td>en</td>\n",
       "      <td>hairstyle</td>\n",
       "      <td>True</td>\n",
       "      <td>False</td>\n",
       "    </tr>\n",
       "    <tr>\n",
       "      <th>3</th>\n",
       "      <td>bingle</td>\n",
       "      <td>RelatedTo</td>\n",
       "      <td>hairstyle</td>\n",
       "      <td>None</td>\n",
       "      <td>1.000000</td>\n",
       "      <td>/d/wiktionary/en</td>\n",
       "      <td>en</td>\n",
       "      <td>hairstyle</td>\n",
       "      <td>True</td>\n",
       "      <td>False</td>\n",
       "    </tr>\n",
       "    <tr>\n",
       "      <th>4</th>\n",
       "      <td>beehive</td>\n",
       "      <td>RelatedTo</td>\n",
       "      <td>hairstyle</td>\n",
       "      <td>None</td>\n",
       "      <td>1.000000</td>\n",
       "      <td>/d/wiktionary/en</td>\n",
       "      <td>en</td>\n",
       "      <td>hairstyle</td>\n",
       "      <td>True</td>\n",
       "      <td>False</td>\n",
       "    </tr>\n",
       "    <tr>\n",
       "      <th>...</th>\n",
       "      <td>...</td>\n",
       "      <td>...</td>\n",
       "      <td>...</td>\n",
       "      <td>...</td>\n",
       "      <td>...</td>\n",
       "      <td>...</td>\n",
       "      <td>...</td>\n",
       "      <td>...</td>\n",
       "      <td>...</td>\n",
       "      <td>...</td>\n",
       "    </tr>\n",
       "    <tr>\n",
       "      <th>43004</th>\n",
       "      <td>a kite</td>\n",
       "      <td>CapableOf</td>\n",
       "      <td>fly</td>\n",
       "      <td>[[a kite]] can [[fly]]</td>\n",
       "      <td>4.472136</td>\n",
       "      <td>/d/conceptnet/4/en</td>\n",
       "      <td>en</td>\n",
       "      <td>kite</td>\n",
       "      <td>False</td>\n",
       "      <td>True</td>\n",
       "    </tr>\n",
       "    <tr>\n",
       "      <th>43005</th>\n",
       "      <td>a kite</td>\n",
       "      <td>AtLocation</td>\n",
       "      <td>a toy store</td>\n",
       "      <td>You are likely to find [[a kite]] in [[a toy s...</td>\n",
       "      <td>3.464102</td>\n",
       "      <td>/d/conceptnet/4/en</td>\n",
       "      <td>en</td>\n",
       "      <td>kite</td>\n",
       "      <td>False</td>\n",
       "      <td>True</td>\n",
       "    </tr>\n",
       "    <tr>\n",
       "      <th>43006</th>\n",
       "      <td>skateboard</td>\n",
       "      <td>MotivatedByGoal</td>\n",
       "      <td>have fun</td>\n",
       "      <td>You would [[skateboard]] because you want to [...</td>\n",
       "      <td>4.898979</td>\n",
       "      <td>/d/conceptnet/4/en</td>\n",
       "      <td>en</td>\n",
       "      <td>skateboard</td>\n",
       "      <td>False</td>\n",
       "      <td>True</td>\n",
       "    </tr>\n",
       "    <tr>\n",
       "      <th>43007</th>\n",
       "      <td>having fun</td>\n",
       "      <td>CausesDesire</td>\n",
       "      <td>skateboard</td>\n",
       "      <td>[[having fun]] would make you want to [[skateb...</td>\n",
       "      <td>2.828427</td>\n",
       "      <td>/d/conceptnet/4/en</td>\n",
       "      <td>en</td>\n",
       "      <td>skateboard</td>\n",
       "      <td>False</td>\n",
       "      <td>True</td>\n",
       "    </tr>\n",
       "    <tr>\n",
       "      <th>43008</th>\n",
       "      <td>skateboard</td>\n",
       "      <td>HasSubevent</td>\n",
       "      <td>falling off</td>\n",
       "      <td>Something that might happen when you [[skatebo...</td>\n",
       "      <td>2.828427</td>\n",
       "      <td>/d/conceptnet/4/en</td>\n",
       "      <td>en</td>\n",
       "      <td>skateboard</td>\n",
       "      <td>False</td>\n",
       "      <td>True</td>\n",
       "    </tr>\n",
       "  </tbody>\n",
       "</table>\n",
       "<p>43009 rows × 10 columns</p>\n",
       "</div>"
      ],
      "text/plain": [
       "      start_label         relation    end_label  \\\n",
       "0              is       HasContext    computing   \n",
       "1         ye olde        RelatedTo          the   \n",
       "2       hairstyle          Synonym       hairdo   \n",
       "3          bingle        RelatedTo    hairstyle   \n",
       "4         beehive        RelatedTo    hairstyle   \n",
       "...           ...              ...          ...   \n",
       "43004      a kite        CapableOf          fly   \n",
       "43005      a kite       AtLocation  a toy store   \n",
       "43006  skateboard  MotivatedByGoal     have fun   \n",
       "43007  having fun     CausesDesire   skateboard   \n",
       "43008  skateboard      HasSubevent  falling off   \n",
       "\n",
       "                                             surfaceText    weight  \\\n",
       "0                                                   None  2.000000   \n",
       "1                                                   None  1.000000   \n",
       "2               [[hairstyle]] is a synonym of [[hairdo]]  2.000000   \n",
       "3                                                   None  1.000000   \n",
       "4                                                   None  1.000000   \n",
       "...                                                  ...       ...   \n",
       "43004                             [[a kite]] can [[fly]]  4.472136   \n",
       "43005  You are likely to find [[a kite]] in [[a toy s...  3.464102   \n",
       "43006  You would [[skateboard]] because you want to [...  4.898979   \n",
       "43007  [[having fun]] would make you want to [[skateb...  2.828427   \n",
       "43008  Something that might happen when you [[skatebo...  2.828427   \n",
       "\n",
       "                  dataset language  query_word  from_question  from_image  \n",
       "0        /d/wiktionary/en       en          is           True       False  \n",
       "1        /d/wiktionary/en       en         the           True       False  \n",
       "2          /d/wordnet/3.1       en   hairstyle           True       False  \n",
       "3        /d/wiktionary/en       en   hairstyle           True       False  \n",
       "4        /d/wiktionary/en       en   hairstyle           True       False  \n",
       "...                   ...      ...         ...            ...         ...  \n",
       "43004  /d/conceptnet/4/en       en        kite          False        True  \n",
       "43005  /d/conceptnet/4/en       en        kite          False        True  \n",
       "43006  /d/conceptnet/4/en       en  skateboard          False        True  \n",
       "43007  /d/conceptnet/4/en       en  skateboard          False        True  \n",
       "43008  /d/conceptnet/4/en       en  skateboard          False        True  \n",
       "\n",
       "[43009 rows x 10 columns]"
      ]
     },
     "execution_count": 73,
     "metadata": {},
     "output_type": "execute_result"
    }
   ],
   "source": [
    "okvqa['conceptnet']"
   ]
  },
  {
   "cell_type": "code",
   "execution_count": 74,
   "id": "a03611b4",
   "metadata": {},
   "outputs": [],
   "source": [
    "# save data\n",
    "okvqa['conceptnet'].to_json('data/okvqa_conceptnet.json')"
   ]
  },
  {
   "cell_type": "markdown",
   "id": "d3b80f02",
   "metadata": {},
   "source": [
    "## 5) Linking ConceptNet to OKVQA answers\n",
    "\n",
    "Next, we aim at filtering ConceptNet based on the given answers from the OKVQA dataset."
   ]
  },
  {
   "cell_type": "code",
   "execution_count": null,
   "id": "a5065981",
   "metadata": {},
   "outputs": [],
   "source": [
    "# path to okvqa dataset (from text-investigation)\n",
    "filename = 'OKVQA_object.json'\n",
    "data_path = Path(os.getcwd()) / 'data'\n",
    "\n",
    "okvqa = {}\n",
    "okvqa['full'] = pd.read_json(data_path/filename)\n",
    "okvqa['full'].head()"
   ]
  },
  {
   "cell_type": "code",
   "execution_count": 5,
   "id": "289ee6eb",
   "metadata": {},
   "outputs": [],
   "source": [
    "all_answers = okvqa['full'].answers.apply(pd.Series).stack().reset_index(drop=True)\n",
    "unique_answers = all_answers.unique()"
   ]
  },
  {
   "cell_type": "code",
   "execution_count": 10,
   "id": "5a51b11b",
   "metadata": {},
   "outputs": [],
   "source": [
    "from nltk import word_tokenize"
   ]
  },
  {
   "cell_type": "code",
   "execution_count": 14,
   "id": "298f699d",
   "metadata": {},
   "outputs": [
    {
     "data": {
      "application/vnd.jupyter.widget-view+json": {
       "model_id": "2b497c5fcceb41008a69bbeb511cabca",
       "version_major": 2,
       "version_minor": 0
      },
      "text/plain": [
       "HBox(children=(FloatProgress(value=0.0, max=15040.0), HTML(value='')))"
      ]
     },
     "metadata": {},
     "output_type": "display_data"
    },
    {
     "name": "stdout",
     "output_type": "stream",
     "text": [
      "\n"
     ]
    }
   ],
   "source": [
    "all_answer_tokens = []\n",
    "for answer in tqdm(unique_answers):\n",
    "    all_answer_tokens += word_tokenize(answer)\n",
    "\n",
    "all_answer_tokens = set(all_answer_tokens)"
   ]
  },
  {
   "cell_type": "code",
   "execution_count": 16,
   "id": "e3aecea3",
   "metadata": {},
   "outputs": [
    {
     "data": {
      "application/vnd.jupyter.widget-view+json": {
       "model_id": "aed79ac659fd4dd7b0c4cca0641e7286",
       "version_major": 2,
       "version_minor": 0
      },
      "text/plain": [
       "HBox(children=(FloatProgress(value=0.0, max=9646.0), HTML(value='')))"
      ]
     },
     "metadata": {},
     "output_type": "display_data"
    },
    {
     "name": "stdout",
     "output_type": "stream",
     "text": [
      "\n"
     ]
    },
    {
     "ename": "KeyboardInterrupt",
     "evalue": "",
     "output_type": "error",
     "traceback": [
      "\u001b[0;31m---------------------------------------------------------------------------\u001b[0m",
      "\u001b[0;31mKeyboardInterrupt\u001b[0m                         Traceback (most recent call last)",
      "\u001b[0;32m/var/folders/c7/h3k1399d5gvgm2_wy7wjs_yc0000gn/T/ipykernel_6620/3203033161.py\u001b[0m in \u001b[0;36m<module>\u001b[0;34m\u001b[0m\n\u001b[1;32m      2\u001b[0m \u001b[0;34m\u001b[0m\u001b[0m\n\u001b[1;32m      3\u001b[0m \u001b[0;32mfor\u001b[0m \u001b[0manswer_token\u001b[0m \u001b[0;32min\u001b[0m \u001b[0mtqdm\u001b[0m\u001b[0;34m(\u001b[0m\u001b[0mall_answer_tokens\u001b[0m\u001b[0;34m)\u001b[0m\u001b[0;34m:\u001b[0m\u001b[0;34m\u001b[0m\u001b[0;34m\u001b[0m\u001b[0m\n\u001b[0;32m----> 4\u001b[0;31m     \u001b[0mtemp\u001b[0m \u001b[0;34m=\u001b[0m \u001b[0mfilter_ConceptNet\u001b[0m\u001b[0;34m(\u001b[0m\u001b[0manswer_token\u001b[0m\u001b[0;34m,\u001b[0m \u001b[0mlanguage_key\u001b[0m\u001b[0;34m=\u001b[0m\u001b[0;34m'en'\u001b[0m\u001b[0;34m,\u001b[0m \u001b[0msame_language\u001b[0m\u001b[0;34m=\u001b[0m\u001b[0;32mTrue\u001b[0m\u001b[0;34m)\u001b[0m\u001b[0;34m\u001b[0m\u001b[0;34m\u001b[0m\u001b[0m\n\u001b[0m\u001b[1;32m      5\u001b[0m     \u001b[0mtemp_conceptnet\u001b[0m \u001b[0;34m=\u001b[0m \u001b[0mtemp_conceptnet\u001b[0m\u001b[0;34m.\u001b[0m\u001b[0mappend\u001b[0m\u001b[0;34m(\u001b[0m\u001b[0mtemp\u001b[0m\u001b[0;34m)\u001b[0m\u001b[0;34m\u001b[0m\u001b[0;34m\u001b[0m\u001b[0m\n\u001b[1;32m      6\u001b[0m \u001b[0;34m\u001b[0m\u001b[0m\n",
      "\u001b[0;32m/var/folders/c7/h3k1399d5gvgm2_wy7wjs_yc0000gn/T/ipykernel_6620/3111856062.py\u001b[0m in \u001b[0;36mfilter_ConceptNet\u001b[0;34m(word, language_key, same_language)\u001b[0m\n\u001b[1;32m      2\u001b[0m \u001b[0;34m\u001b[0m\u001b[0m\n\u001b[1;32m      3\u001b[0m     \u001b[0;31m# call the ConceptNet API\u001b[0m\u001b[0;34m\u001b[0m\u001b[0;34m\u001b[0m\u001b[0;34m\u001b[0m\u001b[0m\n\u001b[0;32m----> 4\u001b[0;31m     \u001b[0mjson_object\u001b[0m \u001b[0;34m=\u001b[0m \u001b[0mrequests\u001b[0m\u001b[0;34m.\u001b[0m\u001b[0mget\u001b[0m\u001b[0;34m(\u001b[0m\u001b[0;34mf'http://api.conceptnet.io/c/{language_key}/{word}'\u001b[0m\u001b[0;34m)\u001b[0m\u001b[0;34m.\u001b[0m\u001b[0mjson\u001b[0m\u001b[0;34m(\u001b[0m\u001b[0;34m)\u001b[0m\u001b[0;34m\u001b[0m\u001b[0;34m\u001b[0m\u001b[0m\n\u001b[0m\u001b[1;32m      5\u001b[0m \u001b[0;34m\u001b[0m\u001b[0m\n\u001b[1;32m      6\u001b[0m     \u001b[0;31m# check if the concept exists in the graph\u001b[0m\u001b[0;34m\u001b[0m\u001b[0;34m\u001b[0m\u001b[0;34m\u001b[0m\u001b[0m\n",
      "\u001b[0;32m~/Downloads/ENTER/envs/mmf/lib/python3.7/site-packages/requests/api.py\u001b[0m in \u001b[0;36mget\u001b[0;34m(url, params, **kwargs)\u001b[0m\n\u001b[1;32m     74\u001b[0m \u001b[0;34m\u001b[0m\u001b[0m\n\u001b[1;32m     75\u001b[0m     \u001b[0mkwargs\u001b[0m\u001b[0;34m.\u001b[0m\u001b[0msetdefault\u001b[0m\u001b[0;34m(\u001b[0m\u001b[0;34m'allow_redirects'\u001b[0m\u001b[0;34m,\u001b[0m \u001b[0;32mTrue\u001b[0m\u001b[0;34m)\u001b[0m\u001b[0;34m\u001b[0m\u001b[0;34m\u001b[0m\u001b[0m\n\u001b[0;32m---> 76\u001b[0;31m     \u001b[0;32mreturn\u001b[0m \u001b[0mrequest\u001b[0m\u001b[0;34m(\u001b[0m\u001b[0;34m'get'\u001b[0m\u001b[0;34m,\u001b[0m \u001b[0murl\u001b[0m\u001b[0;34m,\u001b[0m \u001b[0mparams\u001b[0m\u001b[0;34m=\u001b[0m\u001b[0mparams\u001b[0m\u001b[0;34m,\u001b[0m \u001b[0;34m**\u001b[0m\u001b[0mkwargs\u001b[0m\u001b[0;34m)\u001b[0m\u001b[0;34m\u001b[0m\u001b[0;34m\u001b[0m\u001b[0m\n\u001b[0m\u001b[1;32m     77\u001b[0m \u001b[0;34m\u001b[0m\u001b[0m\n\u001b[1;32m     78\u001b[0m \u001b[0;34m\u001b[0m\u001b[0m\n",
      "\u001b[0;32m~/Downloads/ENTER/envs/mmf/lib/python3.7/site-packages/requests/api.py\u001b[0m in \u001b[0;36mrequest\u001b[0;34m(method, url, **kwargs)\u001b[0m\n\u001b[1;32m     59\u001b[0m     \u001b[0;31m# cases, and look like a memory leak in others.\u001b[0m\u001b[0;34m\u001b[0m\u001b[0;34m\u001b[0m\u001b[0;34m\u001b[0m\u001b[0m\n\u001b[1;32m     60\u001b[0m     \u001b[0;32mwith\u001b[0m \u001b[0msessions\u001b[0m\u001b[0;34m.\u001b[0m\u001b[0mSession\u001b[0m\u001b[0;34m(\u001b[0m\u001b[0;34m)\u001b[0m \u001b[0;32mas\u001b[0m \u001b[0msession\u001b[0m\u001b[0;34m:\u001b[0m\u001b[0;34m\u001b[0m\u001b[0;34m\u001b[0m\u001b[0m\n\u001b[0;32m---> 61\u001b[0;31m         \u001b[0;32mreturn\u001b[0m \u001b[0msession\u001b[0m\u001b[0;34m.\u001b[0m\u001b[0mrequest\u001b[0m\u001b[0;34m(\u001b[0m\u001b[0mmethod\u001b[0m\u001b[0;34m=\u001b[0m\u001b[0mmethod\u001b[0m\u001b[0;34m,\u001b[0m \u001b[0murl\u001b[0m\u001b[0;34m=\u001b[0m\u001b[0murl\u001b[0m\u001b[0;34m,\u001b[0m \u001b[0;34m**\u001b[0m\u001b[0mkwargs\u001b[0m\u001b[0;34m)\u001b[0m\u001b[0;34m\u001b[0m\u001b[0;34m\u001b[0m\u001b[0m\n\u001b[0m\u001b[1;32m     62\u001b[0m \u001b[0;34m\u001b[0m\u001b[0m\n\u001b[1;32m     63\u001b[0m \u001b[0;34m\u001b[0m\u001b[0m\n",
      "\u001b[0;32m~/Downloads/ENTER/envs/mmf/lib/python3.7/site-packages/requests/sessions.py\u001b[0m in \u001b[0;36mrequest\u001b[0;34m(self, method, url, params, data, headers, cookies, files, auth, timeout, allow_redirects, proxies, hooks, stream, verify, cert, json)\u001b[0m\n\u001b[1;32m    528\u001b[0m         }\n\u001b[1;32m    529\u001b[0m         \u001b[0msend_kwargs\u001b[0m\u001b[0;34m.\u001b[0m\u001b[0mupdate\u001b[0m\u001b[0;34m(\u001b[0m\u001b[0msettings\u001b[0m\u001b[0;34m)\u001b[0m\u001b[0;34m\u001b[0m\u001b[0;34m\u001b[0m\u001b[0m\n\u001b[0;32m--> 530\u001b[0;31m         \u001b[0mresp\u001b[0m \u001b[0;34m=\u001b[0m \u001b[0mself\u001b[0m\u001b[0;34m.\u001b[0m\u001b[0msend\u001b[0m\u001b[0;34m(\u001b[0m\u001b[0mprep\u001b[0m\u001b[0;34m,\u001b[0m \u001b[0;34m**\u001b[0m\u001b[0msend_kwargs\u001b[0m\u001b[0;34m)\u001b[0m\u001b[0;34m\u001b[0m\u001b[0;34m\u001b[0m\u001b[0m\n\u001b[0m\u001b[1;32m    531\u001b[0m \u001b[0;34m\u001b[0m\u001b[0m\n\u001b[1;32m    532\u001b[0m         \u001b[0;32mreturn\u001b[0m \u001b[0mresp\u001b[0m\u001b[0;34m\u001b[0m\u001b[0;34m\u001b[0m\u001b[0m\n",
      "\u001b[0;32m~/Downloads/ENTER/envs/mmf/lib/python3.7/site-packages/requests/sessions.py\u001b[0m in \u001b[0;36msend\u001b[0;34m(self, request, **kwargs)\u001b[0m\n\u001b[1;32m    663\u001b[0m \u001b[0;34m\u001b[0m\u001b[0m\n\u001b[1;32m    664\u001b[0m         \u001b[0;31m# Resolve redirects if allowed.\u001b[0m\u001b[0;34m\u001b[0m\u001b[0;34m\u001b[0m\u001b[0;34m\u001b[0m\u001b[0m\n\u001b[0;32m--> 665\u001b[0;31m         \u001b[0mhistory\u001b[0m \u001b[0;34m=\u001b[0m \u001b[0;34m[\u001b[0m\u001b[0mresp\u001b[0m \u001b[0;32mfor\u001b[0m \u001b[0mresp\u001b[0m \u001b[0;32min\u001b[0m \u001b[0mgen\u001b[0m\u001b[0;34m]\u001b[0m \u001b[0;32mif\u001b[0m \u001b[0mallow_redirects\u001b[0m \u001b[0;32melse\u001b[0m \u001b[0;34m[\u001b[0m\u001b[0;34m]\u001b[0m\u001b[0;34m\u001b[0m\u001b[0;34m\u001b[0m\u001b[0m\n\u001b[0m\u001b[1;32m    666\u001b[0m \u001b[0;34m\u001b[0m\u001b[0m\n\u001b[1;32m    667\u001b[0m         \u001b[0;31m# Shuffle things around if there's history.\u001b[0m\u001b[0;34m\u001b[0m\u001b[0;34m\u001b[0m\u001b[0;34m\u001b[0m\u001b[0m\n",
      "\u001b[0;32m~/Downloads/ENTER/envs/mmf/lib/python3.7/site-packages/requests/sessions.py\u001b[0m in \u001b[0;36m<listcomp>\u001b[0;34m(.0)\u001b[0m\n\u001b[1;32m    663\u001b[0m \u001b[0;34m\u001b[0m\u001b[0m\n\u001b[1;32m    664\u001b[0m         \u001b[0;31m# Resolve redirects if allowed.\u001b[0m\u001b[0;34m\u001b[0m\u001b[0;34m\u001b[0m\u001b[0;34m\u001b[0m\u001b[0m\n\u001b[0;32m--> 665\u001b[0;31m         \u001b[0mhistory\u001b[0m \u001b[0;34m=\u001b[0m \u001b[0;34m[\u001b[0m\u001b[0mresp\u001b[0m \u001b[0;32mfor\u001b[0m \u001b[0mresp\u001b[0m \u001b[0;32min\u001b[0m \u001b[0mgen\u001b[0m\u001b[0;34m]\u001b[0m \u001b[0;32mif\u001b[0m \u001b[0mallow_redirects\u001b[0m \u001b[0;32melse\u001b[0m \u001b[0;34m[\u001b[0m\u001b[0;34m]\u001b[0m\u001b[0;34m\u001b[0m\u001b[0;34m\u001b[0m\u001b[0m\n\u001b[0m\u001b[1;32m    666\u001b[0m \u001b[0;34m\u001b[0m\u001b[0m\n\u001b[1;32m    667\u001b[0m         \u001b[0;31m# Shuffle things around if there's history.\u001b[0m\u001b[0;34m\u001b[0m\u001b[0;34m\u001b[0m\u001b[0;34m\u001b[0m\u001b[0m\n",
      "\u001b[0;32m~/Downloads/ENTER/envs/mmf/lib/python3.7/site-packages/requests/sessions.py\u001b[0m in \u001b[0;36mresolve_redirects\u001b[0;34m(self, resp, req, stream, timeout, verify, cert, proxies, yield_requests, **adapter_kwargs)\u001b[0m\n\u001b[1;32m    243\u001b[0m                     \u001b[0mproxies\u001b[0m\u001b[0;34m=\u001b[0m\u001b[0mproxies\u001b[0m\u001b[0;34m,\u001b[0m\u001b[0;34m\u001b[0m\u001b[0;34m\u001b[0m\u001b[0m\n\u001b[1;32m    244\u001b[0m                     \u001b[0mallow_redirects\u001b[0m\u001b[0;34m=\u001b[0m\u001b[0;32mFalse\u001b[0m\u001b[0;34m,\u001b[0m\u001b[0;34m\u001b[0m\u001b[0;34m\u001b[0m\u001b[0m\n\u001b[0;32m--> 245\u001b[0;31m                     \u001b[0;34m**\u001b[0m\u001b[0madapter_kwargs\u001b[0m\u001b[0;34m\u001b[0m\u001b[0;34m\u001b[0m\u001b[0m\n\u001b[0m\u001b[1;32m    246\u001b[0m                 )\n\u001b[1;32m    247\u001b[0m \u001b[0;34m\u001b[0m\u001b[0m\n",
      "\u001b[0;32m~/Downloads/ENTER/envs/mmf/lib/python3.7/site-packages/requests/sessions.py\u001b[0m in \u001b[0;36msend\u001b[0;34m(self, request, **kwargs)\u001b[0m\n\u001b[1;32m    641\u001b[0m \u001b[0;34m\u001b[0m\u001b[0m\n\u001b[1;32m    642\u001b[0m         \u001b[0;31m# Send the request\u001b[0m\u001b[0;34m\u001b[0m\u001b[0;34m\u001b[0m\u001b[0;34m\u001b[0m\u001b[0m\n\u001b[0;32m--> 643\u001b[0;31m         \u001b[0mr\u001b[0m \u001b[0;34m=\u001b[0m \u001b[0madapter\u001b[0m\u001b[0;34m.\u001b[0m\u001b[0msend\u001b[0m\u001b[0;34m(\u001b[0m\u001b[0mrequest\u001b[0m\u001b[0;34m,\u001b[0m \u001b[0;34m**\u001b[0m\u001b[0mkwargs\u001b[0m\u001b[0;34m)\u001b[0m\u001b[0;34m\u001b[0m\u001b[0;34m\u001b[0m\u001b[0m\n\u001b[0m\u001b[1;32m    644\u001b[0m \u001b[0;34m\u001b[0m\u001b[0m\n\u001b[1;32m    645\u001b[0m         \u001b[0;31m# Total elapsed time of the request (approximately)\u001b[0m\u001b[0;34m\u001b[0m\u001b[0;34m\u001b[0m\u001b[0;34m\u001b[0m\u001b[0m\n",
      "\u001b[0;32m~/Downloads/ENTER/envs/mmf/lib/python3.7/site-packages/requests/adapters.py\u001b[0m in \u001b[0;36msend\u001b[0;34m(self, request, stream, timeout, verify, cert, proxies)\u001b[0m\n\u001b[1;32m    447\u001b[0m                     \u001b[0mdecode_content\u001b[0m\u001b[0;34m=\u001b[0m\u001b[0;32mFalse\u001b[0m\u001b[0;34m,\u001b[0m\u001b[0;34m\u001b[0m\u001b[0;34m\u001b[0m\u001b[0m\n\u001b[1;32m    448\u001b[0m                     \u001b[0mretries\u001b[0m\u001b[0;34m=\u001b[0m\u001b[0mself\u001b[0m\u001b[0;34m.\u001b[0m\u001b[0mmax_retries\u001b[0m\u001b[0;34m,\u001b[0m\u001b[0;34m\u001b[0m\u001b[0;34m\u001b[0m\u001b[0m\n\u001b[0;32m--> 449\u001b[0;31m                     \u001b[0mtimeout\u001b[0m\u001b[0;34m=\u001b[0m\u001b[0mtimeout\u001b[0m\u001b[0;34m\u001b[0m\u001b[0;34m\u001b[0m\u001b[0m\n\u001b[0m\u001b[1;32m    450\u001b[0m                 )\n\u001b[1;32m    451\u001b[0m \u001b[0;34m\u001b[0m\u001b[0m\n",
      "\u001b[0;32m~/Downloads/ENTER/envs/mmf/lib/python3.7/site-packages/urllib3/connectionpool.py\u001b[0m in \u001b[0;36murlopen\u001b[0;34m(self, method, url, body, headers, retries, redirect, assert_same_host, timeout, pool_timeout, release_conn, chunked, body_pos, **response_kw)\u001b[0m\n\u001b[1;32m    675\u001b[0m                 \u001b[0mbody\u001b[0m\u001b[0;34m=\u001b[0m\u001b[0mbody\u001b[0m\u001b[0;34m,\u001b[0m\u001b[0;34m\u001b[0m\u001b[0;34m\u001b[0m\u001b[0m\n\u001b[1;32m    676\u001b[0m                 \u001b[0mheaders\u001b[0m\u001b[0;34m=\u001b[0m\u001b[0mheaders\u001b[0m\u001b[0;34m,\u001b[0m\u001b[0;34m\u001b[0m\u001b[0;34m\u001b[0m\u001b[0m\n\u001b[0;32m--> 677\u001b[0;31m                 \u001b[0mchunked\u001b[0m\u001b[0;34m=\u001b[0m\u001b[0mchunked\u001b[0m\u001b[0;34m,\u001b[0m\u001b[0;34m\u001b[0m\u001b[0;34m\u001b[0m\u001b[0m\n\u001b[0m\u001b[1;32m    678\u001b[0m             )\n\u001b[1;32m    679\u001b[0m \u001b[0;34m\u001b[0m\u001b[0m\n",
      "\u001b[0;32m~/Downloads/ENTER/envs/mmf/lib/python3.7/site-packages/urllib3/connectionpool.py\u001b[0m in \u001b[0;36m_make_request\u001b[0;34m(self, conn, method, url, timeout, chunked, **httplib_request_kw)\u001b[0m\n\u001b[1;32m    424\u001b[0m                     \u001b[0;31m# Python 3 (including for exceptions like SystemExit).\u001b[0m\u001b[0;34m\u001b[0m\u001b[0;34m\u001b[0m\u001b[0;34m\u001b[0m\u001b[0m\n\u001b[1;32m    425\u001b[0m                     \u001b[0;31m# Otherwise it looks like a bug in the code.\u001b[0m\u001b[0;34m\u001b[0m\u001b[0;34m\u001b[0m\u001b[0;34m\u001b[0m\u001b[0m\n\u001b[0;32m--> 426\u001b[0;31m                     \u001b[0msix\u001b[0m\u001b[0;34m.\u001b[0m\u001b[0mraise_from\u001b[0m\u001b[0;34m(\u001b[0m\u001b[0me\u001b[0m\u001b[0;34m,\u001b[0m \u001b[0;32mNone\u001b[0m\u001b[0;34m)\u001b[0m\u001b[0;34m\u001b[0m\u001b[0;34m\u001b[0m\u001b[0m\n\u001b[0m\u001b[1;32m    427\u001b[0m         \u001b[0;32mexcept\u001b[0m \u001b[0;34m(\u001b[0m\u001b[0mSocketTimeout\u001b[0m\u001b[0;34m,\u001b[0m \u001b[0mBaseSSLError\u001b[0m\u001b[0;34m,\u001b[0m \u001b[0mSocketError\u001b[0m\u001b[0;34m)\u001b[0m \u001b[0;32mas\u001b[0m \u001b[0me\u001b[0m\u001b[0;34m:\u001b[0m\u001b[0;34m\u001b[0m\u001b[0;34m\u001b[0m\u001b[0m\n\u001b[1;32m    428\u001b[0m             \u001b[0mself\u001b[0m\u001b[0;34m.\u001b[0m\u001b[0m_raise_timeout\u001b[0m\u001b[0;34m(\u001b[0m\u001b[0merr\u001b[0m\u001b[0;34m=\u001b[0m\u001b[0me\u001b[0m\u001b[0;34m,\u001b[0m \u001b[0murl\u001b[0m\u001b[0;34m=\u001b[0m\u001b[0murl\u001b[0m\u001b[0;34m,\u001b[0m \u001b[0mtimeout_value\u001b[0m\u001b[0;34m=\u001b[0m\u001b[0mread_timeout\u001b[0m\u001b[0;34m)\u001b[0m\u001b[0;34m\u001b[0m\u001b[0;34m\u001b[0m\u001b[0m\n",
      "\u001b[0;32m~/Downloads/ENTER/envs/mmf/lib/python3.7/site-packages/urllib3/packages/six.py\u001b[0m in \u001b[0;36mraise_from\u001b[0;34m(value, from_value)\u001b[0m\n",
      "\u001b[0;32m~/Downloads/ENTER/envs/mmf/lib/python3.7/site-packages/urllib3/connectionpool.py\u001b[0m in \u001b[0;36m_make_request\u001b[0;34m(self, conn, method, url, timeout, chunked, **httplib_request_kw)\u001b[0m\n\u001b[1;32m    419\u001b[0m                 \u001b[0;31m# Python 3\u001b[0m\u001b[0;34m\u001b[0m\u001b[0;34m\u001b[0m\u001b[0;34m\u001b[0m\u001b[0m\n\u001b[1;32m    420\u001b[0m                 \u001b[0;32mtry\u001b[0m\u001b[0;34m:\u001b[0m\u001b[0;34m\u001b[0m\u001b[0;34m\u001b[0m\u001b[0m\n\u001b[0;32m--> 421\u001b[0;31m                     \u001b[0mhttplib_response\u001b[0m \u001b[0;34m=\u001b[0m \u001b[0mconn\u001b[0m\u001b[0;34m.\u001b[0m\u001b[0mgetresponse\u001b[0m\u001b[0;34m(\u001b[0m\u001b[0;34m)\u001b[0m\u001b[0;34m\u001b[0m\u001b[0;34m\u001b[0m\u001b[0m\n\u001b[0m\u001b[1;32m    422\u001b[0m                 \u001b[0;32mexcept\u001b[0m \u001b[0mBaseException\u001b[0m \u001b[0;32mas\u001b[0m \u001b[0me\u001b[0m\u001b[0;34m:\u001b[0m\u001b[0;34m\u001b[0m\u001b[0;34m\u001b[0m\u001b[0m\n\u001b[1;32m    423\u001b[0m                     \u001b[0;31m# Remove the TypeError from the exception chain in\u001b[0m\u001b[0;34m\u001b[0m\u001b[0;34m\u001b[0m\u001b[0;34m\u001b[0m\u001b[0m\n",
      "\u001b[0;32m~/Downloads/ENTER/envs/mmf/lib/python3.7/http/client.py\u001b[0m in \u001b[0;36mgetresponse\u001b[0;34m(self)\u001b[0m\n\u001b[1;32m   1371\u001b[0m         \u001b[0;32mtry\u001b[0m\u001b[0;34m:\u001b[0m\u001b[0;34m\u001b[0m\u001b[0;34m\u001b[0m\u001b[0m\n\u001b[1;32m   1372\u001b[0m             \u001b[0;32mtry\u001b[0m\u001b[0;34m:\u001b[0m\u001b[0;34m\u001b[0m\u001b[0;34m\u001b[0m\u001b[0m\n\u001b[0;32m-> 1373\u001b[0;31m                 \u001b[0mresponse\u001b[0m\u001b[0;34m.\u001b[0m\u001b[0mbegin\u001b[0m\u001b[0;34m(\u001b[0m\u001b[0;34m)\u001b[0m\u001b[0;34m\u001b[0m\u001b[0;34m\u001b[0m\u001b[0m\n\u001b[0m\u001b[1;32m   1374\u001b[0m             \u001b[0;32mexcept\u001b[0m \u001b[0mConnectionError\u001b[0m\u001b[0;34m:\u001b[0m\u001b[0;34m\u001b[0m\u001b[0;34m\u001b[0m\u001b[0m\n\u001b[1;32m   1375\u001b[0m                 \u001b[0mself\u001b[0m\u001b[0;34m.\u001b[0m\u001b[0mclose\u001b[0m\u001b[0;34m(\u001b[0m\u001b[0;34m)\u001b[0m\u001b[0;34m\u001b[0m\u001b[0;34m\u001b[0m\u001b[0m\n",
      "\u001b[0;32m~/Downloads/ENTER/envs/mmf/lib/python3.7/http/client.py\u001b[0m in \u001b[0;36mbegin\u001b[0;34m(self)\u001b[0m\n\u001b[1;32m    317\u001b[0m         \u001b[0;31m# read until we get a non-100 response\u001b[0m\u001b[0;34m\u001b[0m\u001b[0;34m\u001b[0m\u001b[0;34m\u001b[0m\u001b[0m\n\u001b[1;32m    318\u001b[0m         \u001b[0;32mwhile\u001b[0m \u001b[0;32mTrue\u001b[0m\u001b[0;34m:\u001b[0m\u001b[0;34m\u001b[0m\u001b[0;34m\u001b[0m\u001b[0m\n\u001b[0;32m--> 319\u001b[0;31m             \u001b[0mversion\u001b[0m\u001b[0;34m,\u001b[0m \u001b[0mstatus\u001b[0m\u001b[0;34m,\u001b[0m \u001b[0mreason\u001b[0m \u001b[0;34m=\u001b[0m \u001b[0mself\u001b[0m\u001b[0;34m.\u001b[0m\u001b[0m_read_status\u001b[0m\u001b[0;34m(\u001b[0m\u001b[0;34m)\u001b[0m\u001b[0;34m\u001b[0m\u001b[0;34m\u001b[0m\u001b[0m\n\u001b[0m\u001b[1;32m    320\u001b[0m             \u001b[0;32mif\u001b[0m \u001b[0mstatus\u001b[0m \u001b[0;34m!=\u001b[0m \u001b[0mCONTINUE\u001b[0m\u001b[0;34m:\u001b[0m\u001b[0;34m\u001b[0m\u001b[0;34m\u001b[0m\u001b[0m\n\u001b[1;32m    321\u001b[0m                 \u001b[0;32mbreak\u001b[0m\u001b[0;34m\u001b[0m\u001b[0;34m\u001b[0m\u001b[0m\n",
      "\u001b[0;32m~/Downloads/ENTER/envs/mmf/lib/python3.7/http/client.py\u001b[0m in \u001b[0;36m_read_status\u001b[0;34m(self)\u001b[0m\n\u001b[1;32m    278\u001b[0m \u001b[0;34m\u001b[0m\u001b[0m\n\u001b[1;32m    279\u001b[0m     \u001b[0;32mdef\u001b[0m \u001b[0m_read_status\u001b[0m\u001b[0;34m(\u001b[0m\u001b[0mself\u001b[0m\u001b[0;34m)\u001b[0m\u001b[0;34m:\u001b[0m\u001b[0;34m\u001b[0m\u001b[0;34m\u001b[0m\u001b[0m\n\u001b[0;32m--> 280\u001b[0;31m         \u001b[0mline\u001b[0m \u001b[0;34m=\u001b[0m \u001b[0mstr\u001b[0m\u001b[0;34m(\u001b[0m\u001b[0mself\u001b[0m\u001b[0;34m.\u001b[0m\u001b[0mfp\u001b[0m\u001b[0;34m.\u001b[0m\u001b[0mreadline\u001b[0m\u001b[0;34m(\u001b[0m\u001b[0m_MAXLINE\u001b[0m \u001b[0;34m+\u001b[0m \u001b[0;36m1\u001b[0m\u001b[0;34m)\u001b[0m\u001b[0;34m,\u001b[0m \u001b[0;34m\"iso-8859-1\"\u001b[0m\u001b[0;34m)\u001b[0m\u001b[0;34m\u001b[0m\u001b[0;34m\u001b[0m\u001b[0m\n\u001b[0m\u001b[1;32m    281\u001b[0m         \u001b[0;32mif\u001b[0m \u001b[0mlen\u001b[0m\u001b[0;34m(\u001b[0m\u001b[0mline\u001b[0m\u001b[0;34m)\u001b[0m \u001b[0;34m>\u001b[0m \u001b[0m_MAXLINE\u001b[0m\u001b[0;34m:\u001b[0m\u001b[0;34m\u001b[0m\u001b[0;34m\u001b[0m\u001b[0m\n\u001b[1;32m    282\u001b[0m             \u001b[0;32mraise\u001b[0m \u001b[0mLineTooLong\u001b[0m\u001b[0;34m(\u001b[0m\u001b[0;34m\"status line\"\u001b[0m\u001b[0;34m)\u001b[0m\u001b[0;34m\u001b[0m\u001b[0;34m\u001b[0m\u001b[0m\n",
      "\u001b[0;32m~/Downloads/ENTER/envs/mmf/lib/python3.7/socket.py\u001b[0m in \u001b[0;36mreadinto\u001b[0;34m(self, b)\u001b[0m\n\u001b[1;32m    587\u001b[0m         \u001b[0;32mwhile\u001b[0m \u001b[0;32mTrue\u001b[0m\u001b[0;34m:\u001b[0m\u001b[0;34m\u001b[0m\u001b[0;34m\u001b[0m\u001b[0m\n\u001b[1;32m    588\u001b[0m             \u001b[0;32mtry\u001b[0m\u001b[0;34m:\u001b[0m\u001b[0;34m\u001b[0m\u001b[0;34m\u001b[0m\u001b[0m\n\u001b[0;32m--> 589\u001b[0;31m                 \u001b[0;32mreturn\u001b[0m \u001b[0mself\u001b[0m\u001b[0;34m.\u001b[0m\u001b[0m_sock\u001b[0m\u001b[0;34m.\u001b[0m\u001b[0mrecv_into\u001b[0m\u001b[0;34m(\u001b[0m\u001b[0mb\u001b[0m\u001b[0;34m)\u001b[0m\u001b[0;34m\u001b[0m\u001b[0;34m\u001b[0m\u001b[0m\n\u001b[0m\u001b[1;32m    590\u001b[0m             \u001b[0;32mexcept\u001b[0m \u001b[0mtimeout\u001b[0m\u001b[0;34m:\u001b[0m\u001b[0;34m\u001b[0m\u001b[0;34m\u001b[0m\u001b[0m\n\u001b[1;32m    591\u001b[0m                 \u001b[0mself\u001b[0m\u001b[0;34m.\u001b[0m\u001b[0m_timeout_occurred\u001b[0m \u001b[0;34m=\u001b[0m \u001b[0;32mTrue\u001b[0m\u001b[0;34m\u001b[0m\u001b[0;34m\u001b[0m\u001b[0m\n",
      "\u001b[0;32m~/Downloads/ENTER/envs/mmf/lib/python3.7/ssl.py\u001b[0m in \u001b[0;36mrecv_into\u001b[0;34m(self, buffer, nbytes, flags)\u001b[0m\n\u001b[1;32m   1069\u001b[0m                   \u001b[0;34m\"non-zero flags not allowed in calls to recv_into() on %s\"\u001b[0m \u001b[0;34m%\u001b[0m\u001b[0;34m\u001b[0m\u001b[0;34m\u001b[0m\u001b[0m\n\u001b[1;32m   1070\u001b[0m                   self.__class__)\n\u001b[0;32m-> 1071\u001b[0;31m             \u001b[0;32mreturn\u001b[0m \u001b[0mself\u001b[0m\u001b[0;34m.\u001b[0m\u001b[0mread\u001b[0m\u001b[0;34m(\u001b[0m\u001b[0mnbytes\u001b[0m\u001b[0;34m,\u001b[0m \u001b[0mbuffer\u001b[0m\u001b[0;34m)\u001b[0m\u001b[0;34m\u001b[0m\u001b[0;34m\u001b[0m\u001b[0m\n\u001b[0m\u001b[1;32m   1072\u001b[0m         \u001b[0;32melse\u001b[0m\u001b[0;34m:\u001b[0m\u001b[0;34m\u001b[0m\u001b[0;34m\u001b[0m\u001b[0m\n\u001b[1;32m   1073\u001b[0m             \u001b[0;32mreturn\u001b[0m \u001b[0msuper\u001b[0m\u001b[0;34m(\u001b[0m\u001b[0;34m)\u001b[0m\u001b[0;34m.\u001b[0m\u001b[0mrecv_into\u001b[0m\u001b[0;34m(\u001b[0m\u001b[0mbuffer\u001b[0m\u001b[0;34m,\u001b[0m \u001b[0mnbytes\u001b[0m\u001b[0;34m,\u001b[0m \u001b[0mflags\u001b[0m\u001b[0;34m)\u001b[0m\u001b[0;34m\u001b[0m\u001b[0;34m\u001b[0m\u001b[0m\n",
      "\u001b[0;32m~/Downloads/ENTER/envs/mmf/lib/python3.7/ssl.py\u001b[0m in \u001b[0;36mread\u001b[0;34m(self, len, buffer)\u001b[0m\n\u001b[1;32m    927\u001b[0m         \u001b[0;32mtry\u001b[0m\u001b[0;34m:\u001b[0m\u001b[0;34m\u001b[0m\u001b[0;34m\u001b[0m\u001b[0m\n\u001b[1;32m    928\u001b[0m             \u001b[0;32mif\u001b[0m \u001b[0mbuffer\u001b[0m \u001b[0;32mis\u001b[0m \u001b[0;32mnot\u001b[0m \u001b[0;32mNone\u001b[0m\u001b[0;34m:\u001b[0m\u001b[0;34m\u001b[0m\u001b[0;34m\u001b[0m\u001b[0m\n\u001b[0;32m--> 929\u001b[0;31m                 \u001b[0;32mreturn\u001b[0m \u001b[0mself\u001b[0m\u001b[0;34m.\u001b[0m\u001b[0m_sslobj\u001b[0m\u001b[0;34m.\u001b[0m\u001b[0mread\u001b[0m\u001b[0;34m(\u001b[0m\u001b[0mlen\u001b[0m\u001b[0;34m,\u001b[0m \u001b[0mbuffer\u001b[0m\u001b[0;34m)\u001b[0m\u001b[0;34m\u001b[0m\u001b[0;34m\u001b[0m\u001b[0m\n\u001b[0m\u001b[1;32m    930\u001b[0m             \u001b[0;32melse\u001b[0m\u001b[0;34m:\u001b[0m\u001b[0;34m\u001b[0m\u001b[0;34m\u001b[0m\u001b[0m\n\u001b[1;32m    931\u001b[0m                 \u001b[0;32mreturn\u001b[0m \u001b[0mself\u001b[0m\u001b[0;34m.\u001b[0m\u001b[0m_sslobj\u001b[0m\u001b[0;34m.\u001b[0m\u001b[0mread\u001b[0m\u001b[0;34m(\u001b[0m\u001b[0mlen\u001b[0m\u001b[0;34m)\u001b[0m\u001b[0;34m\u001b[0m\u001b[0;34m\u001b[0m\u001b[0m\n",
      "\u001b[0;31mKeyboardInterrupt\u001b[0m: "
     ]
    }
   ],
   "source": [
    "temp_conceptnet = pd.DataFrame()\n",
    "\n",
    "for answer_token in tqdm(all_answer_tokens):\n",
    "    temp = filter_ConceptNet(answer_token, language_key='en', same_language=True)\n",
    "    temp_conceptnet = temp_conceptnet.append(temp)\n",
    "\n",
    "temp_conceptnet.reset_index(drop=True, inplace=True)\n",
    "\n",
    "# save data\n",
    "temp_conceptnet.to_json('data/okvqa_answers_conceptnet.json')"
   ]
  },
  {
   "cell_type": "code",
   "execution_count": null,
   "id": "9fd1d320",
   "metadata": {},
   "outputs": [],
   "source": []
  }
 ],
 "metadata": {
  "kernelspec": {
   "display_name": "Python 3 (ipykernel)",
   "language": "python",
   "name": "python3"
  },
  "language_info": {
   "codemirror_mode": {
    "name": "ipython",
    "version": 3
   },
   "file_extension": ".py",
   "mimetype": "text/x-python",
   "name": "python",
   "nbconvert_exporter": "python",
   "pygments_lexer": "ipython3",
   "version": "3.7.11"
  }
 },
 "nbformat": 4,
 "nbformat_minor": 5
}
