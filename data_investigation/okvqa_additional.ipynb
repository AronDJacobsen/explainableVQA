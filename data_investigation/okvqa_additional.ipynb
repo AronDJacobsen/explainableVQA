{
 "cells": [
  {
   "cell_type": "code",
   "execution_count": 2,
   "id": "d9068e12",
   "metadata": {},
   "outputs": [],
   "source": [
    "import os\n",
    "from pathlib import Path\n",
    "from tqdm.notebook import tqdm\n",
    "from itertools import accumulate\n",
    "from collections import Counter\n",
    "\n",
    "import numpy as np\n",
    "import pandas as pd\n",
    "import matplotlib.pyplot as plt\n",
    "%matplotlib inline\n"
   ]
  },
  {
   "cell_type": "code",
   "execution_count": null,
   "id": "8cb7edca",
   "metadata": {},
   "outputs": [],
   "source": []
  },
  {
   "cell_type": "code",
   "execution_count": 7,
   "id": "dcf77ff5",
   "metadata": {},
   "outputs": [],
   "source": [
    "okvqa = {}\n",
    "\n",
    "okvqa['full'] = pd.read_json('data/OKVQA_object.json')\n",
    "okvqa['conceptnet'] = pd.read_json('data/OKVQA_conceptnet.json')"
   ]
  },
  {
   "cell_type": "code",
   "execution_count": 9,
   "id": "a9bc3117",
   "metadata": {},
   "outputs": [
    {
     "data": {
      "text/html": [
       "<div>\n",
       "<style scoped>\n",
       "    .dataframe tbody tr th:only-of-type {\n",
       "        vertical-align: middle;\n",
       "    }\n",
       "\n",
       "    .dataframe tbody tr th {\n",
       "        vertical-align: top;\n",
       "    }\n",
       "\n",
       "    .dataframe thead th {\n",
       "        text-align: right;\n",
       "    }\n",
       "</style>\n",
       "<table border=\"1\" class=\"dataframe\">\n",
       "  <thead>\n",
       "    <tr style=\"text-align: right;\">\n",
       "      <th></th>\n",
       "      <th>image_id</th>\n",
       "      <th>question_id</th>\n",
       "      <th>answer_type</th>\n",
       "      <th>question_type</th>\n",
       "      <th>confidence</th>\n",
       "      <th>question_str</th>\n",
       "      <th>question_tokens</th>\n",
       "      <th>all_answers</th>\n",
       "      <th>answers</th>\n",
       "      <th>image_name</th>\n",
       "      <th>feature_path</th>\n",
       "      <th>annotator_agreement_cos</th>\n",
       "      <th>image_objects</th>\n",
       "    </tr>\n",
       "  </thead>\n",
       "  <tbody>\n",
       "    <tr>\n",
       "      <th>0</th>\n",
       "      <td>51606</td>\n",
       "      <td>516065</td>\n",
       "      <td>other</td>\n",
       "      <td>four</td>\n",
       "      <td>3</td>\n",
       "      <td>What is the hairstyle of the blond called?</td>\n",
       "      <td>[what, is, the, hairstyle, of, the, blond, cal...</td>\n",
       "      <td>[pony tail, pony tail, pony tail, pony tail, p...</td>\n",
       "      <td>[pony tail, pony tail, pony tail, pony tail, p...</td>\n",
       "      <td>COCO_train2014_000000051606</td>\n",
       "      <td>COCO_train2014_000000051606.npy</td>\n",
       "      <td>0.977160</td>\n",
       "      <td>[person, person, tennis racket, chair]</td>\n",
       "    </tr>\n",
       "    <tr>\n",
       "      <th>1</th>\n",
       "      <td>81721</td>\n",
       "      <td>817215</td>\n",
       "      <td>other</td>\n",
       "      <td>seven</td>\n",
       "      <td>5</td>\n",
       "      <td>How old do you have to be in canada to do this?</td>\n",
       "      <td>[how, old, do, you, have, to, be, in, canada, ...</td>\n",
       "      <td>[18, 18, 18, 18, 18, 18, 18, 18, 18, 18]</td>\n",
       "      <td>[18, 18, 18, 18, 18, 18, 18, 18, 18, 18]</td>\n",
       "      <td>COCO_train2014_000000081721</td>\n",
       "      <td>COCO_train2014_000000081721.npy</td>\n",
       "      <td>NaN</td>\n",
       "      <td>[person, wine glass, person, wine glass, perso...</td>\n",
       "    </tr>\n",
       "    <tr>\n",
       "      <th>2</th>\n",
       "      <td>480208</td>\n",
       "      <td>4802085</td>\n",
       "      <td>other</td>\n",
       "      <td>four</td>\n",
       "      <td>2</td>\n",
       "      <td>Can you guess the place where the man is playing?</td>\n",
       "      <td>[can, you, guess, the, place, where, the, man,...</td>\n",
       "      <td>[aspen, aspen, mountain, mountain, mountain, m...</td>\n",
       "      <td>[aspen, aspen, mountain, mountain, mountain, m...</td>\n",
       "      <td>COCO_train2014_000000480208</td>\n",
       "      <td>COCO_train2014_000000480208.npy</td>\n",
       "      <td>0.974979</td>\n",
       "      <td>[person, backpack, skis]</td>\n",
       "    </tr>\n",
       "    <tr>\n",
       "      <th>3</th>\n",
       "      <td>570618</td>\n",
       "      <td>5706185</td>\n",
       "      <td>other</td>\n",
       "      <td>one</td>\n",
       "      <td>2</td>\n",
       "      <td>Which rail company is named after a town in ne...</td>\n",
       "      <td>[which, rail, company, is, named, after, a, to...</td>\n",
       "      <td>[santa fe, santa fe, santa fe, santa fe, new e...</td>\n",
       "      <td>[santa fe, santa fe, santa fe, santa fe, new e...</td>\n",
       "      <td>COCO_train2014_000000570618</td>\n",
       "      <td>COCO_train2014_000000570618.npy</td>\n",
       "      <td>0.960305</td>\n",
       "      <td>[train]</td>\n",
       "    </tr>\n",
       "    <tr>\n",
       "      <th>4</th>\n",
       "      <td>478903</td>\n",
       "      <td>4789035</td>\n",
       "      <td>other</td>\n",
       "      <td>seven</td>\n",
       "      <td>2</td>\n",
       "      <td>Is the boy swimming or doing another water act...</td>\n",
       "      <td>[is, the, boy, swimming, or, doing, another, w...</td>\n",
       "      <td>[another activity, another activity, another a...</td>\n",
       "      <td>[another activity, another activity, another a...</td>\n",
       "      <td>COCO_train2014_000000478903</td>\n",
       "      <td>COCO_train2014_000000478903.npy</td>\n",
       "      <td>0.955901</td>\n",
       "      <td>[person, surfboard]</td>\n",
       "    </tr>\n",
       "  </tbody>\n",
       "</table>\n",
       "</div>"
      ],
      "text/plain": [
       "   image_id  question_id answer_type question_type  confidence  \\\n",
       "0     51606       516065       other          four           3   \n",
       "1     81721       817215       other         seven           5   \n",
       "2    480208      4802085       other          four           2   \n",
       "3    570618      5706185       other           one           2   \n",
       "4    478903      4789035       other         seven           2   \n",
       "\n",
       "                                        question_str  \\\n",
       "0         What is the hairstyle of the blond called?   \n",
       "1    How old do you have to be in canada to do this?   \n",
       "2  Can you guess the place where the man is playing?   \n",
       "3  Which rail company is named after a town in ne...   \n",
       "4  Is the boy swimming or doing another water act...   \n",
       "\n",
       "                                     question_tokens  \\\n",
       "0  [what, is, the, hairstyle, of, the, blond, cal...   \n",
       "1  [how, old, do, you, have, to, be, in, canada, ...   \n",
       "2  [can, you, guess, the, place, where, the, man,...   \n",
       "3  [which, rail, company, is, named, after, a, to...   \n",
       "4  [is, the, boy, swimming, or, doing, another, w...   \n",
       "\n",
       "                                         all_answers  \\\n",
       "0  [pony tail, pony tail, pony tail, pony tail, p...   \n",
       "1           [18, 18, 18, 18, 18, 18, 18, 18, 18, 18]   \n",
       "2  [aspen, aspen, mountain, mountain, mountain, m...   \n",
       "3  [santa fe, santa fe, santa fe, santa fe, new e...   \n",
       "4  [another activity, another activity, another a...   \n",
       "\n",
       "                                             answers  \\\n",
       "0  [pony tail, pony tail, pony tail, pony tail, p...   \n",
       "1           [18, 18, 18, 18, 18, 18, 18, 18, 18, 18]   \n",
       "2  [aspen, aspen, mountain, mountain, mountain, m...   \n",
       "3  [santa fe, santa fe, santa fe, santa fe, new e...   \n",
       "4  [another activity, another activity, another a...   \n",
       "\n",
       "                    image_name                     feature_path  \\\n",
       "0  COCO_train2014_000000051606  COCO_train2014_000000051606.npy   \n",
       "1  COCO_train2014_000000081721  COCO_train2014_000000081721.npy   \n",
       "2  COCO_train2014_000000480208  COCO_train2014_000000480208.npy   \n",
       "3  COCO_train2014_000000570618  COCO_train2014_000000570618.npy   \n",
       "4  COCO_train2014_000000478903  COCO_train2014_000000478903.npy   \n",
       "\n",
       "   annotator_agreement_cos                                      image_objects  \n",
       "0                 0.977160             [person, person, tennis racket, chair]  \n",
       "1                      NaN  [person, wine glass, person, wine glass, perso...  \n",
       "2                 0.974979                           [person, backpack, skis]  \n",
       "3                 0.960305                                            [train]  \n",
       "4                 0.955901                                [person, surfboard]  "
      ]
     },
     "execution_count": 9,
     "metadata": {},
     "output_type": "execute_result"
    }
   ],
   "source": [
    "okvqa['full'].head()"
   ]
  },
  {
   "cell_type": "code",
   "execution_count": null,
   "id": "90a5474e",
   "metadata": {},
   "outputs": [],
   "source": []
  },
  {
   "cell_type": "code",
   "execution_count": 32,
   "id": "5fe9c22d",
   "metadata": {},
   "outputs": [],
   "source": [
    "answer_file = 'data/answer_vocab_v10_count10.txt'\n",
    "\n",
    "with open(answer_file, 'r') as f:\n",
    "    lines = f.read().splitlines()\n",
    "\n",
    "answer_vocab = set(lines)"
   ]
  },
  {
   "cell_type": "code",
   "execution_count": 199,
   "id": "202d1607",
   "metadata": {},
   "outputs": [
    {
     "data": {
      "text/plain": [
       "2253"
      ]
     },
     "execution_count": 199,
     "metadata": {},
     "output_type": "execute_result"
    }
   ],
   "source": [
    "# size of suggeted answer vocab (by KRISP)\n",
    "answer_vocab.__len__()"
   ]
  },
  {
   "cell_type": "code",
   "execution_count": 39,
   "id": "2c9ecfb2",
   "metadata": {},
   "outputs": [],
   "source": [
    "all_answers = okvqa['full'].answers.apply(pd.Series).stack().reset_index(drop=True)\n",
    "unique_answers = all_answers.unique()"
   ]
  },
  {
   "cell_type": "code",
   "execution_count": 40,
   "id": "6edf5007",
   "metadata": {},
   "outputs": [
    {
     "data": {
      "text/plain": [
       "0.11156914893617022"
      ]
     },
     "execution_count": 40,
     "metadata": {},
     "output_type": "execute_result"
    }
   ],
   "source": [
    "# percentage of unique answers of OKVQA occurring in suggested answer vocab by KRISP\n",
    "pd.Series(unique_answers).apply(lambda x: x in answer_vocab).sum() / unique_answers.__len__()"
   ]
  },
  {
   "cell_type": "code",
   "execution_count": 101,
   "id": "2cb27c43",
   "metadata": {},
   "outputs": [],
   "source": [
    "dist = okvqa['full'].answers.apply(lambda x: np.mean([single_answer in answer_vocab for single_answer in x]))"
   ]
  },
  {
   "cell_type": "code",
   "execution_count": 207,
   "id": "617efe42",
   "metadata": {},
   "outputs": [
    {
     "data": {
      "image/png": "[encoded data removed]",
      "text/plain": [
       "<Figure size 1000x400 with 2 Axes>"
      ]
     },
     "metadata": {
      "needs_background": "light"
     },
     "output_type": "display_data"
    }
   ],
   "source": [
    "ticks, heights = list(zip(*sorted(Counter(dist).items(), key=lambda x: x[0])))\n",
    "\n",
    "plt.figure(figsize=(10,4), dpi=100)\n",
    "plt.subplot(121)\n",
    "plt.bar(np.array(ticks)*100, heights / np.sum(heights), width=15)\n",
    "plt.xlabel('percentage of overlap \\n(x answers in vocab out of 10 answers)')\n",
    "plt.ylabel('percentage of occurrence \\n(size of OK-VQA: 14,055)')\n",
    "#plt.title('A) Overlap between answer set and \\nsuggested answer vocabulary', fontsize=15)\n",
    "\n",
    "plt.subplot(122)\n",
    "okvqa['full'][dist == 0].annotator_agreement_cos.plot(kind='hist', bins=51, width=0.0025)\n",
    "plt.xlabel('cosine similarity')\n",
    "#plt.title('B) Similarity of answers within the \\n0-percent group on Figure A', fontsize=15)\n",
    "\n",
    "plt.tight_layout()\n",
    "plt.show()"
   ]
  },
  {
   "cell_type": "code",
   "execution_count": 152,
   "id": "e50c24d5",
   "metadata": {},
   "outputs": [],
   "source": [
    "okvqa['full']['answer_var'] = okvqa['full'].answers.apply(lambda x: np.unique(x).__len__())"
   ]
  },
  {
   "cell_type": "code",
   "execution_count": 162,
   "id": "57639fd7",
   "metadata": {},
   "outputs": [
    {
     "data": {
      "image/png": "[encoded data removed]",
      "text/plain": [
       "<Figure size 720x360 with 2 Axes>"
      ]
     },
     "metadata": {
      "needs_background": "light"
     },
     "output_type": "display_data"
    }
   ],
   "source": [
    "ticks, heights = list(zip(*sorted(Counter(dist).items(), key=lambda x: x[0])))\n",
    "\n",
    "plt.figure(figsize=(10,5))\n",
    "plt.subplot(121)\n",
    "plt.bar(np.array(ticks)*100, heights, width=15)\n",
    "plt.xlabel('percentage of overlap \\n(x answers in vocab out of 10 answers)')\n",
    "plt.ylabel('count')\n",
    "plt.title('A) Overlap between answer set and \\nsuggested answer vocabulary', fontsize=15)\n",
    "\n",
    "plt.subplot(122)\n",
    "ticks, heights = list(zip(*sorted(Counter(okvqa['full'][dist == 0].answer_var).items(), key=lambda x: x[0])))\n",
    "plt.bar(ticks, heights, width=0.6)\n",
    "plt.xlabel('count variability')\n",
    "plt.title('B) Similarity of answers within the \\n0-percent group on Figure A', fontsize=15)\n",
    "\n",
    "plt.tight_layout()\n",
    "plt.show()"
   ]
  },
  {
   "cell_type": "markdown",
   "id": "4d3f9376",
   "metadata": {},
   "source": [
    "Extract"
   ]
  },
  {
   "cell_type": "code",
   "execution_count": 177,
   "id": "0bd1cac8",
   "metadata": {},
   "outputs": [],
   "source": [
    "temp = []\n",
    "\n",
    "for i, subframe in okvqa['full'].iterrows():\n",
    "    \n",
    "    question_tokens = set(subframe['question_tokens'])\n",
    "    temp.append(np.mean([answer in question_tokens for answer in subframe['answers']]))\n",
    "\n",
    "overlap_q_and_a = pd.Series(temp)"
   ]
  },
  {
   "cell_type": "code",
   "execution_count": 197,
   "id": "88adbc2d",
   "metadata": {},
   "outputs": [
    {
     "name": "stdout",
     "output_type": "stream",
     "text": [
      "Number of I-Q pairs that have an overlap between given answers and question tokens: 935\n"
     ]
    },
    {
     "data": {
      "image/png": "[encoded data removed]",
      "text/plain": [
       "<Figure size 432x288 with 1 Axes>"
      ]
     },
     "metadata": {
      "needs_background": "light"
     },
     "output_type": "display_data"
    }
   ],
   "source": [
    "print(f\"Number of I-Q pairs that have an overlap between given answers and question tokens: {(overlap_q_and_a != 0).sum()}\")\n",
    "\n",
    "ticks, heights = list(zip(*sorted(Counter(overlap_q_and_a).items(), key=lambda x: x[0])))\n",
    "\n",
    "plt.bar(np.array(ticks)*100, heights, width=15)\n",
    "plt.xlabel('percentage of overlap \\n(x answers in repsective question tokens out of the 10 given answers)')\n",
    "plt.ylabel('count')\n",
    "plt.show()"
   ]
  },
  {
   "cell_type": "code",
   "execution_count": null,
   "id": "720f84a8",
   "metadata": {},
   "outputs": [],
   "source": []
  },
  {
   "cell_type": "code",
   "execution_count": 21,
   "id": "1d2f4fc1",
   "metadata": {},
   "outputs": [],
   "source": [
    "okvqa = {}\n",
    "\n",
    "okvqa['full'] = pd.read_json('data/OKVQA_object.json')\n",
    "okvqa['conceptnet_q'] = pd.read_json('data/OKVQA_conceptnet.json')\n",
    "okvqa['conceptnet_a'] = pd.read_json('data/okvqa_answers_conceptnet.json')"
   ]
  },
  {
   "cell_type": "code",
   "execution_count": 83,
   "id": "f450cea4",
   "metadata": {},
   "outputs": [
    {
     "data": {
      "application/vnd.jupyter.widget-view+json": {
       "model_id": "b86cfe4d6e634cd8b99ed4b802047818",
       "version_major": 2,
       "version_minor": 0
      },
      "text/plain": [
       "HBox(children=(FloatProgress(value=0.0, max=14055.0), HTML(value='')))"
      ]
     },
     "metadata": {},
     "output_type": "display_data"
    },
    {
     "name": "stdout",
     "output_type": "stream",
     "text": [
      "\n"
     ]
    }
   ],
   "source": [
    "columns = list(okvqa['conceptnet_q'].columns[:-1])\n",
    "percentage = []\n",
    "\n",
    "for i, subframe in tqdm(okvqa['full'].iterrows(), total=okvqa['full'].__len__()):\n",
    "    question_knowledge = pd.DataFrame()\n",
    "    for token in subframe.question_tokens:\n",
    "        temp = okvqa['conceptnet_q'][okvqa['conceptnet_q'].query_word == token]\n",
    "        question_knowledge = pd.concat([question_knowledge, temp])\n",
    "    \n",
    "    answer_knowledge = pd.DataFrame()\n",
    "    for token in np.unique((\" \").join(subframe.answers).split(\" \")) :\n",
    "        temp = okvqa['conceptnet_a'][okvqa['conceptnet_a'].query_word == token]\n",
    "        answer_knowledge = pd.concat([answer_knowledge, temp])\n",
    "    \n",
    "    question_nodes = pd.concat([question_knowledge.start_label, question_knowledge.end_label]).unique()\n",
    "    answer_nodes = pd.concat([answer_knowledge.start_label, answer_knowledge.end_label]).unique()\n",
    "    \n",
    "    overlap = np.intersect1d(question_nodes, answer_nodes)\n",
    "    \n",
    "    if answer_nodes.__len__() != 0:\n",
    "        percentage.append(overlap.__len__() / answer_nodes.__len__())     \n",
    "    else:\n",
    "        percentage.append(np.nan)"
   ]
  },
  {
   "cell_type": "code",
   "execution_count": 92,
   "id": "682d307b",
   "metadata": {},
   "outputs": [
    {
     "data": {
      "text/plain": [
       "<AxesSubplot:ylabel='Frequency'>"
      ]
     },
     "execution_count": 92,
     "metadata": {},
     "output_type": "execute_result"
    },
    {
     "data": {
      "image/png": "[encoded data removed]",
      "text/plain": [
       "<Figure size 432x288 with 1 Axes>"
      ]
     },
     "metadata": {
      "needs_background": "light"
     },
     "output_type": "display_data"
    }
   ],
   "source": [
    "pd.Series(percentage).dropna().plot(kind='hist',bins=51, width=0.015)"
   ]
  },
  {
   "cell_type": "code",
   "execution_count": 99,
   "id": "893e2b04",
   "metadata": {},
   "outputs": [
    {
     "data": {
      "text/plain": [
       "0        0.041667\n",
       "1        0.000000\n",
       "2        0.017241\n",
       "3        0.200000\n",
       "4        0.514706\n",
       "           ...   \n",
       "14050    0.000000\n",
       "14051    0.125000\n",
       "14052    0.100000\n",
       "14053    0.137931\n",
       "14054    0.000000\n",
       "Length: 13950, dtype: float64"
      ]
     },
     "execution_count": 99,
     "metadata": {},
     "output_type": "execute_result"
    }
   ],
   "source": [
    "pd.Series(percentage).dropna()"
   ]
  },
  {
   "cell_type": "code",
   "execution_count": null,
   "id": "06ac5915",
   "metadata": {},
   "outputs": [],
   "source": []
  }
 ],
 "metadata": {
  "kernelspec": {
   "display_name": "Python 3 (ipykernel)",
   "language": "python",
   "name": "python3"
  },
  "language_info": {
   "codemirror_mode": {
    "name": "ipython",
    "version": 3
   },
   "file_extension": ".py",
   "mimetype": "text/x-python",
   "name": "python",
   "nbconvert_exporter": "python",
   "pygments_lexer": "ipython3",
   "version": "3.8.11"
  }
 },
 "nbformat": 4,
 "nbformat_minor": 5
}
