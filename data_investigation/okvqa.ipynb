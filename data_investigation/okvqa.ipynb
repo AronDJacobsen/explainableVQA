{
 "cells": [
  {
   "cell_type": "code",
   "execution_count": 1,
   "id": "f0e1ff93",
   "metadata": {},
   "outputs": [],
   "source": [
    "import os\n",
    "from pathlib import Path\n",
    "from tqdm.notebook import tqdm\n",
    "\n",
    "import numpy as np\n",
    "import pandas as pd\n",
    "\n",
    "import plotly.graph_objects as go\n",
    "\n",
    "import dash\n",
    "from dash import dcc\n",
    "from dash import html"
   ]
  },
  {
   "cell_type": "markdown",
   "id": "953cda6e",
   "metadata": {},
   "source": [
    "# OKVQA - data investigations\n",
    "\n",
    "This notebook examines the OKVQA dataset. Both images and questions will be analyzed. \n",
    "\n",
    "## 1) Load data\n",
    "We start by loading the OKVQA datasets downloaded through [MMF](https://github.com/facebookresearch/mmf).\n"
   ]
  },
  {
   "cell_type": "code",
   "execution_count": 2,
   "id": "3ca35355",
   "metadata": {},
   "outputs": [],
   "source": [
    "# data load function\n",
    "def loadData(filename, data_path):\n",
    "    data = np.load(data_path / filename, allow_pickle=True)\n",
    "    dataset_specs = data[0]\n",
    "    \n",
    "    print(\"Dataset specs:\")\n",
    "    for key, value in dataset_specs.items():\n",
    "        print(f\"{key}: {value}\")\n",
    "    \n",
    "    return pd.DataFrame.from_records(data[1:])"
   ]
  },
  {
   "cell_type": "code",
   "execution_count": 3,
   "id": "16f80eb6",
   "metadata": {},
   "outputs": [
    {
     "name": "stdout",
     "output_type": "stream",
     "text": [
      "--------------------------------------------------\n",
      "Loading imdb_train.npy...\n",
      "\n",
      "Dataset specs:\n",
      "create_time: 2020-09-03 13:40:00.451863\n",
      "dataset_name: okvqa\n",
      "version: 1.1\n",
      "has_answer: True\n",
      "has_gt_layout: False\n",
      "created_at: 1599165600.4518836\n",
      "--------------------------------------------------\n",
      "Loading imdb_test.npy...\n",
      "\n",
      "Dataset specs:\n",
      "create_time: 2020-09-03 13:39:59.718679\n",
      "dataset_name: okvqa\n",
      "version: 1.1\n",
      "has_answer: True\n",
      "has_gt_layout: False\n",
      "created_at: 1599165599.718699\n",
      "--------------------------------------------------\n",
      "Loading imdb_val.npy...\n",
      "\n",
      "Dataset specs:\n",
      "create_time: 2020-09-03 13:40:00.642192\n",
      "dataset_name: okvqa\n",
      "version: 1.1\n",
      "has_answer: True\n",
      "has_gt_layout: False\n",
      "created_at: 1599165600.6422124\n",
      "--------------------------------------------------\n",
      "Loading imdb_trainval.npy...\n",
      "\n",
      "Dataset specs:\n",
      "create_time: 2020-09-03 13:40:00.072816\n",
      "dataset_name: okvqa\n",
      "version: 1.1\n",
      "has_answer: True\n",
      "has_gt_layout: False\n",
      "created_at: 1599165600.0728385\n"
     ]
    }
   ],
   "source": [
    "# path to dataset\n",
    "data_path = Path.home() / '.cache/torch/mmf/data/datasets/okvqa/defaults/annotations/annotations'\n",
    "filenames = ['imdb_train.npy', 'imdb_test.npy', 'imdb_val.npy', 'imdb_trainval.npy']\n",
    "\n",
    "okvqa = {}\n",
    "for filename in filenames:\n",
    "    print(f\"{'-'*50}\\nLoading {filename}...\\n\")\n",
    "    name = filename.split('.')[0].split('_')[1]\n",
    "    okvqa[name] = loadData(filename, data_path)"
   ]
  },
  {
   "cell_type": "markdown",
   "id": "7c11d2d7",
   "metadata": {},
   "source": [
    "## 2) Initial investigation\n",
    "\n",
    "As given by the creators of the [OKVQA dataset](https://okvqa.allenai.org/), there are 14,055 open-ended questions in the dataset. Let's figure out how this relates to the data that we just loaded..."
   ]
  },
  {
   "cell_type": "code",
   "execution_count": 4,
   "id": "25c559b3",
   "metadata": {},
   "outputs": [
    {
     "data": {
      "text/plain": [
       "23064"
      ]
     },
     "execution_count": 4,
     "metadata": {},
     "output_type": "execute_result"
    }
   ],
   "source": [
    "okvqa['train'].shape[0] + okvqa['test'].shape[0] + okvqa['val'].shape[0] + okvqa['trainval'].shape[0]"
   ]
  },
  {
   "cell_type": "markdown",
   "id": "91ef3bab",
   "metadata": {},
   "source": [
    "This is much larger than what is stated by the creators of the OKVQA dataset. But wait a second... One of the datafiles provided by MMF is called `imdb_trainval.npy` - what happens if we ignore this?"
   ]
  },
  {
   "cell_type": "code",
   "execution_count": 5,
   "id": "dd01d35c",
   "metadata": {},
   "outputs": [
    {
     "data": {
      "text/plain": [
       "14055"
      ]
     },
     "execution_count": 5,
     "metadata": {},
     "output_type": "execute_result"
    }
   ],
   "source": [
    "okvqa['train'].shape[0] + okvqa['test'].shape[0] + okvqa['val'].shape[0]"
   ]
  },
  {
   "cell_type": "markdown",
   "id": "c025e1f0",
   "metadata": {},
   "source": [
    "Alright! So the trainval is probably just a combination of the training and validation data - let's quickly verify this..."
   ]
  },
  {
   "cell_type": "code",
   "execution_count": 6,
   "id": "716267fd",
   "metadata": {},
   "outputs": [
    {
     "data": {
      "text/plain": [
       "True"
      ]
     },
     "execution_count": 6,
     "metadata": {},
     "output_type": "execute_result"
    }
   ],
   "source": [
    "okvqa['train'].shape[0] + okvqa['val'].shape[0] == okvqa['trainval'].shape[0]"
   ]
  },
  {
   "cell_type": "markdown",
   "id": "11d64e51",
   "metadata": {},
   "source": [
    "Indeed that is true! Let's ignore the `imdb_train.npy` and `imdb_trainval.npy` files and inspect the training data as the mix of these and compare it to the test data."
   ]
  },
  {
   "cell_type": "code",
   "execution_count": 7,
   "id": "c7211e2c",
   "metadata": {},
   "outputs": [
    {
     "name": "stdout",
     "output_type": "stream",
     "text": [
      "Shape of dataframe: (14055, 9)\n"
     ]
    },
    {
     "data": {
      "text/html": [
       "<div>\n",
       "<style scoped>\n",
       "    .dataframe tbody tr th:only-of-type {\n",
       "        vertical-align: middle;\n",
       "    }\n",
       "\n",
       "    .dataframe tbody tr th {\n",
       "        vertical-align: top;\n",
       "    }\n",
       "\n",
       "    .dataframe thead th {\n",
       "        text-align: right;\n",
       "    }\n",
       "</style>\n",
       "<table border=\"1\" class=\"dataframe\">\n",
       "  <thead>\n",
       "    <tr style=\"text-align: right;\">\n",
       "      <th></th>\n",
       "      <th>image_id</th>\n",
       "      <th>question_id</th>\n",
       "      <th>question_str</th>\n",
       "      <th>question_tokens</th>\n",
       "      <th>all_answers</th>\n",
       "      <th>answers</th>\n",
       "      <th>image_name</th>\n",
       "      <th>feature_path</th>\n",
       "      <th>ocr_tokens</th>\n",
       "    </tr>\n",
       "  </thead>\n",
       "  <tbody>\n",
       "    <tr>\n",
       "      <th>0</th>\n",
       "      <td>51606</td>\n",
       "      <td>516065</td>\n",
       "      <td>What is the hairstyle of the blond called?</td>\n",
       "      <td>[what, is, the, hairstyle, of, the, blond, cal...</td>\n",
       "      <td>[pony tail, pony tail, pony tail, pony tail, p...</td>\n",
       "      <td>[pony tail, pony tail, pony tail, pony tail, p...</td>\n",
       "      <td>COCO_train2014_000000051606</td>\n",
       "      <td>COCO_train2014_000000051606.npy</td>\n",
       "      <td>[]</td>\n",
       "    </tr>\n",
       "    <tr>\n",
       "      <th>1</th>\n",
       "      <td>81721</td>\n",
       "      <td>817215</td>\n",
       "      <td>How old do you have to be in canada to do this?</td>\n",
       "      <td>[how, old, do, you, have, to, be, in, canada, ...</td>\n",
       "      <td>[18, 18, 18, 18, 18, 18, 18, 18, 18, 18]</td>\n",
       "      <td>[18, 18, 18, 18, 18, 18, 18, 18, 18, 18]</td>\n",
       "      <td>COCO_train2014_000000081721</td>\n",
       "      <td>COCO_train2014_000000081721.npy</td>\n",
       "      <td>[]</td>\n",
       "    </tr>\n",
       "    <tr>\n",
       "      <th>2</th>\n",
       "      <td>480208</td>\n",
       "      <td>4802085</td>\n",
       "      <td>Can you guess the place where the man is playing?</td>\n",
       "      <td>[can, you, guess, the, place, where, the, man,...</td>\n",
       "      <td>[aspen, aspen, mountain, mountain, mountain, m...</td>\n",
       "      <td>[aspen, aspen, mountain, mountain, mountain, m...</td>\n",
       "      <td>COCO_train2014_000000480208</td>\n",
       "      <td>COCO_train2014_000000480208.npy</td>\n",
       "      <td>[]</td>\n",
       "    </tr>\n",
       "    <tr>\n",
       "      <th>3</th>\n",
       "      <td>570618</td>\n",
       "      <td>5706185</td>\n",
       "      <td>Which rail company is named after a town in ne...</td>\n",
       "      <td>[which, rail, company, is, named, after, a, to...</td>\n",
       "      <td>[santa fe, santa fe, santa fe, santa fe, new e...</td>\n",
       "      <td>[santa fe, santa fe, santa fe, santa fe, new e...</td>\n",
       "      <td>COCO_train2014_000000570618</td>\n",
       "      <td>COCO_train2014_000000570618.npy</td>\n",
       "      <td>[]</td>\n",
       "    </tr>\n",
       "    <tr>\n",
       "      <th>4</th>\n",
       "      <td>478903</td>\n",
       "      <td>4789035</td>\n",
       "      <td>Is the boy swimming or doing another water act...</td>\n",
       "      <td>[is, the, boy, swimming, or, doing, another, w...</td>\n",
       "      <td>[another activity, another activity, another a...</td>\n",
       "      <td>[another activity, another activity, another a...</td>\n",
       "      <td>COCO_train2014_000000478903</td>\n",
       "      <td>COCO_train2014_000000478903.npy</td>\n",
       "      <td>[]</td>\n",
       "    </tr>\n",
       "  </tbody>\n",
       "</table>\n",
       "</div>"
      ],
      "text/plain": [
       "   image_id  question_id                                       question_str  \\\n",
       "0     51606       516065         What is the hairstyle of the blond called?   \n",
       "1     81721       817215    How old do you have to be in canada to do this?   \n",
       "2    480208      4802085  Can you guess the place where the man is playing?   \n",
       "3    570618      5706185  Which rail company is named after a town in ne...   \n",
       "4    478903      4789035  Is the boy swimming or doing another water act...   \n",
       "\n",
       "                                     question_tokens  \\\n",
       "0  [what, is, the, hairstyle, of, the, blond, cal...   \n",
       "1  [how, old, do, you, have, to, be, in, canada, ...   \n",
       "2  [can, you, guess, the, place, where, the, man,...   \n",
       "3  [which, rail, company, is, named, after, a, to...   \n",
       "4  [is, the, boy, swimming, or, doing, another, w...   \n",
       "\n",
       "                                         all_answers  \\\n",
       "0  [pony tail, pony tail, pony tail, pony tail, p...   \n",
       "1           [18, 18, 18, 18, 18, 18, 18, 18, 18, 18]   \n",
       "2  [aspen, aspen, mountain, mountain, mountain, m...   \n",
       "3  [santa fe, santa fe, santa fe, santa fe, new e...   \n",
       "4  [another activity, another activity, another a...   \n",
       "\n",
       "                                             answers  \\\n",
       "0  [pony tail, pony tail, pony tail, pony tail, p...   \n",
       "1           [18, 18, 18, 18, 18, 18, 18, 18, 18, 18]   \n",
       "2  [aspen, aspen, mountain, mountain, mountain, m...   \n",
       "3  [santa fe, santa fe, santa fe, santa fe, new e...   \n",
       "4  [another activity, another activity, another a...   \n",
       "\n",
       "                    image_name                     feature_path ocr_tokens  \n",
       "0  COCO_train2014_000000051606  COCO_train2014_000000051606.npy         []  \n",
       "1  COCO_train2014_000000081721  COCO_train2014_000000081721.npy         []  \n",
       "2  COCO_train2014_000000480208  COCO_train2014_000000480208.npy         []  \n",
       "3  COCO_train2014_000000570618  COCO_train2014_000000570618.npy         []  \n",
       "4  COCO_train2014_000000478903  COCO_train2014_000000478903.npy         []  "
      ]
     },
     "execution_count": 7,
     "metadata": {},
     "output_type": "execute_result"
    }
   ],
   "source": [
    "okvqa_full = pd.concat([okvqa['trainval'], okvqa['test']]).reset_index().drop('index', axis=1)\n",
    "\n",
    "print(f\"Shape of dataframe: {okvqa_full.shape}\")\n",
    "okvqa_full.head()"
   ]
  },
  {
   "cell_type": "markdown",
   "id": "981dcb55",
   "metadata": {},
   "source": [
    "## Questions\n",
    "\n"
   ]
  },
  {
   "cell_type": "code",
   "execution_count": 654,
   "id": "9927a8b7",
   "metadata": {},
   "outputs": [],
   "source": [
    "def createSunburstVariables(dataset, N, shuffle=True, seed=42):\n",
    "    # define accumulation operator for strings\n",
    "    def accum_operator(x1, x2, join_char=\" \"):\n",
    "        return x1 + join_char + x2\n",
    "    \n",
    "    # initialize lists\n",
    "    parents, labels, ids = [''], [''], ['CLS']\n",
    "    occurrence_labels, occurrence_dict = [], {}\n",
    "\n",
    "    \n",
    "    # loop through token lists from questions\n",
    "    for token_list in tqdm(dataset.sample(frac=1, random_state=seed)[:N].question_tokens):\n",
    "        # create lists of accumulated strings\n",
    "        accum = list(accumulate(['CLS']+token_list, func=accum_operator))\n",
    "        accum_labels = list(accumulate(token_list, func=accum_operator))\n",
    "\n",
    "        # define candidate tokens\n",
    "        parent_candidates = accum[:-1]\n",
    "        id_candidates = accum[1:]\n",
    "        label_candidates = token_list\n",
    "\n",
    "        # loop through candidate ids\n",
    "        for i, id_candidate in enumerate(id_candidates):\n",
    "\n",
    "            # count occurrences of this accumulated label\n",
    "            try:\n",
    "                occurrence_dict[accum_labels[i]] += 1\n",
    "            except KeyError:\n",
    "                occurrence_dict[accum_labels[i]] = 1\n",
    "\n",
    "            # check if we have seen this id before (if so, it will cause trouble if we include it!)\n",
    "            if id_candidate not in set(ids):\n",
    "                parents.append(parent_candidates[i])\n",
    "                ids.append(id_candidates[i])\n",
    "                labels.append(token_list[i])\n",
    "                occurrence_labels.append(accum_labels[i])\n",
    "\n",
    "    # count occurrences of labels for list       \n",
    "    occurrences = [int(occurrence_dict[id_name]) for id_name in occurrence_labels]\n",
    "    occurrences.insert(0, N)\n",
    "    \n",
    "    df = pd.DataFrame({'ids':ids, 'labels':labels, 'parents':parents, 'occurrences':occurrences})\n",
    "    df.occurrences.astype(int)\n",
    "\n",
    "    return df\n",
    "\n",
    "def plotSunburst(df, N, visulization_depth, width=500, height=500, use_dash=True):\n",
    "    fig = go.Figure(\n",
    "            go.Sunburst(\n",
    "                ids=df.ids,\n",
    "                labels=df.labels,\n",
    "                parents=df.parents,\n",
    "                values=df.occurrences,\n",
    "                text=df.occurrences / N * 100,\n",
    "                branchvalues=\"total\",\n",
    "                hovertemplate='<b>%{label} </b> <br> Percentage: %{text:.2f}%',\n",
    "                domain=dict(column=1),\n",
    "                maxdepth=visualization_depth,\n",
    "                insidetextorientation='radial',\n",
    "            ))\n",
    "\n",
    "    \n",
    "    #fig.update_traces(hovertemplate=hovertemplate)\n",
    "    fig.update_layout(autosize=False, \n",
    "                      width=width, height=height, \n",
    "                      margin=dict(t=10, l=10, r=10, b=10), \n",
    "                      uniformtext=dict(minsize=10, mode='hide'))\n",
    "\n",
    "    if use_dash:\n",
    "        app = dash.Dash()\n",
    "        app.layout = html.Div([dcc.Graph(figure=fig)])\n",
    "        app.run_server(debug=True, use_reloader=False)  # Turn off reloader if inside Jupyter\n",
    "    else:\n",
    "        fig.show()"
   ]
  },
  {
   "cell_type": "code",
   "execution_count": 656,
   "id": "eacdf555",
   "metadata": {},
   "outputs": [
    {
     "data": {
      "application/vnd.jupyter.widget-view+json": {
       "model_id": "7fb91d9260d4438694b45905e342c862",
       "version_major": 2,
       "version_minor": 0
      },
      "text/plain": [
       "HBox(children=(FloatProgress(value=0.0, max=51.0), HTML(value='')))"
      ]
     },
     "metadata": {},
     "output_type": "display_data"
    },
    {
     "name": "stdout",
     "output_type": "stream",
     "text": [
      "\n"
     ]
    },
    {
     "data": {
      "application/vnd.plotly.v1+json": {
       "config": {
        "plotlyServerURL": "https://plot.ly"
       },
       "data": [
        {
         "branchvalues": "total",
         "domain": {
          "column": 1
         },
         "hovertemplate": "<b>%{label} </b> <br> Percentage: %{text:.2f}%",
         "ids": [
          "CLS",
          "CLS what",
          "CLS what animal",
          "CLS what animal is",
          "CLS what animal is closely",
          "CLS what animal is closely realted",
          "CLS what animal is closely realted to",
          "CLS what animal is closely realted to the",
          "CLS what animal is closely realted to the one",
          "CLS what animal is closely realted to the one is",
          "CLS what animal is closely realted to the one is this",
          "CLS what animal is closely realted to the one is this picture",
          "CLS what is",
          "CLS what is the",
          "CLS what is the job",
          "CLS what is the job title",
          "CLS what is the job title for",
          "CLS what is the job title for the",
          "CLS what is the job title for the man",
          "CLS what is the job title for the man pictured",
          "CLS what is the job title for the man pictured here",
          "CLS is",
          "CLS is the",
          "CLS is the bird",
          "CLS is the bird migrating",
          "CLS is the bird migrating or",
          "CLS is the bird migrating or native",
          "CLS what '",
          "CLS what ' s",
          "CLS what ' s the",
          "CLS what ' s the skateboarder",
          "CLS what ' s the skateboarder doing",
          "CLS what part",
          "CLS what part of",
          "CLS what part of the",
          "CLS what part of the body",
          "CLS what part of the body is",
          "CLS what part of the body is a",
          "CLS what part of the body is a banana",
          "CLS what part of the body is a banana good",
          "CLS what part of the body is a banana good for",
          "CLS what kind",
          "CLS what kind of",
          "CLS what kind of mask",
          "CLS what kind of mask is",
          "CLS what kind of mask is this",
          "CLS what type",
          "CLS what type of",
          "CLS what type of computer",
          "CLS what type of computer is",
          "CLS what type of computer is shown",
          "CLS what type of computer is shown in",
          "CLS what type of computer is shown in this",
          "CLS what type of computer is shown in this image",
          "CLS what is her",
          "CLS what is her bag",
          "CLS what is her bag made",
          "CLS what is her bag made of",
          "CLS which",
          "CLS which bus",
          "CLS which bus has",
          "CLS which bus has a",
          "CLS which bus has a higer",
          "CLS which bus has a higer top",
          "CLS which bus has a higer top speed",
          "CLS what kind of activity",
          "CLS what kind of activity would",
          "CLS what kind of activity would a",
          "CLS what kind of activity would a vehicle",
          "CLS what kind of activity would a vehicle like",
          "CLS what kind of activity would a vehicle like this",
          "CLS what kind of activity would a vehicle like this undertake",
          "CLS what could",
          "CLS what could have",
          "CLS what could have caused",
          "CLS what could have caused this",
          "CLS what could have caused this to",
          "CLS what could have caused this to happen",
          "CLS what is the object",
          "CLS what is the object at",
          "CLS what is the object at the",
          "CLS what is the object at the very",
          "CLS what is the object at the very top",
          "CLS what is the object at the very top of",
          "CLS what is the object at the very top of this",
          "CLS what is the object at the very top of this building",
          "CLS what is the object at the very top of this building called",
          "CLS what can",
          "CLS what can people",
          "CLS what can people do",
          "CLS what can people do with",
          "CLS what can people do with that",
          "CLS what can people do with that object",
          "CLS what can people do with that object on",
          "CLS what can people do with that object on top",
          "CLS what can people do with that object on top of",
          "CLS what can people do with that object on top of the",
          "CLS what can people do with that object on top of the stove",
          "CLS what day",
          "CLS what day s",
          "CLS what day s might",
          "CLS what day s might i",
          "CLS what day s might i most",
          "CLS what day s might i most commonly",
          "CLS what day s might i most commonly go",
          "CLS what day s might i most commonly go to",
          "CLS what day s might i most commonly go to this",
          "CLS what day s might i most commonly go to this building",
          "CLS what icing",
          "CLS what icing is",
          "CLS what icing is on",
          "CLS what icing is on this",
          "CLS what icing is on this person",
          "CLS what icing is on this person '",
          "CLS what icing is on this person ' s",
          "CLS what icing is on this person ' s cake",
          "CLS what is the role",
          "CLS what is the role of",
          "CLS what is the role of the",
          "CLS what is the role of the person",
          "CLS what is the role of the person who",
          "CLS what is the role of the person who would",
          "CLS what is the role of the person who would sit",
          "CLS what is the role of the person who would sit in",
          "CLS what is the role of the person who would sit in this",
          "CLS what is the role of the person who would sit in this desk",
          "CLS what is unusual",
          "CLS what is unusual about",
          "CLS what is unusual about the",
          "CLS what is unusual about the surface",
          "CLS what is unusual about the surface the",
          "CLS what is unusual about the surface the boats",
          "CLS what is unusual about the surface the boats are",
          "CLS what is unusual about the surface the boats are resting",
          "CLS what is unusual about the surface the boats are resting on",
          "CLS are",
          "CLS are these",
          "CLS are these cattle",
          "CLS are these cattle free",
          "CLS are these cattle free or",
          "CLS are these cattle free or caged",
          "CLS what is this",
          "CLS what is this technique",
          "CLS what is this technique called",
          "CLS what holiday",
          "CLS what holiday do",
          "CLS what holiday do we",
          "CLS what holiday do we use",
          "CLS what holiday do we use this",
          "CLS what holiday do we use this for",
          "CLS what is the model",
          "CLS what is the model of",
          "CLS what is the model of microwave",
          "CLS what is the model of microwave on",
          "CLS what is the model of microwave on the",
          "CLS what is the model of microwave on the kitchen",
          "CLS what is the model of microwave on the kitchen counter",
          "CLS where",
          "CLS where can",
          "CLS where can i",
          "CLS where can i buy",
          "CLS where can i buy this",
          "CLS where can i buy this meal",
          "CLS what type of motorcycle",
          "CLS what type of motorcycle is",
          "CLS what type of motorcycle is this",
          "CLS the",
          "CLS the sort",
          "CLS the sort of",
          "CLS the sort of work",
          "CLS the sort of work that",
          "CLS the sort of work that this",
          "CLS the sort of work that this man",
          "CLS the sort of work that this man is",
          "CLS the sort of work that this man is doing",
          "CLS the sort of work that this man is doing could",
          "CLS the sort of work that this man is doing could lead",
          "CLS the sort of work that this man is doing could lead to",
          "CLS the sort of work that this man is doing could lead to trouble",
          "CLS the sort of work that this man is doing could lead to trouble with",
          "CLS the sort of work that this man is doing could lead to trouble with what",
          "CLS the sort of work that this man is doing could lead to trouble with what part",
          "CLS the sort of work that this man is doing could lead to trouble with what part of",
          "CLS the sort of work that this man is doing could lead to trouble with what part of the",
          "CLS the sort of work that this man is doing could lead to trouble with what part of the body",
          "CLS the sort of work that this man is doing could lead to trouble with what part of the body later",
          "CLS the sort of work that this man is doing could lead to trouble with what part of the body later in",
          "CLS the sort of work that this man is doing could lead to trouble with what part of the body later in life",
          "CLS what species",
          "CLS what species of",
          "CLS what species of bear",
          "CLS what species of bear is",
          "CLS what species of bear is this",
          "CLS how",
          "CLS how do",
          "CLS how do you",
          "CLS how do you care",
          "CLS how do you care for",
          "CLS how do you care for this",
          "CLS how do you care for this equipment",
          "CLS what teams",
          "CLS what teams are",
          "CLS what teams are these",
          "CLS what teams are these players",
          "CLS what teams are these players playing",
          "CLS what teams are these players playing for",
          "CLS which us",
          "CLS which us state",
          "CLS which us state is",
          "CLS which us state is known",
          "CLS which us state is known for",
          "CLS which us state is known for its",
          "CLS which us state is known for its dairy",
          "CLS which us state is known for its dairy farming",
          "CLS which us state is known for its dairy farming and",
          "CLS which us state is known for its dairy farming and frequently",
          "CLS which us state is known for its dairy farming and frequently displays",
          "CLS which us state is known for its dairy farming and frequently displays statues",
          "CLS which us state is known for its dairy farming and frequently displays statues like",
          "CLS which us state is known for its dairy farming and frequently displays statues like the",
          "CLS which us state is known for its dairy farming and frequently displays statues like the one",
          "CLS which us state is known for its dairy farming and frequently displays statues like the one shown",
          "CLS what is being",
          "CLS what is being used",
          "CLS what is being used to",
          "CLS what is being used to not",
          "CLS what is being used to not get",
          "CLS what is being used to not get wet",
          "CLS what is being used to not get wet by",
          "CLS what is being used to not get wet by rain",
          "CLS what was",
          "CLS what was the",
          "CLS what was the name",
          "CLS what was the name of",
          "CLS what was the name of the",
          "CLS what was the name of the chicken",
          "CLS what was the name of the chicken in",
          "CLS what was the name of the chicken in moana",
          "CLS who",
          "CLS who gets",
          "CLS who gets this",
          "CLS who gets this bathroom",
          "CLS who gets this bathroom toyset",
          "CLS what happened",
          "CLS what happened just",
          "CLS what happened just before",
          "CLS what happened just before this",
          "CLS what happened just before this picture",
          "CLS what happened just before this picture was",
          "CLS what happened just before this picture was taken",
          "CLS what country",
          "CLS what country is",
          "CLS what country is this",
          "CLS why",
          "CLS why is",
          "CLS why is the",
          "CLS why is the sign",
          "CLS why is the sign standing",
          "CLS why is the sign standing in",
          "CLS why is the sign standing in the",
          "CLS why is the sign standing in the street",
          "CLS what stance",
          "CLS what stance is",
          "CLS what stance is this",
          "CLS what stance is this person",
          "CLS what stance is this person in",
          "CLS what century",
          "CLS what century is",
          "CLS what century is this",
          "CLS what is an",
          "CLS what is an elephant",
          "CLS what is an elephant trainer",
          "CLS what is an elephant trainer called",
          "CLS who is",
          "CLS who is wearing",
          "CLS who is wearing black",
          "CLS what is the name",
          "CLS what is the name of",
          "CLS what is the name of this",
          "CLS what is the name of this motorcycle",
          "CLS apart",
          "CLS apart from",
          "CLS apart from calls",
          "CLS apart from calls how",
          "CLS apart from calls how else",
          "CLS apart from calls how else can",
          "CLS apart from calls how else can these",
          "CLS apart from calls how else can these devices",
          "CLS apart from calls how else can these devices be",
          "CLS apart from calls how else can these devices be used",
          "CLS apart from calls how else can these devices be used to",
          "CLS apart from calls how else can these devices be used to communicate",
          "CLS what type of bird",
          "CLS what type of bird is",
          "CLS what type of bird is sitting",
          "CLS what type of bird is sitting on",
          "CLS what type of bird is sitting on the",
          "CLS what type of bird is sitting on the fence",
          "CLS what type of bird is sitting on the fence post",
          "CLS in",
          "CLS in what",
          "CLS in what state",
          "CLS in what state was",
          "CLS in what state was this",
          "CLS in what state was this man",
          "CLS in what state was this man a",
          "CLS in what state was this man a senator",
          "CLS what are",
          "CLS what are these",
          "CLS what are these vehicles",
          "CLS what are these vehicles called",
          "CLS what is bright",
          "CLS what is bright overhead",
          "CLS what animal is on",
          "CLS what animal is on the",
          "CLS what animal is on the left",
          "CLS what food",
          "CLS what food is",
          "CLS what food is in",
          "CLS what food is in the",
          "CLS what food is in the foreground",
          "CLS what biker",
          "CLS what biker group",
          "CLS what biker group is",
          "CLS what biker group is shown",
          "CLS what is the utensil",
          "CLS what is the utensil at",
          "CLS what is the utensil at the",
          "CLS what is the utensil at the top",
          "CLS what is the utensil at the top right",
          "CLS what is the utensil at the top right of",
          "CLS what is the utensil at the top right of the",
          "CLS what is the utensil at the top right of the plate",
          "CLS where is",
          "CLS where is the",
          "CLS where is the sun",
          "CLS where is the sun facing",
          "CLS where is the sun facing in",
          "CLS where is the sun facing in this",
          "CLS where is the sun facing in this picture",
          "CLS what white",
          "CLS what white street",
          "CLS what white street sign",
          "CLS what white street sign is",
          "CLS what white street sign is in",
          "CLS what white street sign is in the",
          "CLS what white street sign is in the photo",
          "CLS is this",
          "CLS is this a",
          "CLS is this a primary",
          "CLS is this a primary color",
          "CLS is this a primary color or",
          "CLS is this a primary color or a",
          "CLS is this a primary color or a pastel",
          "CLS is this a primary color or a pastel that",
          "CLS is this a primary color or a pastel that is",
          "CLS is this a primary color or a pastel that is depicted",
          "CLS is this a primary color or a pastel that is depicted on",
          "CLS is this a primary color or a pastel that is depicted on the",
          "CLS is this a primary color or a pastel that is depicted on the board"
         ],
         "insidetextorientation": "radial",
         "labels": [
          "",
          "what",
          "animal",
          "is",
          "closely",
          "realted",
          "to",
          "the",
          "one",
          "is",
          "this",
          "picture",
          "is",
          "the",
          "job",
          "title",
          "for",
          "the",
          "man",
          "pictured",
          "here",
          "is",
          "the",
          "bird",
          "migrating",
          "or",
          "native",
          "'",
          "s",
          "the",
          "skateboarder",
          "doing",
          "part",
          "of",
          "the",
          "body",
          "is",
          "a",
          "banana",
          "good",
          "for",
          "kind",
          "of",
          "mask",
          "is",
          "this",
          "type",
          "of",
          "computer",
          "is",
          "shown",
          "in",
          "this",
          "image",
          "her",
          "bag",
          "made",
          "of",
          "which",
          "bus",
          "has",
          "a",
          "higer",
          "top",
          "speed",
          "activity",
          "would",
          "a",
          "vehicle",
          "like",
          "this",
          "undertake",
          "could",
          "have",
          "caused",
          "this",
          "to",
          "happen",
          "object",
          "at",
          "the",
          "very",
          "top",
          "of",
          "this",
          "building",
          "called",
          "can",
          "people",
          "do",
          "with",
          "that",
          "object",
          "on",
          "top",
          "of",
          "the",
          "stove",
          "day",
          "s",
          "might",
          "i",
          "most",
          "commonly",
          "go",
          "to",
          "this",
          "building",
          "icing",
          "is",
          "on",
          "this",
          "person",
          "'",
          "s",
          "cake",
          "role",
          "of",
          "the",
          "person",
          "who",
          "would",
          "sit",
          "in",
          "this",
          "desk",
          "unusual",
          "about",
          "the",
          "surface",
          "the",
          "boats",
          "are",
          "resting",
          "on",
          "are",
          "these",
          "cattle",
          "free",
          "or",
          "caged",
          "this",
          "technique",
          "called",
          "holiday",
          "do",
          "we",
          "use",
          "this",
          "for",
          "model",
          "of",
          "microwave",
          "on",
          "the",
          "kitchen",
          "counter",
          "where",
          "can",
          "i",
          "buy",
          "this",
          "meal",
          "motorcycle",
          "is",
          "this",
          "the",
          "sort",
          "of",
          "work",
          "that",
          "this",
          "man",
          "is",
          "doing",
          "could",
          "lead",
          "to",
          "trouble",
          "with",
          "what",
          "part",
          "of",
          "the",
          "body",
          "later",
          "in",
          "life",
          "species",
          "of",
          "bear",
          "is",
          "this",
          "how",
          "do",
          "you",
          "care",
          "for",
          "this",
          "equipment",
          "teams",
          "are",
          "these",
          "players",
          "playing",
          "for",
          "us",
          "state",
          "is",
          "known",
          "for",
          "its",
          "dairy",
          "farming",
          "and",
          "frequently",
          "displays",
          "statues",
          "like",
          "the",
          "one",
          "shown",
          "being",
          "used",
          "to",
          "not",
          "get",
          "wet",
          "by",
          "rain",
          "was",
          "the",
          "name",
          "of",
          "the",
          "chicken",
          "in",
          "moana",
          "who",
          "gets",
          "this",
          "bathroom",
          "toyset",
          "happened",
          "just",
          "before",
          "this",
          "picture",
          "was",
          "taken",
          "country",
          "is",
          "this",
          "why",
          "is",
          "the",
          "sign",
          "standing",
          "in",
          "the",
          "street",
          "stance",
          "is",
          "this",
          "person",
          "in",
          "century",
          "is",
          "this",
          "an",
          "elephant",
          "trainer",
          "called",
          "is",
          "wearing",
          "black",
          "name",
          "of",
          "this",
          "motorcycle",
          "apart",
          "from",
          "calls",
          "how",
          "else",
          "can",
          "these",
          "devices",
          "be",
          "used",
          "to",
          "communicate",
          "bird",
          "is",
          "sitting",
          "on",
          "the",
          "fence",
          "post",
          "in",
          "what",
          "state",
          "was",
          "this",
          "man",
          "a",
          "senator",
          "are",
          "these",
          "vehicles",
          "called",
          "bright",
          "overhead",
          "on",
          "the",
          "left",
          "food",
          "is",
          "in",
          "the",
          "foreground",
          "biker",
          "group",
          "is",
          "shown",
          "utensil",
          "at",
          "the",
          "top",
          "right",
          "of",
          "the",
          "plate",
          "is",
          "the",
          "sun",
          "facing",
          "in",
          "this",
          "picture",
          "white",
          "street",
          "sign",
          "is",
          "in",
          "the",
          "photo",
          "this",
          "a",
          "primary",
          "color",
          "or",
          "a",
          "pastel",
          "that",
          "is",
          "depicted",
          "on",
          "the",
          "board"
         ],
         "maxdepth": 8,
         "parents": [
          "",
          "CLS",
          "CLS what",
          "CLS what animal",
          "CLS what animal is",
          "CLS what animal is closely",
          "CLS what animal is closely realted",
          "CLS what animal is closely realted to",
          "CLS what animal is closely realted to the",
          "CLS what animal is closely realted to the one",
          "CLS what animal is closely realted to the one is",
          "CLS what animal is closely realted to the one is this",
          "CLS what",
          "CLS what is",
          "CLS what is the",
          "CLS what is the job",
          "CLS what is the job title",
          "CLS what is the job title for",
          "CLS what is the job title for the",
          "CLS what is the job title for the man",
          "CLS what is the job title for the man pictured",
          "CLS",
          "CLS is",
          "CLS is the",
          "CLS is the bird",
          "CLS is the bird migrating",
          "CLS is the bird migrating or",
          "CLS what",
          "CLS what '",
          "CLS what ' s",
          "CLS what ' s the",
          "CLS what ' s the skateboarder",
          "CLS what",
          "CLS what part",
          "CLS what part of",
          "CLS what part of the",
          "CLS what part of the body",
          "CLS what part of the body is",
          "CLS what part of the body is a",
          "CLS what part of the body is a banana",
          "CLS what part of the body is a banana good",
          "CLS what",
          "CLS what kind",
          "CLS what kind of",
          "CLS what kind of mask",
          "CLS what kind of mask is",
          "CLS what",
          "CLS what type",
          "CLS what type of",
          "CLS what type of computer",
          "CLS what type of computer is",
          "CLS what type of computer is shown",
          "CLS what type of computer is shown in",
          "CLS what type of computer is shown in this",
          "CLS what is",
          "CLS what is her",
          "CLS what is her bag",
          "CLS what is her bag made",
          "CLS",
          "CLS which",
          "CLS which bus",
          "CLS which bus has",
          "CLS which bus has a",
          "CLS which bus has a higer",
          "CLS which bus has a higer top",
          "CLS what kind of",
          "CLS what kind of activity",
          "CLS what kind of activity would",
          "CLS what kind of activity would a",
          "CLS what kind of activity would a vehicle",
          "CLS what kind of activity would a vehicle like",
          "CLS what kind of activity would a vehicle like this",
          "CLS what",
          "CLS what could",
          "CLS what could have",
          "CLS what could have caused",
          "CLS what could have caused this",
          "CLS what could have caused this to",
          "CLS what is the",
          "CLS what is the object",
          "CLS what is the object at",
          "CLS what is the object at the",
          "CLS what is the object at the very",
          "CLS what is the object at the very top",
          "CLS what is the object at the very top of",
          "CLS what is the object at the very top of this",
          "CLS what is the object at the very top of this building",
          "CLS what",
          "CLS what can",
          "CLS what can people",
          "CLS what can people do",
          "CLS what can people do with",
          "CLS what can people do with that",
          "CLS what can people do with that object",
          "CLS what can people do with that object on",
          "CLS what can people do with that object on top",
          "CLS what can people do with that object on top of",
          "CLS what can people do with that object on top of the",
          "CLS what",
          "CLS what day",
          "CLS what day s",
          "CLS what day s might",
          "CLS what day s might i",
          "CLS what day s might i most",
          "CLS what day s might i most commonly",
          "CLS what day s might i most commonly go",
          "CLS what day s might i most commonly go to",
          "CLS what day s might i most commonly go to this",
          "CLS what",
          "CLS what icing",
          "CLS what icing is",
          "CLS what icing is on",
          "CLS what icing is on this",
          "CLS what icing is on this person",
          "CLS what icing is on this person '",
          "CLS what icing is on this person ' s",
          "CLS what is the",
          "CLS what is the role",
          "CLS what is the role of",
          "CLS what is the role of the",
          "CLS what is the role of the person",
          "CLS what is the role of the person who",
          "CLS what is the role of the person who would",
          "CLS what is the role of the person who would sit",
          "CLS what is the role of the person who would sit in",
          "CLS what is the role of the person who would sit in this",
          "CLS what is",
          "CLS what is unusual",
          "CLS what is unusual about",
          "CLS what is unusual about the",
          "CLS what is unusual about the surface",
          "CLS what is unusual about the surface the",
          "CLS what is unusual about the surface the boats",
          "CLS what is unusual about the surface the boats are",
          "CLS what is unusual about the surface the boats are resting",
          "CLS",
          "CLS are",
          "CLS are these",
          "CLS are these cattle",
          "CLS are these cattle free",
          "CLS are these cattle free or",
          "CLS what is",
          "CLS what is this",
          "CLS what is this technique",
          "CLS what",
          "CLS what holiday",
          "CLS what holiday do",
          "CLS what holiday do we",
          "CLS what holiday do we use",
          "CLS what holiday do we use this",
          "CLS what is the",
          "CLS what is the model",
          "CLS what is the model of",
          "CLS what is the model of microwave",
          "CLS what is the model of microwave on",
          "CLS what is the model of microwave on the",
          "CLS what is the model of microwave on the kitchen",
          "CLS",
          "CLS where",
          "CLS where can",
          "CLS where can i",
          "CLS where can i buy",
          "CLS where can i buy this",
          "CLS what type of",
          "CLS what type of motorcycle",
          "CLS what type of motorcycle is",
          "CLS",
          "CLS the",
          "CLS the sort",
          "CLS the sort of",
          "CLS the sort of work",
          "CLS the sort of work that",
          "CLS the sort of work that this",
          "CLS the sort of work that this man",
          "CLS the sort of work that this man is",
          "CLS the sort of work that this man is doing",
          "CLS the sort of work that this man is doing could",
          "CLS the sort of work that this man is doing could lead",
          "CLS the sort of work that this man is doing could lead to",
          "CLS the sort of work that this man is doing could lead to trouble",
          "CLS the sort of work that this man is doing could lead to trouble with",
          "CLS the sort of work that this man is doing could lead to trouble with what",
          "CLS the sort of work that this man is doing could lead to trouble with what part",
          "CLS the sort of work that this man is doing could lead to trouble with what part of",
          "CLS the sort of work that this man is doing could lead to trouble with what part of the",
          "CLS the sort of work that this man is doing could lead to trouble with what part of the body",
          "CLS the sort of work that this man is doing could lead to trouble with what part of the body later",
          "CLS the sort of work that this man is doing could lead to trouble with what part of the body later in",
          "CLS what",
          "CLS what species",
          "CLS what species of",
          "CLS what species of bear",
          "CLS what species of bear is",
          "CLS",
          "CLS how",
          "CLS how do",
          "CLS how do you",
          "CLS how do you care",
          "CLS how do you care for",
          "CLS how do you care for this",
          "CLS what",
          "CLS what teams",
          "CLS what teams are",
          "CLS what teams are these",
          "CLS what teams are these players",
          "CLS what teams are these players playing",
          "CLS which",
          "CLS which us",
          "CLS which us state",
          "CLS which us state is",
          "CLS which us state is known",
          "CLS which us state is known for",
          "CLS which us state is known for its",
          "CLS which us state is known for its dairy",
          "CLS which us state is known for its dairy farming",
          "CLS which us state is known for its dairy farming and",
          "CLS which us state is known for its dairy farming and frequently",
          "CLS which us state is known for its dairy farming and frequently displays",
          "CLS which us state is known for its dairy farming and frequently displays statues",
          "CLS which us state is known for its dairy farming and frequently displays statues like",
          "CLS which us state is known for its dairy farming and frequently displays statues like the",
          "CLS which us state is known for its dairy farming and frequently displays statues like the one",
          "CLS what is",
          "CLS what is being",
          "CLS what is being used",
          "CLS what is being used to",
          "CLS what is being used to not",
          "CLS what is being used to not get",
          "CLS what is being used to not get wet",
          "CLS what is being used to not get wet by",
          "CLS what",
          "CLS what was",
          "CLS what was the",
          "CLS what was the name",
          "CLS what was the name of",
          "CLS what was the name of the",
          "CLS what was the name of the chicken",
          "CLS what was the name of the chicken in",
          "CLS",
          "CLS who",
          "CLS who gets",
          "CLS who gets this",
          "CLS who gets this bathroom",
          "CLS what",
          "CLS what happened",
          "CLS what happened just",
          "CLS what happened just before",
          "CLS what happened just before this",
          "CLS what happened just before this picture",
          "CLS what happened just before this picture was",
          "CLS what",
          "CLS what country",
          "CLS what country is",
          "CLS",
          "CLS why",
          "CLS why is",
          "CLS why is the",
          "CLS why is the sign",
          "CLS why is the sign standing",
          "CLS why is the sign standing in",
          "CLS why is the sign standing in the",
          "CLS what",
          "CLS what stance",
          "CLS what stance is",
          "CLS what stance is this",
          "CLS what stance is this person",
          "CLS what",
          "CLS what century",
          "CLS what century is",
          "CLS what is",
          "CLS what is an",
          "CLS what is an elephant",
          "CLS what is an elephant trainer",
          "CLS who",
          "CLS who is",
          "CLS who is wearing",
          "CLS what is the",
          "CLS what is the name",
          "CLS what is the name of",
          "CLS what is the name of this",
          "CLS",
          "CLS apart",
          "CLS apart from",
          "CLS apart from calls",
          "CLS apart from calls how",
          "CLS apart from calls how else",
          "CLS apart from calls how else can",
          "CLS apart from calls how else can these",
          "CLS apart from calls how else can these devices",
          "CLS apart from calls how else can these devices be",
          "CLS apart from calls how else can these devices be used",
          "CLS apart from calls how else can these devices be used to",
          "CLS what type of",
          "CLS what type of bird",
          "CLS what type of bird is",
          "CLS what type of bird is sitting",
          "CLS what type of bird is sitting on",
          "CLS what type of bird is sitting on the",
          "CLS what type of bird is sitting on the fence",
          "CLS",
          "CLS in",
          "CLS in what",
          "CLS in what state",
          "CLS in what state was",
          "CLS in what state was this",
          "CLS in what state was this man",
          "CLS in what state was this man a",
          "CLS what",
          "CLS what are",
          "CLS what are these",
          "CLS what are these vehicles",
          "CLS what is",
          "CLS what is bright",
          "CLS what animal is",
          "CLS what animal is on",
          "CLS what animal is on the",
          "CLS what",
          "CLS what food",
          "CLS what food is",
          "CLS what food is in",
          "CLS what food is in the",
          "CLS what",
          "CLS what biker",
          "CLS what biker group",
          "CLS what biker group is",
          "CLS what is the",
          "CLS what is the utensil",
          "CLS what is the utensil at",
          "CLS what is the utensil at the",
          "CLS what is the utensil at the top",
          "CLS what is the utensil at the top right",
          "CLS what is the utensil at the top right of",
          "CLS what is the utensil at the top right of the",
          "CLS where",
          "CLS where is",
          "CLS where is the",
          "CLS where is the sun",
          "CLS where is the sun facing",
          "CLS where is the sun facing in",
          "CLS where is the sun facing in this",
          "CLS what",
          "CLS what white",
          "CLS what white street",
          "CLS what white street sign",
          "CLS what white street sign is",
          "CLS what white street sign is in",
          "CLS what white street sign is in the",
          "CLS is",
          "CLS is this",
          "CLS is this a",
          "CLS is this a primary",
          "CLS is this a primary color",
          "CLS is this a primary color or",
          "CLS is this a primary color or a",
          "CLS is this a primary color or a pastel",
          "CLS is this a primary color or a pastel that",
          "CLS is this a primary color or a pastel that is",
          "CLS is this a primary color or a pastel that is depicted",
          "CLS is this a primary color or a pastel that is depicted on",
          "CLS is this a primary color or a pastel that is depicted on the"
         ],
         "text": [
          100,
          72.54901960784314,
          3.9215686274509802,
          3.9215686274509802,
          1.9607843137254901,
          1.9607843137254901,
          1.9607843137254901,
          1.9607843137254901,
          1.9607843137254901,
          1.9607843137254901,
          1.9607843137254901,
          1.9607843137254901,
          23.52941176470588,
          11.76470588235294,
          1.9607843137254901,
          1.9607843137254901,
          1.9607843137254901,
          1.9607843137254901,
          1.9607843137254901,
          1.9607843137254901,
          1.9607843137254901,
          3.9215686274509802,
          1.9607843137254901,
          1.9607843137254901,
          1.9607843137254901,
          1.9607843137254901,
          1.9607843137254901,
          1.9607843137254901,
          1.9607843137254901,
          1.9607843137254901,
          1.9607843137254901,
          1.9607843137254901,
          1.9607843137254901,
          1.9607843137254901,
          1.9607843137254901,
          1.9607843137254901,
          1.9607843137254901,
          1.9607843137254901,
          1.9607843137254901,
          1.9607843137254901,
          1.9607843137254901,
          3.9215686274509802,
          3.9215686274509802,
          1.9607843137254901,
          1.9607843137254901,
          1.9607843137254901,
          5.88235294117647,
          5.88235294117647,
          1.9607843137254901,
          1.9607843137254901,
          1.9607843137254901,
          1.9607843137254901,
          1.9607843137254901,
          1.9607843137254901,
          1.9607843137254901,
          1.9607843137254901,
          1.9607843137254901,
          1.9607843137254901,
          3.9215686274509802,
          1.9607843137254901,
          1.9607843137254901,
          1.9607843137254901,
          1.9607843137254901,
          1.9607843137254901,
          1.9607843137254901,
          1.9607843137254901,
          1.9607843137254901,
          1.9607843137254901,
          1.9607843137254901,
          1.9607843137254901,
          1.9607843137254901,
          1.9607843137254901,
          1.9607843137254901,
          1.9607843137254901,
          1.9607843137254901,
          1.9607843137254901,
          1.9607843137254901,
          1.9607843137254901,
          1.9607843137254901,
          1.9607843137254901,
          1.9607843137254901,
          1.9607843137254901,
          1.9607843137254901,
          1.9607843137254901,
          1.9607843137254901,
          1.9607843137254901,
          1.9607843137254901,
          1.9607843137254901,
          1.9607843137254901,
          1.9607843137254901,
          1.9607843137254901,
          1.9607843137254901,
          1.9607843137254901,
          1.9607843137254901,
          1.9607843137254901,
          1.9607843137254901,
          1.9607843137254901,
          1.9607843137254901,
          1.9607843137254901,
          1.9607843137254901,
          1.9607843137254901,
          1.9607843137254901,
          1.9607843137254901,
          1.9607843137254901,
          1.9607843137254901,
          1.9607843137254901,
          1.9607843137254901,
          1.9607843137254901,
          1.9607843137254901,
          1.9607843137254901,
          1.9607843137254901,
          1.9607843137254901,
          1.9607843137254901,
          1.9607843137254901,
          1.9607843137254901,
          1.9607843137254901,
          1.9607843137254901,
          1.9607843137254901,
          1.9607843137254901,
          1.9607843137254901,
          1.9607843137254901,
          1.9607843137254901,
          1.9607843137254901,
          1.9607843137254901,
          1.9607843137254901,
          1.9607843137254901,
          1.9607843137254901,
          1.9607843137254901,
          1.9607843137254901,
          1.9607843137254901,
          1.9607843137254901,
          1.9607843137254901,
          1.9607843137254901,
          1.9607843137254901,
          1.9607843137254901,
          1.9607843137254901,
          1.9607843137254901,
          1.9607843137254901,
          1.9607843137254901,
          1.9607843137254901,
          1.9607843137254901,
          1.9607843137254901,
          1.9607843137254901,
          1.9607843137254901,
          1.9607843137254901,
          1.9607843137254901,
          1.9607843137254901,
          1.9607843137254901,
          1.9607843137254901,
          1.9607843137254901,
          1.9607843137254901,
          1.9607843137254901,
          1.9607843137254901,
          1.9607843137254901,
          1.9607843137254901,
          1.9607843137254901,
          1.9607843137254901,
          3.9215686274509802,
          1.9607843137254901,
          1.9607843137254901,
          1.9607843137254901,
          1.9607843137254901,
          1.9607843137254901,
          1.9607843137254901,
          1.9607843137254901,
          1.9607843137254901,
          1.9607843137254901,
          1.9607843137254901,
          1.9607843137254901,
          1.9607843137254901,
          1.9607843137254901,
          1.9607843137254901,
          1.9607843137254901,
          1.9607843137254901,
          1.9607843137254901,
          1.9607843137254901,
          1.9607843137254901,
          1.9607843137254901,
          1.9607843137254901,
          1.9607843137254901,
          1.9607843137254901,
          1.9607843137254901,
          1.9607843137254901,
          1.9607843137254901,
          1.9607843137254901,
          1.9607843137254901,
          1.9607843137254901,
          1.9607843137254901,
          1.9607843137254901,
          1.9607843137254901,
          1.9607843137254901,
          1.9607843137254901,
          1.9607843137254901,
          1.9607843137254901,
          1.9607843137254901,
          1.9607843137254901,
          1.9607843137254901,
          1.9607843137254901,
          1.9607843137254901,
          1.9607843137254901,
          1.9607843137254901,
          1.9607843137254901,
          1.9607843137254901,
          1.9607843137254901,
          1.9607843137254901,
          1.9607843137254901,
          1.9607843137254901,
          1.9607843137254901,
          1.9607843137254901,
          1.9607843137254901,
          1.9607843137254901,
          1.9607843137254901,
          1.9607843137254901,
          1.9607843137254901,
          1.9607843137254901,
          1.9607843137254901,
          1.9607843137254901,
          1.9607843137254901,
          1.9607843137254901,
          1.9607843137254901,
          1.9607843137254901,
          1.9607843137254901,
          1.9607843137254901,
          1.9607843137254901,
          1.9607843137254901,
          1.9607843137254901,
          1.9607843137254901,
          1.9607843137254901,
          1.9607843137254901,
          1.9607843137254901,
          1.9607843137254901,
          1.9607843137254901,
          1.9607843137254901,
          1.9607843137254901,
          1.9607843137254901,
          1.9607843137254901,
          1.9607843137254901,
          1.9607843137254901,
          3.9215686274509802,
          1.9607843137254901,
          1.9607843137254901,
          1.9607843137254901,
          1.9607843137254901,
          1.9607843137254901,
          1.9607843137254901,
          1.9607843137254901,
          1.9607843137254901,
          1.9607843137254901,
          1.9607843137254901,
          1.9607843137254901,
          1.9607843137254901,
          1.9607843137254901,
          1.9607843137254901,
          1.9607843137254901,
          1.9607843137254901,
          1.9607843137254901,
          1.9607843137254901,
          1.9607843137254901,
          1.9607843137254901,
          1.9607843137254901,
          1.9607843137254901,
          1.9607843137254901,
          1.9607843137254901,
          1.9607843137254901,
          1.9607843137254901,
          1.9607843137254901,
          1.9607843137254901,
          1.9607843137254901,
          1.9607843137254901,
          1.9607843137254901,
          1.9607843137254901,
          1.9607843137254901,
          1.9607843137254901,
          1.9607843137254901,
          1.9607843137254901,
          1.9607843137254901,
          1.9607843137254901,
          1.9607843137254901,
          1.9607843137254901,
          1.9607843137254901,
          1.9607843137254901,
          1.9607843137254901,
          1.9607843137254901,
          1.9607843137254901,
          1.9607843137254901,
          1.9607843137254901,
          1.9607843137254901,
          1.9607843137254901,
          1.9607843137254901,
          1.9607843137254901,
          1.9607843137254901,
          1.9607843137254901,
          1.9607843137254901,
          1.9607843137254901,
          1.9607843137254901,
          1.9607843137254901,
          1.9607843137254901,
          1.9607843137254901,
          1.9607843137254901,
          1.9607843137254901,
          1.9607843137254901,
          1.9607843137254901,
          1.9607843137254901,
          1.9607843137254901,
          1.9607843137254901,
          1.9607843137254901,
          1.9607843137254901,
          1.9607843137254901,
          1.9607843137254901,
          1.9607843137254901,
          1.9607843137254901,
          1.9607843137254901,
          1.9607843137254901,
          1.9607843137254901,
          1.9607843137254901,
          1.9607843137254901,
          1.9607843137254901,
          1.9607843137254901,
          1.9607843137254901,
          1.9607843137254901,
          1.9607843137254901,
          1.9607843137254901,
          1.9607843137254901,
          1.9607843137254901,
          1.9607843137254901,
          1.9607843137254901,
          1.9607843137254901,
          1.9607843137254901,
          1.9607843137254901,
          1.9607843137254901,
          1.9607843137254901,
          1.9607843137254901,
          1.9607843137254901,
          1.9607843137254901,
          1.9607843137254901,
          1.9607843137254901,
          1.9607843137254901,
          1.9607843137254901,
          1.9607843137254901,
          1.9607843137254901,
          1.9607843137254901,
          1.9607843137254901,
          1.9607843137254901,
          1.9607843137254901,
          1.9607843137254901,
          1.9607843137254901,
          1.9607843137254901,
          1.9607843137254901,
          1.9607843137254901,
          1.9607843137254901,
          1.9607843137254901,
          1.9607843137254901,
          1.9607843137254901,
          1.9607843137254901,
          1.9607843137254901,
          1.9607843137254901,
          1.9607843137254901,
          1.9607843137254901,
          1.9607843137254901,
          1.9607843137254901
         ],
         "type": "sunburst",
         "values": [
          51,
          37,
          2,
          2,
          1,
          1,
          1,
          1,
          1,
          1,
          1,
          1,
          12,
          6,
          1,
          1,
          1,
          1,
          1,
          1,
          1,
          2,
          1,
          1,
          1,
          1,
          1,
          1,
          1,
          1,
          1,
          1,
          1,
          1,
          1,
          1,
          1,
          1,
          1,
          1,
          1,
          2,
          2,
          1,
          1,
          1,
          3,
          3,
          1,
          1,
          1,
          1,
          1,
          1,
          1,
          1,
          1,
          1,
          2,
          1,
          1,
          1,
          1,
          1,
          1,
          1,
          1,
          1,
          1,
          1,
          1,
          1,
          1,
          1,
          1,
          1,
          1,
          1,
          1,
          1,
          1,
          1,
          1,
          1,
          1,
          1,
          1,
          1,
          1,
          1,
          1,
          1,
          1,
          1,
          1,
          1,
          1,
          1,
          1,
          1,
          1,
          1,
          1,
          1,
          1,
          1,
          1,
          1,
          1,
          1,
          1,
          1,
          1,
          1,
          1,
          1,
          1,
          1,
          1,
          1,
          1,
          1,
          1,
          1,
          1,
          1,
          1,
          1,
          1,
          1,
          1,
          1,
          1,
          1,
          1,
          1,
          1,
          1,
          1,
          1,
          1,
          1,
          1,
          1,
          1,
          1,
          1,
          1,
          1,
          1,
          1,
          1,
          1,
          1,
          1,
          1,
          1,
          2,
          1,
          1,
          1,
          1,
          1,
          1,
          1,
          1,
          1,
          1,
          1,
          1,
          1,
          1,
          1,
          1,
          1,
          1,
          1,
          1,
          1,
          1,
          1,
          1,
          1,
          1,
          1,
          1,
          1,
          1,
          1,
          1,
          1,
          1,
          1,
          1,
          1,
          1,
          1,
          1,
          1,
          1,
          1,
          1,
          1,
          1,
          1,
          1,
          1,
          1,
          1,
          1,
          1,
          1,
          1,
          1,
          1,
          1,
          1,
          1,
          1,
          1,
          1,
          1,
          1,
          1,
          1,
          1,
          1,
          1,
          1,
          1,
          1,
          1,
          1,
          1,
          1,
          1,
          1,
          1,
          2,
          1,
          1,
          1,
          1,
          1,
          1,
          1,
          1,
          1,
          1,
          1,
          1,
          1,
          1,
          1,
          1,
          1,
          1,
          1,
          1,
          1,
          1,
          1,
          1,
          1,
          1,
          1,
          1,
          1,
          1,
          1,
          1,
          1,
          1,
          1,
          1,
          1,
          1,
          1,
          1,
          1,
          1,
          1,
          1,
          1,
          1,
          1,
          1,
          1,
          1,
          1,
          1,
          1,
          1,
          1,
          1,
          1,
          1,
          1,
          1,
          1,
          1,
          1,
          1,
          1,
          1,
          1,
          1,
          1,
          1,
          1,
          1,
          1,
          1,
          1,
          1,
          1,
          1,
          1,
          1,
          1,
          1,
          1,
          1,
          1,
          1,
          1,
          1,
          1,
          1,
          1,
          1,
          1,
          1,
          1,
          1,
          1,
          1,
          1,
          1,
          1,
          1,
          1,
          1,
          1,
          1,
          1,
          1,
          1,
          1,
          1,
          1,
          1,
          1,
          1,
          1,
          1,
          1,
          1,
          1,
          1
         ]
        }
       ],
       "layout": {
        "autosize": false,
        "height": 500,
        "margin": {
         "b": 10,
         "l": 10,
         "r": 10,
         "t": 10
        },
        "template": {
         "data": {
          "bar": [
           {
            "error_x": {
             "color": "#2a3f5f"
            },
            "error_y": {
             "color": "#2a3f5f"
            },
            "marker": {
             "line": {
              "color": "#E5ECF6",
              "width": 0.5
             },
             "pattern": {
              "fillmode": "overlay",
              "size": 10,
              "solidity": 0.2
             }
            },
            "type": "bar"
           }
          ],
          "barpolar": [
           {
            "marker": {
             "line": {
              "color": "#E5ECF6",
              "width": 0.5
             },
             "pattern": {
              "fillmode": "overlay",
              "size": 10,
              "solidity": 0.2
             }
            },
            "type": "barpolar"
           }
          ],
          "carpet": [
           {
            "aaxis": {
             "endlinecolor": "#2a3f5f",
             "gridcolor": "white",
             "linecolor": "white",
             "minorgridcolor": "white",
             "startlinecolor": "#2a3f5f"
            },
            "baxis": {
             "endlinecolor": "#2a3f5f",
             "gridcolor": "white",
             "linecolor": "white",
             "minorgridcolor": "white",
             "startlinecolor": "#2a3f5f"
            },
            "type": "carpet"
           }
          ],
          "choropleth": [
           {
            "colorbar": {
             "outlinewidth": 0,
             "ticks": ""
            },
            "type": "choropleth"
           }
          ],
          "contour": [
           {
            "colorbar": {
             "outlinewidth": 0,
             "ticks": ""
            },
            "colorscale": [
             [
              0,
              "#0d0887"
             ],
             [
              0.1111111111111111,
              "#46039f"
             ],
             [
              0.2222222222222222,
              "#7201a8"
             ],
             [
              0.3333333333333333,
              "#9c179e"
             ],
             [
              0.4444444444444444,
              "#bd3786"
             ],
             [
              0.5555555555555556,
              "#d8576b"
             ],
             [
              0.6666666666666666,
              "#ed7953"
             ],
             [
              0.7777777777777778,
              "#fb9f3a"
             ],
             [
              0.8888888888888888,
              "#fdca26"
             ],
             [
              1,
              "#f0f921"
             ]
            ],
            "type": "contour"
           }
          ],
          "contourcarpet": [
           {
            "colorbar": {
             "outlinewidth": 0,
             "ticks": ""
            },
            "type": "contourcarpet"
           }
          ],
          "heatmap": [
           {
            "colorbar": {
             "outlinewidth": 0,
             "ticks": ""
            },
            "colorscale": [
             [
              0,
              "#0d0887"
             ],
             [
              0.1111111111111111,
              "#46039f"
             ],
             [
              0.2222222222222222,
              "#7201a8"
             ],
             [
              0.3333333333333333,
              "#9c179e"
             ],
             [
              0.4444444444444444,
              "#bd3786"
             ],
             [
              0.5555555555555556,
              "#d8576b"
             ],
             [
              0.6666666666666666,
              "#ed7953"
             ],
             [
              0.7777777777777778,
              "#fb9f3a"
             ],
             [
              0.8888888888888888,
              "#fdca26"
             ],
             [
              1,
              "#f0f921"
             ]
            ],
            "type": "heatmap"
           }
          ],
          "heatmapgl": [
           {
            "colorbar": {
             "outlinewidth": 0,
             "ticks": ""
            },
            "colorscale": [
             [
              0,
              "#0d0887"
             ],
             [
              0.1111111111111111,
              "#46039f"
             ],
             [
              0.2222222222222222,
              "#7201a8"
             ],
             [
              0.3333333333333333,
              "#9c179e"
             ],
             [
              0.4444444444444444,
              "#bd3786"
             ],
             [
              0.5555555555555556,
              "#d8576b"
             ],
             [
              0.6666666666666666,
              "#ed7953"
             ],
             [
              0.7777777777777778,
              "#fb9f3a"
             ],
             [
              0.8888888888888888,
              "#fdca26"
             ],
             [
              1,
              "#f0f921"
             ]
            ],
            "type": "heatmapgl"
           }
          ],
          "histogram": [
           {
            "marker": {
             "pattern": {
              "fillmode": "overlay",
              "size": 10,
              "solidity": 0.2
             }
            },
            "type": "histogram"
           }
          ],
          "histogram2d": [
           {
            "colorbar": {
             "outlinewidth": 0,
             "ticks": ""
            },
            "colorscale": [
             [
              0,
              "#0d0887"
             ],
             [
              0.1111111111111111,
              "#46039f"
             ],
             [
              0.2222222222222222,
              "#7201a8"
             ],
             [
              0.3333333333333333,
              "#9c179e"
             ],
             [
              0.4444444444444444,
              "#bd3786"
             ],
             [
              0.5555555555555556,
              "#d8576b"
             ],
             [
              0.6666666666666666,
              "#ed7953"
             ],
             [
              0.7777777777777778,
              "#fb9f3a"
             ],
             [
              0.8888888888888888,
              "#fdca26"
             ],
             [
              1,
              "#f0f921"
             ]
            ],
            "type": "histogram2d"
           }
          ],
          "histogram2dcontour": [
           {
            "colorbar": {
             "outlinewidth": 0,
             "ticks": ""
            },
            "colorscale": [
             [
              0,
              "#0d0887"
             ],
             [
              0.1111111111111111,
              "#46039f"
             ],
             [
              0.2222222222222222,
              "#7201a8"
             ],
             [
              0.3333333333333333,
              "#9c179e"
             ],
             [
              0.4444444444444444,
              "#bd3786"
             ],
             [
              0.5555555555555556,
              "#d8576b"
             ],
             [
              0.6666666666666666,
              "#ed7953"
             ],
             [
              0.7777777777777778,
              "#fb9f3a"
             ],
             [
              0.8888888888888888,
              "#fdca26"
             ],
             [
              1,
              "#f0f921"
             ]
            ],
            "type": "histogram2dcontour"
           }
          ],
          "mesh3d": [
           {
            "colorbar": {
             "outlinewidth": 0,
             "ticks": ""
            },
            "type": "mesh3d"
           }
          ],
          "parcoords": [
           {
            "line": {
             "colorbar": {
              "outlinewidth": 0,
              "ticks": ""
             }
            },
            "type": "parcoords"
           }
          ],
          "pie": [
           {
            "automargin": true,
            "type": "pie"
           }
          ],
          "scatter": [
           {
            "marker": {
             "colorbar": {
              "outlinewidth": 0,
              "ticks": ""
             }
            },
            "type": "scatter"
           }
          ],
          "scatter3d": [
           {
            "line": {
             "colorbar": {
              "outlinewidth": 0,
              "ticks": ""
             }
            },
            "marker": {
             "colorbar": {
              "outlinewidth": 0,
              "ticks": ""
             }
            },
            "type": "scatter3d"
           }
          ],
          "scattercarpet": [
           {
            "marker": {
             "colorbar": {
              "outlinewidth": 0,
              "ticks": ""
             }
            },
            "type": "scattercarpet"
           }
          ],
          "scattergeo": [
           {
            "marker": {
             "colorbar": {
              "outlinewidth": 0,
              "ticks": ""
             }
            },
            "type": "scattergeo"
           }
          ],
          "scattergl": [
           {
            "marker": {
             "colorbar": {
              "outlinewidth": 0,
              "ticks": ""
             }
            },
            "type": "scattergl"
           }
          ],
          "scattermapbox": [
           {
            "marker": {
             "colorbar": {
              "outlinewidth": 0,
              "ticks": ""
             }
            },
            "type": "scattermapbox"
           }
          ],
          "scatterpolar": [
           {
            "marker": {
             "colorbar": {
              "outlinewidth": 0,
              "ticks": ""
             }
            },
            "type": "scatterpolar"
           }
          ],
          "scatterpolargl": [
           {
            "marker": {
             "colorbar": {
              "outlinewidth": 0,
              "ticks": ""
             }
            },
            "type": "scatterpolargl"
           }
          ],
          "scatterternary": [
           {
            "marker": {
             "colorbar": {
              "outlinewidth": 0,
              "ticks": ""
             }
            },
            "type": "scatterternary"
           }
          ],
          "surface": [
           {
            "colorbar": {
             "outlinewidth": 0,
             "ticks": ""
            },
            "colorscale": [
             [
              0,
              "#0d0887"
             ],
             [
              0.1111111111111111,
              "#46039f"
             ],
             [
              0.2222222222222222,
              "#7201a8"
             ],
             [
              0.3333333333333333,
              "#9c179e"
             ],
             [
              0.4444444444444444,
              "#bd3786"
             ],
             [
              0.5555555555555556,
              "#d8576b"
             ],
             [
              0.6666666666666666,
              "#ed7953"
             ],
             [
              0.7777777777777778,
              "#fb9f3a"
             ],
             [
              0.8888888888888888,
              "#fdca26"
             ],
             [
              1,
              "#f0f921"
             ]
            ],
            "type": "surface"
           }
          ],
          "table": [
           {
            "cells": {
             "fill": {
              "color": "#EBF0F8"
             },
             "line": {
              "color": "white"
             }
            },
            "header": {
             "fill": {
              "color": "#C8D4E3"
             },
             "line": {
              "color": "white"
             }
            },
            "type": "table"
           }
          ]
         },
         "layout": {
          "annotationdefaults": {
           "arrowcolor": "#2a3f5f",
           "arrowhead": 0,
           "arrowwidth": 1
          },
          "autotypenumbers": "strict",
          "coloraxis": {
           "colorbar": {
            "outlinewidth": 0,
            "ticks": ""
           }
          },
          "colorscale": {
           "diverging": [
            [
             0,
             "#8e0152"
            ],
            [
             0.1,
             "#c51b7d"
            ],
            [
             0.2,
             "#de77ae"
            ],
            [
             0.3,
             "#f1b6da"
            ],
            [
             0.4,
             "#fde0ef"
            ],
            [
             0.5,
             "#f7f7f7"
            ],
            [
             0.6,
             "#e6f5d0"
            ],
            [
             0.7,
             "#b8e186"
            ],
            [
             0.8,
             "#7fbc41"
            ],
            [
             0.9,
             "#4d9221"
            ],
            [
             1,
             "#276419"
            ]
           ],
           "sequential": [
            [
             0,
             "#0d0887"
            ],
            [
             0.1111111111111111,
             "#46039f"
            ],
            [
             0.2222222222222222,
             "#7201a8"
            ],
            [
             0.3333333333333333,
             "#9c179e"
            ],
            [
             0.4444444444444444,
             "#bd3786"
            ],
            [
             0.5555555555555556,
             "#d8576b"
            ],
            [
             0.6666666666666666,
             "#ed7953"
            ],
            [
             0.7777777777777778,
             "#fb9f3a"
            ],
            [
             0.8888888888888888,
             "#fdca26"
            ],
            [
             1,
             "#f0f921"
            ]
           ],
           "sequentialminus": [
            [
             0,
             "#0d0887"
            ],
            [
             0.1111111111111111,
             "#46039f"
            ],
            [
             0.2222222222222222,
             "#7201a8"
            ],
            [
             0.3333333333333333,
             "#9c179e"
            ],
            [
             0.4444444444444444,
             "#bd3786"
            ],
            [
             0.5555555555555556,
             "#d8576b"
            ],
            [
             0.6666666666666666,
             "#ed7953"
            ],
            [
             0.7777777777777778,
             "#fb9f3a"
            ],
            [
             0.8888888888888888,
             "#fdca26"
            ],
            [
             1,
             "#f0f921"
            ]
           ]
          },
          "colorway": [
           "#636efa",
           "#EF553B",
           "#00cc96",
           "#ab63fa",
           "#FFA15A",
           "#19d3f3",
           "#FF6692",
           "#B6E880",
           "#FF97FF",
           "#FECB52"
          ],
          "font": {
           "color": "#2a3f5f"
          },
          "geo": {
           "bgcolor": "white",
           "lakecolor": "white",
           "landcolor": "#E5ECF6",
           "showlakes": true,
           "showland": true,
           "subunitcolor": "white"
          },
          "hoverlabel": {
           "align": "left"
          },
          "hovermode": "closest",
          "mapbox": {
           "style": "light"
          },
          "paper_bgcolor": "white",
          "plot_bgcolor": "#E5ECF6",
          "polar": {
           "angularaxis": {
            "gridcolor": "white",
            "linecolor": "white",
            "ticks": ""
           },
           "bgcolor": "#E5ECF6",
           "radialaxis": {
            "gridcolor": "white",
            "linecolor": "white",
            "ticks": ""
           }
          },
          "scene": {
           "xaxis": {
            "backgroundcolor": "#E5ECF6",
            "gridcolor": "white",
            "gridwidth": 2,
            "linecolor": "white",
            "showbackground": true,
            "ticks": "",
            "zerolinecolor": "white"
           },
           "yaxis": {
            "backgroundcolor": "#E5ECF6",
            "gridcolor": "white",
            "gridwidth": 2,
            "linecolor": "white",
            "showbackground": true,
            "ticks": "",
            "zerolinecolor": "white"
           },
           "zaxis": {
            "backgroundcolor": "#E5ECF6",
            "gridcolor": "white",
            "gridwidth": 2,
            "linecolor": "white",
            "showbackground": true,
            "ticks": "",
            "zerolinecolor": "white"
           }
          },
          "shapedefaults": {
           "line": {
            "color": "#2a3f5f"
           }
          },
          "ternary": {
           "aaxis": {
            "gridcolor": "white",
            "linecolor": "white",
            "ticks": ""
           },
           "baxis": {
            "gridcolor": "white",
            "linecolor": "white",
            "ticks": ""
           },
           "bgcolor": "#E5ECF6",
           "caxis": {
            "gridcolor": "white",
            "linecolor": "white",
            "ticks": ""
           }
          },
          "title": {
           "x": 0.05
          },
          "xaxis": {
           "automargin": true,
           "gridcolor": "white",
           "linecolor": "white",
           "ticks": "",
           "title": {
            "standoff": 15
           },
           "zerolinecolor": "white",
           "zerolinewidth": 2
          },
          "yaxis": {
           "automargin": true,
           "gridcolor": "white",
           "linecolor": "white",
           "ticks": "",
           "title": {
            "standoff": 15
           },
           "zerolinecolor": "white",
           "zerolinewidth": 2
          }
         }
        },
        "uniformtext": {
         "minsize": 10,
         "mode": "hide"
        },
        "width": 500
       }
      },
      "text/html": [
       "<div>                            <div id=\"de6601fc-e28c-4785-9516-bbe45c22a81e\" class=\"plotly-graph-div\" style=\"height:500px; width:500px;\"></div>            <script type=\"text/javascript\">                require([\"plotly\"], function(Plotly) {                    window.PLOTLYENV=window.PLOTLYENV || {};                                    if (document.getElementById(\"de6601fc-e28c-4785-9516-bbe45c22a81e\")) {                    Plotly.newPlot(                        \"de6601fc-e28c-4785-9516-bbe45c22a81e\",                        [{\"branchvalues\":\"total\",\"domain\":{\"column\":1},\"hovertemplate\":\"<b>%{label} </b> <br> Percentage: %{text:.2f}%\",\"ids\":[\"CLS\",\"CLS what\",\"CLS what animal\",\"CLS what animal is\",\"CLS what animal is closely\",\"CLS what animal is closely realted\",\"CLS what animal is closely realted to\",\"CLS what animal is closely realted to the\",\"CLS what animal is closely realted to the one\",\"CLS what animal is closely realted to the one is\",\"CLS what animal is closely realted to the one is this\",\"CLS what animal is closely realted to the one is this picture\",\"CLS what is\",\"CLS what is the\",\"CLS what is the job\",\"CLS what is the job title\",\"CLS what is the job title for\",\"CLS what is the job title for the\",\"CLS what is the job title for the man\",\"CLS what is the job title for the man pictured\",\"CLS what is the job title for the man pictured here\",\"CLS is\",\"CLS is the\",\"CLS is the bird\",\"CLS is the bird migrating\",\"CLS is the bird migrating or\",\"CLS is the bird migrating or native\",\"CLS what '\",\"CLS what ' s\",\"CLS what ' s the\",\"CLS what ' s the skateboarder\",\"CLS what ' s the skateboarder doing\",\"CLS what part\",\"CLS what part of\",\"CLS what part of the\",\"CLS what part of the body\",\"CLS what part of the body is\",\"CLS what part of the body is a\",\"CLS what part of the body is a banana\",\"CLS what part of the body is a banana good\",\"CLS what part of the body is a banana good for\",\"CLS what kind\",\"CLS what kind of\",\"CLS what kind of mask\",\"CLS what kind of mask is\",\"CLS what kind of mask is this\",\"CLS what type\",\"CLS what type of\",\"CLS what type of computer\",\"CLS what type of computer is\",\"CLS what type of computer is shown\",\"CLS what type of computer is shown in\",\"CLS what type of computer is shown in this\",\"CLS what type of computer is shown in this image\",\"CLS what is her\",\"CLS what is her bag\",\"CLS what is her bag made\",\"CLS what is her bag made of\",\"CLS which\",\"CLS which bus\",\"CLS which bus has\",\"CLS which bus has a\",\"CLS which bus has a higer\",\"CLS which bus has a higer top\",\"CLS which bus has a higer top speed\",\"CLS what kind of activity\",\"CLS what kind of activity would\",\"CLS what kind of activity would a\",\"CLS what kind of activity would a vehicle\",\"CLS what kind of activity would a vehicle like\",\"CLS what kind of activity would a vehicle like this\",\"CLS what kind of activity would a vehicle like this undertake\",\"CLS what could\",\"CLS what could have\",\"CLS what could have caused\",\"CLS what could have caused this\",\"CLS what could have caused this to\",\"CLS what could have caused this to happen\",\"CLS what is the object\",\"CLS what is the object at\",\"CLS what is the object at the\",\"CLS what is the object at the very\",\"CLS what is the object at the very top\",\"CLS what is the object at the very top of\",\"CLS what is the object at the very top of this\",\"CLS what is the object at the very top of this building\",\"CLS what is the object at the very top of this building called\",\"CLS what can\",\"CLS what can people\",\"CLS what can people do\",\"CLS what can people do with\",\"CLS what can people do with that\",\"CLS what can people do with that object\",\"CLS what can people do with that object on\",\"CLS what can people do with that object on top\",\"CLS what can people do with that object on top of\",\"CLS what can people do with that object on top of the\",\"CLS what can people do with that object on top of the stove\",\"CLS what day\",\"CLS what day s\",\"CLS what day s might\",\"CLS what day s might i\",\"CLS what day s might i most\",\"CLS what day s might i most commonly\",\"CLS what day s might i most commonly go\",\"CLS what day s might i most commonly go to\",\"CLS what day s might i most commonly go to this\",\"CLS what day s might i most commonly go to this building\",\"CLS what icing\",\"CLS what icing is\",\"CLS what icing is on\",\"CLS what icing is on this\",\"CLS what icing is on this person\",\"CLS what icing is on this person '\",\"CLS what icing is on this person ' s\",\"CLS what icing is on this person ' s cake\",\"CLS what is the role\",\"CLS what is the role of\",\"CLS what is the role of the\",\"CLS what is the role of the person\",\"CLS what is the role of the person who\",\"CLS what is the role of the person who would\",\"CLS what is the role of the person who would sit\",\"CLS what is the role of the person who would sit in\",\"CLS what is the role of the person who would sit in this\",\"CLS what is the role of the person who would sit in this desk\",\"CLS what is unusual\",\"CLS what is unusual about\",\"CLS what is unusual about the\",\"CLS what is unusual about the surface\",\"CLS what is unusual about the surface the\",\"CLS what is unusual about the surface the boats\",\"CLS what is unusual about the surface the boats are\",\"CLS what is unusual about the surface the boats are resting\",\"CLS what is unusual about the surface the boats are resting on\",\"CLS are\",\"CLS are these\",\"CLS are these cattle\",\"CLS are these cattle free\",\"CLS are these cattle free or\",\"CLS are these cattle free or caged\",\"CLS what is this\",\"CLS what is this technique\",\"CLS what is this technique called\",\"CLS what holiday\",\"CLS what holiday do\",\"CLS what holiday do we\",\"CLS what holiday do we use\",\"CLS what holiday do we use this\",\"CLS what holiday do we use this for\",\"CLS what is the model\",\"CLS what is the model of\",\"CLS what is the model of microwave\",\"CLS what is the model of microwave on\",\"CLS what is the model of microwave on the\",\"CLS what is the model of microwave on the kitchen\",\"CLS what is the model of microwave on the kitchen counter\",\"CLS where\",\"CLS where can\",\"CLS where can i\",\"CLS where can i buy\",\"CLS where can i buy this\",\"CLS where can i buy this meal\",\"CLS what type of motorcycle\",\"CLS what type of motorcycle is\",\"CLS what type of motorcycle is this\",\"CLS the\",\"CLS the sort\",\"CLS the sort of\",\"CLS the sort of work\",\"CLS the sort of work that\",\"CLS the sort of work that this\",\"CLS the sort of work that this man\",\"CLS the sort of work that this man is\",\"CLS the sort of work that this man is doing\",\"CLS the sort of work that this man is doing could\",\"CLS the sort of work that this man is doing could lead\",\"CLS the sort of work that this man is doing could lead to\",\"CLS the sort of work that this man is doing could lead to trouble\",\"CLS the sort of work that this man is doing could lead to trouble with\",\"CLS the sort of work that this man is doing could lead to trouble with what\",\"CLS the sort of work that this man is doing could lead to trouble with what part\",\"CLS the sort of work that this man is doing could lead to trouble with what part of\",\"CLS the sort of work that this man is doing could lead to trouble with what part of the\",\"CLS the sort of work that this man is doing could lead to trouble with what part of the body\",\"CLS the sort of work that this man is doing could lead to trouble with what part of the body later\",\"CLS the sort of work that this man is doing could lead to trouble with what part of the body later in\",\"CLS the sort of work that this man is doing could lead to trouble with what part of the body later in life\",\"CLS what species\",\"CLS what species of\",\"CLS what species of bear\",\"CLS what species of bear is\",\"CLS what species of bear is this\",\"CLS how\",\"CLS how do\",\"CLS how do you\",\"CLS how do you care\",\"CLS how do you care for\",\"CLS how do you care for this\",\"CLS how do you care for this equipment\",\"CLS what teams\",\"CLS what teams are\",\"CLS what teams are these\",\"CLS what teams are these players\",\"CLS what teams are these players playing\",\"CLS what teams are these players playing for\",\"CLS which us\",\"CLS which us state\",\"CLS which us state is\",\"CLS which us state is known\",\"CLS which us state is known for\",\"CLS which us state is known for its\",\"CLS which us state is known for its dairy\",\"CLS which us state is known for its dairy farming\",\"CLS which us state is known for its dairy farming and\",\"CLS which us state is known for its dairy farming and frequently\",\"CLS which us state is known for its dairy farming and frequently displays\",\"CLS which us state is known for its dairy farming and frequently displays statues\",\"CLS which us state is known for its dairy farming and frequently displays statues like\",\"CLS which us state is known for its dairy farming and frequently displays statues like the\",\"CLS which us state is known for its dairy farming and frequently displays statues like the one\",\"CLS which us state is known for its dairy farming and frequently displays statues like the one shown\",\"CLS what is being\",\"CLS what is being used\",\"CLS what is being used to\",\"CLS what is being used to not\",\"CLS what is being used to not get\",\"CLS what is being used to not get wet\",\"CLS what is being used to not get wet by\",\"CLS what is being used to not get wet by rain\",\"CLS what was\",\"CLS what was the\",\"CLS what was the name\",\"CLS what was the name of\",\"CLS what was the name of the\",\"CLS what was the name of the chicken\",\"CLS what was the name of the chicken in\",\"CLS what was the name of the chicken in moana\",\"CLS who\",\"CLS who gets\",\"CLS who gets this\",\"CLS who gets this bathroom\",\"CLS who gets this bathroom toyset\",\"CLS what happened\",\"CLS what happened just\",\"CLS what happened just before\",\"CLS what happened just before this\",\"CLS what happened just before this picture\",\"CLS what happened just before this picture was\",\"CLS what happened just before this picture was taken\",\"CLS what country\",\"CLS what country is\",\"CLS what country is this\",\"CLS why\",\"CLS why is\",\"CLS why is the\",\"CLS why is the sign\",\"CLS why is the sign standing\",\"CLS why is the sign standing in\",\"CLS why is the sign standing in the\",\"CLS why is the sign standing in the street\",\"CLS what stance\",\"CLS what stance is\",\"CLS what stance is this\",\"CLS what stance is this person\",\"CLS what stance is this person in\",\"CLS what century\",\"CLS what century is\",\"CLS what century is this\",\"CLS what is an\",\"CLS what is an elephant\",\"CLS what is an elephant trainer\",\"CLS what is an elephant trainer called\",\"CLS who is\",\"CLS who is wearing\",\"CLS who is wearing black\",\"CLS what is the name\",\"CLS what is the name of\",\"CLS what is the name of this\",\"CLS what is the name of this motorcycle\",\"CLS apart\",\"CLS apart from\",\"CLS apart from calls\",\"CLS apart from calls how\",\"CLS apart from calls how else\",\"CLS apart from calls how else can\",\"CLS apart from calls how else can these\",\"CLS apart from calls how else can these devices\",\"CLS apart from calls how else can these devices be\",\"CLS apart from calls how else can these devices be used\",\"CLS apart from calls how else can these devices be used to\",\"CLS apart from calls how else can these devices be used to communicate\",\"CLS what type of bird\",\"CLS what type of bird is\",\"CLS what type of bird is sitting\",\"CLS what type of bird is sitting on\",\"CLS what type of bird is sitting on the\",\"CLS what type of bird is sitting on the fence\",\"CLS what type of bird is sitting on the fence post\",\"CLS in\",\"CLS in what\",\"CLS in what state\",\"CLS in what state was\",\"CLS in what state was this\",\"CLS in what state was this man\",\"CLS in what state was this man a\",\"CLS in what state was this man a senator\",\"CLS what are\",\"CLS what are these\",\"CLS what are these vehicles\",\"CLS what are these vehicles called\",\"CLS what is bright\",\"CLS what is bright overhead\",\"CLS what animal is on\",\"CLS what animal is on the\",\"CLS what animal is on the left\",\"CLS what food\",\"CLS what food is\",\"CLS what food is in\",\"CLS what food is in the\",\"CLS what food is in the foreground\",\"CLS what biker\",\"CLS what biker group\",\"CLS what biker group is\",\"CLS what biker group is shown\",\"CLS what is the utensil\",\"CLS what is the utensil at\",\"CLS what is the utensil at the\",\"CLS what is the utensil at the top\",\"CLS what is the utensil at the top right\",\"CLS what is the utensil at the top right of\",\"CLS what is the utensil at the top right of the\",\"CLS what is the utensil at the top right of the plate\",\"CLS where is\",\"CLS where is the\",\"CLS where is the sun\",\"CLS where is the sun facing\",\"CLS where is the sun facing in\",\"CLS where is the sun facing in this\",\"CLS where is the sun facing in this picture\",\"CLS what white\",\"CLS what white street\",\"CLS what white street sign\",\"CLS what white street sign is\",\"CLS what white street sign is in\",\"CLS what white street sign is in the\",\"CLS what white street sign is in the photo\",\"CLS is this\",\"CLS is this a\",\"CLS is this a primary\",\"CLS is this a primary color\",\"CLS is this a primary color or\",\"CLS is this a primary color or a\",\"CLS is this a primary color or a pastel\",\"CLS is this a primary color or a pastel that\",\"CLS is this a primary color or a pastel that is\",\"CLS is this a primary color or a pastel that is depicted\",\"CLS is this a primary color or a pastel that is depicted on\",\"CLS is this a primary color or a pastel that is depicted on the\",\"CLS is this a primary color or a pastel that is depicted on the board\"],\"insidetextorientation\":\"radial\",\"labels\":[\"\",\"what\",\"animal\",\"is\",\"closely\",\"realted\",\"to\",\"the\",\"one\",\"is\",\"this\",\"picture\",\"is\",\"the\",\"job\",\"title\",\"for\",\"the\",\"man\",\"pictured\",\"here\",\"is\",\"the\",\"bird\",\"migrating\",\"or\",\"native\",\"'\",\"s\",\"the\",\"skateboarder\",\"doing\",\"part\",\"of\",\"the\",\"body\",\"is\",\"a\",\"banana\",\"good\",\"for\",\"kind\",\"of\",\"mask\",\"is\",\"this\",\"type\",\"of\",\"computer\",\"is\",\"shown\",\"in\",\"this\",\"image\",\"her\",\"bag\",\"made\",\"of\",\"which\",\"bus\",\"has\",\"a\",\"higer\",\"top\",\"speed\",\"activity\",\"would\",\"a\",\"vehicle\",\"like\",\"this\",\"undertake\",\"could\",\"have\",\"caused\",\"this\",\"to\",\"happen\",\"object\",\"at\",\"the\",\"very\",\"top\",\"of\",\"this\",\"building\",\"called\",\"can\",\"people\",\"do\",\"with\",\"that\",\"object\",\"on\",\"top\",\"of\",\"the\",\"stove\",\"day\",\"s\",\"might\",\"i\",\"most\",\"commonly\",\"go\",\"to\",\"this\",\"building\",\"icing\",\"is\",\"on\",\"this\",\"person\",\"'\",\"s\",\"cake\",\"role\",\"of\",\"the\",\"person\",\"who\",\"would\",\"sit\",\"in\",\"this\",\"desk\",\"unusual\",\"about\",\"the\",\"surface\",\"the\",\"boats\",\"are\",\"resting\",\"on\",\"are\",\"these\",\"cattle\",\"free\",\"or\",\"caged\",\"this\",\"technique\",\"called\",\"holiday\",\"do\",\"we\",\"use\",\"this\",\"for\",\"model\",\"of\",\"microwave\",\"on\",\"the\",\"kitchen\",\"counter\",\"where\",\"can\",\"i\",\"buy\",\"this\",\"meal\",\"motorcycle\",\"is\",\"this\",\"the\",\"sort\",\"of\",\"work\",\"that\",\"this\",\"man\",\"is\",\"doing\",\"could\",\"lead\",\"to\",\"trouble\",\"with\",\"what\",\"part\",\"of\",\"the\",\"body\",\"later\",\"in\",\"life\",\"species\",\"of\",\"bear\",\"is\",\"this\",\"how\",\"do\",\"you\",\"care\",\"for\",\"this\",\"equipment\",\"teams\",\"are\",\"these\",\"players\",\"playing\",\"for\",\"us\",\"state\",\"is\",\"known\",\"for\",\"its\",\"dairy\",\"farming\",\"and\",\"frequently\",\"displays\",\"statues\",\"like\",\"the\",\"one\",\"shown\",\"being\",\"used\",\"to\",\"not\",\"get\",\"wet\",\"by\",\"rain\",\"was\",\"the\",\"name\",\"of\",\"the\",\"chicken\",\"in\",\"moana\",\"who\",\"gets\",\"this\",\"bathroom\",\"toyset\",\"happened\",\"just\",\"before\",\"this\",\"picture\",\"was\",\"taken\",\"country\",\"is\",\"this\",\"why\",\"is\",\"the\",\"sign\",\"standing\",\"in\",\"the\",\"street\",\"stance\",\"is\",\"this\",\"person\",\"in\",\"century\",\"is\",\"this\",\"an\",\"elephant\",\"trainer\",\"called\",\"is\",\"wearing\",\"black\",\"name\",\"of\",\"this\",\"motorcycle\",\"apart\",\"from\",\"calls\",\"how\",\"else\",\"can\",\"these\",\"devices\",\"be\",\"used\",\"to\",\"communicate\",\"bird\",\"is\",\"sitting\",\"on\",\"the\",\"fence\",\"post\",\"in\",\"what\",\"state\",\"was\",\"this\",\"man\",\"a\",\"senator\",\"are\",\"these\",\"vehicles\",\"called\",\"bright\",\"overhead\",\"on\",\"the\",\"left\",\"food\",\"is\",\"in\",\"the\",\"foreground\",\"biker\",\"group\",\"is\",\"shown\",\"utensil\",\"at\",\"the\",\"top\",\"right\",\"of\",\"the\",\"plate\",\"is\",\"the\",\"sun\",\"facing\",\"in\",\"this\",\"picture\",\"white\",\"street\",\"sign\",\"is\",\"in\",\"the\",\"photo\",\"this\",\"a\",\"primary\",\"color\",\"or\",\"a\",\"pastel\",\"that\",\"is\",\"depicted\",\"on\",\"the\",\"board\"],\"maxdepth\":8,\"parents\":[\"\",\"CLS\",\"CLS what\",\"CLS what animal\",\"CLS what animal is\",\"CLS what animal is closely\",\"CLS what animal is closely realted\",\"CLS what animal is closely realted to\",\"CLS what animal is closely realted to the\",\"CLS what animal is closely realted to the one\",\"CLS what animal is closely realted to the one is\",\"CLS what animal is closely realted to the one is this\",\"CLS what\",\"CLS what is\",\"CLS what is the\",\"CLS what is the job\",\"CLS what is the job title\",\"CLS what is the job title for\",\"CLS what is the job title for the\",\"CLS what is the job title for the man\",\"CLS what is the job title for the man pictured\",\"CLS\",\"CLS is\",\"CLS is the\",\"CLS is the bird\",\"CLS is the bird migrating\",\"CLS is the bird migrating or\",\"CLS what\",\"CLS what '\",\"CLS what ' s\",\"CLS what ' s the\",\"CLS what ' s the skateboarder\",\"CLS what\",\"CLS what part\",\"CLS what part of\",\"CLS what part of the\",\"CLS what part of the body\",\"CLS what part of the body is\",\"CLS what part of the body is a\",\"CLS what part of the body is a banana\",\"CLS what part of the body is a banana good\",\"CLS what\",\"CLS what kind\",\"CLS what kind of\",\"CLS what kind of mask\",\"CLS what kind of mask is\",\"CLS what\",\"CLS what type\",\"CLS what type of\",\"CLS what type of computer\",\"CLS what type of computer is\",\"CLS what type of computer is shown\",\"CLS what type of computer is shown in\",\"CLS what type of computer is shown in this\",\"CLS what is\",\"CLS what is her\",\"CLS what is her bag\",\"CLS what is her bag made\",\"CLS\",\"CLS which\",\"CLS which bus\",\"CLS which bus has\",\"CLS which bus has a\",\"CLS which bus has a higer\",\"CLS which bus has a higer top\",\"CLS what kind of\",\"CLS what kind of activity\",\"CLS what kind of activity would\",\"CLS what kind of activity would a\",\"CLS what kind of activity would a vehicle\",\"CLS what kind of activity would a vehicle like\",\"CLS what kind of activity would a vehicle like this\",\"CLS what\",\"CLS what could\",\"CLS what could have\",\"CLS what could have caused\",\"CLS what could have caused this\",\"CLS what could have caused this to\",\"CLS what is the\",\"CLS what is the object\",\"CLS what is the object at\",\"CLS what is the object at the\",\"CLS what is the object at the very\",\"CLS what is the object at the very top\",\"CLS what is the object at the very top of\",\"CLS what is the object at the very top of this\",\"CLS what is the object at the very top of this building\",\"CLS what\",\"CLS what can\",\"CLS what can people\",\"CLS what can people do\",\"CLS what can people do with\",\"CLS what can people do with that\",\"CLS what can people do with that object\",\"CLS what can people do with that object on\",\"CLS what can people do with that object on top\",\"CLS what can people do with that object on top of\",\"CLS what can people do with that object on top of the\",\"CLS what\",\"CLS what day\",\"CLS what day s\",\"CLS what day s might\",\"CLS what day s might i\",\"CLS what day s might i most\",\"CLS what day s might i most commonly\",\"CLS what day s might i most commonly go\",\"CLS what day s might i most commonly go to\",\"CLS what day s might i most commonly go to this\",\"CLS what\",\"CLS what icing\",\"CLS what icing is\",\"CLS what icing is on\",\"CLS what icing is on this\",\"CLS what icing is on this person\",\"CLS what icing is on this person '\",\"CLS what icing is on this person ' s\",\"CLS what is the\",\"CLS what is the role\",\"CLS what is the role of\",\"CLS what is the role of the\",\"CLS what is the role of the person\",\"CLS what is the role of the person who\",\"CLS what is the role of the person who would\",\"CLS what is the role of the person who would sit\",\"CLS what is the role of the person who would sit in\",\"CLS what is the role of the person who would sit in this\",\"CLS what is\",\"CLS what is unusual\",\"CLS what is unusual about\",\"CLS what is unusual about the\",\"CLS what is unusual about the surface\",\"CLS what is unusual about the surface the\",\"CLS what is unusual about the surface the boats\",\"CLS what is unusual about the surface the boats are\",\"CLS what is unusual about the surface the boats are resting\",\"CLS\",\"CLS are\",\"CLS are these\",\"CLS are these cattle\",\"CLS are these cattle free\",\"CLS are these cattle free or\",\"CLS what is\",\"CLS what is this\",\"CLS what is this technique\",\"CLS what\",\"CLS what holiday\",\"CLS what holiday do\",\"CLS what holiday do we\",\"CLS what holiday do we use\",\"CLS what holiday do we use this\",\"CLS what is the\",\"CLS what is the model\",\"CLS what is the model of\",\"CLS what is the model of microwave\",\"CLS what is the model of microwave on\",\"CLS what is the model of microwave on the\",\"CLS what is the model of microwave on the kitchen\",\"CLS\",\"CLS where\",\"CLS where can\",\"CLS where can i\",\"CLS where can i buy\",\"CLS where can i buy this\",\"CLS what type of\",\"CLS what type of motorcycle\",\"CLS what type of motorcycle is\",\"CLS\",\"CLS the\",\"CLS the sort\",\"CLS the sort of\",\"CLS the sort of work\",\"CLS the sort of work that\",\"CLS the sort of work that this\",\"CLS the sort of work that this man\",\"CLS the sort of work that this man is\",\"CLS the sort of work that this man is doing\",\"CLS the sort of work that this man is doing could\",\"CLS the sort of work that this man is doing could lead\",\"CLS the sort of work that this man is doing could lead to\",\"CLS the sort of work that this man is doing could lead to trouble\",\"CLS the sort of work that this man is doing could lead to trouble with\",\"CLS the sort of work that this man is doing could lead to trouble with what\",\"CLS the sort of work that this man is doing could lead to trouble with what part\",\"CLS the sort of work that this man is doing could lead to trouble with what part of\",\"CLS the sort of work that this man is doing could lead to trouble with what part of the\",\"CLS the sort of work that this man is doing could lead to trouble with what part of the body\",\"CLS the sort of work that this man is doing could lead to trouble with what part of the body later\",\"CLS the sort of work that this man is doing could lead to trouble with what part of the body later in\",\"CLS what\",\"CLS what species\",\"CLS what species of\",\"CLS what species of bear\",\"CLS what species of bear is\",\"CLS\",\"CLS how\",\"CLS how do\",\"CLS how do you\",\"CLS how do you care\",\"CLS how do you care for\",\"CLS how do you care for this\",\"CLS what\",\"CLS what teams\",\"CLS what teams are\",\"CLS what teams are these\",\"CLS what teams are these players\",\"CLS what teams are these players playing\",\"CLS which\",\"CLS which us\",\"CLS which us state\",\"CLS which us state is\",\"CLS which us state is known\",\"CLS which us state is known for\",\"CLS which us state is known for its\",\"CLS which us state is known for its dairy\",\"CLS which us state is known for its dairy farming\",\"CLS which us state is known for its dairy farming and\",\"CLS which us state is known for its dairy farming and frequently\",\"CLS which us state is known for its dairy farming and frequently displays\",\"CLS which us state is known for its dairy farming and frequently displays statues\",\"CLS which us state is known for its dairy farming and frequently displays statues like\",\"CLS which us state is known for its dairy farming and frequently displays statues like the\",\"CLS which us state is known for its dairy farming and frequently displays statues like the one\",\"CLS what is\",\"CLS what is being\",\"CLS what is being used\",\"CLS what is being used to\",\"CLS what is being used to not\",\"CLS what is being used to not get\",\"CLS what is being used to not get wet\",\"CLS what is being used to not get wet by\",\"CLS what\",\"CLS what was\",\"CLS what was the\",\"CLS what was the name\",\"CLS what was the name of\",\"CLS what was the name of the\",\"CLS what was the name of the chicken\",\"CLS what was the name of the chicken in\",\"CLS\",\"CLS who\",\"CLS who gets\",\"CLS who gets this\",\"CLS who gets this bathroom\",\"CLS what\",\"CLS what happened\",\"CLS what happened just\",\"CLS what happened just before\",\"CLS what happened just before this\",\"CLS what happened just before this picture\",\"CLS what happened just before this picture was\",\"CLS what\",\"CLS what country\",\"CLS what country is\",\"CLS\",\"CLS why\",\"CLS why is\",\"CLS why is the\",\"CLS why is the sign\",\"CLS why is the sign standing\",\"CLS why is the sign standing in\",\"CLS why is the sign standing in the\",\"CLS what\",\"CLS what stance\",\"CLS what stance is\",\"CLS what stance is this\",\"CLS what stance is this person\",\"CLS what\",\"CLS what century\",\"CLS what century is\",\"CLS what is\",\"CLS what is an\",\"CLS what is an elephant\",\"CLS what is an elephant trainer\",\"CLS who\",\"CLS who is\",\"CLS who is wearing\",\"CLS what is the\",\"CLS what is the name\",\"CLS what is the name of\",\"CLS what is the name of this\",\"CLS\",\"CLS apart\",\"CLS apart from\",\"CLS apart from calls\",\"CLS apart from calls how\",\"CLS apart from calls how else\",\"CLS apart from calls how else can\",\"CLS apart from calls how else can these\",\"CLS apart from calls how else can these devices\",\"CLS apart from calls how else can these devices be\",\"CLS apart from calls how else can these devices be used\",\"CLS apart from calls how else can these devices be used to\",\"CLS what type of\",\"CLS what type of bird\",\"CLS what type of bird is\",\"CLS what type of bird is sitting\",\"CLS what type of bird is sitting on\",\"CLS what type of bird is sitting on the\",\"CLS what type of bird is sitting on the fence\",\"CLS\",\"CLS in\",\"CLS in what\",\"CLS in what state\",\"CLS in what state was\",\"CLS in what state was this\",\"CLS in what state was this man\",\"CLS in what state was this man a\",\"CLS what\",\"CLS what are\",\"CLS what are these\",\"CLS what are these vehicles\",\"CLS what is\",\"CLS what is bright\",\"CLS what animal is\",\"CLS what animal is on\",\"CLS what animal is on the\",\"CLS what\",\"CLS what food\",\"CLS what food is\",\"CLS what food is in\",\"CLS what food is in the\",\"CLS what\",\"CLS what biker\",\"CLS what biker group\",\"CLS what biker group is\",\"CLS what is the\",\"CLS what is the utensil\",\"CLS what is the utensil at\",\"CLS what is the utensil at the\",\"CLS what is the utensil at the top\",\"CLS what is the utensil at the top right\",\"CLS what is the utensil at the top right of\",\"CLS what is the utensil at the top right of the\",\"CLS where\",\"CLS where is\",\"CLS where is the\",\"CLS where is the sun\",\"CLS where is the sun facing\",\"CLS where is the sun facing in\",\"CLS where is the sun facing in this\",\"CLS what\",\"CLS what white\",\"CLS what white street\",\"CLS what white street sign\",\"CLS what white street sign is\",\"CLS what white street sign is in\",\"CLS what white street sign is in the\",\"CLS is\",\"CLS is this\",\"CLS is this a\",\"CLS is this a primary\",\"CLS is this a primary color\",\"CLS is this a primary color or\",\"CLS is this a primary color or a\",\"CLS is this a primary color or a pastel\",\"CLS is this a primary color or a pastel that\",\"CLS is this a primary color or a pastel that is\",\"CLS is this a primary color or a pastel that is depicted\",\"CLS is this a primary color or a pastel that is depicted on\",\"CLS is this a primary color or a pastel that is depicted on the\"],\"text\":[100.0,72.54901960784314,3.9215686274509802,3.9215686274509802,1.9607843137254901,1.9607843137254901,1.9607843137254901,1.9607843137254901,1.9607843137254901,1.9607843137254901,1.9607843137254901,1.9607843137254901,23.52941176470588,11.76470588235294,1.9607843137254901,1.9607843137254901,1.9607843137254901,1.9607843137254901,1.9607843137254901,1.9607843137254901,1.9607843137254901,3.9215686274509802,1.9607843137254901,1.9607843137254901,1.9607843137254901,1.9607843137254901,1.9607843137254901,1.9607843137254901,1.9607843137254901,1.9607843137254901,1.9607843137254901,1.9607843137254901,1.9607843137254901,1.9607843137254901,1.9607843137254901,1.9607843137254901,1.9607843137254901,1.9607843137254901,1.9607843137254901,1.9607843137254901,1.9607843137254901,3.9215686274509802,3.9215686274509802,1.9607843137254901,1.9607843137254901,1.9607843137254901,5.88235294117647,5.88235294117647,1.9607843137254901,1.9607843137254901,1.9607843137254901,1.9607843137254901,1.9607843137254901,1.9607843137254901,1.9607843137254901,1.9607843137254901,1.9607843137254901,1.9607843137254901,3.9215686274509802,1.9607843137254901,1.9607843137254901,1.9607843137254901,1.9607843137254901,1.9607843137254901,1.9607843137254901,1.9607843137254901,1.9607843137254901,1.9607843137254901,1.9607843137254901,1.9607843137254901,1.9607843137254901,1.9607843137254901,1.9607843137254901,1.9607843137254901,1.9607843137254901,1.9607843137254901,1.9607843137254901,1.9607843137254901,1.9607843137254901,1.9607843137254901,1.9607843137254901,1.9607843137254901,1.9607843137254901,1.9607843137254901,1.9607843137254901,1.9607843137254901,1.9607843137254901,1.9607843137254901,1.9607843137254901,1.9607843137254901,1.9607843137254901,1.9607843137254901,1.9607843137254901,1.9607843137254901,1.9607843137254901,1.9607843137254901,1.9607843137254901,1.9607843137254901,1.9607843137254901,1.9607843137254901,1.9607843137254901,1.9607843137254901,1.9607843137254901,1.9607843137254901,1.9607843137254901,1.9607843137254901,1.9607843137254901,1.9607843137254901,1.9607843137254901,1.9607843137254901,1.9607843137254901,1.9607843137254901,1.9607843137254901,1.9607843137254901,1.9607843137254901,1.9607843137254901,1.9607843137254901,1.9607843137254901,1.9607843137254901,1.9607843137254901,1.9607843137254901,1.9607843137254901,1.9607843137254901,1.9607843137254901,1.9607843137254901,1.9607843137254901,1.9607843137254901,1.9607843137254901,1.9607843137254901,1.9607843137254901,1.9607843137254901,1.9607843137254901,1.9607843137254901,1.9607843137254901,1.9607843137254901,1.9607843137254901,1.9607843137254901,1.9607843137254901,1.9607843137254901,1.9607843137254901,1.9607843137254901,1.9607843137254901,1.9607843137254901,1.9607843137254901,1.9607843137254901,1.9607843137254901,1.9607843137254901,1.9607843137254901,1.9607843137254901,1.9607843137254901,1.9607843137254901,1.9607843137254901,1.9607843137254901,1.9607843137254901,1.9607843137254901,1.9607843137254901,1.9607843137254901,3.9215686274509802,1.9607843137254901,1.9607843137254901,1.9607843137254901,1.9607843137254901,1.9607843137254901,1.9607843137254901,1.9607843137254901,1.9607843137254901,1.9607843137254901,1.9607843137254901,1.9607843137254901,1.9607843137254901,1.9607843137254901,1.9607843137254901,1.9607843137254901,1.9607843137254901,1.9607843137254901,1.9607843137254901,1.9607843137254901,1.9607843137254901,1.9607843137254901,1.9607843137254901,1.9607843137254901,1.9607843137254901,1.9607843137254901,1.9607843137254901,1.9607843137254901,1.9607843137254901,1.9607843137254901,1.9607843137254901,1.9607843137254901,1.9607843137254901,1.9607843137254901,1.9607843137254901,1.9607843137254901,1.9607843137254901,1.9607843137254901,1.9607843137254901,1.9607843137254901,1.9607843137254901,1.9607843137254901,1.9607843137254901,1.9607843137254901,1.9607843137254901,1.9607843137254901,1.9607843137254901,1.9607843137254901,1.9607843137254901,1.9607843137254901,1.9607843137254901,1.9607843137254901,1.9607843137254901,1.9607843137254901,1.9607843137254901,1.9607843137254901,1.9607843137254901,1.9607843137254901,1.9607843137254901,1.9607843137254901,1.9607843137254901,1.9607843137254901,1.9607843137254901,1.9607843137254901,1.9607843137254901,1.9607843137254901,1.9607843137254901,1.9607843137254901,1.9607843137254901,1.9607843137254901,1.9607843137254901,1.9607843137254901,1.9607843137254901,1.9607843137254901,1.9607843137254901,1.9607843137254901,1.9607843137254901,1.9607843137254901,1.9607843137254901,1.9607843137254901,1.9607843137254901,3.9215686274509802,1.9607843137254901,1.9607843137254901,1.9607843137254901,1.9607843137254901,1.9607843137254901,1.9607843137254901,1.9607843137254901,1.9607843137254901,1.9607843137254901,1.9607843137254901,1.9607843137254901,1.9607843137254901,1.9607843137254901,1.9607843137254901,1.9607843137254901,1.9607843137254901,1.9607843137254901,1.9607843137254901,1.9607843137254901,1.9607843137254901,1.9607843137254901,1.9607843137254901,1.9607843137254901,1.9607843137254901,1.9607843137254901,1.9607843137254901,1.9607843137254901,1.9607843137254901,1.9607843137254901,1.9607843137254901,1.9607843137254901,1.9607843137254901,1.9607843137254901,1.9607843137254901,1.9607843137254901,1.9607843137254901,1.9607843137254901,1.9607843137254901,1.9607843137254901,1.9607843137254901,1.9607843137254901,1.9607843137254901,1.9607843137254901,1.9607843137254901,1.9607843137254901,1.9607843137254901,1.9607843137254901,1.9607843137254901,1.9607843137254901,1.9607843137254901,1.9607843137254901,1.9607843137254901,1.9607843137254901,1.9607843137254901,1.9607843137254901,1.9607843137254901,1.9607843137254901,1.9607843137254901,1.9607843137254901,1.9607843137254901,1.9607843137254901,1.9607843137254901,1.9607843137254901,1.9607843137254901,1.9607843137254901,1.9607843137254901,1.9607843137254901,1.9607843137254901,1.9607843137254901,1.9607843137254901,1.9607843137254901,1.9607843137254901,1.9607843137254901,1.9607843137254901,1.9607843137254901,1.9607843137254901,1.9607843137254901,1.9607843137254901,1.9607843137254901,1.9607843137254901,1.9607843137254901,1.9607843137254901,1.9607843137254901,1.9607843137254901,1.9607843137254901,1.9607843137254901,1.9607843137254901,1.9607843137254901,1.9607843137254901,1.9607843137254901,1.9607843137254901,1.9607843137254901,1.9607843137254901,1.9607843137254901,1.9607843137254901,1.9607843137254901,1.9607843137254901,1.9607843137254901,1.9607843137254901,1.9607843137254901,1.9607843137254901,1.9607843137254901,1.9607843137254901,1.9607843137254901,1.9607843137254901,1.9607843137254901,1.9607843137254901,1.9607843137254901,1.9607843137254901,1.9607843137254901,1.9607843137254901,1.9607843137254901,1.9607843137254901,1.9607843137254901,1.9607843137254901,1.9607843137254901,1.9607843137254901,1.9607843137254901,1.9607843137254901,1.9607843137254901,1.9607843137254901],\"values\":[51,37,2,2,1,1,1,1,1,1,1,1,12,6,1,1,1,1,1,1,1,2,1,1,1,1,1,1,1,1,1,1,1,1,1,1,1,1,1,1,1,2,2,1,1,1,3,3,1,1,1,1,1,1,1,1,1,1,2,1,1,1,1,1,1,1,1,1,1,1,1,1,1,1,1,1,1,1,1,1,1,1,1,1,1,1,1,1,1,1,1,1,1,1,1,1,1,1,1,1,1,1,1,1,1,1,1,1,1,1,1,1,1,1,1,1,1,1,1,1,1,1,1,1,1,1,1,1,1,1,1,1,1,1,1,1,1,1,1,1,1,1,1,1,1,1,1,1,1,1,1,1,1,1,1,1,1,2,1,1,1,1,1,1,1,1,1,1,1,1,1,1,1,1,1,1,1,1,1,1,1,1,1,1,1,1,1,1,1,1,1,1,1,1,1,1,1,1,1,1,1,1,1,1,1,1,1,1,1,1,1,1,1,1,1,1,1,1,1,1,1,1,1,1,1,1,1,1,1,1,1,1,1,1,1,1,1,1,2,1,1,1,1,1,1,1,1,1,1,1,1,1,1,1,1,1,1,1,1,1,1,1,1,1,1,1,1,1,1,1,1,1,1,1,1,1,1,1,1,1,1,1,1,1,1,1,1,1,1,1,1,1,1,1,1,1,1,1,1,1,1,1,1,1,1,1,1,1,1,1,1,1,1,1,1,1,1,1,1,1,1,1,1,1,1,1,1,1,1,1,1,1,1,1,1,1,1,1,1,1,1,1,1,1,1,1,1,1,1,1,1,1,1,1,1,1,1,1,1,1],\"type\":\"sunburst\"}],                        {\"template\":{\"data\":{\"bar\":[{\"error_x\":{\"color\":\"#2a3f5f\"},\"error_y\":{\"color\":\"#2a3f5f\"},\"marker\":{\"line\":{\"color\":\"#E5ECF6\",\"width\":0.5},\"pattern\":{\"fillmode\":\"overlay\",\"size\":10,\"solidity\":0.2}},\"type\":\"bar\"}],\"barpolar\":[{\"marker\":{\"line\":{\"color\":\"#E5ECF6\",\"width\":0.5},\"pattern\":{\"fillmode\":\"overlay\",\"size\":10,\"solidity\":0.2}},\"type\":\"barpolar\"}],\"carpet\":[{\"aaxis\":{\"endlinecolor\":\"#2a3f5f\",\"gridcolor\":\"white\",\"linecolor\":\"white\",\"minorgridcolor\":\"white\",\"startlinecolor\":\"#2a3f5f\"},\"baxis\":{\"endlinecolor\":\"#2a3f5f\",\"gridcolor\":\"white\",\"linecolor\":\"white\",\"minorgridcolor\":\"white\",\"startlinecolor\":\"#2a3f5f\"},\"type\":\"carpet\"}],\"choropleth\":[{\"colorbar\":{\"outlinewidth\":0,\"ticks\":\"\"},\"type\":\"choropleth\"}],\"contour\":[{\"colorbar\":{\"outlinewidth\":0,\"ticks\":\"\"},\"colorscale\":[[0.0,\"#0d0887\"],[0.1111111111111111,\"#46039f\"],[0.2222222222222222,\"#7201a8\"],[0.3333333333333333,\"#9c179e\"],[0.4444444444444444,\"#bd3786\"],[0.5555555555555556,\"#d8576b\"],[0.6666666666666666,\"#ed7953\"],[0.7777777777777778,\"#fb9f3a\"],[0.8888888888888888,\"#fdca26\"],[1.0,\"#f0f921\"]],\"type\":\"contour\"}],\"contourcarpet\":[{\"colorbar\":{\"outlinewidth\":0,\"ticks\":\"\"},\"type\":\"contourcarpet\"}],\"heatmap\":[{\"colorbar\":{\"outlinewidth\":0,\"ticks\":\"\"},\"colorscale\":[[0.0,\"#0d0887\"],[0.1111111111111111,\"#46039f\"],[0.2222222222222222,\"#7201a8\"],[0.3333333333333333,\"#9c179e\"],[0.4444444444444444,\"#bd3786\"],[0.5555555555555556,\"#d8576b\"],[0.6666666666666666,\"#ed7953\"],[0.7777777777777778,\"#fb9f3a\"],[0.8888888888888888,\"#fdca26\"],[1.0,\"#f0f921\"]],\"type\":\"heatmap\"}],\"heatmapgl\":[{\"colorbar\":{\"outlinewidth\":0,\"ticks\":\"\"},\"colorscale\":[[0.0,\"#0d0887\"],[0.1111111111111111,\"#46039f\"],[0.2222222222222222,\"#7201a8\"],[0.3333333333333333,\"#9c179e\"],[0.4444444444444444,\"#bd3786\"],[0.5555555555555556,\"#d8576b\"],[0.6666666666666666,\"#ed7953\"],[0.7777777777777778,\"#fb9f3a\"],[0.8888888888888888,\"#fdca26\"],[1.0,\"#f0f921\"]],\"type\":\"heatmapgl\"}],\"histogram\":[{\"marker\":{\"pattern\":{\"fillmode\":\"overlay\",\"size\":10,\"solidity\":0.2}},\"type\":\"histogram\"}],\"histogram2d\":[{\"colorbar\":{\"outlinewidth\":0,\"ticks\":\"\"},\"colorscale\":[[0.0,\"#0d0887\"],[0.1111111111111111,\"#46039f\"],[0.2222222222222222,\"#7201a8\"],[0.3333333333333333,\"#9c179e\"],[0.4444444444444444,\"#bd3786\"],[0.5555555555555556,\"#d8576b\"],[0.6666666666666666,\"#ed7953\"],[0.7777777777777778,\"#fb9f3a\"],[0.8888888888888888,\"#fdca26\"],[1.0,\"#f0f921\"]],\"type\":\"histogram2d\"}],\"histogram2dcontour\":[{\"colorbar\":{\"outlinewidth\":0,\"ticks\":\"\"},\"colorscale\":[[0.0,\"#0d0887\"],[0.1111111111111111,\"#46039f\"],[0.2222222222222222,\"#7201a8\"],[0.3333333333333333,\"#9c179e\"],[0.4444444444444444,\"#bd3786\"],[0.5555555555555556,\"#d8576b\"],[0.6666666666666666,\"#ed7953\"],[0.7777777777777778,\"#fb9f3a\"],[0.8888888888888888,\"#fdca26\"],[1.0,\"#f0f921\"]],\"type\":\"histogram2dcontour\"}],\"mesh3d\":[{\"colorbar\":{\"outlinewidth\":0,\"ticks\":\"\"},\"type\":\"mesh3d\"}],\"parcoords\":[{\"line\":{\"colorbar\":{\"outlinewidth\":0,\"ticks\":\"\"}},\"type\":\"parcoords\"}],\"pie\":[{\"automargin\":true,\"type\":\"pie\"}],\"scatter\":[{\"marker\":{\"colorbar\":{\"outlinewidth\":0,\"ticks\":\"\"}},\"type\":\"scatter\"}],\"scatter3d\":[{\"line\":{\"colorbar\":{\"outlinewidth\":0,\"ticks\":\"\"}},\"marker\":{\"colorbar\":{\"outlinewidth\":0,\"ticks\":\"\"}},\"type\":\"scatter3d\"}],\"scattercarpet\":[{\"marker\":{\"colorbar\":{\"outlinewidth\":0,\"ticks\":\"\"}},\"type\":\"scattercarpet\"}],\"scattergeo\":[{\"marker\":{\"colorbar\":{\"outlinewidth\":0,\"ticks\":\"\"}},\"type\":\"scattergeo\"}],\"scattergl\":[{\"marker\":{\"colorbar\":{\"outlinewidth\":0,\"ticks\":\"\"}},\"type\":\"scattergl\"}],\"scattermapbox\":[{\"marker\":{\"colorbar\":{\"outlinewidth\":0,\"ticks\":\"\"}},\"type\":\"scattermapbox\"}],\"scatterpolar\":[{\"marker\":{\"colorbar\":{\"outlinewidth\":0,\"ticks\":\"\"}},\"type\":\"scatterpolar\"}],\"scatterpolargl\":[{\"marker\":{\"colorbar\":{\"outlinewidth\":0,\"ticks\":\"\"}},\"type\":\"scatterpolargl\"}],\"scatterternary\":[{\"marker\":{\"colorbar\":{\"outlinewidth\":0,\"ticks\":\"\"}},\"type\":\"scatterternary\"}],\"surface\":[{\"colorbar\":{\"outlinewidth\":0,\"ticks\":\"\"},\"colorscale\":[[0.0,\"#0d0887\"],[0.1111111111111111,\"#46039f\"],[0.2222222222222222,\"#7201a8\"],[0.3333333333333333,\"#9c179e\"],[0.4444444444444444,\"#bd3786\"],[0.5555555555555556,\"#d8576b\"],[0.6666666666666666,\"#ed7953\"],[0.7777777777777778,\"#fb9f3a\"],[0.8888888888888888,\"#fdca26\"],[1.0,\"#f0f921\"]],\"type\":\"surface\"}],\"table\":[{\"cells\":{\"fill\":{\"color\":\"#EBF0F8\"},\"line\":{\"color\":\"white\"}},\"header\":{\"fill\":{\"color\":\"#C8D4E3\"},\"line\":{\"color\":\"white\"}},\"type\":\"table\"}]},\"layout\":{\"annotationdefaults\":{\"arrowcolor\":\"#2a3f5f\",\"arrowhead\":0,\"arrowwidth\":1},\"autotypenumbers\":\"strict\",\"coloraxis\":{\"colorbar\":{\"outlinewidth\":0,\"ticks\":\"\"}},\"colorscale\":{\"diverging\":[[0,\"#8e0152\"],[0.1,\"#c51b7d\"],[0.2,\"#de77ae\"],[0.3,\"#f1b6da\"],[0.4,\"#fde0ef\"],[0.5,\"#f7f7f7\"],[0.6,\"#e6f5d0\"],[0.7,\"#b8e186\"],[0.8,\"#7fbc41\"],[0.9,\"#4d9221\"],[1,\"#276419\"]],\"sequential\":[[0.0,\"#0d0887\"],[0.1111111111111111,\"#46039f\"],[0.2222222222222222,\"#7201a8\"],[0.3333333333333333,\"#9c179e\"],[0.4444444444444444,\"#bd3786\"],[0.5555555555555556,\"#d8576b\"],[0.6666666666666666,\"#ed7953\"],[0.7777777777777778,\"#fb9f3a\"],[0.8888888888888888,\"#fdca26\"],[1.0,\"#f0f921\"]],\"sequentialminus\":[[0.0,\"#0d0887\"],[0.1111111111111111,\"#46039f\"],[0.2222222222222222,\"#7201a8\"],[0.3333333333333333,\"#9c179e\"],[0.4444444444444444,\"#bd3786\"],[0.5555555555555556,\"#d8576b\"],[0.6666666666666666,\"#ed7953\"],[0.7777777777777778,\"#fb9f3a\"],[0.8888888888888888,\"#fdca26\"],[1.0,\"#f0f921\"]]},\"colorway\":[\"#636efa\",\"#EF553B\",\"#00cc96\",\"#ab63fa\",\"#FFA15A\",\"#19d3f3\",\"#FF6692\",\"#B6E880\",\"#FF97FF\",\"#FECB52\"],\"font\":{\"color\":\"#2a3f5f\"},\"geo\":{\"bgcolor\":\"white\",\"lakecolor\":\"white\",\"landcolor\":\"#E5ECF6\",\"showlakes\":true,\"showland\":true,\"subunitcolor\":\"white\"},\"hoverlabel\":{\"align\":\"left\"},\"hovermode\":\"closest\",\"mapbox\":{\"style\":\"light\"},\"paper_bgcolor\":\"white\",\"plot_bgcolor\":\"#E5ECF6\",\"polar\":{\"angularaxis\":{\"gridcolor\":\"white\",\"linecolor\":\"white\",\"ticks\":\"\"},\"bgcolor\":\"#E5ECF6\",\"radialaxis\":{\"gridcolor\":\"white\",\"linecolor\":\"white\",\"ticks\":\"\"}},\"scene\":{\"xaxis\":{\"backgroundcolor\":\"#E5ECF6\",\"gridcolor\":\"white\",\"gridwidth\":2,\"linecolor\":\"white\",\"showbackground\":true,\"ticks\":\"\",\"zerolinecolor\":\"white\"},\"yaxis\":{\"backgroundcolor\":\"#E5ECF6\",\"gridcolor\":\"white\",\"gridwidth\":2,\"linecolor\":\"white\",\"showbackground\":true,\"ticks\":\"\",\"zerolinecolor\":\"white\"},\"zaxis\":{\"backgroundcolor\":\"#E5ECF6\",\"gridcolor\":\"white\",\"gridwidth\":2,\"linecolor\":\"white\",\"showbackground\":true,\"ticks\":\"\",\"zerolinecolor\":\"white\"}},\"shapedefaults\":{\"line\":{\"color\":\"#2a3f5f\"}},\"ternary\":{\"aaxis\":{\"gridcolor\":\"white\",\"linecolor\":\"white\",\"ticks\":\"\"},\"baxis\":{\"gridcolor\":\"white\",\"linecolor\":\"white\",\"ticks\":\"\"},\"bgcolor\":\"#E5ECF6\",\"caxis\":{\"gridcolor\":\"white\",\"linecolor\":\"white\",\"ticks\":\"\"}},\"title\":{\"x\":0.05},\"xaxis\":{\"automargin\":true,\"gridcolor\":\"white\",\"linecolor\":\"white\",\"ticks\":\"\",\"title\":{\"standoff\":15},\"zerolinecolor\":\"white\",\"zerolinewidth\":2},\"yaxis\":{\"automargin\":true,\"gridcolor\":\"white\",\"linecolor\":\"white\",\"ticks\":\"\",\"title\":{\"standoff\":15},\"zerolinecolor\":\"white\",\"zerolinewidth\":2}}},\"margin\":{\"t\":10,\"l\":10,\"r\":10,\"b\":10},\"uniformtext\":{\"minsize\":10,\"mode\":\"hide\"},\"autosize\":false,\"width\":500,\"height\":500},                        {\"responsive\": true}                    ).then(function(){\n",
       "                            \n",
       "var gd = document.getElementById('de6601fc-e28c-4785-9516-bbe45c22a81e');\n",
       "var x = new MutationObserver(function (mutations, observer) {{\n",
       "        var display = window.getComputedStyle(gd).display;\n",
       "        if (!display || display === 'none') {{\n",
       "            console.log([gd, 'removed!']);\n",
       "            Plotly.purge(gd);\n",
       "            observer.disconnect();\n",
       "        }}\n",
       "}});\n",
       "\n",
       "// Listen for the removal of the full notebook cells\n",
       "var notebookContainer = gd.closest('#notebook-container');\n",
       "if (notebookContainer) {{\n",
       "    x.observe(notebookContainer, {childList: true});\n",
       "}}\n",
       "\n",
       "// Listen for the clearing of the current output cell\n",
       "var outputEl = gd.closest('.output');\n",
       "if (outputEl) {{\n",
       "    x.observe(outputEl, {childList: true});\n",
       "}}\n",
       "\n",
       "                        })                };                });            </script>        </div>"
      ]
     },
     "metadata": {},
     "output_type": "display_data"
    }
   ],
   "source": [
    "N = 51\n",
    "visualization_depth = 10\n",
    "\n",
    "temp = createSunburstVariables(okvqa['trainval'], N)\n",
    "plotSunburst(temp, N, visualization_depth, use_dash=False)"
   ]
  },
  {
   "cell_type": "code",
   "execution_count": 648,
   "id": "aa70c3de",
   "metadata": {},
   "outputs": [
    {
     "data": {
      "application/vnd.jupyter.widget-view+json": {
       "model_id": "5cdf45f0d84843a496293fc976ed90fd",
       "version_major": 2,
       "version_minor": 0
      },
      "text/plain": [
       "HBox(children=(FloatProgress(value=0.0, max=31.0), HTML(value='')))"
      ]
     },
     "metadata": {},
     "output_type": "display_data"
    },
    {
     "name": "stdout",
     "output_type": "stream",
     "text": [
      "\n"
     ]
    },
    {
     "data": {
      "application/vnd.plotly.v1+json": {
       "config": {
        "plotlyServerURL": "https://plot.ly"
       },
       "data": [
        {
         "branchvalues": "total",
         "domain": {
          "column": 1
         },
         "hovertemplate": "<b>%{label} </b> <br> Percentage: %{text:.2f}%",
         "ids": [
          "CLS",
          "CLS where",
          "CLS where would",
          "CLS where would one",
          "CLS where would one find",
          "CLS where would one find these",
          "CLS where would one find these animals",
          "CLS what",
          "CLS what is",
          "CLS what is the",
          "CLS what is the man",
          "CLS what is the man in",
          "CLS what is the man in red",
          "CLS what is the man in red doing",
          "CLS which",
          "CLS which airline",
          "CLS which airline has",
          "CLS which airline has this",
          "CLS which airline has this insignia",
          "CLS how",
          "CLS how do",
          "CLS how do you",
          "CLS how do you know",
          "CLS how do you know they",
          "CLS how do you know they are",
          "CLS how do you know they are competing",
          "CLS what is the player",
          "CLS what is the player most",
          "CLS what is the player most likely",
          "CLS what is the player most likely kicking",
          "CLS what is the player most likely kicking the",
          "CLS what is the player most likely kicking the ball",
          "CLS what is the player most likely kicking the ball towards",
          "CLS what continent",
          "CLS what continent s",
          "CLS what continent s is",
          "CLS what continent s is are",
          "CLS what continent s is are this",
          "CLS what continent s is are this bird",
          "CLS what continent s is are this bird found",
          "CLS what continent s is are this bird found on",
          "CLS what type",
          "CLS what type of",
          "CLS what type of tool",
          "CLS what type of tool is",
          "CLS what type of tool is she",
          "CLS what type of tool is she using",
          "CLS what type of tool is she using for",
          "CLS what type of tool is she using for her",
          "CLS what type of tool is she using for her hair",
          "CLS when",
          "CLS when was",
          "CLS when was this",
          "CLS when was this type",
          "CLS when was this type of",
          "CLS when was this type of vehicle",
          "CLS when was this type of vehicle first",
          "CLS when was this type of vehicle first made",
          "CLS which occupation",
          "CLS which occupation sniffs",
          "CLS which occupation sniffs this",
          "CLS which occupation sniffs this item",
          "CLS which occupation sniffs this item before",
          "CLS which occupation sniffs this item before drinking",
          "CLS what celestial",
          "CLS what celestial body",
          "CLS what celestial body affects",
          "CLS what celestial body affects the",
          "CLS what celestial body affects the behavior",
          "CLS what celestial body affects the behavior of",
          "CLS what celestial body affects the behavior of this",
          "CLS what celestial body affects the behavior of this water",
          "CLS what certification",
          "CLS what certification will",
          "CLS what certification will these",
          "CLS what certification will these people",
          "CLS what certification will these people receive",
          "CLS the",
          "CLS the kite",
          "CLS the kite in",
          "CLS the kite in the",
          "CLS the kite in the air",
          "CLS the kite in the air flies",
          "CLS the kite in the air flies because",
          "CLS the kite in the air flies because of",
          "CLS the kite in the air flies because of what",
          "CLS the kite in the air flies because of what physics",
          "CLS the kite in the air flies because of what physics principle",
          "CLS what can",
          "CLS what can you",
          "CLS what can you make",
          "CLS what can you make with",
          "CLS what can you make with these",
          "CLS what kind",
          "CLS what kind of",
          "CLS what kind of shirt",
          "CLS what kind of shirt is",
          "CLS what kind of shirt is the",
          "CLS what kind of shirt is the man",
          "CLS what kind of shirt is the man on",
          "CLS what kind of shirt is the man on the",
          "CLS what kind of shirt is the man on the right",
          "CLS what kind of shirt is the man on the right wearing",
          "CLS what section",
          "CLS what section is",
          "CLS what section is the",
          "CLS what section is the player",
          "CLS what section is the player standing",
          "CLS what section is the player standing on",
          "CLS is",
          "CLS is this",
          "CLS is this a",
          "CLS is this a doubles",
          "CLS is this a doubles or",
          "CLS is this a doubles or a",
          "CLS is this a doubles or a singles",
          "CLS is this a doubles or a singles match",
          "CLS what is being",
          "CLS what is being driven",
          "CLS what is being driven on",
          "CLS what shape",
          "CLS what shape is",
          "CLS what shape is the",
          "CLS what shape is the table",
          "CLS what is the name",
          "CLS what is the name of",
          "CLS what is the name of the",
          "CLS what is the name of the sport",
          "CLS what is the name of the sport in",
          "CLS what is the name of the sport in the",
          "CLS what is the name of the sport in the picture",
          "CLS how many",
          "CLS how many passengers",
          "CLS how many passengers does",
          "CLS how many passengers does this",
          "CLS how many passengers does this airplane",
          "CLS how many passengers does this airplane carry",
          "CLS is this a healthy",
          "CLS is this a healthy or",
          "CLS is this a healthy or unhealthy",
          "CLS is this a healthy or unhealthy meal",
          "CLS what state",
          "CLS what state are",
          "CLS what state are these",
          "CLS what state are these citrus",
          "CLS what state are these citrus fruits",
          "CLS what state are these citrus fruits native",
          "CLS what state are these citrus fruits native to",
          "CLS what does",
          "CLS what does this",
          "CLS what does this sandwich",
          "CLS what does this sandwich variant",
          "CLS what does this sandwich variant have",
          "CLS what does this sandwich variant have in",
          "CLS what does this sandwich variant have in common",
          "CLS what does this sandwich variant have in common with",
          "CLS what does this sandwich variant have in common with popsicles",
          "CLS how many watts",
          "CLS how many watts is",
          "CLS how many watts is that",
          "CLS how many watts is that microwave",
          "CLS what was",
          "CLS what was happening",
          "CLS what was happening here",
          "CLS what does the",
          "CLS what does the person",
          "CLS what does the person skiing",
          "CLS what does the person skiing have",
          "CLS what does the person skiing have covering",
          "CLS what does the person skiing have covering her",
          "CLS what does the person skiing have covering her eyes",
          "CLS what style",
          "CLS what style saddle",
          "CLS what style saddle are",
          "CLS what style saddle are the",
          "CLS what style saddle are the riders",
          "CLS what style saddle are the riders using",
          "CLS what kind of oven",
          "CLS what kind of oven is",
          "CLS what kind of oven is on",
          "CLS what kind of oven is on the",
          "CLS what kind of oven is on the table",
          "CLS what are",
          "CLS what are these",
          "CLS what are these pastries",
          "CLS what are these pastries made",
          "CLS what are these pastries made of",
          "CLS what kind of camera",
          "CLS what kind of camera is",
          "CLS what kind of camera is she",
          "CLS what kind of camera is she using",
          "CLS what would",
          "CLS what would you",
          "CLS what would you call",
          "CLS what would you call this",
          "CLS what would you call this device",
          "CLS what would you call this device if",
          "CLS what would you call this device if it",
          "CLS what would you call this device if it only",
          "CLS what would you call this device if it only had",
          "CLS what would you call this device if it only had one",
          "CLS what would you call this device if it only had one wheel"
         ],
         "insidetextorientation": "radial",
         "labels": [
          "",
          "where",
          "would",
          "one",
          "find",
          "these",
          "animals",
          "what",
          "is",
          "the",
          "man",
          "in",
          "red",
          "doing",
          "which",
          "airline",
          "has",
          "this",
          "insignia",
          "how",
          "do",
          "you",
          "know",
          "they",
          "are",
          "competing",
          "player",
          "most",
          "likely",
          "kicking",
          "the",
          "ball",
          "towards",
          "continent",
          "s",
          "is",
          "are",
          "this",
          "bird",
          "found",
          "on",
          "type",
          "of",
          "tool",
          "is",
          "she",
          "using",
          "for",
          "her",
          "hair",
          "when",
          "was",
          "this",
          "type",
          "of",
          "vehicle",
          "first",
          "made",
          "occupation",
          "sniffs",
          "this",
          "item",
          "before",
          "drinking",
          "celestial",
          "body",
          "affects",
          "the",
          "behavior",
          "of",
          "this",
          "water",
          "certification",
          "will",
          "these",
          "people",
          "receive",
          "the",
          "kite",
          "in",
          "the",
          "air",
          "flies",
          "because",
          "of",
          "what",
          "physics",
          "principle",
          "can",
          "you",
          "make",
          "with",
          "these",
          "kind",
          "of",
          "shirt",
          "is",
          "the",
          "man",
          "on",
          "the",
          "right",
          "wearing",
          "section",
          "is",
          "the",
          "player",
          "standing",
          "on",
          "is",
          "this",
          "a",
          "doubles",
          "or",
          "a",
          "singles",
          "match",
          "being",
          "driven",
          "on",
          "shape",
          "is",
          "the",
          "table",
          "name",
          "of",
          "the",
          "sport",
          "in",
          "the",
          "picture",
          "many",
          "passengers",
          "does",
          "this",
          "airplane",
          "carry",
          "healthy",
          "or",
          "unhealthy",
          "meal",
          "state",
          "are",
          "these",
          "citrus",
          "fruits",
          "native",
          "to",
          "does",
          "this",
          "sandwich",
          "variant",
          "have",
          "in",
          "common",
          "with",
          "popsicles",
          "watts",
          "is",
          "that",
          "microwave",
          "was",
          "happening",
          "here",
          "the",
          "person",
          "skiing",
          "have",
          "covering",
          "her",
          "eyes",
          "style",
          "saddle",
          "are",
          "the",
          "riders",
          "using",
          "oven",
          "is",
          "on",
          "the",
          "table",
          "are",
          "these",
          "pastries",
          "made",
          "of",
          "camera",
          "is",
          "she",
          "using",
          "would",
          "you",
          "call",
          "this",
          "device",
          "if",
          "it",
          "only",
          "had",
          "one",
          "wheel"
         ],
         "parents": [
          "",
          "CLS",
          "CLS where",
          "CLS where would",
          "CLS where would one",
          "CLS where would one find",
          "CLS where would one find these",
          "CLS",
          "CLS what",
          "CLS what is",
          "CLS what is the",
          "CLS what is the man",
          "CLS what is the man in",
          "CLS what is the man in red",
          "CLS",
          "CLS which",
          "CLS which airline",
          "CLS which airline has",
          "CLS which airline has this",
          "CLS",
          "CLS how",
          "CLS how do",
          "CLS how do you",
          "CLS how do you know",
          "CLS how do you know they",
          "CLS how do you know they are",
          "CLS what is the",
          "CLS what is the player",
          "CLS what is the player most",
          "CLS what is the player most likely",
          "CLS what is the player most likely kicking",
          "CLS what is the player most likely kicking the",
          "CLS what is the player most likely kicking the ball",
          "CLS what",
          "CLS what continent",
          "CLS what continent s",
          "CLS what continent s is",
          "CLS what continent s is are",
          "CLS what continent s is are this",
          "CLS what continent s is are this bird",
          "CLS what continent s is are this bird found",
          "CLS what",
          "CLS what type",
          "CLS what type of",
          "CLS what type of tool",
          "CLS what type of tool is",
          "CLS what type of tool is she",
          "CLS what type of tool is she using",
          "CLS what type of tool is she using for",
          "CLS what type of tool is she using for her",
          "CLS",
          "CLS when",
          "CLS when was",
          "CLS when was this",
          "CLS when was this type",
          "CLS when was this type of",
          "CLS when was this type of vehicle",
          "CLS when was this type of vehicle first",
          "CLS which",
          "CLS which occupation",
          "CLS which occupation sniffs",
          "CLS which occupation sniffs this",
          "CLS which occupation sniffs this item",
          "CLS which occupation sniffs this item before",
          "CLS what",
          "CLS what celestial",
          "CLS what celestial body",
          "CLS what celestial body affects",
          "CLS what celestial body affects the",
          "CLS what celestial body affects the behavior",
          "CLS what celestial body affects the behavior of",
          "CLS what celestial body affects the behavior of this",
          "CLS what",
          "CLS what certification",
          "CLS what certification will",
          "CLS what certification will these",
          "CLS what certification will these people",
          "CLS",
          "CLS the",
          "CLS the kite",
          "CLS the kite in",
          "CLS the kite in the",
          "CLS the kite in the air",
          "CLS the kite in the air flies",
          "CLS the kite in the air flies because",
          "CLS the kite in the air flies because of",
          "CLS the kite in the air flies because of what",
          "CLS the kite in the air flies because of what physics",
          "CLS what",
          "CLS what can",
          "CLS what can you",
          "CLS what can you make",
          "CLS what can you make with",
          "CLS what",
          "CLS what kind",
          "CLS what kind of",
          "CLS what kind of shirt",
          "CLS what kind of shirt is",
          "CLS what kind of shirt is the",
          "CLS what kind of shirt is the man",
          "CLS what kind of shirt is the man on",
          "CLS what kind of shirt is the man on the",
          "CLS what kind of shirt is the man on the right",
          "CLS what",
          "CLS what section",
          "CLS what section is",
          "CLS what section is the",
          "CLS what section is the player",
          "CLS what section is the player standing",
          "CLS",
          "CLS is",
          "CLS is this",
          "CLS is this a",
          "CLS is this a doubles",
          "CLS is this a doubles or",
          "CLS is this a doubles or a",
          "CLS is this a doubles or a singles",
          "CLS what is",
          "CLS what is being",
          "CLS what is being driven",
          "CLS what",
          "CLS what shape",
          "CLS what shape is",
          "CLS what shape is the",
          "CLS what is the",
          "CLS what is the name",
          "CLS what is the name of",
          "CLS what is the name of the",
          "CLS what is the name of the sport",
          "CLS what is the name of the sport in",
          "CLS what is the name of the sport in the",
          "CLS how",
          "CLS how many",
          "CLS how many passengers",
          "CLS how many passengers does",
          "CLS how many passengers does this",
          "CLS how many passengers does this airplane",
          "CLS is this a",
          "CLS is this a healthy",
          "CLS is this a healthy or",
          "CLS is this a healthy or unhealthy",
          "CLS what",
          "CLS what state",
          "CLS what state are",
          "CLS what state are these",
          "CLS what state are these citrus",
          "CLS what state are these citrus fruits",
          "CLS what state are these citrus fruits native",
          "CLS what",
          "CLS what does",
          "CLS what does this",
          "CLS what does this sandwich",
          "CLS what does this sandwich variant",
          "CLS what does this sandwich variant have",
          "CLS what does this sandwich variant have in",
          "CLS what does this sandwich variant have in common",
          "CLS what does this sandwich variant have in common with",
          "CLS how many",
          "CLS how many watts",
          "CLS how many watts is",
          "CLS how many watts is that",
          "CLS what",
          "CLS what was",
          "CLS what was happening",
          "CLS what does",
          "CLS what does the",
          "CLS what does the person",
          "CLS what does the person skiing",
          "CLS what does the person skiing have",
          "CLS what does the person skiing have covering",
          "CLS what does the person skiing have covering her",
          "CLS what",
          "CLS what style",
          "CLS what style saddle",
          "CLS what style saddle are",
          "CLS what style saddle are the",
          "CLS what style saddle are the riders",
          "CLS what kind of",
          "CLS what kind of oven",
          "CLS what kind of oven is",
          "CLS what kind of oven is on",
          "CLS what kind of oven is on the",
          "CLS what",
          "CLS what are",
          "CLS what are these",
          "CLS what are these pastries",
          "CLS what are these pastries made",
          "CLS what kind of",
          "CLS what kind of camera",
          "CLS what kind of camera is",
          "CLS what kind of camera is she",
          "CLS what",
          "CLS what would",
          "CLS what would you",
          "CLS what would you call",
          "CLS what would you call this",
          "CLS what would you call this device",
          "CLS what would you call this device if",
          "CLS what would you call this device if it",
          "CLS what would you call this device if it only",
          "CLS what would you call this device if it only had",
          "CLS what would you call this device if it only had one"
         ],
         "text": [
          100,
          3.225806451612903,
          3.225806451612903,
          3.225806451612903,
          3.225806451612903,
          3.225806451612903,
          3.225806451612903,
          67.74193548387096,
          12.903225806451612,
          9.67741935483871,
          3.225806451612903,
          3.225806451612903,
          3.225806451612903,
          3.225806451612903,
          6.451612903225806,
          3.225806451612903,
          3.225806451612903,
          3.225806451612903,
          3.225806451612903,
          9.67741935483871,
          3.225806451612903,
          3.225806451612903,
          3.225806451612903,
          3.225806451612903,
          3.225806451612903,
          3.225806451612903,
          3.225806451612903,
          3.225806451612903,
          3.225806451612903,
          3.225806451612903,
          3.225806451612903,
          3.225806451612903,
          3.225806451612903,
          3.225806451612903,
          3.225806451612903,
          3.225806451612903,
          3.225806451612903,
          3.225806451612903,
          3.225806451612903,
          3.225806451612903,
          3.225806451612903,
          3.225806451612903,
          3.225806451612903,
          3.225806451612903,
          3.225806451612903,
          3.225806451612903,
          3.225806451612903,
          3.225806451612903,
          3.225806451612903,
          3.225806451612903,
          3.225806451612903,
          3.225806451612903,
          3.225806451612903,
          3.225806451612903,
          3.225806451612903,
          3.225806451612903,
          3.225806451612903,
          3.225806451612903,
          3.225806451612903,
          3.225806451612903,
          3.225806451612903,
          3.225806451612903,
          3.225806451612903,
          3.225806451612903,
          3.225806451612903,
          3.225806451612903,
          3.225806451612903,
          3.225806451612903,
          3.225806451612903,
          3.225806451612903,
          3.225806451612903,
          3.225806451612903,
          3.225806451612903,
          3.225806451612903,
          3.225806451612903,
          3.225806451612903,
          3.225806451612903,
          3.225806451612903,
          3.225806451612903,
          3.225806451612903,
          3.225806451612903,
          3.225806451612903,
          3.225806451612903,
          3.225806451612903,
          3.225806451612903,
          3.225806451612903,
          3.225806451612903,
          3.225806451612903,
          3.225806451612903,
          3.225806451612903,
          3.225806451612903,
          3.225806451612903,
          3.225806451612903,
          9.67741935483871,
          9.67741935483871,
          3.225806451612903,
          3.225806451612903,
          3.225806451612903,
          3.225806451612903,
          3.225806451612903,
          3.225806451612903,
          3.225806451612903,
          3.225806451612903,
          3.225806451612903,
          3.225806451612903,
          3.225806451612903,
          3.225806451612903,
          3.225806451612903,
          3.225806451612903,
          6.451612903225806,
          6.451612903225806,
          6.451612903225806,
          3.225806451612903,
          3.225806451612903,
          3.225806451612903,
          3.225806451612903,
          3.225806451612903,
          3.225806451612903,
          3.225806451612903,
          3.225806451612903,
          3.225806451612903,
          3.225806451612903,
          3.225806451612903,
          3.225806451612903,
          3.225806451612903,
          3.225806451612903,
          3.225806451612903,
          3.225806451612903,
          3.225806451612903,
          3.225806451612903,
          3.225806451612903,
          6.451612903225806,
          3.225806451612903,
          3.225806451612903,
          3.225806451612903,
          3.225806451612903,
          3.225806451612903,
          3.225806451612903,
          3.225806451612903,
          3.225806451612903,
          3.225806451612903,
          3.225806451612903,
          3.225806451612903,
          3.225806451612903,
          3.225806451612903,
          3.225806451612903,
          3.225806451612903,
          3.225806451612903,
          6.451612903225806,
          3.225806451612903,
          3.225806451612903,
          3.225806451612903,
          3.225806451612903,
          3.225806451612903,
          3.225806451612903,
          3.225806451612903,
          3.225806451612903,
          3.225806451612903,
          3.225806451612903,
          3.225806451612903,
          3.225806451612903,
          3.225806451612903,
          3.225806451612903,
          3.225806451612903,
          3.225806451612903,
          3.225806451612903,
          3.225806451612903,
          3.225806451612903,
          3.225806451612903,
          3.225806451612903,
          3.225806451612903,
          3.225806451612903,
          3.225806451612903,
          3.225806451612903,
          3.225806451612903,
          3.225806451612903,
          3.225806451612903,
          3.225806451612903,
          3.225806451612903,
          3.225806451612903,
          3.225806451612903,
          3.225806451612903,
          3.225806451612903,
          3.225806451612903,
          3.225806451612903,
          3.225806451612903,
          3.225806451612903,
          3.225806451612903,
          3.225806451612903,
          3.225806451612903,
          3.225806451612903,
          3.225806451612903,
          3.225806451612903,
          3.225806451612903,
          3.225806451612903,
          3.225806451612903,
          3.225806451612903,
          3.225806451612903,
          3.225806451612903,
          3.225806451612903,
          3.225806451612903,
          3.225806451612903
         ],
         "type": "sunburst",
         "values": [
          31,
          1,
          1,
          1,
          1,
          1,
          1,
          21,
          4,
          3,
          1,
          1,
          1,
          1,
          2,
          1,
          1,
          1,
          1,
          3,
          1,
          1,
          1,
          1,
          1,
          1,
          1,
          1,
          1,
          1,
          1,
          1,
          1,
          1,
          1,
          1,
          1,
          1,
          1,
          1,
          1,
          1,
          1,
          1,
          1,
          1,
          1,
          1,
          1,
          1,
          1,
          1,
          1,
          1,
          1,
          1,
          1,
          1,
          1,
          1,
          1,
          1,
          1,
          1,
          1,
          1,
          1,
          1,
          1,
          1,
          1,
          1,
          1,
          1,
          1,
          1,
          1,
          1,
          1,
          1,
          1,
          1,
          1,
          1,
          1,
          1,
          1,
          1,
          1,
          1,
          1,
          1,
          1,
          3,
          3,
          1,
          1,
          1,
          1,
          1,
          1,
          1,
          1,
          1,
          1,
          1,
          1,
          1,
          1,
          2,
          2,
          2,
          1,
          1,
          1,
          1,
          1,
          1,
          1,
          1,
          1,
          1,
          1,
          1,
          1,
          1,
          1,
          1,
          1,
          1,
          1,
          2,
          1,
          1,
          1,
          1,
          1,
          1,
          1,
          1,
          1,
          1,
          1,
          1,
          1,
          1,
          1,
          1,
          2,
          1,
          1,
          1,
          1,
          1,
          1,
          1,
          1,
          1,
          1,
          1,
          1,
          1,
          1,
          1,
          1,
          1,
          1,
          1,
          1,
          1,
          1,
          1,
          1,
          1,
          1,
          1,
          1,
          1,
          1,
          1,
          1,
          1,
          1,
          1,
          1,
          1,
          1,
          1,
          1,
          1,
          1,
          1,
          1,
          1,
          1,
          1,
          1,
          1,
          1,
          1,
          1,
          1
         ]
        }
       ],
       "layout": {
        "autosize": false,
        "height": 500,
        "margin": {
         "b": 10,
         "l": 10,
         "r": 10,
         "t": 10
        },
        "template": {
         "data": {
          "bar": [
           {
            "error_x": {
             "color": "#2a3f5f"
            },
            "error_y": {
             "color": "#2a3f5f"
            },
            "marker": {
             "line": {
              "color": "#E5ECF6",
              "width": 0.5
             },
             "pattern": {
              "fillmode": "overlay",
              "size": 10,
              "solidity": 0.2
             }
            },
            "type": "bar"
           }
          ],
          "barpolar": [
           {
            "marker": {
             "line": {
              "color": "#E5ECF6",
              "width": 0.5
             },
             "pattern": {
              "fillmode": "overlay",
              "size": 10,
              "solidity": 0.2
             }
            },
            "type": "barpolar"
           }
          ],
          "carpet": [
           {
            "aaxis": {
             "endlinecolor": "#2a3f5f",
             "gridcolor": "white",
             "linecolor": "white",
             "minorgridcolor": "white",
             "startlinecolor": "#2a3f5f"
            },
            "baxis": {
             "endlinecolor": "#2a3f5f",
             "gridcolor": "white",
             "linecolor": "white",
             "minorgridcolor": "white",
             "startlinecolor": "#2a3f5f"
            },
            "type": "carpet"
           }
          ],
          "choropleth": [
           {
            "colorbar": {
             "outlinewidth": 0,
             "ticks": ""
            },
            "type": "choropleth"
           }
          ],
          "contour": [
           {
            "colorbar": {
             "outlinewidth": 0,
             "ticks": ""
            },
            "colorscale": [
             [
              0,
              "#0d0887"
             ],
             [
              0.1111111111111111,
              "#46039f"
             ],
             [
              0.2222222222222222,
              "#7201a8"
             ],
             [
              0.3333333333333333,
              "#9c179e"
             ],
             [
              0.4444444444444444,
              "#bd3786"
             ],
             [
              0.5555555555555556,
              "#d8576b"
             ],
             [
              0.6666666666666666,
              "#ed7953"
             ],
             [
              0.7777777777777778,
              "#fb9f3a"
             ],
             [
              0.8888888888888888,
              "#fdca26"
             ],
             [
              1,
              "#f0f921"
             ]
            ],
            "type": "contour"
           }
          ],
          "contourcarpet": [
           {
            "colorbar": {
             "outlinewidth": 0,
             "ticks": ""
            },
            "type": "contourcarpet"
           }
          ],
          "heatmap": [
           {
            "colorbar": {
             "outlinewidth": 0,
             "ticks": ""
            },
            "colorscale": [
             [
              0,
              "#0d0887"
             ],
             [
              0.1111111111111111,
              "#46039f"
             ],
             [
              0.2222222222222222,
              "#7201a8"
             ],
             [
              0.3333333333333333,
              "#9c179e"
             ],
             [
              0.4444444444444444,
              "#bd3786"
             ],
             [
              0.5555555555555556,
              "#d8576b"
             ],
             [
              0.6666666666666666,
              "#ed7953"
             ],
             [
              0.7777777777777778,
              "#fb9f3a"
             ],
             [
              0.8888888888888888,
              "#fdca26"
             ],
             [
              1,
              "#f0f921"
             ]
            ],
            "type": "heatmap"
           }
          ],
          "heatmapgl": [
           {
            "colorbar": {
             "outlinewidth": 0,
             "ticks": ""
            },
            "colorscale": [
             [
              0,
              "#0d0887"
             ],
             [
              0.1111111111111111,
              "#46039f"
             ],
             [
              0.2222222222222222,
              "#7201a8"
             ],
             [
              0.3333333333333333,
              "#9c179e"
             ],
             [
              0.4444444444444444,
              "#bd3786"
             ],
             [
              0.5555555555555556,
              "#d8576b"
             ],
             [
              0.6666666666666666,
              "#ed7953"
             ],
             [
              0.7777777777777778,
              "#fb9f3a"
             ],
             [
              0.8888888888888888,
              "#fdca26"
             ],
             [
              1,
              "#f0f921"
             ]
            ],
            "type": "heatmapgl"
           }
          ],
          "histogram": [
           {
            "marker": {
             "pattern": {
              "fillmode": "overlay",
              "size": 10,
              "solidity": 0.2
             }
            },
            "type": "histogram"
           }
          ],
          "histogram2d": [
           {
            "colorbar": {
             "outlinewidth": 0,
             "ticks": ""
            },
            "colorscale": [
             [
              0,
              "#0d0887"
             ],
             [
              0.1111111111111111,
              "#46039f"
             ],
             [
              0.2222222222222222,
              "#7201a8"
             ],
             [
              0.3333333333333333,
              "#9c179e"
             ],
             [
              0.4444444444444444,
              "#bd3786"
             ],
             [
              0.5555555555555556,
              "#d8576b"
             ],
             [
              0.6666666666666666,
              "#ed7953"
             ],
             [
              0.7777777777777778,
              "#fb9f3a"
             ],
             [
              0.8888888888888888,
              "#fdca26"
             ],
             [
              1,
              "#f0f921"
             ]
            ],
            "type": "histogram2d"
           }
          ],
          "histogram2dcontour": [
           {
            "colorbar": {
             "outlinewidth": 0,
             "ticks": ""
            },
            "colorscale": [
             [
              0,
              "#0d0887"
             ],
             [
              0.1111111111111111,
              "#46039f"
             ],
             [
              0.2222222222222222,
              "#7201a8"
             ],
             [
              0.3333333333333333,
              "#9c179e"
             ],
             [
              0.4444444444444444,
              "#bd3786"
             ],
             [
              0.5555555555555556,
              "#d8576b"
             ],
             [
              0.6666666666666666,
              "#ed7953"
             ],
             [
              0.7777777777777778,
              "#fb9f3a"
             ],
             [
              0.8888888888888888,
              "#fdca26"
             ],
             [
              1,
              "#f0f921"
             ]
            ],
            "type": "histogram2dcontour"
           }
          ],
          "mesh3d": [
           {
            "colorbar": {
             "outlinewidth": 0,
             "ticks": ""
            },
            "type": "mesh3d"
           }
          ],
          "parcoords": [
           {
            "line": {
             "colorbar": {
              "outlinewidth": 0,
              "ticks": ""
             }
            },
            "type": "parcoords"
           }
          ],
          "pie": [
           {
            "automargin": true,
            "type": "pie"
           }
          ],
          "scatter": [
           {
            "marker": {
             "colorbar": {
              "outlinewidth": 0,
              "ticks": ""
             }
            },
            "type": "scatter"
           }
          ],
          "scatter3d": [
           {
            "line": {
             "colorbar": {
              "outlinewidth": 0,
              "ticks": ""
             }
            },
            "marker": {
             "colorbar": {
              "outlinewidth": 0,
              "ticks": ""
             }
            },
            "type": "scatter3d"
           }
          ],
          "scattercarpet": [
           {
            "marker": {
             "colorbar": {
              "outlinewidth": 0,
              "ticks": ""
             }
            },
            "type": "scattercarpet"
           }
          ],
          "scattergeo": [
           {
            "marker": {
             "colorbar": {
              "outlinewidth": 0,
              "ticks": ""
             }
            },
            "type": "scattergeo"
           }
          ],
          "scattergl": [
           {
            "marker": {
             "colorbar": {
              "outlinewidth": 0,
              "ticks": ""
             }
            },
            "type": "scattergl"
           }
          ],
          "scattermapbox": [
           {
            "marker": {
             "colorbar": {
              "outlinewidth": 0,
              "ticks": ""
             }
            },
            "type": "scattermapbox"
           }
          ],
          "scatterpolar": [
           {
            "marker": {
             "colorbar": {
              "outlinewidth": 0,
              "ticks": ""
             }
            },
            "type": "scatterpolar"
           }
          ],
          "scatterpolargl": [
           {
            "marker": {
             "colorbar": {
              "outlinewidth": 0,
              "ticks": ""
             }
            },
            "type": "scatterpolargl"
           }
          ],
          "scatterternary": [
           {
            "marker": {
             "colorbar": {
              "outlinewidth": 0,
              "ticks": ""
             }
            },
            "type": "scatterternary"
           }
          ],
          "surface": [
           {
            "colorbar": {
             "outlinewidth": 0,
             "ticks": ""
            },
            "colorscale": [
             [
              0,
              "#0d0887"
             ],
             [
              0.1111111111111111,
              "#46039f"
             ],
             [
              0.2222222222222222,
              "#7201a8"
             ],
             [
              0.3333333333333333,
              "#9c179e"
             ],
             [
              0.4444444444444444,
              "#bd3786"
             ],
             [
              0.5555555555555556,
              "#d8576b"
             ],
             [
              0.6666666666666666,
              "#ed7953"
             ],
             [
              0.7777777777777778,
              "#fb9f3a"
             ],
             [
              0.8888888888888888,
              "#fdca26"
             ],
             [
              1,
              "#f0f921"
             ]
            ],
            "type": "surface"
           }
          ],
          "table": [
           {
            "cells": {
             "fill": {
              "color": "#EBF0F8"
             },
             "line": {
              "color": "white"
             }
            },
            "header": {
             "fill": {
              "color": "#C8D4E3"
             },
             "line": {
              "color": "white"
             }
            },
            "type": "table"
           }
          ]
         },
         "layout": {
          "annotationdefaults": {
           "arrowcolor": "#2a3f5f",
           "arrowhead": 0,
           "arrowwidth": 1
          },
          "autotypenumbers": "strict",
          "coloraxis": {
           "colorbar": {
            "outlinewidth": 0,
            "ticks": ""
           }
          },
          "colorscale": {
           "diverging": [
            [
             0,
             "#8e0152"
            ],
            [
             0.1,
             "#c51b7d"
            ],
            [
             0.2,
             "#de77ae"
            ],
            [
             0.3,
             "#f1b6da"
            ],
            [
             0.4,
             "#fde0ef"
            ],
            [
             0.5,
             "#f7f7f7"
            ],
            [
             0.6,
             "#e6f5d0"
            ],
            [
             0.7,
             "#b8e186"
            ],
            [
             0.8,
             "#7fbc41"
            ],
            [
             0.9,
             "#4d9221"
            ],
            [
             1,
             "#276419"
            ]
           ],
           "sequential": [
            [
             0,
             "#0d0887"
            ],
            [
             0.1111111111111111,
             "#46039f"
            ],
            [
             0.2222222222222222,
             "#7201a8"
            ],
            [
             0.3333333333333333,
             "#9c179e"
            ],
            [
             0.4444444444444444,
             "#bd3786"
            ],
            [
             0.5555555555555556,
             "#d8576b"
            ],
            [
             0.6666666666666666,
             "#ed7953"
            ],
            [
             0.7777777777777778,
             "#fb9f3a"
            ],
            [
             0.8888888888888888,
             "#fdca26"
            ],
            [
             1,
             "#f0f921"
            ]
           ],
           "sequentialminus": [
            [
             0,
             "#0d0887"
            ],
            [
             0.1111111111111111,
             "#46039f"
            ],
            [
             0.2222222222222222,
             "#7201a8"
            ],
            [
             0.3333333333333333,
             "#9c179e"
            ],
            [
             0.4444444444444444,
             "#bd3786"
            ],
            [
             0.5555555555555556,
             "#d8576b"
            ],
            [
             0.6666666666666666,
             "#ed7953"
            ],
            [
             0.7777777777777778,
             "#fb9f3a"
            ],
            [
             0.8888888888888888,
             "#fdca26"
            ],
            [
             1,
             "#f0f921"
            ]
           ]
          },
          "colorway": [
           "#636efa",
           "#EF553B",
           "#00cc96",
           "#ab63fa",
           "#FFA15A",
           "#19d3f3",
           "#FF6692",
           "#B6E880",
           "#FF97FF",
           "#FECB52"
          ],
          "font": {
           "color": "#2a3f5f"
          },
          "geo": {
           "bgcolor": "white",
           "lakecolor": "white",
           "landcolor": "#E5ECF6",
           "showlakes": true,
           "showland": true,
           "subunitcolor": "white"
          },
          "hoverlabel": {
           "align": "left"
          },
          "hovermode": "closest",
          "mapbox": {
           "style": "light"
          },
          "paper_bgcolor": "white",
          "plot_bgcolor": "#E5ECF6",
          "polar": {
           "angularaxis": {
            "gridcolor": "white",
            "linecolor": "white",
            "ticks": ""
           },
           "bgcolor": "#E5ECF6",
           "radialaxis": {
            "gridcolor": "white",
            "linecolor": "white",
            "ticks": ""
           }
          },
          "scene": {
           "xaxis": {
            "backgroundcolor": "#E5ECF6",
            "gridcolor": "white",
            "gridwidth": 2,
            "linecolor": "white",
            "showbackground": true,
            "ticks": "",
            "zerolinecolor": "white"
           },
           "yaxis": {
            "backgroundcolor": "#E5ECF6",
            "gridcolor": "white",
            "gridwidth": 2,
            "linecolor": "white",
            "showbackground": true,
            "ticks": "",
            "zerolinecolor": "white"
           },
           "zaxis": {
            "backgroundcolor": "#E5ECF6",
            "gridcolor": "white",
            "gridwidth": 2,
            "linecolor": "white",
            "showbackground": true,
            "ticks": "",
            "zerolinecolor": "white"
           }
          },
          "shapedefaults": {
           "line": {
            "color": "#2a3f5f"
           }
          },
          "ternary": {
           "aaxis": {
            "gridcolor": "white",
            "linecolor": "white",
            "ticks": ""
           },
           "baxis": {
            "gridcolor": "white",
            "linecolor": "white",
            "ticks": ""
           },
           "bgcolor": "#E5ECF6",
           "caxis": {
            "gridcolor": "white",
            "linecolor": "white",
            "ticks": ""
           }
          },
          "title": {
           "x": 0.05
          },
          "xaxis": {
           "automargin": true,
           "gridcolor": "white",
           "linecolor": "white",
           "ticks": "",
           "title": {
            "standoff": 15
           },
           "zerolinecolor": "white",
           "zerolinewidth": 2
          },
          "yaxis": {
           "automargin": true,
           "gridcolor": "white",
           "linecolor": "white",
           "ticks": "",
           "title": {
            "standoff": 15
           },
           "zerolinecolor": "white",
           "zerolinewidth": 2
          }
         }
        },
        "uniformtext": {
         "minsize": 10,
         "mode": "hide"
        },
        "width": 500
       }
      },
      "text/html": [
       "<div>                            <div id=\"3e09a8b1-528c-4f8e-84a3-39f6c606186e\" class=\"plotly-graph-div\" style=\"height:500px; width:500px;\"></div>            <script type=\"text/javascript\">                require([\"plotly\"], function(Plotly) {                    window.PLOTLYENV=window.PLOTLYENV || {};                                    if (document.getElementById(\"3e09a8b1-528c-4f8e-84a3-39f6c606186e\")) {                    Plotly.newPlot(                        \"3e09a8b1-528c-4f8e-84a3-39f6c606186e\",                        [{\"branchvalues\":\"total\",\"domain\":{\"column\":1},\"hovertemplate\":\"<b>%{label} </b> <br> Percentage: %{text:.2f}%\",\"ids\":[\"CLS\",\"CLS where\",\"CLS where would\",\"CLS where would one\",\"CLS where would one find\",\"CLS where would one find these\",\"CLS where would one find these animals\",\"CLS what\",\"CLS what is\",\"CLS what is the\",\"CLS what is the man\",\"CLS what is the man in\",\"CLS what is the man in red\",\"CLS what is the man in red doing\",\"CLS which\",\"CLS which airline\",\"CLS which airline has\",\"CLS which airline has this\",\"CLS which airline has this insignia\",\"CLS how\",\"CLS how do\",\"CLS how do you\",\"CLS how do you know\",\"CLS how do you know they\",\"CLS how do you know they are\",\"CLS how do you know they are competing\",\"CLS what is the player\",\"CLS what is the player most\",\"CLS what is the player most likely\",\"CLS what is the player most likely kicking\",\"CLS what is the player most likely kicking the\",\"CLS what is the player most likely kicking the ball\",\"CLS what is the player most likely kicking the ball towards\",\"CLS what continent\",\"CLS what continent s\",\"CLS what continent s is\",\"CLS what continent s is are\",\"CLS what continent s is are this\",\"CLS what continent s is are this bird\",\"CLS what continent s is are this bird found\",\"CLS what continent s is are this bird found on\",\"CLS what type\",\"CLS what type of\",\"CLS what type of tool\",\"CLS what type of tool is\",\"CLS what type of tool is she\",\"CLS what type of tool is she using\",\"CLS what type of tool is she using for\",\"CLS what type of tool is she using for her\",\"CLS what type of tool is she using for her hair\",\"CLS when\",\"CLS when was\",\"CLS when was this\",\"CLS when was this type\",\"CLS when was this type of\",\"CLS when was this type of vehicle\",\"CLS when was this type of vehicle first\",\"CLS when was this type of vehicle first made\",\"CLS which occupation\",\"CLS which occupation sniffs\",\"CLS which occupation sniffs this\",\"CLS which occupation sniffs this item\",\"CLS which occupation sniffs this item before\",\"CLS which occupation sniffs this item before drinking\",\"CLS what celestial\",\"CLS what celestial body\",\"CLS what celestial body affects\",\"CLS what celestial body affects the\",\"CLS what celestial body affects the behavior\",\"CLS what celestial body affects the behavior of\",\"CLS what celestial body affects the behavior of this\",\"CLS what celestial body affects the behavior of this water\",\"CLS what certification\",\"CLS what certification will\",\"CLS what certification will these\",\"CLS what certification will these people\",\"CLS what certification will these people receive\",\"CLS the\",\"CLS the kite\",\"CLS the kite in\",\"CLS the kite in the\",\"CLS the kite in the air\",\"CLS the kite in the air flies\",\"CLS the kite in the air flies because\",\"CLS the kite in the air flies because of\",\"CLS the kite in the air flies because of what\",\"CLS the kite in the air flies because of what physics\",\"CLS the kite in the air flies because of what physics principle\",\"CLS what can\",\"CLS what can you\",\"CLS what can you make\",\"CLS what can you make with\",\"CLS what can you make with these\",\"CLS what kind\",\"CLS what kind of\",\"CLS what kind of shirt\",\"CLS what kind of shirt is\",\"CLS what kind of shirt is the\",\"CLS what kind of shirt is the man\",\"CLS what kind of shirt is the man on\",\"CLS what kind of shirt is the man on the\",\"CLS what kind of shirt is the man on the right\",\"CLS what kind of shirt is the man on the right wearing\",\"CLS what section\",\"CLS what section is\",\"CLS what section is the\",\"CLS what section is the player\",\"CLS what section is the player standing\",\"CLS what section is the player standing on\",\"CLS is\",\"CLS is this\",\"CLS is this a\",\"CLS is this a doubles\",\"CLS is this a doubles or\",\"CLS is this a doubles or a\",\"CLS is this a doubles or a singles\",\"CLS is this a doubles or a singles match\",\"CLS what is being\",\"CLS what is being driven\",\"CLS what is being driven on\",\"CLS what shape\",\"CLS what shape is\",\"CLS what shape is the\",\"CLS what shape is the table\",\"CLS what is the name\",\"CLS what is the name of\",\"CLS what is the name of the\",\"CLS what is the name of the sport\",\"CLS what is the name of the sport in\",\"CLS what is the name of the sport in the\",\"CLS what is the name of the sport in the picture\",\"CLS how many\",\"CLS how many passengers\",\"CLS how many passengers does\",\"CLS how many passengers does this\",\"CLS how many passengers does this airplane\",\"CLS how many passengers does this airplane carry\",\"CLS is this a healthy\",\"CLS is this a healthy or\",\"CLS is this a healthy or unhealthy\",\"CLS is this a healthy or unhealthy meal\",\"CLS what state\",\"CLS what state are\",\"CLS what state are these\",\"CLS what state are these citrus\",\"CLS what state are these citrus fruits\",\"CLS what state are these citrus fruits native\",\"CLS what state are these citrus fruits native to\",\"CLS what does\",\"CLS what does this\",\"CLS what does this sandwich\",\"CLS what does this sandwich variant\",\"CLS what does this sandwich variant have\",\"CLS what does this sandwich variant have in\",\"CLS what does this sandwich variant have in common\",\"CLS what does this sandwich variant have in common with\",\"CLS what does this sandwich variant have in common with popsicles\",\"CLS how many watts\",\"CLS how many watts is\",\"CLS how many watts is that\",\"CLS how many watts is that microwave\",\"CLS what was\",\"CLS what was happening\",\"CLS what was happening here\",\"CLS what does the\",\"CLS what does the person\",\"CLS what does the person skiing\",\"CLS what does the person skiing have\",\"CLS what does the person skiing have covering\",\"CLS what does the person skiing have covering her\",\"CLS what does the person skiing have covering her eyes\",\"CLS what style\",\"CLS what style saddle\",\"CLS what style saddle are\",\"CLS what style saddle are the\",\"CLS what style saddle are the riders\",\"CLS what style saddle are the riders using\",\"CLS what kind of oven\",\"CLS what kind of oven is\",\"CLS what kind of oven is on\",\"CLS what kind of oven is on the\",\"CLS what kind of oven is on the table\",\"CLS what are\",\"CLS what are these\",\"CLS what are these pastries\",\"CLS what are these pastries made\",\"CLS what are these pastries made of\",\"CLS what kind of camera\",\"CLS what kind of camera is\",\"CLS what kind of camera is she\",\"CLS what kind of camera is she using\",\"CLS what would\",\"CLS what would you\",\"CLS what would you call\",\"CLS what would you call this\",\"CLS what would you call this device\",\"CLS what would you call this device if\",\"CLS what would you call this device if it\",\"CLS what would you call this device if it only\",\"CLS what would you call this device if it only had\",\"CLS what would you call this device if it only had one\",\"CLS what would you call this device if it only had one wheel\"],\"insidetextorientation\":\"radial\",\"labels\":[\"\",\"where\",\"would\",\"one\",\"find\",\"these\",\"animals\",\"what\",\"is\",\"the\",\"man\",\"in\",\"red\",\"doing\",\"which\",\"airline\",\"has\",\"this\",\"insignia\",\"how\",\"do\",\"you\",\"know\",\"they\",\"are\",\"competing\",\"player\",\"most\",\"likely\",\"kicking\",\"the\",\"ball\",\"towards\",\"continent\",\"s\",\"is\",\"are\",\"this\",\"bird\",\"found\",\"on\",\"type\",\"of\",\"tool\",\"is\",\"she\",\"using\",\"for\",\"her\",\"hair\",\"when\",\"was\",\"this\",\"type\",\"of\",\"vehicle\",\"first\",\"made\",\"occupation\",\"sniffs\",\"this\",\"item\",\"before\",\"drinking\",\"celestial\",\"body\",\"affects\",\"the\",\"behavior\",\"of\",\"this\",\"water\",\"certification\",\"will\",\"these\",\"people\",\"receive\",\"the\",\"kite\",\"in\",\"the\",\"air\",\"flies\",\"because\",\"of\",\"what\",\"physics\",\"principle\",\"can\",\"you\",\"make\",\"with\",\"these\",\"kind\",\"of\",\"shirt\",\"is\",\"the\",\"man\",\"on\",\"the\",\"right\",\"wearing\",\"section\",\"is\",\"the\",\"player\",\"standing\",\"on\",\"is\",\"this\",\"a\",\"doubles\",\"or\",\"a\",\"singles\",\"match\",\"being\",\"driven\",\"on\",\"shape\",\"is\",\"the\",\"table\",\"name\",\"of\",\"the\",\"sport\",\"in\",\"the\",\"picture\",\"many\",\"passengers\",\"does\",\"this\",\"airplane\",\"carry\",\"healthy\",\"or\",\"unhealthy\",\"meal\",\"state\",\"are\",\"these\",\"citrus\",\"fruits\",\"native\",\"to\",\"does\",\"this\",\"sandwich\",\"variant\",\"have\",\"in\",\"common\",\"with\",\"popsicles\",\"watts\",\"is\",\"that\",\"microwave\",\"was\",\"happening\",\"here\",\"the\",\"person\",\"skiing\",\"have\",\"covering\",\"her\",\"eyes\",\"style\",\"saddle\",\"are\",\"the\",\"riders\",\"using\",\"oven\",\"is\",\"on\",\"the\",\"table\",\"are\",\"these\",\"pastries\",\"made\",\"of\",\"camera\",\"is\",\"she\",\"using\",\"would\",\"you\",\"call\",\"this\",\"device\",\"if\",\"it\",\"only\",\"had\",\"one\",\"wheel\"],\"parents\":[\"\",\"CLS\",\"CLS where\",\"CLS where would\",\"CLS where would one\",\"CLS where would one find\",\"CLS where would one find these\",\"CLS\",\"CLS what\",\"CLS what is\",\"CLS what is the\",\"CLS what is the man\",\"CLS what is the man in\",\"CLS what is the man in red\",\"CLS\",\"CLS which\",\"CLS which airline\",\"CLS which airline has\",\"CLS which airline has this\",\"CLS\",\"CLS how\",\"CLS how do\",\"CLS how do you\",\"CLS how do you know\",\"CLS how do you know they\",\"CLS how do you know they are\",\"CLS what is the\",\"CLS what is the player\",\"CLS what is the player most\",\"CLS what is the player most likely\",\"CLS what is the player most likely kicking\",\"CLS what is the player most likely kicking the\",\"CLS what is the player most likely kicking the ball\",\"CLS what\",\"CLS what continent\",\"CLS what continent s\",\"CLS what continent s is\",\"CLS what continent s is are\",\"CLS what continent s is are this\",\"CLS what continent s is are this bird\",\"CLS what continent s is are this bird found\",\"CLS what\",\"CLS what type\",\"CLS what type of\",\"CLS what type of tool\",\"CLS what type of tool is\",\"CLS what type of tool is she\",\"CLS what type of tool is she using\",\"CLS what type of tool is she using for\",\"CLS what type of tool is she using for her\",\"CLS\",\"CLS when\",\"CLS when was\",\"CLS when was this\",\"CLS when was this type\",\"CLS when was this type of\",\"CLS when was this type of vehicle\",\"CLS when was this type of vehicle first\",\"CLS which\",\"CLS which occupation\",\"CLS which occupation sniffs\",\"CLS which occupation sniffs this\",\"CLS which occupation sniffs this item\",\"CLS which occupation sniffs this item before\",\"CLS what\",\"CLS what celestial\",\"CLS what celestial body\",\"CLS what celestial body affects\",\"CLS what celestial body affects the\",\"CLS what celestial body affects the behavior\",\"CLS what celestial body affects the behavior of\",\"CLS what celestial body affects the behavior of this\",\"CLS what\",\"CLS what certification\",\"CLS what certification will\",\"CLS what certification will these\",\"CLS what certification will these people\",\"CLS\",\"CLS the\",\"CLS the kite\",\"CLS the kite in\",\"CLS the kite in the\",\"CLS the kite in the air\",\"CLS the kite in the air flies\",\"CLS the kite in the air flies because\",\"CLS the kite in the air flies because of\",\"CLS the kite in the air flies because of what\",\"CLS the kite in the air flies because of what physics\",\"CLS what\",\"CLS what can\",\"CLS what can you\",\"CLS what can you make\",\"CLS what can you make with\",\"CLS what\",\"CLS what kind\",\"CLS what kind of\",\"CLS what kind of shirt\",\"CLS what kind of shirt is\",\"CLS what kind of shirt is the\",\"CLS what kind of shirt is the man\",\"CLS what kind of shirt is the man on\",\"CLS what kind of shirt is the man on the\",\"CLS what kind of shirt is the man on the right\",\"CLS what\",\"CLS what section\",\"CLS what section is\",\"CLS what section is the\",\"CLS what section is the player\",\"CLS what section is the player standing\",\"CLS\",\"CLS is\",\"CLS is this\",\"CLS is this a\",\"CLS is this a doubles\",\"CLS is this a doubles or\",\"CLS is this a doubles or a\",\"CLS is this a doubles or a singles\",\"CLS what is\",\"CLS what is being\",\"CLS what is being driven\",\"CLS what\",\"CLS what shape\",\"CLS what shape is\",\"CLS what shape is the\",\"CLS what is the\",\"CLS what is the name\",\"CLS what is the name of\",\"CLS what is the name of the\",\"CLS what is the name of the sport\",\"CLS what is the name of the sport in\",\"CLS what is the name of the sport in the\",\"CLS how\",\"CLS how many\",\"CLS how many passengers\",\"CLS how many passengers does\",\"CLS how many passengers does this\",\"CLS how many passengers does this airplane\",\"CLS is this a\",\"CLS is this a healthy\",\"CLS is this a healthy or\",\"CLS is this a healthy or unhealthy\",\"CLS what\",\"CLS what state\",\"CLS what state are\",\"CLS what state are these\",\"CLS what state are these citrus\",\"CLS what state are these citrus fruits\",\"CLS what state are these citrus fruits native\",\"CLS what\",\"CLS what does\",\"CLS what does this\",\"CLS what does this sandwich\",\"CLS what does this sandwich variant\",\"CLS what does this sandwich variant have\",\"CLS what does this sandwich variant have in\",\"CLS what does this sandwich variant have in common\",\"CLS what does this sandwich variant have in common with\",\"CLS how many\",\"CLS how many watts\",\"CLS how many watts is\",\"CLS how many watts is that\",\"CLS what\",\"CLS what was\",\"CLS what was happening\",\"CLS what does\",\"CLS what does the\",\"CLS what does the person\",\"CLS what does the person skiing\",\"CLS what does the person skiing have\",\"CLS what does the person skiing have covering\",\"CLS what does the person skiing have covering her\",\"CLS what\",\"CLS what style\",\"CLS what style saddle\",\"CLS what style saddle are\",\"CLS what style saddle are the\",\"CLS what style saddle are the riders\",\"CLS what kind of\",\"CLS what kind of oven\",\"CLS what kind of oven is\",\"CLS what kind of oven is on\",\"CLS what kind of oven is on the\",\"CLS what\",\"CLS what are\",\"CLS what are these\",\"CLS what are these pastries\",\"CLS what are these pastries made\",\"CLS what kind of\",\"CLS what kind of camera\",\"CLS what kind of camera is\",\"CLS what kind of camera is she\",\"CLS what\",\"CLS what would\",\"CLS what would you\",\"CLS what would you call\",\"CLS what would you call this\",\"CLS what would you call this device\",\"CLS what would you call this device if\",\"CLS what would you call this device if it\",\"CLS what would you call this device if it only\",\"CLS what would you call this device if it only had\",\"CLS what would you call this device if it only had one\"],\"text\":[100.0,3.225806451612903,3.225806451612903,3.225806451612903,3.225806451612903,3.225806451612903,3.225806451612903,67.74193548387096,12.903225806451612,9.67741935483871,3.225806451612903,3.225806451612903,3.225806451612903,3.225806451612903,6.451612903225806,3.225806451612903,3.225806451612903,3.225806451612903,3.225806451612903,9.67741935483871,3.225806451612903,3.225806451612903,3.225806451612903,3.225806451612903,3.225806451612903,3.225806451612903,3.225806451612903,3.225806451612903,3.225806451612903,3.225806451612903,3.225806451612903,3.225806451612903,3.225806451612903,3.225806451612903,3.225806451612903,3.225806451612903,3.225806451612903,3.225806451612903,3.225806451612903,3.225806451612903,3.225806451612903,3.225806451612903,3.225806451612903,3.225806451612903,3.225806451612903,3.225806451612903,3.225806451612903,3.225806451612903,3.225806451612903,3.225806451612903,3.225806451612903,3.225806451612903,3.225806451612903,3.225806451612903,3.225806451612903,3.225806451612903,3.225806451612903,3.225806451612903,3.225806451612903,3.225806451612903,3.225806451612903,3.225806451612903,3.225806451612903,3.225806451612903,3.225806451612903,3.225806451612903,3.225806451612903,3.225806451612903,3.225806451612903,3.225806451612903,3.225806451612903,3.225806451612903,3.225806451612903,3.225806451612903,3.225806451612903,3.225806451612903,3.225806451612903,3.225806451612903,3.225806451612903,3.225806451612903,3.225806451612903,3.225806451612903,3.225806451612903,3.225806451612903,3.225806451612903,3.225806451612903,3.225806451612903,3.225806451612903,3.225806451612903,3.225806451612903,3.225806451612903,3.225806451612903,3.225806451612903,9.67741935483871,9.67741935483871,3.225806451612903,3.225806451612903,3.225806451612903,3.225806451612903,3.225806451612903,3.225806451612903,3.225806451612903,3.225806451612903,3.225806451612903,3.225806451612903,3.225806451612903,3.225806451612903,3.225806451612903,3.225806451612903,6.451612903225806,6.451612903225806,6.451612903225806,3.225806451612903,3.225806451612903,3.225806451612903,3.225806451612903,3.225806451612903,3.225806451612903,3.225806451612903,3.225806451612903,3.225806451612903,3.225806451612903,3.225806451612903,3.225806451612903,3.225806451612903,3.225806451612903,3.225806451612903,3.225806451612903,3.225806451612903,3.225806451612903,3.225806451612903,6.451612903225806,3.225806451612903,3.225806451612903,3.225806451612903,3.225806451612903,3.225806451612903,3.225806451612903,3.225806451612903,3.225806451612903,3.225806451612903,3.225806451612903,3.225806451612903,3.225806451612903,3.225806451612903,3.225806451612903,3.225806451612903,3.225806451612903,6.451612903225806,3.225806451612903,3.225806451612903,3.225806451612903,3.225806451612903,3.225806451612903,3.225806451612903,3.225806451612903,3.225806451612903,3.225806451612903,3.225806451612903,3.225806451612903,3.225806451612903,3.225806451612903,3.225806451612903,3.225806451612903,3.225806451612903,3.225806451612903,3.225806451612903,3.225806451612903,3.225806451612903,3.225806451612903,3.225806451612903,3.225806451612903,3.225806451612903,3.225806451612903,3.225806451612903,3.225806451612903,3.225806451612903,3.225806451612903,3.225806451612903,3.225806451612903,3.225806451612903,3.225806451612903,3.225806451612903,3.225806451612903,3.225806451612903,3.225806451612903,3.225806451612903,3.225806451612903,3.225806451612903,3.225806451612903,3.225806451612903,3.225806451612903,3.225806451612903,3.225806451612903,3.225806451612903,3.225806451612903,3.225806451612903,3.225806451612903,3.225806451612903,3.225806451612903,3.225806451612903,3.225806451612903],\"values\":[31,1,1,1,1,1,1,21,4,3,1,1,1,1,2,1,1,1,1,3,1,1,1,1,1,1,1,1,1,1,1,1,1,1,1,1,1,1,1,1,1,1,1,1,1,1,1,1,1,1,1,1,1,1,1,1,1,1,1,1,1,1,1,1,1,1,1,1,1,1,1,1,1,1,1,1,1,1,1,1,1,1,1,1,1,1,1,1,1,1,1,1,1,3,3,1,1,1,1,1,1,1,1,1,1,1,1,1,1,2,2,2,1,1,1,1,1,1,1,1,1,1,1,1,1,1,1,1,1,1,1,2,1,1,1,1,1,1,1,1,1,1,1,1,1,1,1,1,2,1,1,1,1,1,1,1,1,1,1,1,1,1,1,1,1,1,1,1,1,1,1,1,1,1,1,1,1,1,1,1,1,1,1,1,1,1,1,1,1,1,1,1,1,1,1,1,1,1,1,1,1,1],\"type\":\"sunburst\"}],                        {\"template\":{\"data\":{\"bar\":[{\"error_x\":{\"color\":\"#2a3f5f\"},\"error_y\":{\"color\":\"#2a3f5f\"},\"marker\":{\"line\":{\"color\":\"#E5ECF6\",\"width\":0.5},\"pattern\":{\"fillmode\":\"overlay\",\"size\":10,\"solidity\":0.2}},\"type\":\"bar\"}],\"barpolar\":[{\"marker\":{\"line\":{\"color\":\"#E5ECF6\",\"width\":0.5},\"pattern\":{\"fillmode\":\"overlay\",\"size\":10,\"solidity\":0.2}},\"type\":\"barpolar\"}],\"carpet\":[{\"aaxis\":{\"endlinecolor\":\"#2a3f5f\",\"gridcolor\":\"white\",\"linecolor\":\"white\",\"minorgridcolor\":\"white\",\"startlinecolor\":\"#2a3f5f\"},\"baxis\":{\"endlinecolor\":\"#2a3f5f\",\"gridcolor\":\"white\",\"linecolor\":\"white\",\"minorgridcolor\":\"white\",\"startlinecolor\":\"#2a3f5f\"},\"type\":\"carpet\"}],\"choropleth\":[{\"colorbar\":{\"outlinewidth\":0,\"ticks\":\"\"},\"type\":\"choropleth\"}],\"contour\":[{\"colorbar\":{\"outlinewidth\":0,\"ticks\":\"\"},\"colorscale\":[[0.0,\"#0d0887\"],[0.1111111111111111,\"#46039f\"],[0.2222222222222222,\"#7201a8\"],[0.3333333333333333,\"#9c179e\"],[0.4444444444444444,\"#bd3786\"],[0.5555555555555556,\"#d8576b\"],[0.6666666666666666,\"#ed7953\"],[0.7777777777777778,\"#fb9f3a\"],[0.8888888888888888,\"#fdca26\"],[1.0,\"#f0f921\"]],\"type\":\"contour\"}],\"contourcarpet\":[{\"colorbar\":{\"outlinewidth\":0,\"ticks\":\"\"},\"type\":\"contourcarpet\"}],\"heatmap\":[{\"colorbar\":{\"outlinewidth\":0,\"ticks\":\"\"},\"colorscale\":[[0.0,\"#0d0887\"],[0.1111111111111111,\"#46039f\"],[0.2222222222222222,\"#7201a8\"],[0.3333333333333333,\"#9c179e\"],[0.4444444444444444,\"#bd3786\"],[0.5555555555555556,\"#d8576b\"],[0.6666666666666666,\"#ed7953\"],[0.7777777777777778,\"#fb9f3a\"],[0.8888888888888888,\"#fdca26\"],[1.0,\"#f0f921\"]],\"type\":\"heatmap\"}],\"heatmapgl\":[{\"colorbar\":{\"outlinewidth\":0,\"ticks\":\"\"},\"colorscale\":[[0.0,\"#0d0887\"],[0.1111111111111111,\"#46039f\"],[0.2222222222222222,\"#7201a8\"],[0.3333333333333333,\"#9c179e\"],[0.4444444444444444,\"#bd3786\"],[0.5555555555555556,\"#d8576b\"],[0.6666666666666666,\"#ed7953\"],[0.7777777777777778,\"#fb9f3a\"],[0.8888888888888888,\"#fdca26\"],[1.0,\"#f0f921\"]],\"type\":\"heatmapgl\"}],\"histogram\":[{\"marker\":{\"pattern\":{\"fillmode\":\"overlay\",\"size\":10,\"solidity\":0.2}},\"type\":\"histogram\"}],\"histogram2d\":[{\"colorbar\":{\"outlinewidth\":0,\"ticks\":\"\"},\"colorscale\":[[0.0,\"#0d0887\"],[0.1111111111111111,\"#46039f\"],[0.2222222222222222,\"#7201a8\"],[0.3333333333333333,\"#9c179e\"],[0.4444444444444444,\"#bd3786\"],[0.5555555555555556,\"#d8576b\"],[0.6666666666666666,\"#ed7953\"],[0.7777777777777778,\"#fb9f3a\"],[0.8888888888888888,\"#fdca26\"],[1.0,\"#f0f921\"]],\"type\":\"histogram2d\"}],\"histogram2dcontour\":[{\"colorbar\":{\"outlinewidth\":0,\"ticks\":\"\"},\"colorscale\":[[0.0,\"#0d0887\"],[0.1111111111111111,\"#46039f\"],[0.2222222222222222,\"#7201a8\"],[0.3333333333333333,\"#9c179e\"],[0.4444444444444444,\"#bd3786\"],[0.5555555555555556,\"#d8576b\"],[0.6666666666666666,\"#ed7953\"],[0.7777777777777778,\"#fb9f3a\"],[0.8888888888888888,\"#fdca26\"],[1.0,\"#f0f921\"]],\"type\":\"histogram2dcontour\"}],\"mesh3d\":[{\"colorbar\":{\"outlinewidth\":0,\"ticks\":\"\"},\"type\":\"mesh3d\"}],\"parcoords\":[{\"line\":{\"colorbar\":{\"outlinewidth\":0,\"ticks\":\"\"}},\"type\":\"parcoords\"}],\"pie\":[{\"automargin\":true,\"type\":\"pie\"}],\"scatter\":[{\"marker\":{\"colorbar\":{\"outlinewidth\":0,\"ticks\":\"\"}},\"type\":\"scatter\"}],\"scatter3d\":[{\"line\":{\"colorbar\":{\"outlinewidth\":0,\"ticks\":\"\"}},\"marker\":{\"colorbar\":{\"outlinewidth\":0,\"ticks\":\"\"}},\"type\":\"scatter3d\"}],\"scattercarpet\":[{\"marker\":{\"colorbar\":{\"outlinewidth\":0,\"ticks\":\"\"}},\"type\":\"scattercarpet\"}],\"scattergeo\":[{\"marker\":{\"colorbar\":{\"outlinewidth\":0,\"ticks\":\"\"}},\"type\":\"scattergeo\"}],\"scattergl\":[{\"marker\":{\"colorbar\":{\"outlinewidth\":0,\"ticks\":\"\"}},\"type\":\"scattergl\"}],\"scattermapbox\":[{\"marker\":{\"colorbar\":{\"outlinewidth\":0,\"ticks\":\"\"}},\"type\":\"scattermapbox\"}],\"scatterpolar\":[{\"marker\":{\"colorbar\":{\"outlinewidth\":0,\"ticks\":\"\"}},\"type\":\"scatterpolar\"}],\"scatterpolargl\":[{\"marker\":{\"colorbar\":{\"outlinewidth\":0,\"ticks\":\"\"}},\"type\":\"scatterpolargl\"}],\"scatterternary\":[{\"marker\":{\"colorbar\":{\"outlinewidth\":0,\"ticks\":\"\"}},\"type\":\"scatterternary\"}],\"surface\":[{\"colorbar\":{\"outlinewidth\":0,\"ticks\":\"\"},\"colorscale\":[[0.0,\"#0d0887\"],[0.1111111111111111,\"#46039f\"],[0.2222222222222222,\"#7201a8\"],[0.3333333333333333,\"#9c179e\"],[0.4444444444444444,\"#bd3786\"],[0.5555555555555556,\"#d8576b\"],[0.6666666666666666,\"#ed7953\"],[0.7777777777777778,\"#fb9f3a\"],[0.8888888888888888,\"#fdca26\"],[1.0,\"#f0f921\"]],\"type\":\"surface\"}],\"table\":[{\"cells\":{\"fill\":{\"color\":\"#EBF0F8\"},\"line\":{\"color\":\"white\"}},\"header\":{\"fill\":{\"color\":\"#C8D4E3\"},\"line\":{\"color\":\"white\"}},\"type\":\"table\"}]},\"layout\":{\"annotationdefaults\":{\"arrowcolor\":\"#2a3f5f\",\"arrowhead\":0,\"arrowwidth\":1},\"autotypenumbers\":\"strict\",\"coloraxis\":{\"colorbar\":{\"outlinewidth\":0,\"ticks\":\"\"}},\"colorscale\":{\"diverging\":[[0,\"#8e0152\"],[0.1,\"#c51b7d\"],[0.2,\"#de77ae\"],[0.3,\"#f1b6da\"],[0.4,\"#fde0ef\"],[0.5,\"#f7f7f7\"],[0.6,\"#e6f5d0\"],[0.7,\"#b8e186\"],[0.8,\"#7fbc41\"],[0.9,\"#4d9221\"],[1,\"#276419\"]],\"sequential\":[[0.0,\"#0d0887\"],[0.1111111111111111,\"#46039f\"],[0.2222222222222222,\"#7201a8\"],[0.3333333333333333,\"#9c179e\"],[0.4444444444444444,\"#bd3786\"],[0.5555555555555556,\"#d8576b\"],[0.6666666666666666,\"#ed7953\"],[0.7777777777777778,\"#fb9f3a\"],[0.8888888888888888,\"#fdca26\"],[1.0,\"#f0f921\"]],\"sequentialminus\":[[0.0,\"#0d0887\"],[0.1111111111111111,\"#46039f\"],[0.2222222222222222,\"#7201a8\"],[0.3333333333333333,\"#9c179e\"],[0.4444444444444444,\"#bd3786\"],[0.5555555555555556,\"#d8576b\"],[0.6666666666666666,\"#ed7953\"],[0.7777777777777778,\"#fb9f3a\"],[0.8888888888888888,\"#fdca26\"],[1.0,\"#f0f921\"]]},\"colorway\":[\"#636efa\",\"#EF553B\",\"#00cc96\",\"#ab63fa\",\"#FFA15A\",\"#19d3f3\",\"#FF6692\",\"#B6E880\",\"#FF97FF\",\"#FECB52\"],\"font\":{\"color\":\"#2a3f5f\"},\"geo\":{\"bgcolor\":\"white\",\"lakecolor\":\"white\",\"landcolor\":\"#E5ECF6\",\"showlakes\":true,\"showland\":true,\"subunitcolor\":\"white\"},\"hoverlabel\":{\"align\":\"left\"},\"hovermode\":\"closest\",\"mapbox\":{\"style\":\"light\"},\"paper_bgcolor\":\"white\",\"plot_bgcolor\":\"#E5ECF6\",\"polar\":{\"angularaxis\":{\"gridcolor\":\"white\",\"linecolor\":\"white\",\"ticks\":\"\"},\"bgcolor\":\"#E5ECF6\",\"radialaxis\":{\"gridcolor\":\"white\",\"linecolor\":\"white\",\"ticks\":\"\"}},\"scene\":{\"xaxis\":{\"backgroundcolor\":\"#E5ECF6\",\"gridcolor\":\"white\",\"gridwidth\":2,\"linecolor\":\"white\",\"showbackground\":true,\"ticks\":\"\",\"zerolinecolor\":\"white\"},\"yaxis\":{\"backgroundcolor\":\"#E5ECF6\",\"gridcolor\":\"white\",\"gridwidth\":2,\"linecolor\":\"white\",\"showbackground\":true,\"ticks\":\"\",\"zerolinecolor\":\"white\"},\"zaxis\":{\"backgroundcolor\":\"#E5ECF6\",\"gridcolor\":\"white\",\"gridwidth\":2,\"linecolor\":\"white\",\"showbackground\":true,\"ticks\":\"\",\"zerolinecolor\":\"white\"}},\"shapedefaults\":{\"line\":{\"color\":\"#2a3f5f\"}},\"ternary\":{\"aaxis\":{\"gridcolor\":\"white\",\"linecolor\":\"white\",\"ticks\":\"\"},\"baxis\":{\"gridcolor\":\"white\",\"linecolor\":\"white\",\"ticks\":\"\"},\"bgcolor\":\"#E5ECF6\",\"caxis\":{\"gridcolor\":\"white\",\"linecolor\":\"white\",\"ticks\":\"\"}},\"title\":{\"x\":0.05},\"xaxis\":{\"automargin\":true,\"gridcolor\":\"white\",\"linecolor\":\"white\",\"ticks\":\"\",\"title\":{\"standoff\":15},\"zerolinecolor\":\"white\",\"zerolinewidth\":2},\"yaxis\":{\"automargin\":true,\"gridcolor\":\"white\",\"linecolor\":\"white\",\"ticks\":\"\",\"title\":{\"standoff\":15},\"zerolinecolor\":\"white\",\"zerolinewidth\":2}}},\"margin\":{\"t\":10,\"l\":10,\"r\":10,\"b\":10},\"uniformtext\":{\"minsize\":10,\"mode\":\"hide\"},\"autosize\":false,\"width\":500,\"height\":500},                        {\"responsive\": true}                    ).then(function(){\n",
       "                            \n",
       "var gd = document.getElementById('3e09a8b1-528c-4f8e-84a3-39f6c606186e');\n",
       "var x = new MutationObserver(function (mutations, observer) {{\n",
       "        var display = window.getComputedStyle(gd).display;\n",
       "        if (!display || display === 'none') {{\n",
       "            console.log([gd, 'removed!']);\n",
       "            Plotly.purge(gd);\n",
       "            observer.disconnect();\n",
       "        }}\n",
       "}});\n",
       "\n",
       "// Listen for the removal of the full notebook cells\n",
       "var notebookContainer = gd.closest('#notebook-container');\n",
       "if (notebookContainer) {{\n",
       "    x.observe(notebookContainer, {childList: true});\n",
       "}}\n",
       "\n",
       "// Listen for the clearing of the current output cell\n",
       "var outputEl = gd.closest('.output');\n",
       "if (outputEl) {{\n",
       "    x.observe(outputEl, {childList: true});\n",
       "}}\n",
       "\n",
       "                        })                };                });            </script>        </div>"
      ]
     },
     "metadata": {},
     "output_type": "display_data"
    }
   ],
   "source": [
    "N = 51\n",
    "visualization_depth = 10\n",
    "\n",
    "temp = createSunburstVariables(okvqa['test'], N)\n",
    "plotSunburst(temp, N, visualization_depth, use_dash=False)"
   ]
  },
  {
   "cell_type": "code",
   "execution_count": 647,
   "id": "b54294a8",
   "metadata": {},
   "outputs": [
    {
     "data": {
      "application/vnd.jupyter.widget-view+json": {
       "model_id": "d186a335fc514cad9923b17ab5e2026a",
       "version_major": 2,
       "version_minor": 0
      },
      "text/plain": [
       "HBox(children=(FloatProgress(value=0.0, max=31.0), HTML(value='')))"
      ]
     },
     "metadata": {},
     "output_type": "display_data"
    },
    {
     "name": "stdout",
     "output_type": "stream",
     "text": [
      "\n"
     ]
    },
    {
     "data": {
      "application/vnd.plotly.v1+json": {
       "config": {
        "plotlyServerURL": "https://plot.ly"
       },
       "data": [
        {
         "branchvalues": "total",
         "domain": {
          "column": 1
         },
         "hovertemplate": "<b>%{label} </b> <br> Percentage: %{text:.2f}%",
         "ids": [
          "CLS",
          "CLS what",
          "CLS what brand",
          "CLS what brand is",
          "CLS what brand is the",
          "CLS what brand is the truck",
          "CLS what is",
          "CLS what is special",
          "CLS what is special about",
          "CLS what is special about the",
          "CLS what is special about the sports",
          "CLS what is special about the sports items",
          "CLS what is special about the sports items in",
          "CLS what is special about the sports items in the",
          "CLS what is special about the sports items in the case",
          "CLS what is this",
          "CLS what is this vehicle",
          "CLS what is this vehicle used",
          "CLS what is this vehicle used for",
          "CLS what is the",
          "CLS what is the clothing",
          "CLS what is the clothing called",
          "CLS what is the clothing called that",
          "CLS what is the clothing called that the",
          "CLS what is the clothing called that the surfer",
          "CLS what is the clothing called that the surfer is",
          "CLS what is the clothing called that the surfer is wearing",
          "CLS what kind",
          "CLS what kind of",
          "CLS what kind of bear",
          "CLS what kind of bear is",
          "CLS what kind of bear is shown",
          "CLS what kind of bear is shown in",
          "CLS what kind of bear is shown in the",
          "CLS what kind of bear is shown in the photo",
          "CLS what do",
          "CLS what do they",
          "CLS what do they call",
          "CLS what do they call this",
          "CLS what do they call this type",
          "CLS what do they call this type of",
          "CLS what do they call this type of pattern",
          "CLS what do they call this type of pattern on",
          "CLS what do they call this type of pattern on this",
          "CLS what do they call this type of pattern on this bedspread",
          "CLS a",
          "CLS a name",
          "CLS a name for",
          "CLS a name for a",
          "CLS a name for a room",
          "CLS a name for a room of",
          "CLS a name for a room of this",
          "CLS a name for a room of this kind",
          "CLS a name for a room of this kind found",
          "CLS a name for a room of this kind found on",
          "CLS a name for a room of this kind found on campus",
          "CLS what are",
          "CLS what are the",
          "CLS what are the burning",
          "CLS what are the burning sticks",
          "CLS what are the burning sticks in",
          "CLS what are the burning sticks in this",
          "CLS what are the burning sticks in this picture",
          "CLS what are the burning sticks in this picture called",
          "CLS what skyline",
          "CLS what skyline is",
          "CLS what skyline is this",
          "CLS what skyline is this city",
          "CLS what skyline is this city in",
          "CLS what pastry",
          "CLS what pastry is",
          "CLS what pastry is pictured",
          "CLS what is the airline",
          "CLS what is the airline company",
          "CLS what is the airline company that",
          "CLS what is the airline company that manages",
          "CLS what is the airline company that manages the",
          "CLS what is the airline company that manages the pictures",
          "CLS what is the airline company that manages the pictures flight",
          "CLS in",
          "CLS in which",
          "CLS in which stadium",
          "CLS in which stadium does",
          "CLS in which stadium does this",
          "CLS in which stadium does this scene",
          "CLS in which stadium does this scene take",
          "CLS in which stadium does this scene take place",
          "CLS what topping",
          "CLS what topping on",
          "CLS what topping on this",
          "CLS what topping on this dish",
          "CLS what topping on this dish is",
          "CLS what topping on this dish is not",
          "CLS what topping on this dish is not good",
          "CLS what topping on this dish is not good for",
          "CLS what topping on this dish is not good for pregnant",
          "CLS what topping on this dish is not good for pregnant women",
          "CLS what breed",
          "CLS what breed of",
          "CLS what breed of dog",
          "CLS what breed of dog is",
          "CLS what breed of dog is in",
          "CLS what breed of dog is in this",
          "CLS what breed of dog is in this photo",
          "CLS what vehicle",
          "CLS what vehicle is",
          "CLS what vehicle is the",
          "CLS what vehicle is the dog",
          "CLS what vehicle is the dog inside",
          "CLS what is on",
          "CLS what is on the",
          "CLS what is on the persons",
          "CLS what is on the persons head",
          "CLS how",
          "CLS how many",
          "CLS how many mpg",
          "CLS how many mpg does",
          "CLS how many mpg does the",
          "CLS how many mpg does the silver",
          "CLS how many mpg does the silver scooter",
          "CLS how many mpg does the silver scooter get",
          "CLS is",
          "CLS is there",
          "CLS is there a",
          "CLS is there a grazing",
          "CLS is there a grazing animal",
          "CLS is there a grazing animal that",
          "CLS is there a grazing animal that has",
          "CLS is there a grazing animal that has a",
          "CLS is there a grazing animal that has a name",
          "CLS is there a grazing animal that has a name similar",
          "CLS is there a grazing animal that has a name similar to",
          "CLS is there a grazing animal that has a name similar to one",
          "CLS is there a grazing animal that has a name similar to one of",
          "CLS is there a grazing animal that has a name similar to one of these",
          "CLS is there a grazing animal that has a name similar to one of these pets",
          "CLS what company",
          "CLS what company manufactures",
          "CLS what company manufactures this",
          "CLS what company manufactures this brand",
          "CLS what company manufactures this brand of",
          "CLS what company manufactures this brand of pens",
          "CLS am",
          "CLS am i",
          "CLS am i a",
          "CLS am i a real",
          "CLS am i a real bear",
          "CLS am i a real bear or",
          "CLS am i a real bear or a",
          "CLS am i a real bear or a fake",
          "CLS am i a real bear or a fake one",
          "CLS what are those",
          "CLS what are those stairs",
          "CLS what are those stairs outside",
          "CLS what are those stairs outside the",
          "CLS what are those stairs outside the window",
          "CLS what part",
          "CLS what part of",
          "CLS what part of the",
          "CLS what part of the city",
          "CLS what part of the city would",
          "CLS what part of the city would this",
          "CLS what part of the city would this be",
          "CLS what part of the city would this be located",
          "CLS what part of the city would this be located in",
          "CLS what does",
          "CLS what does the",
          "CLS what does the yellow",
          "CLS what does the yellow color",
          "CLS what does the yellow color of",
          "CLS what does the yellow color of these",
          "CLS what does the yellow color of these fruit",
          "CLS what does the yellow color of these fruit mean",
          "CLS how much",
          "CLS how much sleep",
          "CLS how much sleep does",
          "CLS how much sleep does this",
          "CLS how much sleep does this aged",
          "CLS how much sleep does this aged person",
          "CLS how much sleep does this aged person need",
          "CLS what musical",
          "CLS what musical instrument",
          "CLS what musical instrument used",
          "CLS what musical instrument used to",
          "CLS what musical instrument used to be",
          "CLS what musical instrument used to be made",
          "CLS what musical instrument used to be made with",
          "CLS what musical instrument used to be made with parts",
          "CLS what musical instrument used to be made with parts from",
          "CLS what musical instrument used to be made with parts from these",
          "CLS what musical instrument used to be made with parts from these animals",
          "CLS what is this device",
          "CLS what is this device used",
          "CLS what is this device used for",
          "CLS the",
          "CLS the lack",
          "CLS the lack of",
          "CLS the lack of follicles",
          "CLS the lack of follicles on",
          "CLS the lack of follicles on this",
          "CLS the lack of follicles on this man",
          "CLS the lack of follicles on this man '",
          "CLS the lack of follicles on this man ' s",
          "CLS the lack of follicles on this man ' s head",
          "CLS the lack of follicles on this man ' s head is",
          "CLS the lack of follicles on this man ' s head is called",
          "CLS the lack of follicles on this man ' s head is called being",
          "CLS the lack of follicles on this man ' s head is called being what",
          "CLS what year",
          "CLS what year was",
          "CLS what year was the",
          "CLS what year was the first",
          "CLS what year was the first game",
          "CLS what year was the first game of",
          "CLS what year was the first game of this",
          "CLS what year was the first game of this sport",
          "CLS what year was the first game of this sport played",
          "CLS what rank",
          "CLS what rank do",
          "CLS what rank do each",
          "CLS what rank do each of",
          "CLS what rank do each of these",
          "CLS what rank do each of these men",
          "CLS what rank do each of these men hold",
          "CLS what type",
          "CLS what type of",
          "CLS what type of animal",
          "CLS what type of animal do",
          "CLS what type of animal do the",
          "CLS what type of animal do the two",
          "CLS what type of animal do the two large",
          "CLS what type of animal do the two large kites",
          "CLS what type of animal do the two large kites look",
          "CLS what type of animal do the two large kites look like",
          "CLS which",
          "CLS which model",
          "CLS which model of",
          "CLS which model of bike",
          "CLS which model of bike is",
          "CLS which model of bike is shown",
          "CLS which model of bike is shown in",
          "CLS which model of bike is shown in this",
          "CLS which model of bike is shown in this picture"
         ],
         "insidetextorientation": "radial",
         "labels": [
          "",
          "what",
          "brand",
          "is",
          "the",
          "truck",
          "is",
          "special",
          "about",
          "the",
          "sports",
          "items",
          "in",
          "the",
          "case",
          "this",
          "vehicle",
          "used",
          "for",
          "the",
          "clothing",
          "called",
          "that",
          "the",
          "surfer",
          "is",
          "wearing",
          "kind",
          "of",
          "bear",
          "is",
          "shown",
          "in",
          "the",
          "photo",
          "do",
          "they",
          "call",
          "this",
          "type",
          "of",
          "pattern",
          "on",
          "this",
          "bedspread",
          "a",
          "name",
          "for",
          "a",
          "room",
          "of",
          "this",
          "kind",
          "found",
          "on",
          "campus",
          "are",
          "the",
          "burning",
          "sticks",
          "in",
          "this",
          "picture",
          "called",
          "skyline",
          "is",
          "this",
          "city",
          "in",
          "pastry",
          "is",
          "pictured",
          "airline",
          "company",
          "that",
          "manages",
          "the",
          "pictures",
          "flight",
          "in",
          "which",
          "stadium",
          "does",
          "this",
          "scene",
          "take",
          "place",
          "topping",
          "on",
          "this",
          "dish",
          "is",
          "not",
          "good",
          "for",
          "pregnant",
          "women",
          "breed",
          "of",
          "dog",
          "is",
          "in",
          "this",
          "photo",
          "vehicle",
          "is",
          "the",
          "dog",
          "inside",
          "on",
          "the",
          "persons",
          "head",
          "how",
          "many",
          "mpg",
          "does",
          "the",
          "silver",
          "scooter",
          "get",
          "is",
          "there",
          "a",
          "grazing",
          "animal",
          "that",
          "has",
          "a",
          "name",
          "similar",
          "to",
          "one",
          "of",
          "these",
          "pets",
          "company",
          "manufactures",
          "this",
          "brand",
          "of",
          "pens",
          "am",
          "i",
          "a",
          "real",
          "bear",
          "or",
          "a",
          "fake",
          "one",
          "those",
          "stairs",
          "outside",
          "the",
          "window",
          "part",
          "of",
          "the",
          "city",
          "would",
          "this",
          "be",
          "located",
          "in",
          "does",
          "the",
          "yellow",
          "color",
          "of",
          "these",
          "fruit",
          "mean",
          "much",
          "sleep",
          "does",
          "this",
          "aged",
          "person",
          "need",
          "musical",
          "instrument",
          "used",
          "to",
          "be",
          "made",
          "with",
          "parts",
          "from",
          "these",
          "animals",
          "device",
          "used",
          "for",
          "the",
          "lack",
          "of",
          "follicles",
          "on",
          "this",
          "man",
          "'",
          "s",
          "head",
          "is",
          "called",
          "being",
          "what",
          "year",
          "was",
          "the",
          "first",
          "game",
          "of",
          "this",
          "sport",
          "played",
          "rank",
          "do",
          "each",
          "of",
          "these",
          "men",
          "hold",
          "type",
          "of",
          "animal",
          "do",
          "the",
          "two",
          "large",
          "kites",
          "look",
          "like",
          "which",
          "model",
          "of",
          "bike",
          "is",
          "shown",
          "in",
          "this",
          "picture"
         ],
         "parents": [
          "",
          "CLS",
          "CLS what",
          "CLS what brand",
          "CLS what brand is",
          "CLS what brand is the",
          "CLS what",
          "CLS what is",
          "CLS what is special",
          "CLS what is special about",
          "CLS what is special about the",
          "CLS what is special about the sports",
          "CLS what is special about the sports items",
          "CLS what is special about the sports items in",
          "CLS what is special about the sports items in the",
          "CLS what is",
          "CLS what is this",
          "CLS what is this vehicle",
          "CLS what is this vehicle used",
          "CLS what is",
          "CLS what is the",
          "CLS what is the clothing",
          "CLS what is the clothing called",
          "CLS what is the clothing called that",
          "CLS what is the clothing called that the",
          "CLS what is the clothing called that the surfer",
          "CLS what is the clothing called that the surfer is",
          "CLS what",
          "CLS what kind",
          "CLS what kind of",
          "CLS what kind of bear",
          "CLS what kind of bear is",
          "CLS what kind of bear is shown",
          "CLS what kind of bear is shown in",
          "CLS what kind of bear is shown in the",
          "CLS what",
          "CLS what do",
          "CLS what do they",
          "CLS what do they call",
          "CLS what do they call this",
          "CLS what do they call this type",
          "CLS what do they call this type of",
          "CLS what do they call this type of pattern",
          "CLS what do they call this type of pattern on",
          "CLS what do they call this type of pattern on this",
          "CLS",
          "CLS a",
          "CLS a name",
          "CLS a name for",
          "CLS a name for a",
          "CLS a name for a room",
          "CLS a name for a room of",
          "CLS a name for a room of this",
          "CLS a name for a room of this kind",
          "CLS a name for a room of this kind found",
          "CLS a name for a room of this kind found on",
          "CLS what",
          "CLS what are",
          "CLS what are the",
          "CLS what are the burning",
          "CLS what are the burning sticks",
          "CLS what are the burning sticks in",
          "CLS what are the burning sticks in this",
          "CLS what are the burning sticks in this picture",
          "CLS what",
          "CLS what skyline",
          "CLS what skyline is",
          "CLS what skyline is this",
          "CLS what skyline is this city",
          "CLS what",
          "CLS what pastry",
          "CLS what pastry is",
          "CLS what is the",
          "CLS what is the airline",
          "CLS what is the airline company",
          "CLS what is the airline company that",
          "CLS what is the airline company that manages",
          "CLS what is the airline company that manages the",
          "CLS what is the airline company that manages the pictures",
          "CLS",
          "CLS in",
          "CLS in which",
          "CLS in which stadium",
          "CLS in which stadium does",
          "CLS in which stadium does this",
          "CLS in which stadium does this scene",
          "CLS in which stadium does this scene take",
          "CLS what",
          "CLS what topping",
          "CLS what topping on",
          "CLS what topping on this",
          "CLS what topping on this dish",
          "CLS what topping on this dish is",
          "CLS what topping on this dish is not",
          "CLS what topping on this dish is not good",
          "CLS what topping on this dish is not good for",
          "CLS what topping on this dish is not good for pregnant",
          "CLS what",
          "CLS what breed",
          "CLS what breed of",
          "CLS what breed of dog",
          "CLS what breed of dog is",
          "CLS what breed of dog is in",
          "CLS what breed of dog is in this",
          "CLS what",
          "CLS what vehicle",
          "CLS what vehicle is",
          "CLS what vehicle is the",
          "CLS what vehicle is the dog",
          "CLS what is",
          "CLS what is on",
          "CLS what is on the",
          "CLS what is on the persons",
          "CLS",
          "CLS how",
          "CLS how many",
          "CLS how many mpg",
          "CLS how many mpg does",
          "CLS how many mpg does the",
          "CLS how many mpg does the silver",
          "CLS how many mpg does the silver scooter",
          "CLS",
          "CLS is",
          "CLS is there",
          "CLS is there a",
          "CLS is there a grazing",
          "CLS is there a grazing animal",
          "CLS is there a grazing animal that",
          "CLS is there a grazing animal that has",
          "CLS is there a grazing animal that has a",
          "CLS is there a grazing animal that has a name",
          "CLS is there a grazing animal that has a name similar",
          "CLS is there a grazing animal that has a name similar to",
          "CLS is there a grazing animal that has a name similar to one",
          "CLS is there a grazing animal that has a name similar to one of",
          "CLS is there a grazing animal that has a name similar to one of these",
          "CLS what",
          "CLS what company",
          "CLS what company manufactures",
          "CLS what company manufactures this",
          "CLS what company manufactures this brand",
          "CLS what company manufactures this brand of",
          "CLS",
          "CLS am",
          "CLS am i",
          "CLS am i a",
          "CLS am i a real",
          "CLS am i a real bear",
          "CLS am i a real bear or",
          "CLS am i a real bear or a",
          "CLS am i a real bear or a fake",
          "CLS what are",
          "CLS what are those",
          "CLS what are those stairs",
          "CLS what are those stairs outside",
          "CLS what are those stairs outside the",
          "CLS what",
          "CLS what part",
          "CLS what part of",
          "CLS what part of the",
          "CLS what part of the city",
          "CLS what part of the city would",
          "CLS what part of the city would this",
          "CLS what part of the city would this be",
          "CLS what part of the city would this be located",
          "CLS what",
          "CLS what does",
          "CLS what does the",
          "CLS what does the yellow",
          "CLS what does the yellow color",
          "CLS what does the yellow color of",
          "CLS what does the yellow color of these",
          "CLS what does the yellow color of these fruit",
          "CLS how",
          "CLS how much",
          "CLS how much sleep",
          "CLS how much sleep does",
          "CLS how much sleep does this",
          "CLS how much sleep does this aged",
          "CLS how much sleep does this aged person",
          "CLS what",
          "CLS what musical",
          "CLS what musical instrument",
          "CLS what musical instrument used",
          "CLS what musical instrument used to",
          "CLS what musical instrument used to be",
          "CLS what musical instrument used to be made",
          "CLS what musical instrument used to be made with",
          "CLS what musical instrument used to be made with parts",
          "CLS what musical instrument used to be made with parts from",
          "CLS what musical instrument used to be made with parts from these",
          "CLS what is this",
          "CLS what is this device",
          "CLS what is this device used",
          "CLS",
          "CLS the",
          "CLS the lack",
          "CLS the lack of",
          "CLS the lack of follicles",
          "CLS the lack of follicles on",
          "CLS the lack of follicles on this",
          "CLS the lack of follicles on this man",
          "CLS the lack of follicles on this man '",
          "CLS the lack of follicles on this man ' s",
          "CLS the lack of follicles on this man ' s head",
          "CLS the lack of follicles on this man ' s head is",
          "CLS the lack of follicles on this man ' s head is called",
          "CLS the lack of follicles on this man ' s head is called being",
          "CLS what",
          "CLS what year",
          "CLS what year was",
          "CLS what year was the",
          "CLS what year was the first",
          "CLS what year was the first game",
          "CLS what year was the first game of",
          "CLS what year was the first game of this",
          "CLS what year was the first game of this sport",
          "CLS what",
          "CLS what rank",
          "CLS what rank do",
          "CLS what rank do each",
          "CLS what rank do each of",
          "CLS what rank do each of these",
          "CLS what rank do each of these men",
          "CLS what",
          "CLS what type",
          "CLS what type of",
          "CLS what type of animal",
          "CLS what type of animal do",
          "CLS what type of animal do the",
          "CLS what type of animal do the two",
          "CLS what type of animal do the two large",
          "CLS what type of animal do the two large kites",
          "CLS what type of animal do the two large kites look",
          "CLS",
          "CLS which",
          "CLS which model",
          "CLS which model of",
          "CLS which model of bike",
          "CLS which model of bike is",
          "CLS which model of bike is shown",
          "CLS which model of bike is shown in",
          "CLS which model of bike is shown in this"
         ],
         "text": [
          100,
          74.19354838709677,
          3.225806451612903,
          3.225806451612903,
          3.225806451612903,
          3.225806451612903,
          19.35483870967742,
          3.225806451612903,
          3.225806451612903,
          3.225806451612903,
          3.225806451612903,
          3.225806451612903,
          3.225806451612903,
          3.225806451612903,
          3.225806451612903,
          6.451612903225806,
          3.225806451612903,
          3.225806451612903,
          3.225806451612903,
          6.451612903225806,
          3.225806451612903,
          3.225806451612903,
          3.225806451612903,
          3.225806451612903,
          3.225806451612903,
          3.225806451612903,
          3.225806451612903,
          3.225806451612903,
          3.225806451612903,
          3.225806451612903,
          3.225806451612903,
          3.225806451612903,
          3.225806451612903,
          3.225806451612903,
          3.225806451612903,
          3.225806451612903,
          3.225806451612903,
          3.225806451612903,
          3.225806451612903,
          3.225806451612903,
          3.225806451612903,
          3.225806451612903,
          3.225806451612903,
          3.225806451612903,
          3.225806451612903,
          3.225806451612903,
          3.225806451612903,
          3.225806451612903,
          3.225806451612903,
          3.225806451612903,
          3.225806451612903,
          3.225806451612903,
          3.225806451612903,
          3.225806451612903,
          3.225806451612903,
          3.225806451612903,
          6.451612903225806,
          3.225806451612903,
          3.225806451612903,
          3.225806451612903,
          3.225806451612903,
          3.225806451612903,
          3.225806451612903,
          3.225806451612903,
          3.225806451612903,
          3.225806451612903,
          3.225806451612903,
          3.225806451612903,
          3.225806451612903,
          3.225806451612903,
          3.225806451612903,
          3.225806451612903,
          3.225806451612903,
          3.225806451612903,
          3.225806451612903,
          3.225806451612903,
          3.225806451612903,
          3.225806451612903,
          3.225806451612903,
          3.225806451612903,
          3.225806451612903,
          3.225806451612903,
          3.225806451612903,
          3.225806451612903,
          3.225806451612903,
          3.225806451612903,
          3.225806451612903,
          3.225806451612903,
          3.225806451612903,
          3.225806451612903,
          3.225806451612903,
          3.225806451612903,
          3.225806451612903,
          3.225806451612903,
          3.225806451612903,
          3.225806451612903,
          3.225806451612903,
          3.225806451612903,
          3.225806451612903,
          3.225806451612903,
          3.225806451612903,
          3.225806451612903,
          3.225806451612903,
          3.225806451612903,
          3.225806451612903,
          3.225806451612903,
          3.225806451612903,
          3.225806451612903,
          3.225806451612903,
          3.225806451612903,
          3.225806451612903,
          3.225806451612903,
          3.225806451612903,
          6.451612903225806,
          3.225806451612903,
          3.225806451612903,
          3.225806451612903,
          3.225806451612903,
          3.225806451612903,
          3.225806451612903,
          3.225806451612903,
          3.225806451612903,
          3.225806451612903,
          3.225806451612903,
          3.225806451612903,
          3.225806451612903,
          3.225806451612903,
          3.225806451612903,
          3.225806451612903,
          3.225806451612903,
          3.225806451612903,
          3.225806451612903,
          3.225806451612903,
          3.225806451612903,
          3.225806451612903,
          3.225806451612903,
          3.225806451612903,
          3.225806451612903,
          3.225806451612903,
          3.225806451612903,
          3.225806451612903,
          3.225806451612903,
          3.225806451612903,
          3.225806451612903,
          3.225806451612903,
          3.225806451612903,
          3.225806451612903,
          3.225806451612903,
          3.225806451612903,
          3.225806451612903,
          3.225806451612903,
          3.225806451612903,
          3.225806451612903,
          3.225806451612903,
          3.225806451612903,
          3.225806451612903,
          3.225806451612903,
          3.225806451612903,
          3.225806451612903,
          3.225806451612903,
          3.225806451612903,
          3.225806451612903,
          3.225806451612903,
          3.225806451612903,
          3.225806451612903,
          3.225806451612903,
          3.225806451612903,
          3.225806451612903,
          3.225806451612903,
          3.225806451612903,
          3.225806451612903,
          3.225806451612903,
          3.225806451612903,
          3.225806451612903,
          3.225806451612903,
          3.225806451612903,
          3.225806451612903,
          3.225806451612903,
          3.225806451612903,
          3.225806451612903,
          3.225806451612903,
          3.225806451612903,
          3.225806451612903,
          3.225806451612903,
          3.225806451612903,
          3.225806451612903,
          3.225806451612903,
          3.225806451612903,
          3.225806451612903,
          3.225806451612903,
          3.225806451612903,
          3.225806451612903,
          3.225806451612903,
          3.225806451612903,
          3.225806451612903,
          3.225806451612903,
          3.225806451612903,
          3.225806451612903,
          3.225806451612903,
          3.225806451612903,
          3.225806451612903,
          3.225806451612903,
          3.225806451612903,
          3.225806451612903,
          3.225806451612903,
          3.225806451612903,
          3.225806451612903,
          3.225806451612903,
          3.225806451612903,
          3.225806451612903,
          3.225806451612903,
          3.225806451612903,
          3.225806451612903,
          3.225806451612903,
          3.225806451612903,
          3.225806451612903,
          3.225806451612903,
          3.225806451612903,
          3.225806451612903,
          3.225806451612903,
          3.225806451612903,
          3.225806451612903,
          3.225806451612903,
          3.225806451612903,
          3.225806451612903,
          3.225806451612903,
          3.225806451612903,
          3.225806451612903,
          3.225806451612903,
          3.225806451612903,
          3.225806451612903,
          3.225806451612903,
          3.225806451612903,
          3.225806451612903,
          3.225806451612903,
          3.225806451612903,
          3.225806451612903,
          3.225806451612903,
          3.225806451612903,
          3.225806451612903,
          3.225806451612903,
          3.225806451612903,
          3.225806451612903
         ],
         "type": "sunburst",
         "values": [
          31,
          23,
          1,
          1,
          1,
          1,
          6,
          1,
          1,
          1,
          1,
          1,
          1,
          1,
          1,
          2,
          1,
          1,
          1,
          2,
          1,
          1,
          1,
          1,
          1,
          1,
          1,
          1,
          1,
          1,
          1,
          1,
          1,
          1,
          1,
          1,
          1,
          1,
          1,
          1,
          1,
          1,
          1,
          1,
          1,
          1,
          1,
          1,
          1,
          1,
          1,
          1,
          1,
          1,
          1,
          1,
          2,
          1,
          1,
          1,
          1,
          1,
          1,
          1,
          1,
          1,
          1,
          1,
          1,
          1,
          1,
          1,
          1,
          1,
          1,
          1,
          1,
          1,
          1,
          1,
          1,
          1,
          1,
          1,
          1,
          1,
          1,
          1,
          1,
          1,
          1,
          1,
          1,
          1,
          1,
          1,
          1,
          1,
          1,
          1,
          1,
          1,
          1,
          1,
          1,
          1,
          1,
          1,
          1,
          1,
          1,
          1,
          1,
          2,
          1,
          1,
          1,
          1,
          1,
          1,
          1,
          1,
          1,
          1,
          1,
          1,
          1,
          1,
          1,
          1,
          1,
          1,
          1,
          1,
          1,
          1,
          1,
          1,
          1,
          1,
          1,
          1,
          1,
          1,
          1,
          1,
          1,
          1,
          1,
          1,
          1,
          1,
          1,
          1,
          1,
          1,
          1,
          1,
          1,
          1,
          1,
          1,
          1,
          1,
          1,
          1,
          1,
          1,
          1,
          1,
          1,
          1,
          1,
          1,
          1,
          1,
          1,
          1,
          1,
          1,
          1,
          1,
          1,
          1,
          1,
          1,
          1,
          1,
          1,
          1,
          1,
          1,
          1,
          1,
          1,
          1,
          1,
          1,
          1,
          1,
          1,
          1,
          1,
          1,
          1,
          1,
          1,
          1,
          1,
          1,
          1,
          1,
          1,
          1,
          1,
          1,
          1,
          1,
          1,
          1,
          1,
          1,
          1,
          1,
          1,
          1,
          1,
          1,
          1,
          1,
          1,
          1,
          1,
          1,
          1,
          1,
          1,
          1,
          1,
          1,
          1,
          1,
          1
         ]
        }
       ],
       "layout": {
        "autosize": false,
        "height": 500,
        "margin": {
         "b": 10,
         "l": 10,
         "r": 10,
         "t": 10
        },
        "template": {
         "data": {
          "bar": [
           {
            "error_x": {
             "color": "#2a3f5f"
            },
            "error_y": {
             "color": "#2a3f5f"
            },
            "marker": {
             "line": {
              "color": "#E5ECF6",
              "width": 0.5
             },
             "pattern": {
              "fillmode": "overlay",
              "size": 10,
              "solidity": 0.2
             }
            },
            "type": "bar"
           }
          ],
          "barpolar": [
           {
            "marker": {
             "line": {
              "color": "#E5ECF6",
              "width": 0.5
             },
             "pattern": {
              "fillmode": "overlay",
              "size": 10,
              "solidity": 0.2
             }
            },
            "type": "barpolar"
           }
          ],
          "carpet": [
           {
            "aaxis": {
             "endlinecolor": "#2a3f5f",
             "gridcolor": "white",
             "linecolor": "white",
             "minorgridcolor": "white",
             "startlinecolor": "#2a3f5f"
            },
            "baxis": {
             "endlinecolor": "#2a3f5f",
             "gridcolor": "white",
             "linecolor": "white",
             "minorgridcolor": "white",
             "startlinecolor": "#2a3f5f"
            },
            "type": "carpet"
           }
          ],
          "choropleth": [
           {
            "colorbar": {
             "outlinewidth": 0,
             "ticks": ""
            },
            "type": "choropleth"
           }
          ],
          "contour": [
           {
            "colorbar": {
             "outlinewidth": 0,
             "ticks": ""
            },
            "colorscale": [
             [
              0,
              "#0d0887"
             ],
             [
              0.1111111111111111,
              "#46039f"
             ],
             [
              0.2222222222222222,
              "#7201a8"
             ],
             [
              0.3333333333333333,
              "#9c179e"
             ],
             [
              0.4444444444444444,
              "#bd3786"
             ],
             [
              0.5555555555555556,
              "#d8576b"
             ],
             [
              0.6666666666666666,
              "#ed7953"
             ],
             [
              0.7777777777777778,
              "#fb9f3a"
             ],
             [
              0.8888888888888888,
              "#fdca26"
             ],
             [
              1,
              "#f0f921"
             ]
            ],
            "type": "contour"
           }
          ],
          "contourcarpet": [
           {
            "colorbar": {
             "outlinewidth": 0,
             "ticks": ""
            },
            "type": "contourcarpet"
           }
          ],
          "heatmap": [
           {
            "colorbar": {
             "outlinewidth": 0,
             "ticks": ""
            },
            "colorscale": [
             [
              0,
              "#0d0887"
             ],
             [
              0.1111111111111111,
              "#46039f"
             ],
             [
              0.2222222222222222,
              "#7201a8"
             ],
             [
              0.3333333333333333,
              "#9c179e"
             ],
             [
              0.4444444444444444,
              "#bd3786"
             ],
             [
              0.5555555555555556,
              "#d8576b"
             ],
             [
              0.6666666666666666,
              "#ed7953"
             ],
             [
              0.7777777777777778,
              "#fb9f3a"
             ],
             [
              0.8888888888888888,
              "#fdca26"
             ],
             [
              1,
              "#f0f921"
             ]
            ],
            "type": "heatmap"
           }
          ],
          "heatmapgl": [
           {
            "colorbar": {
             "outlinewidth": 0,
             "ticks": ""
            },
            "colorscale": [
             [
              0,
              "#0d0887"
             ],
             [
              0.1111111111111111,
              "#46039f"
             ],
             [
              0.2222222222222222,
              "#7201a8"
             ],
             [
              0.3333333333333333,
              "#9c179e"
             ],
             [
              0.4444444444444444,
              "#bd3786"
             ],
             [
              0.5555555555555556,
              "#d8576b"
             ],
             [
              0.6666666666666666,
              "#ed7953"
             ],
             [
              0.7777777777777778,
              "#fb9f3a"
             ],
             [
              0.8888888888888888,
              "#fdca26"
             ],
             [
              1,
              "#f0f921"
             ]
            ],
            "type": "heatmapgl"
           }
          ],
          "histogram": [
           {
            "marker": {
             "pattern": {
              "fillmode": "overlay",
              "size": 10,
              "solidity": 0.2
             }
            },
            "type": "histogram"
           }
          ],
          "histogram2d": [
           {
            "colorbar": {
             "outlinewidth": 0,
             "ticks": ""
            },
            "colorscale": [
             [
              0,
              "#0d0887"
             ],
             [
              0.1111111111111111,
              "#46039f"
             ],
             [
              0.2222222222222222,
              "#7201a8"
             ],
             [
              0.3333333333333333,
              "#9c179e"
             ],
             [
              0.4444444444444444,
              "#bd3786"
             ],
             [
              0.5555555555555556,
              "#d8576b"
             ],
             [
              0.6666666666666666,
              "#ed7953"
             ],
             [
              0.7777777777777778,
              "#fb9f3a"
             ],
             [
              0.8888888888888888,
              "#fdca26"
             ],
             [
              1,
              "#f0f921"
             ]
            ],
            "type": "histogram2d"
           }
          ],
          "histogram2dcontour": [
           {
            "colorbar": {
             "outlinewidth": 0,
             "ticks": ""
            },
            "colorscale": [
             [
              0,
              "#0d0887"
             ],
             [
              0.1111111111111111,
              "#46039f"
             ],
             [
              0.2222222222222222,
              "#7201a8"
             ],
             [
              0.3333333333333333,
              "#9c179e"
             ],
             [
              0.4444444444444444,
              "#bd3786"
             ],
             [
              0.5555555555555556,
              "#d8576b"
             ],
             [
              0.6666666666666666,
              "#ed7953"
             ],
             [
              0.7777777777777778,
              "#fb9f3a"
             ],
             [
              0.8888888888888888,
              "#fdca26"
             ],
             [
              1,
              "#f0f921"
             ]
            ],
            "type": "histogram2dcontour"
           }
          ],
          "mesh3d": [
           {
            "colorbar": {
             "outlinewidth": 0,
             "ticks": ""
            },
            "type": "mesh3d"
           }
          ],
          "parcoords": [
           {
            "line": {
             "colorbar": {
              "outlinewidth": 0,
              "ticks": ""
             }
            },
            "type": "parcoords"
           }
          ],
          "pie": [
           {
            "automargin": true,
            "type": "pie"
           }
          ],
          "scatter": [
           {
            "marker": {
             "colorbar": {
              "outlinewidth": 0,
              "ticks": ""
             }
            },
            "type": "scatter"
           }
          ],
          "scatter3d": [
           {
            "line": {
             "colorbar": {
              "outlinewidth": 0,
              "ticks": ""
             }
            },
            "marker": {
             "colorbar": {
              "outlinewidth": 0,
              "ticks": ""
             }
            },
            "type": "scatter3d"
           }
          ],
          "scattercarpet": [
           {
            "marker": {
             "colorbar": {
              "outlinewidth": 0,
              "ticks": ""
             }
            },
            "type": "scattercarpet"
           }
          ],
          "scattergeo": [
           {
            "marker": {
             "colorbar": {
              "outlinewidth": 0,
              "ticks": ""
             }
            },
            "type": "scattergeo"
           }
          ],
          "scattergl": [
           {
            "marker": {
             "colorbar": {
              "outlinewidth": 0,
              "ticks": ""
             }
            },
            "type": "scattergl"
           }
          ],
          "scattermapbox": [
           {
            "marker": {
             "colorbar": {
              "outlinewidth": 0,
              "ticks": ""
             }
            },
            "type": "scattermapbox"
           }
          ],
          "scatterpolar": [
           {
            "marker": {
             "colorbar": {
              "outlinewidth": 0,
              "ticks": ""
             }
            },
            "type": "scatterpolar"
           }
          ],
          "scatterpolargl": [
           {
            "marker": {
             "colorbar": {
              "outlinewidth": 0,
              "ticks": ""
             }
            },
            "type": "scatterpolargl"
           }
          ],
          "scatterternary": [
           {
            "marker": {
             "colorbar": {
              "outlinewidth": 0,
              "ticks": ""
             }
            },
            "type": "scatterternary"
           }
          ],
          "surface": [
           {
            "colorbar": {
             "outlinewidth": 0,
             "ticks": ""
            },
            "colorscale": [
             [
              0,
              "#0d0887"
             ],
             [
              0.1111111111111111,
              "#46039f"
             ],
             [
              0.2222222222222222,
              "#7201a8"
             ],
             [
              0.3333333333333333,
              "#9c179e"
             ],
             [
              0.4444444444444444,
              "#bd3786"
             ],
             [
              0.5555555555555556,
              "#d8576b"
             ],
             [
              0.6666666666666666,
              "#ed7953"
             ],
             [
              0.7777777777777778,
              "#fb9f3a"
             ],
             [
              0.8888888888888888,
              "#fdca26"
             ],
             [
              1,
              "#f0f921"
             ]
            ],
            "type": "surface"
           }
          ],
          "table": [
           {
            "cells": {
             "fill": {
              "color": "#EBF0F8"
             },
             "line": {
              "color": "white"
             }
            },
            "header": {
             "fill": {
              "color": "#C8D4E3"
             },
             "line": {
              "color": "white"
             }
            },
            "type": "table"
           }
          ]
         },
         "layout": {
          "annotationdefaults": {
           "arrowcolor": "#2a3f5f",
           "arrowhead": 0,
           "arrowwidth": 1
          },
          "autotypenumbers": "strict",
          "coloraxis": {
           "colorbar": {
            "outlinewidth": 0,
            "ticks": ""
           }
          },
          "colorscale": {
           "diverging": [
            [
             0,
             "#8e0152"
            ],
            [
             0.1,
             "#c51b7d"
            ],
            [
             0.2,
             "#de77ae"
            ],
            [
             0.3,
             "#f1b6da"
            ],
            [
             0.4,
             "#fde0ef"
            ],
            [
             0.5,
             "#f7f7f7"
            ],
            [
             0.6,
             "#e6f5d0"
            ],
            [
             0.7,
             "#b8e186"
            ],
            [
             0.8,
             "#7fbc41"
            ],
            [
             0.9,
             "#4d9221"
            ],
            [
             1,
             "#276419"
            ]
           ],
           "sequential": [
            [
             0,
             "#0d0887"
            ],
            [
             0.1111111111111111,
             "#46039f"
            ],
            [
             0.2222222222222222,
             "#7201a8"
            ],
            [
             0.3333333333333333,
             "#9c179e"
            ],
            [
             0.4444444444444444,
             "#bd3786"
            ],
            [
             0.5555555555555556,
             "#d8576b"
            ],
            [
             0.6666666666666666,
             "#ed7953"
            ],
            [
             0.7777777777777778,
             "#fb9f3a"
            ],
            [
             0.8888888888888888,
             "#fdca26"
            ],
            [
             1,
             "#f0f921"
            ]
           ],
           "sequentialminus": [
            [
             0,
             "#0d0887"
            ],
            [
             0.1111111111111111,
             "#46039f"
            ],
            [
             0.2222222222222222,
             "#7201a8"
            ],
            [
             0.3333333333333333,
             "#9c179e"
            ],
            [
             0.4444444444444444,
             "#bd3786"
            ],
            [
             0.5555555555555556,
             "#d8576b"
            ],
            [
             0.6666666666666666,
             "#ed7953"
            ],
            [
             0.7777777777777778,
             "#fb9f3a"
            ],
            [
             0.8888888888888888,
             "#fdca26"
            ],
            [
             1,
             "#f0f921"
            ]
           ]
          },
          "colorway": [
           "#636efa",
           "#EF553B",
           "#00cc96",
           "#ab63fa",
           "#FFA15A",
           "#19d3f3",
           "#FF6692",
           "#B6E880",
           "#FF97FF",
           "#FECB52"
          ],
          "font": {
           "color": "#2a3f5f"
          },
          "geo": {
           "bgcolor": "white",
           "lakecolor": "white",
           "landcolor": "#E5ECF6",
           "showlakes": true,
           "showland": true,
           "subunitcolor": "white"
          },
          "hoverlabel": {
           "align": "left"
          },
          "hovermode": "closest",
          "mapbox": {
           "style": "light"
          },
          "paper_bgcolor": "white",
          "plot_bgcolor": "#E5ECF6",
          "polar": {
           "angularaxis": {
            "gridcolor": "white",
            "linecolor": "white",
            "ticks": ""
           },
           "bgcolor": "#E5ECF6",
           "radialaxis": {
            "gridcolor": "white",
            "linecolor": "white",
            "ticks": ""
           }
          },
          "scene": {
           "xaxis": {
            "backgroundcolor": "#E5ECF6",
            "gridcolor": "white",
            "gridwidth": 2,
            "linecolor": "white",
            "showbackground": true,
            "ticks": "",
            "zerolinecolor": "white"
           },
           "yaxis": {
            "backgroundcolor": "#E5ECF6",
            "gridcolor": "white",
            "gridwidth": 2,
            "linecolor": "white",
            "showbackground": true,
            "ticks": "",
            "zerolinecolor": "white"
           },
           "zaxis": {
            "backgroundcolor": "#E5ECF6",
            "gridcolor": "white",
            "gridwidth": 2,
            "linecolor": "white",
            "showbackground": true,
            "ticks": "",
            "zerolinecolor": "white"
           }
          },
          "shapedefaults": {
           "line": {
            "color": "#2a3f5f"
           }
          },
          "ternary": {
           "aaxis": {
            "gridcolor": "white",
            "linecolor": "white",
            "ticks": ""
           },
           "baxis": {
            "gridcolor": "white",
            "linecolor": "white",
            "ticks": ""
           },
           "bgcolor": "#E5ECF6",
           "caxis": {
            "gridcolor": "white",
            "linecolor": "white",
            "ticks": ""
           }
          },
          "title": {
           "x": 0.05
          },
          "xaxis": {
           "automargin": true,
           "gridcolor": "white",
           "linecolor": "white",
           "ticks": "",
           "title": {
            "standoff": 15
           },
           "zerolinecolor": "white",
           "zerolinewidth": 2
          },
          "yaxis": {
           "automargin": true,
           "gridcolor": "white",
           "linecolor": "white",
           "ticks": "",
           "title": {
            "standoff": 15
           },
           "zerolinecolor": "white",
           "zerolinewidth": 2
          }
         }
        },
        "uniformtext": {
         "minsize": 10,
         "mode": "hide"
        },
        "width": 500
       }
      },
      "text/html": [
       "<div>                            <div id=\"ffde24a2-600e-4981-9a01-2e9d327764f0\" class=\"plotly-graph-div\" style=\"height:500px; width:500px;\"></div>            <script type=\"text/javascript\">                require([\"plotly\"], function(Plotly) {                    window.PLOTLYENV=window.PLOTLYENV || {};                                    if (document.getElementById(\"ffde24a2-600e-4981-9a01-2e9d327764f0\")) {                    Plotly.newPlot(                        \"ffde24a2-600e-4981-9a01-2e9d327764f0\",                        [{\"branchvalues\":\"total\",\"domain\":{\"column\":1},\"hovertemplate\":\"<b>%{label} </b> <br> Percentage: %{text:.2f}%\",\"ids\":[\"CLS\",\"CLS what\",\"CLS what brand\",\"CLS what brand is\",\"CLS what brand is the\",\"CLS what brand is the truck\",\"CLS what is\",\"CLS what is special\",\"CLS what is special about\",\"CLS what is special about the\",\"CLS what is special about the sports\",\"CLS what is special about the sports items\",\"CLS what is special about the sports items in\",\"CLS what is special about the sports items in the\",\"CLS what is special about the sports items in the case\",\"CLS what is this\",\"CLS what is this vehicle\",\"CLS what is this vehicle used\",\"CLS what is this vehicle used for\",\"CLS what is the\",\"CLS what is the clothing\",\"CLS what is the clothing called\",\"CLS what is the clothing called that\",\"CLS what is the clothing called that the\",\"CLS what is the clothing called that the surfer\",\"CLS what is the clothing called that the surfer is\",\"CLS what is the clothing called that the surfer is wearing\",\"CLS what kind\",\"CLS what kind of\",\"CLS what kind of bear\",\"CLS what kind of bear is\",\"CLS what kind of bear is shown\",\"CLS what kind of bear is shown in\",\"CLS what kind of bear is shown in the\",\"CLS what kind of bear is shown in the photo\",\"CLS what do\",\"CLS what do they\",\"CLS what do they call\",\"CLS what do they call this\",\"CLS what do they call this type\",\"CLS what do they call this type of\",\"CLS what do they call this type of pattern\",\"CLS what do they call this type of pattern on\",\"CLS what do they call this type of pattern on this\",\"CLS what do they call this type of pattern on this bedspread\",\"CLS a\",\"CLS a name\",\"CLS a name for\",\"CLS a name for a\",\"CLS a name for a room\",\"CLS a name for a room of\",\"CLS a name for a room of this\",\"CLS a name for a room of this kind\",\"CLS a name for a room of this kind found\",\"CLS a name for a room of this kind found on\",\"CLS a name for a room of this kind found on campus\",\"CLS what are\",\"CLS what are the\",\"CLS what are the burning\",\"CLS what are the burning sticks\",\"CLS what are the burning sticks in\",\"CLS what are the burning sticks in this\",\"CLS what are the burning sticks in this picture\",\"CLS what are the burning sticks in this picture called\",\"CLS what skyline\",\"CLS what skyline is\",\"CLS what skyline is this\",\"CLS what skyline is this city\",\"CLS what skyline is this city in\",\"CLS what pastry\",\"CLS what pastry is\",\"CLS what pastry is pictured\",\"CLS what is the airline\",\"CLS what is the airline company\",\"CLS what is the airline company that\",\"CLS what is the airline company that manages\",\"CLS what is the airline company that manages the\",\"CLS what is the airline company that manages the pictures\",\"CLS what is the airline company that manages the pictures flight\",\"CLS in\",\"CLS in which\",\"CLS in which stadium\",\"CLS in which stadium does\",\"CLS in which stadium does this\",\"CLS in which stadium does this scene\",\"CLS in which stadium does this scene take\",\"CLS in which stadium does this scene take place\",\"CLS what topping\",\"CLS what topping on\",\"CLS what topping on this\",\"CLS what topping on this dish\",\"CLS what topping on this dish is\",\"CLS what topping on this dish is not\",\"CLS what topping on this dish is not good\",\"CLS what topping on this dish is not good for\",\"CLS what topping on this dish is not good for pregnant\",\"CLS what topping on this dish is not good for pregnant women\",\"CLS what breed\",\"CLS what breed of\",\"CLS what breed of dog\",\"CLS what breed of dog is\",\"CLS what breed of dog is in\",\"CLS what breed of dog is in this\",\"CLS what breed of dog is in this photo\",\"CLS what vehicle\",\"CLS what vehicle is\",\"CLS what vehicle is the\",\"CLS what vehicle is the dog\",\"CLS what vehicle is the dog inside\",\"CLS what is on\",\"CLS what is on the\",\"CLS what is on the persons\",\"CLS what is on the persons head\",\"CLS how\",\"CLS how many\",\"CLS how many mpg\",\"CLS how many mpg does\",\"CLS how many mpg does the\",\"CLS how many mpg does the silver\",\"CLS how many mpg does the silver scooter\",\"CLS how many mpg does the silver scooter get\",\"CLS is\",\"CLS is there\",\"CLS is there a\",\"CLS is there a grazing\",\"CLS is there a grazing animal\",\"CLS is there a grazing animal that\",\"CLS is there a grazing animal that has\",\"CLS is there a grazing animal that has a\",\"CLS is there a grazing animal that has a name\",\"CLS is there a grazing animal that has a name similar\",\"CLS is there a grazing animal that has a name similar to\",\"CLS is there a grazing animal that has a name similar to one\",\"CLS is there a grazing animal that has a name similar to one of\",\"CLS is there a grazing animal that has a name similar to one of these\",\"CLS is there a grazing animal that has a name similar to one of these pets\",\"CLS what company\",\"CLS what company manufactures\",\"CLS what company manufactures this\",\"CLS what company manufactures this brand\",\"CLS what company manufactures this brand of\",\"CLS what company manufactures this brand of pens\",\"CLS am\",\"CLS am i\",\"CLS am i a\",\"CLS am i a real\",\"CLS am i a real bear\",\"CLS am i a real bear or\",\"CLS am i a real bear or a\",\"CLS am i a real bear or a fake\",\"CLS am i a real bear or a fake one\",\"CLS what are those\",\"CLS what are those stairs\",\"CLS what are those stairs outside\",\"CLS what are those stairs outside the\",\"CLS what are those stairs outside the window\",\"CLS what part\",\"CLS what part of\",\"CLS what part of the\",\"CLS what part of the city\",\"CLS what part of the city would\",\"CLS what part of the city would this\",\"CLS what part of the city would this be\",\"CLS what part of the city would this be located\",\"CLS what part of the city would this be located in\",\"CLS what does\",\"CLS what does the\",\"CLS what does the yellow\",\"CLS what does the yellow color\",\"CLS what does the yellow color of\",\"CLS what does the yellow color of these\",\"CLS what does the yellow color of these fruit\",\"CLS what does the yellow color of these fruit mean\",\"CLS how much\",\"CLS how much sleep\",\"CLS how much sleep does\",\"CLS how much sleep does this\",\"CLS how much sleep does this aged\",\"CLS how much sleep does this aged person\",\"CLS how much sleep does this aged person need\",\"CLS what musical\",\"CLS what musical instrument\",\"CLS what musical instrument used\",\"CLS what musical instrument used to\",\"CLS what musical instrument used to be\",\"CLS what musical instrument used to be made\",\"CLS what musical instrument used to be made with\",\"CLS what musical instrument used to be made with parts\",\"CLS what musical instrument used to be made with parts from\",\"CLS what musical instrument used to be made with parts from these\",\"CLS what musical instrument used to be made with parts from these animals\",\"CLS what is this device\",\"CLS what is this device used\",\"CLS what is this device used for\",\"CLS the\",\"CLS the lack\",\"CLS the lack of\",\"CLS the lack of follicles\",\"CLS the lack of follicles on\",\"CLS the lack of follicles on this\",\"CLS the lack of follicles on this man\",\"CLS the lack of follicles on this man '\",\"CLS the lack of follicles on this man ' s\",\"CLS the lack of follicles on this man ' s head\",\"CLS the lack of follicles on this man ' s head is\",\"CLS the lack of follicles on this man ' s head is called\",\"CLS the lack of follicles on this man ' s head is called being\",\"CLS the lack of follicles on this man ' s head is called being what\",\"CLS what year\",\"CLS what year was\",\"CLS what year was the\",\"CLS what year was the first\",\"CLS what year was the first game\",\"CLS what year was the first game of\",\"CLS what year was the first game of this\",\"CLS what year was the first game of this sport\",\"CLS what year was the first game of this sport played\",\"CLS what rank\",\"CLS what rank do\",\"CLS what rank do each\",\"CLS what rank do each of\",\"CLS what rank do each of these\",\"CLS what rank do each of these men\",\"CLS what rank do each of these men hold\",\"CLS what type\",\"CLS what type of\",\"CLS what type of animal\",\"CLS what type of animal do\",\"CLS what type of animal do the\",\"CLS what type of animal do the two\",\"CLS what type of animal do the two large\",\"CLS what type of animal do the two large kites\",\"CLS what type of animal do the two large kites look\",\"CLS what type of animal do the two large kites look like\",\"CLS which\",\"CLS which model\",\"CLS which model of\",\"CLS which model of bike\",\"CLS which model of bike is\",\"CLS which model of bike is shown\",\"CLS which model of bike is shown in\",\"CLS which model of bike is shown in this\",\"CLS which model of bike is shown in this picture\"],\"insidetextorientation\":\"radial\",\"labels\":[\"\",\"what\",\"brand\",\"is\",\"the\",\"truck\",\"is\",\"special\",\"about\",\"the\",\"sports\",\"items\",\"in\",\"the\",\"case\",\"this\",\"vehicle\",\"used\",\"for\",\"the\",\"clothing\",\"called\",\"that\",\"the\",\"surfer\",\"is\",\"wearing\",\"kind\",\"of\",\"bear\",\"is\",\"shown\",\"in\",\"the\",\"photo\",\"do\",\"they\",\"call\",\"this\",\"type\",\"of\",\"pattern\",\"on\",\"this\",\"bedspread\",\"a\",\"name\",\"for\",\"a\",\"room\",\"of\",\"this\",\"kind\",\"found\",\"on\",\"campus\",\"are\",\"the\",\"burning\",\"sticks\",\"in\",\"this\",\"picture\",\"called\",\"skyline\",\"is\",\"this\",\"city\",\"in\",\"pastry\",\"is\",\"pictured\",\"airline\",\"company\",\"that\",\"manages\",\"the\",\"pictures\",\"flight\",\"in\",\"which\",\"stadium\",\"does\",\"this\",\"scene\",\"take\",\"place\",\"topping\",\"on\",\"this\",\"dish\",\"is\",\"not\",\"good\",\"for\",\"pregnant\",\"women\",\"breed\",\"of\",\"dog\",\"is\",\"in\",\"this\",\"photo\",\"vehicle\",\"is\",\"the\",\"dog\",\"inside\",\"on\",\"the\",\"persons\",\"head\",\"how\",\"many\",\"mpg\",\"does\",\"the\",\"silver\",\"scooter\",\"get\",\"is\",\"there\",\"a\",\"grazing\",\"animal\",\"that\",\"has\",\"a\",\"name\",\"similar\",\"to\",\"one\",\"of\",\"these\",\"pets\",\"company\",\"manufactures\",\"this\",\"brand\",\"of\",\"pens\",\"am\",\"i\",\"a\",\"real\",\"bear\",\"or\",\"a\",\"fake\",\"one\",\"those\",\"stairs\",\"outside\",\"the\",\"window\",\"part\",\"of\",\"the\",\"city\",\"would\",\"this\",\"be\",\"located\",\"in\",\"does\",\"the\",\"yellow\",\"color\",\"of\",\"these\",\"fruit\",\"mean\",\"much\",\"sleep\",\"does\",\"this\",\"aged\",\"person\",\"need\",\"musical\",\"instrument\",\"used\",\"to\",\"be\",\"made\",\"with\",\"parts\",\"from\",\"these\",\"animals\",\"device\",\"used\",\"for\",\"the\",\"lack\",\"of\",\"follicles\",\"on\",\"this\",\"man\",\"'\",\"s\",\"head\",\"is\",\"called\",\"being\",\"what\",\"year\",\"was\",\"the\",\"first\",\"game\",\"of\",\"this\",\"sport\",\"played\",\"rank\",\"do\",\"each\",\"of\",\"these\",\"men\",\"hold\",\"type\",\"of\",\"animal\",\"do\",\"the\",\"two\",\"large\",\"kites\",\"look\",\"like\",\"which\",\"model\",\"of\",\"bike\",\"is\",\"shown\",\"in\",\"this\",\"picture\"],\"parents\":[\"\",\"CLS\",\"CLS what\",\"CLS what brand\",\"CLS what brand is\",\"CLS what brand is the\",\"CLS what\",\"CLS what is\",\"CLS what is special\",\"CLS what is special about\",\"CLS what is special about the\",\"CLS what is special about the sports\",\"CLS what is special about the sports items\",\"CLS what is special about the sports items in\",\"CLS what is special about the sports items in the\",\"CLS what is\",\"CLS what is this\",\"CLS what is this vehicle\",\"CLS what is this vehicle used\",\"CLS what is\",\"CLS what is the\",\"CLS what is the clothing\",\"CLS what is the clothing called\",\"CLS what is the clothing called that\",\"CLS what is the clothing called that the\",\"CLS what is the clothing called that the surfer\",\"CLS what is the clothing called that the surfer is\",\"CLS what\",\"CLS what kind\",\"CLS what kind of\",\"CLS what kind of bear\",\"CLS what kind of bear is\",\"CLS what kind of bear is shown\",\"CLS what kind of bear is shown in\",\"CLS what kind of bear is shown in the\",\"CLS what\",\"CLS what do\",\"CLS what do they\",\"CLS what do they call\",\"CLS what do they call this\",\"CLS what do they call this type\",\"CLS what do they call this type of\",\"CLS what do they call this type of pattern\",\"CLS what do they call this type of pattern on\",\"CLS what do they call this type of pattern on this\",\"CLS\",\"CLS a\",\"CLS a name\",\"CLS a name for\",\"CLS a name for a\",\"CLS a name for a room\",\"CLS a name for a room of\",\"CLS a name for a room of this\",\"CLS a name for a room of this kind\",\"CLS a name for a room of this kind found\",\"CLS a name for a room of this kind found on\",\"CLS what\",\"CLS what are\",\"CLS what are the\",\"CLS what are the burning\",\"CLS what are the burning sticks\",\"CLS what are the burning sticks in\",\"CLS what are the burning sticks in this\",\"CLS what are the burning sticks in this picture\",\"CLS what\",\"CLS what skyline\",\"CLS what skyline is\",\"CLS what skyline is this\",\"CLS what skyline is this city\",\"CLS what\",\"CLS what pastry\",\"CLS what pastry is\",\"CLS what is the\",\"CLS what is the airline\",\"CLS what is the airline company\",\"CLS what is the airline company that\",\"CLS what is the airline company that manages\",\"CLS what is the airline company that manages the\",\"CLS what is the airline company that manages the pictures\",\"CLS\",\"CLS in\",\"CLS in which\",\"CLS in which stadium\",\"CLS in which stadium does\",\"CLS in which stadium does this\",\"CLS in which stadium does this scene\",\"CLS in which stadium does this scene take\",\"CLS what\",\"CLS what topping\",\"CLS what topping on\",\"CLS what topping on this\",\"CLS what topping on this dish\",\"CLS what topping on this dish is\",\"CLS what topping on this dish is not\",\"CLS what topping on this dish is not good\",\"CLS what topping on this dish is not good for\",\"CLS what topping on this dish is not good for pregnant\",\"CLS what\",\"CLS what breed\",\"CLS what breed of\",\"CLS what breed of dog\",\"CLS what breed of dog is\",\"CLS what breed of dog is in\",\"CLS what breed of dog is in this\",\"CLS what\",\"CLS what vehicle\",\"CLS what vehicle is\",\"CLS what vehicle is the\",\"CLS what vehicle is the dog\",\"CLS what is\",\"CLS what is on\",\"CLS what is on the\",\"CLS what is on the persons\",\"CLS\",\"CLS how\",\"CLS how many\",\"CLS how many mpg\",\"CLS how many mpg does\",\"CLS how many mpg does the\",\"CLS how many mpg does the silver\",\"CLS how many mpg does the silver scooter\",\"CLS\",\"CLS is\",\"CLS is there\",\"CLS is there a\",\"CLS is there a grazing\",\"CLS is there a grazing animal\",\"CLS is there a grazing animal that\",\"CLS is there a grazing animal that has\",\"CLS is there a grazing animal that has a\",\"CLS is there a grazing animal that has a name\",\"CLS is there a grazing animal that has a name similar\",\"CLS is there a grazing animal that has a name similar to\",\"CLS is there a grazing animal that has a name similar to one\",\"CLS is there a grazing animal that has a name similar to one of\",\"CLS is there a grazing animal that has a name similar to one of these\",\"CLS what\",\"CLS what company\",\"CLS what company manufactures\",\"CLS what company manufactures this\",\"CLS what company manufactures this brand\",\"CLS what company manufactures this brand of\",\"CLS\",\"CLS am\",\"CLS am i\",\"CLS am i a\",\"CLS am i a real\",\"CLS am i a real bear\",\"CLS am i a real bear or\",\"CLS am i a real bear or a\",\"CLS am i a real bear or a fake\",\"CLS what are\",\"CLS what are those\",\"CLS what are those stairs\",\"CLS what are those stairs outside\",\"CLS what are those stairs outside the\",\"CLS what\",\"CLS what part\",\"CLS what part of\",\"CLS what part of the\",\"CLS what part of the city\",\"CLS what part of the city would\",\"CLS what part of the city would this\",\"CLS what part of the city would this be\",\"CLS what part of the city would this be located\",\"CLS what\",\"CLS what does\",\"CLS what does the\",\"CLS what does the yellow\",\"CLS what does the yellow color\",\"CLS what does the yellow color of\",\"CLS what does the yellow color of these\",\"CLS what does the yellow color of these fruit\",\"CLS how\",\"CLS how much\",\"CLS how much sleep\",\"CLS how much sleep does\",\"CLS how much sleep does this\",\"CLS how much sleep does this aged\",\"CLS how much sleep does this aged person\",\"CLS what\",\"CLS what musical\",\"CLS what musical instrument\",\"CLS what musical instrument used\",\"CLS what musical instrument used to\",\"CLS what musical instrument used to be\",\"CLS what musical instrument used to be made\",\"CLS what musical instrument used to be made with\",\"CLS what musical instrument used to be made with parts\",\"CLS what musical instrument used to be made with parts from\",\"CLS what musical instrument used to be made with parts from these\",\"CLS what is this\",\"CLS what is this device\",\"CLS what is this device used\",\"CLS\",\"CLS the\",\"CLS the lack\",\"CLS the lack of\",\"CLS the lack of follicles\",\"CLS the lack of follicles on\",\"CLS the lack of follicles on this\",\"CLS the lack of follicles on this man\",\"CLS the lack of follicles on this man '\",\"CLS the lack of follicles on this man ' s\",\"CLS the lack of follicles on this man ' s head\",\"CLS the lack of follicles on this man ' s head is\",\"CLS the lack of follicles on this man ' s head is called\",\"CLS the lack of follicles on this man ' s head is called being\",\"CLS what\",\"CLS what year\",\"CLS what year was\",\"CLS what year was the\",\"CLS what year was the first\",\"CLS what year was the first game\",\"CLS what year was the first game of\",\"CLS what year was the first game of this\",\"CLS what year was the first game of this sport\",\"CLS what\",\"CLS what rank\",\"CLS what rank do\",\"CLS what rank do each\",\"CLS what rank do each of\",\"CLS what rank do each of these\",\"CLS what rank do each of these men\",\"CLS what\",\"CLS what type\",\"CLS what type of\",\"CLS what type of animal\",\"CLS what type of animal do\",\"CLS what type of animal do the\",\"CLS what type of animal do the two\",\"CLS what type of animal do the two large\",\"CLS what type of animal do the two large kites\",\"CLS what type of animal do the two large kites look\",\"CLS\",\"CLS which\",\"CLS which model\",\"CLS which model of\",\"CLS which model of bike\",\"CLS which model of bike is\",\"CLS which model of bike is shown\",\"CLS which model of bike is shown in\",\"CLS which model of bike is shown in this\"],\"text\":[100.0,74.19354838709677,3.225806451612903,3.225806451612903,3.225806451612903,3.225806451612903,19.35483870967742,3.225806451612903,3.225806451612903,3.225806451612903,3.225806451612903,3.225806451612903,3.225806451612903,3.225806451612903,3.225806451612903,6.451612903225806,3.225806451612903,3.225806451612903,3.225806451612903,6.451612903225806,3.225806451612903,3.225806451612903,3.225806451612903,3.225806451612903,3.225806451612903,3.225806451612903,3.225806451612903,3.225806451612903,3.225806451612903,3.225806451612903,3.225806451612903,3.225806451612903,3.225806451612903,3.225806451612903,3.225806451612903,3.225806451612903,3.225806451612903,3.225806451612903,3.225806451612903,3.225806451612903,3.225806451612903,3.225806451612903,3.225806451612903,3.225806451612903,3.225806451612903,3.225806451612903,3.225806451612903,3.225806451612903,3.225806451612903,3.225806451612903,3.225806451612903,3.225806451612903,3.225806451612903,3.225806451612903,3.225806451612903,3.225806451612903,6.451612903225806,3.225806451612903,3.225806451612903,3.225806451612903,3.225806451612903,3.225806451612903,3.225806451612903,3.225806451612903,3.225806451612903,3.225806451612903,3.225806451612903,3.225806451612903,3.225806451612903,3.225806451612903,3.225806451612903,3.225806451612903,3.225806451612903,3.225806451612903,3.225806451612903,3.225806451612903,3.225806451612903,3.225806451612903,3.225806451612903,3.225806451612903,3.225806451612903,3.225806451612903,3.225806451612903,3.225806451612903,3.225806451612903,3.225806451612903,3.225806451612903,3.225806451612903,3.225806451612903,3.225806451612903,3.225806451612903,3.225806451612903,3.225806451612903,3.225806451612903,3.225806451612903,3.225806451612903,3.225806451612903,3.225806451612903,3.225806451612903,3.225806451612903,3.225806451612903,3.225806451612903,3.225806451612903,3.225806451612903,3.225806451612903,3.225806451612903,3.225806451612903,3.225806451612903,3.225806451612903,3.225806451612903,3.225806451612903,3.225806451612903,3.225806451612903,6.451612903225806,3.225806451612903,3.225806451612903,3.225806451612903,3.225806451612903,3.225806451612903,3.225806451612903,3.225806451612903,3.225806451612903,3.225806451612903,3.225806451612903,3.225806451612903,3.225806451612903,3.225806451612903,3.225806451612903,3.225806451612903,3.225806451612903,3.225806451612903,3.225806451612903,3.225806451612903,3.225806451612903,3.225806451612903,3.225806451612903,3.225806451612903,3.225806451612903,3.225806451612903,3.225806451612903,3.225806451612903,3.225806451612903,3.225806451612903,3.225806451612903,3.225806451612903,3.225806451612903,3.225806451612903,3.225806451612903,3.225806451612903,3.225806451612903,3.225806451612903,3.225806451612903,3.225806451612903,3.225806451612903,3.225806451612903,3.225806451612903,3.225806451612903,3.225806451612903,3.225806451612903,3.225806451612903,3.225806451612903,3.225806451612903,3.225806451612903,3.225806451612903,3.225806451612903,3.225806451612903,3.225806451612903,3.225806451612903,3.225806451612903,3.225806451612903,3.225806451612903,3.225806451612903,3.225806451612903,3.225806451612903,3.225806451612903,3.225806451612903,3.225806451612903,3.225806451612903,3.225806451612903,3.225806451612903,3.225806451612903,3.225806451612903,3.225806451612903,3.225806451612903,3.225806451612903,3.225806451612903,3.225806451612903,3.225806451612903,3.225806451612903,3.225806451612903,3.225806451612903,3.225806451612903,3.225806451612903,3.225806451612903,3.225806451612903,3.225806451612903,3.225806451612903,3.225806451612903,3.225806451612903,3.225806451612903,3.225806451612903,3.225806451612903,3.225806451612903,3.225806451612903,3.225806451612903,3.225806451612903,3.225806451612903,3.225806451612903,3.225806451612903,3.225806451612903,3.225806451612903,3.225806451612903,3.225806451612903,3.225806451612903,3.225806451612903,3.225806451612903,3.225806451612903,3.225806451612903,3.225806451612903,3.225806451612903,3.225806451612903,3.225806451612903,3.225806451612903,3.225806451612903,3.225806451612903,3.225806451612903,3.225806451612903,3.225806451612903,3.225806451612903,3.225806451612903,3.225806451612903,3.225806451612903,3.225806451612903,3.225806451612903,3.225806451612903,3.225806451612903,3.225806451612903,3.225806451612903,3.225806451612903,3.225806451612903,3.225806451612903,3.225806451612903,3.225806451612903],\"values\":[31,23,1,1,1,1,6,1,1,1,1,1,1,1,1,2,1,1,1,2,1,1,1,1,1,1,1,1,1,1,1,1,1,1,1,1,1,1,1,1,1,1,1,1,1,1,1,1,1,1,1,1,1,1,1,1,2,1,1,1,1,1,1,1,1,1,1,1,1,1,1,1,1,1,1,1,1,1,1,1,1,1,1,1,1,1,1,1,1,1,1,1,1,1,1,1,1,1,1,1,1,1,1,1,1,1,1,1,1,1,1,1,1,2,1,1,1,1,1,1,1,1,1,1,1,1,1,1,1,1,1,1,1,1,1,1,1,1,1,1,1,1,1,1,1,1,1,1,1,1,1,1,1,1,1,1,1,1,1,1,1,1,1,1,1,1,1,1,1,1,1,1,1,1,1,1,1,1,1,1,1,1,1,1,1,1,1,1,1,1,1,1,1,1,1,1,1,1,1,1,1,1,1,1,1,1,1,1,1,1,1,1,1,1,1,1,1,1,1,1,1,1,1,1,1,1,1,1,1,1,1,1,1,1,1,1,1,1,1,1,1,1,1],\"type\":\"sunburst\"}],                        {\"template\":{\"data\":{\"bar\":[{\"error_x\":{\"color\":\"#2a3f5f\"},\"error_y\":{\"color\":\"#2a3f5f\"},\"marker\":{\"line\":{\"color\":\"#E5ECF6\",\"width\":0.5},\"pattern\":{\"fillmode\":\"overlay\",\"size\":10,\"solidity\":0.2}},\"type\":\"bar\"}],\"barpolar\":[{\"marker\":{\"line\":{\"color\":\"#E5ECF6\",\"width\":0.5},\"pattern\":{\"fillmode\":\"overlay\",\"size\":10,\"solidity\":0.2}},\"type\":\"barpolar\"}],\"carpet\":[{\"aaxis\":{\"endlinecolor\":\"#2a3f5f\",\"gridcolor\":\"white\",\"linecolor\":\"white\",\"minorgridcolor\":\"white\",\"startlinecolor\":\"#2a3f5f\"},\"baxis\":{\"endlinecolor\":\"#2a3f5f\",\"gridcolor\":\"white\",\"linecolor\":\"white\",\"minorgridcolor\":\"white\",\"startlinecolor\":\"#2a3f5f\"},\"type\":\"carpet\"}],\"choropleth\":[{\"colorbar\":{\"outlinewidth\":0,\"ticks\":\"\"},\"type\":\"choropleth\"}],\"contour\":[{\"colorbar\":{\"outlinewidth\":0,\"ticks\":\"\"},\"colorscale\":[[0.0,\"#0d0887\"],[0.1111111111111111,\"#46039f\"],[0.2222222222222222,\"#7201a8\"],[0.3333333333333333,\"#9c179e\"],[0.4444444444444444,\"#bd3786\"],[0.5555555555555556,\"#d8576b\"],[0.6666666666666666,\"#ed7953\"],[0.7777777777777778,\"#fb9f3a\"],[0.8888888888888888,\"#fdca26\"],[1.0,\"#f0f921\"]],\"type\":\"contour\"}],\"contourcarpet\":[{\"colorbar\":{\"outlinewidth\":0,\"ticks\":\"\"},\"type\":\"contourcarpet\"}],\"heatmap\":[{\"colorbar\":{\"outlinewidth\":0,\"ticks\":\"\"},\"colorscale\":[[0.0,\"#0d0887\"],[0.1111111111111111,\"#46039f\"],[0.2222222222222222,\"#7201a8\"],[0.3333333333333333,\"#9c179e\"],[0.4444444444444444,\"#bd3786\"],[0.5555555555555556,\"#d8576b\"],[0.6666666666666666,\"#ed7953\"],[0.7777777777777778,\"#fb9f3a\"],[0.8888888888888888,\"#fdca26\"],[1.0,\"#f0f921\"]],\"type\":\"heatmap\"}],\"heatmapgl\":[{\"colorbar\":{\"outlinewidth\":0,\"ticks\":\"\"},\"colorscale\":[[0.0,\"#0d0887\"],[0.1111111111111111,\"#46039f\"],[0.2222222222222222,\"#7201a8\"],[0.3333333333333333,\"#9c179e\"],[0.4444444444444444,\"#bd3786\"],[0.5555555555555556,\"#d8576b\"],[0.6666666666666666,\"#ed7953\"],[0.7777777777777778,\"#fb9f3a\"],[0.8888888888888888,\"#fdca26\"],[1.0,\"#f0f921\"]],\"type\":\"heatmapgl\"}],\"histogram\":[{\"marker\":{\"pattern\":{\"fillmode\":\"overlay\",\"size\":10,\"solidity\":0.2}},\"type\":\"histogram\"}],\"histogram2d\":[{\"colorbar\":{\"outlinewidth\":0,\"ticks\":\"\"},\"colorscale\":[[0.0,\"#0d0887\"],[0.1111111111111111,\"#46039f\"],[0.2222222222222222,\"#7201a8\"],[0.3333333333333333,\"#9c179e\"],[0.4444444444444444,\"#bd3786\"],[0.5555555555555556,\"#d8576b\"],[0.6666666666666666,\"#ed7953\"],[0.7777777777777778,\"#fb9f3a\"],[0.8888888888888888,\"#fdca26\"],[1.0,\"#f0f921\"]],\"type\":\"histogram2d\"}],\"histogram2dcontour\":[{\"colorbar\":{\"outlinewidth\":0,\"ticks\":\"\"},\"colorscale\":[[0.0,\"#0d0887\"],[0.1111111111111111,\"#46039f\"],[0.2222222222222222,\"#7201a8\"],[0.3333333333333333,\"#9c179e\"],[0.4444444444444444,\"#bd3786\"],[0.5555555555555556,\"#d8576b\"],[0.6666666666666666,\"#ed7953\"],[0.7777777777777778,\"#fb9f3a\"],[0.8888888888888888,\"#fdca26\"],[1.0,\"#f0f921\"]],\"type\":\"histogram2dcontour\"}],\"mesh3d\":[{\"colorbar\":{\"outlinewidth\":0,\"ticks\":\"\"},\"type\":\"mesh3d\"}],\"parcoords\":[{\"line\":{\"colorbar\":{\"outlinewidth\":0,\"ticks\":\"\"}},\"type\":\"parcoords\"}],\"pie\":[{\"automargin\":true,\"type\":\"pie\"}],\"scatter\":[{\"marker\":{\"colorbar\":{\"outlinewidth\":0,\"ticks\":\"\"}},\"type\":\"scatter\"}],\"scatter3d\":[{\"line\":{\"colorbar\":{\"outlinewidth\":0,\"ticks\":\"\"}},\"marker\":{\"colorbar\":{\"outlinewidth\":0,\"ticks\":\"\"}},\"type\":\"scatter3d\"}],\"scattercarpet\":[{\"marker\":{\"colorbar\":{\"outlinewidth\":0,\"ticks\":\"\"}},\"type\":\"scattercarpet\"}],\"scattergeo\":[{\"marker\":{\"colorbar\":{\"outlinewidth\":0,\"ticks\":\"\"}},\"type\":\"scattergeo\"}],\"scattergl\":[{\"marker\":{\"colorbar\":{\"outlinewidth\":0,\"ticks\":\"\"}},\"type\":\"scattergl\"}],\"scattermapbox\":[{\"marker\":{\"colorbar\":{\"outlinewidth\":0,\"ticks\":\"\"}},\"type\":\"scattermapbox\"}],\"scatterpolar\":[{\"marker\":{\"colorbar\":{\"outlinewidth\":0,\"ticks\":\"\"}},\"type\":\"scatterpolar\"}],\"scatterpolargl\":[{\"marker\":{\"colorbar\":{\"outlinewidth\":0,\"ticks\":\"\"}},\"type\":\"scatterpolargl\"}],\"scatterternary\":[{\"marker\":{\"colorbar\":{\"outlinewidth\":0,\"ticks\":\"\"}},\"type\":\"scatterternary\"}],\"surface\":[{\"colorbar\":{\"outlinewidth\":0,\"ticks\":\"\"},\"colorscale\":[[0.0,\"#0d0887\"],[0.1111111111111111,\"#46039f\"],[0.2222222222222222,\"#7201a8\"],[0.3333333333333333,\"#9c179e\"],[0.4444444444444444,\"#bd3786\"],[0.5555555555555556,\"#d8576b\"],[0.6666666666666666,\"#ed7953\"],[0.7777777777777778,\"#fb9f3a\"],[0.8888888888888888,\"#fdca26\"],[1.0,\"#f0f921\"]],\"type\":\"surface\"}],\"table\":[{\"cells\":{\"fill\":{\"color\":\"#EBF0F8\"},\"line\":{\"color\":\"white\"}},\"header\":{\"fill\":{\"color\":\"#C8D4E3\"},\"line\":{\"color\":\"white\"}},\"type\":\"table\"}]},\"layout\":{\"annotationdefaults\":{\"arrowcolor\":\"#2a3f5f\",\"arrowhead\":0,\"arrowwidth\":1},\"autotypenumbers\":\"strict\",\"coloraxis\":{\"colorbar\":{\"outlinewidth\":0,\"ticks\":\"\"}},\"colorscale\":{\"diverging\":[[0,\"#8e0152\"],[0.1,\"#c51b7d\"],[0.2,\"#de77ae\"],[0.3,\"#f1b6da\"],[0.4,\"#fde0ef\"],[0.5,\"#f7f7f7\"],[0.6,\"#e6f5d0\"],[0.7,\"#b8e186\"],[0.8,\"#7fbc41\"],[0.9,\"#4d9221\"],[1,\"#276419\"]],\"sequential\":[[0.0,\"#0d0887\"],[0.1111111111111111,\"#46039f\"],[0.2222222222222222,\"#7201a8\"],[0.3333333333333333,\"#9c179e\"],[0.4444444444444444,\"#bd3786\"],[0.5555555555555556,\"#d8576b\"],[0.6666666666666666,\"#ed7953\"],[0.7777777777777778,\"#fb9f3a\"],[0.8888888888888888,\"#fdca26\"],[1.0,\"#f0f921\"]],\"sequentialminus\":[[0.0,\"#0d0887\"],[0.1111111111111111,\"#46039f\"],[0.2222222222222222,\"#7201a8\"],[0.3333333333333333,\"#9c179e\"],[0.4444444444444444,\"#bd3786\"],[0.5555555555555556,\"#d8576b\"],[0.6666666666666666,\"#ed7953\"],[0.7777777777777778,\"#fb9f3a\"],[0.8888888888888888,\"#fdca26\"],[1.0,\"#f0f921\"]]},\"colorway\":[\"#636efa\",\"#EF553B\",\"#00cc96\",\"#ab63fa\",\"#FFA15A\",\"#19d3f3\",\"#FF6692\",\"#B6E880\",\"#FF97FF\",\"#FECB52\"],\"font\":{\"color\":\"#2a3f5f\"},\"geo\":{\"bgcolor\":\"white\",\"lakecolor\":\"white\",\"landcolor\":\"#E5ECF6\",\"showlakes\":true,\"showland\":true,\"subunitcolor\":\"white\"},\"hoverlabel\":{\"align\":\"left\"},\"hovermode\":\"closest\",\"mapbox\":{\"style\":\"light\"},\"paper_bgcolor\":\"white\",\"plot_bgcolor\":\"#E5ECF6\",\"polar\":{\"angularaxis\":{\"gridcolor\":\"white\",\"linecolor\":\"white\",\"ticks\":\"\"},\"bgcolor\":\"#E5ECF6\",\"radialaxis\":{\"gridcolor\":\"white\",\"linecolor\":\"white\",\"ticks\":\"\"}},\"scene\":{\"xaxis\":{\"backgroundcolor\":\"#E5ECF6\",\"gridcolor\":\"white\",\"gridwidth\":2,\"linecolor\":\"white\",\"showbackground\":true,\"ticks\":\"\",\"zerolinecolor\":\"white\"},\"yaxis\":{\"backgroundcolor\":\"#E5ECF6\",\"gridcolor\":\"white\",\"gridwidth\":2,\"linecolor\":\"white\",\"showbackground\":true,\"ticks\":\"\",\"zerolinecolor\":\"white\"},\"zaxis\":{\"backgroundcolor\":\"#E5ECF6\",\"gridcolor\":\"white\",\"gridwidth\":2,\"linecolor\":\"white\",\"showbackground\":true,\"ticks\":\"\",\"zerolinecolor\":\"white\"}},\"shapedefaults\":{\"line\":{\"color\":\"#2a3f5f\"}},\"ternary\":{\"aaxis\":{\"gridcolor\":\"white\",\"linecolor\":\"white\",\"ticks\":\"\"},\"baxis\":{\"gridcolor\":\"white\",\"linecolor\":\"white\",\"ticks\":\"\"},\"bgcolor\":\"#E5ECF6\",\"caxis\":{\"gridcolor\":\"white\",\"linecolor\":\"white\",\"ticks\":\"\"}},\"title\":{\"x\":0.05},\"xaxis\":{\"automargin\":true,\"gridcolor\":\"white\",\"linecolor\":\"white\",\"ticks\":\"\",\"title\":{\"standoff\":15},\"zerolinecolor\":\"white\",\"zerolinewidth\":2},\"yaxis\":{\"automargin\":true,\"gridcolor\":\"white\",\"linecolor\":\"white\",\"ticks\":\"\",\"title\":{\"standoff\":15},\"zerolinecolor\":\"white\",\"zerolinewidth\":2}}},\"margin\":{\"t\":10,\"l\":10,\"r\":10,\"b\":10},\"uniformtext\":{\"minsize\":10,\"mode\":\"hide\"},\"autosize\":false,\"width\":500,\"height\":500},                        {\"responsive\": true}                    ).then(function(){\n",
       "                            \n",
       "var gd = document.getElementById('ffde24a2-600e-4981-9a01-2e9d327764f0');\n",
       "var x = new MutationObserver(function (mutations, observer) {{\n",
       "        var display = window.getComputedStyle(gd).display;\n",
       "        if (!display || display === 'none') {{\n",
       "            console.log([gd, 'removed!']);\n",
       "            Plotly.purge(gd);\n",
       "            observer.disconnect();\n",
       "        }}\n",
       "}});\n",
       "\n",
       "// Listen for the removal of the full notebook cells\n",
       "var notebookContainer = gd.closest('#notebook-container');\n",
       "if (notebookContainer) {{\n",
       "    x.observe(notebookContainer, {childList: true});\n",
       "}}\n",
       "\n",
       "// Listen for the clearing of the current output cell\n",
       "var outputEl = gd.closest('.output');\n",
       "if (outputEl) {{\n",
       "    x.observe(outputEl, {childList: true});\n",
       "}}\n",
       "\n",
       "                        })                };                });            </script>        </div>"
      ]
     },
     "metadata": {},
     "output_type": "display_data"
    }
   ],
   "source": [
    "N = 31\n",
    "visualization_depth = 10\n",
    "\n",
    "temp = createSunburstVariables(okvqa_full, N)\n",
    "plotSunburst(temp, N, visualization_depth, use_dash=False)"
   ]
  },
  {
   "cell_type": "markdown",
   "id": "43f32127",
   "metadata": {},
   "source": [
    "Deploy dash app in webpage: https://dash.plotly.com/deployment"
   ]
  },
  {
   "cell_type": "code",
   "execution_count": null,
   "id": "faf4b3c9",
   "metadata": {},
   "outputs": [],
   "source": []
  }
 ],
 "metadata": {
  "kernelspec": {
   "display_name": "Python 3 (ipykernel)",
   "language": "python",
   "name": "python3"
  },
  "language_info": {
   "codemirror_mode": {
    "name": "ipython",
    "version": 3
   },
   "file_extension": ".py",
   "mimetype": "text/x-python",
   "name": "python",
   "nbconvert_exporter": "python",
   "pygments_lexer": "ipython3",
   "version": "3.7.11"
  }
 },
 "nbformat": 4,
 "nbformat_minor": 5
}
