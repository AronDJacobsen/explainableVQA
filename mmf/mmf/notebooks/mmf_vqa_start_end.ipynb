{
  "cells": [
    {
      "cell_type": "markdown",
      "source": [
        "**Installing particular dependencies**"
      ],
      "metadata": {
        "id": "hNCa4OCWXYFI"
      }
    },
    {
      "cell_type": "code",
      "source": [
        "#!pip install yacs cython matplotlib\n",
        "!pip install --upgrade matplotlib\n",
        "!pip install sentencepiece\n",
        "!pip install torch pytorch-lightning"
      ],
      "metadata": {
        "id": "nhaTfvecXe1d"
      },
      "execution_count": null,
      "outputs": []
    },
    {
      "cell_type": "markdown",
      "source": [
        "**Installing MMF**"
      ],
      "metadata": {
        "id": "VXXVq7VeT2g7"
      }
    },
    {
      "cell_type": "code",
      "source": [
        "%cd /content/\n",
        "%rm -rf mmf\n",
        "!git clone https://github.com/albertkjoller/explainableVQA.git explainableVQA\n",
        "%cd /content/explainableVQA/mmf\n",
        "# Don't modify torch version\n",
        "!sed -i '/torch/d' requirements.txt\n",
        "!pip install -e .\n",
        "\n",
        "import sys\n",
        "sys.path.append(\"/content/explainableVQA/mmf/mmf\")"
      ],
      "metadata": {
        "id": "dFxT2GJzT5Ba"
      },
      "execution_count": 42,
      "outputs": []
    },
    {
      "cell_type": "markdown",
      "source": [
        "**Downloading dataset** for visualization (not working)"
      ],
      "metadata": {
        "id": "bOFIwxxaiXh1"
      }
    },
    {
      "cell_type": "code",
      "source": [
        "# Importing\n",
        "# registry is need to register the dataset or our new model so as to be MMF discoverable\n",
        "from mmf.common.registry import registry\n",
        "\n",
        "from mmf.models.mmbt import MMBT\n",
        "from mmf.utils.build import build_dataset\n",
        "from mmf.utils.env import setup_imports\n",
        "\n",
        "import matplotlib.pyplot as plt\n"
      ],
      "metadata": {
        "id": "9ony8nIuiZ6k"
      },
      "execution_count": null,
      "outputs": []
    },
    {
      "cell_type": "code",
      "source": [
        "# downloading\n",
        "\n",
        "setup_imports()\n",
        "dataset = build_dataset(\"okvqa\")\n",
        "\n",
        "# visualizing\n",
        "plt.rcParams[\"figure.figsize\"] = (20, 20)\n",
        "dataset.visualize(num_samples=8, size=(512, 512), nrow=4)"
      ],
      "metadata": {
        "id": "bDnRKMpvjI3D"
      },
      "execution_count": null,
      "outputs": []
    },
    {
      "cell_type": "markdown",
      "source": [
        "**Building the model**"
      ],
      "metadata": {
        "id": "Z32CI5uNXrxw"
      }
    },
    {
      "cell_type": "code",
      "source": [
        "# importing\n",
        "import torch\n",
        "\n",
        "# All model using MMF need to inherit BaseModel\n",
        "from mmf.models.base_model import BaseModel\n",
        "\n",
        "# Builder methods for image encoder and classifier\n",
        "from mmf.utils.build import (\n",
        "    build_classifier_layer,\n",
        "    build_image_encoder,\n",
        "    build_text_encoder,\n",
        ")\n"
      ],
      "metadata": {
        "id": "Q3JF8FPvcWAE"
      },
      "execution_count": 15,
      "outputs": []
    },
    {
      "cell_type": "code",
      "source": [
        "\n",
        "# Register the model for MMF, \"concat_bert_tutorial\" key would be used to find the model\n",
        "# concat_bert_tutorial\n",
        "# ConcatBERTTutorial\n",
        "@registry.register_model(\"first_model\")\n",
        "class First_Model(BaseModel):\n",
        "    # All models in MMF get first argument as config which contains all\n",
        "    # of the information you stored in this model's config (hyperparameters)\n",
        "    def __init__(self, config):\n",
        "      # This is not needed in most cases as it just calling parent's init\n",
        "      # with same parameters. But to explain how config is initialized we\n",
        "      # have kept this\n",
        "      super().__init__(config)\n",
        "      self.build()\n",
        "\n",
        "    # This classmethod tells MMF where to look for default config of this model\n",
        "    @classmethod\n",
        "    def config_path(cls):\n",
        "      # Relative to user dir root\n",
        "      return \"/mmf/configs/models/first_model/defaults.yaml\"\n",
        "\n",
        "    # Each method need to define a build method where the model's modules\n",
        "    # are actually build and assigned to the model\n",
        "    def build(self):\n",
        "      \"\"\"\n",
        "      Config's image_encoder attribute will be used to build an MMF image\n",
        "      encoder. This config in yaml will look like:\n",
        "\n",
        "      # \"type\" parameter specifies the type of encoder we are using here.\n",
        "      # In this particular case, we are using resnet152\n",
        "      type: resnet152\n",
        "      # Parameters are passed to underlying encoder class by\n",
        "      # build_image_encoder\n",
        "      params:\n",
        "          # Specifies whether to use a pretrained version\n",
        "          pretrained: true\n",
        "          # Pooling type, use max to use AdaptiveMaxPool2D\n",
        "          pool_type: avg\n",
        "          # Number of output features from the encoder, -1 for original\n",
        "          # otherwise, supports between 1 to 9\n",
        "          num_output_features: 1\n",
        "      \"\"\"\n",
        "      self.vision_module = build_image_encoder(self.config.image_encoder)\n",
        "\n",
        "      \"\"\"\n",
        "      For text encoder, configuration would look like:\n",
        "      # Specifies the type of the langauge encoder, in this case mlp\n",
        "      type: transformer\n",
        "      # Parameter to the encoder are passed through build_text_encoder\n",
        "      params:\n",
        "          # BERT model type\n",
        "          bert_model_name: bert-base-uncased\n",
        "          hidden_size: 768\n",
        "          # Number of BERT layers\n",
        "          num_hidden_layers: 12\n",
        "          # Number of attention heads in the BERT layers\n",
        "          num_attention_heads: 12\n",
        "      \"\"\"\n",
        "      self.language_module = build_text_encoder(self.config.text_encoder)\n",
        "\n",
        "      \"\"\"\n",
        "      For classifer, configuration would look like:\n",
        "      # Specifies the type of the classifier, in this case mlp\n",
        "      type: mlp\n",
        "      # Parameter to the classifier passed through build_classifier_layer\n",
        "      params:\n",
        "          # Dimension of the tensor coming into the classifier\n",
        "          # Visual feature dim + Language feature dim : 2048 + 768\n",
        "          in_dim: 2816\n",
        "          # Dimension of the tensor going out of the classifier\n",
        "          out_dim: 2\n",
        "          # Number of MLP layers in the classifier\n",
        "          num_layers: 2\n",
        "      \"\"\"\n",
        "      self.classifier = build_classifier_layer(self.config.classifier)\n",
        "\n",
        "    # Each model in MMF gets a dict called sample_list which contains\n",
        "    # all of the necessary information returned from the image\n",
        "    def forward(self, sample_list):\n",
        "      # Text input features will be in \"input_ids\" key\n",
        "      text = sample_list[\"input_ids\"]\n",
        "      # Similarly, image input will be in \"image\" key\n",
        "      image = sample_list[\"image\"]\n",
        "\n",
        "      # Get the text and image features from the encoders\n",
        "      text_features = self.language_module(text)[1]\n",
        "      image_features = self.vision_module(image)\n",
        "\n",
        "      # Flatten the embeddings before concatenation\n",
        "      image_features = torch.flatten(image_features, start_dim=1)\n",
        "      text_features = torch.flatten(text_features, start_dim=1)\n",
        "\n",
        "      # Concatenate the features returned from two modality encoders\n",
        "      combined = torch.cat([text_features, image_features], dim=1)\n",
        "\n",
        "      # Pass final tensor to classifier to get scores\n",
        "      logits = self.classifier(combined)\n",
        "\n",
        "      # For loss calculations (automatically done by MMF\n",
        "      # as per the loss defined in the config),\n",
        "      # we need to return a dict with \"scores\" key as logits\n",
        "      output = {\"scores\": logits}\n",
        "\n",
        "      # MMF will automatically calculate loss\n",
        "      return output\n",
        "\n",
        "\n"
      ],
      "metadata": {
        "id": "e3DeCCniX-0Y"
      },
      "execution_count": 29,
      "outputs": []
    },
    {
      "cell_type": "markdown",
      "source": [
        "Training"
      ],
      "metadata": {
        "id": "uzVmqc8zdbE5"
      }
    },
    {
      "cell_type": "code",
      "source": [
        "from mmf_cli.run import run\n",
        "\n",
        "!mmf_run config=\"configs/experiments/first_model/defaults.yaml\" \\\n",
        "    model=first_model \\\n",
        "    dataset=okvqa \\\n",
        "    run_type=train_val"
      ],
      "metadata": {
        "id": "6EgpyCJzdh9Z"
      },
      "execution_count": 18,
      "outputs": []
    },
    {
      "cell_type": "code",
      "source": [
        "registry.mapping[\"state\"] = {}\n",
        "opts = opts=[\n",
        "             \"config='mmf/configs/models/first_model/defaults.yaml'\", \n",
        "             \"model=first_model\", \n",
        "             \"dataset=okvqa\", \n",
        "             \"training.num_workers=0\"\n",
        "             ]\n",
        "run(opts=opts)"
      ],
      "metadata": {
        "id": "iQV-lUk1l1rX",
        "outputId": "5b436e60-053d-4f33-c51b-02371404d43f",
        "colab": {
          "base_uri": "https://localhost:8080/",
          "height": 446
        }
      },
      "execution_count": 39,
      "outputs": [
        {
          "output_type": "stream",
          "name": "stderr",
          "text": [
            "/usr/local/lib/python3.7/dist-packages/omegaconf/grammar_visitor.py:257: UserWarning: In the sequence `MMF_USER_DIR,` some elements are missing: please replace them with empty quoted strings. See https://github.com/omry/omegaconf/issues/572 for details.\n",
            "  category=UserWarning,\n",
            "/usr/local/lib/python3.7/dist-packages/omegaconf/resolvers/__init__.py:13: UserWarning: The `env` resolver is deprecated, see https://github.com/omry/omegaconf/issues/573\n",
            "  \"The `env` resolver is deprecated, see https://github.com/omry/omegaconf/issues/573\"\n"
          ]
        },
        {
          "output_type": "error",
          "ename": "FileNotFoundError",
          "evalue": "ignored",
          "traceback": [
            "\u001b[0;31m---------------------------------------------------------------------------\u001b[0m",
            "\u001b[0;31mFileNotFoundError\u001b[0m                         Traceback (most recent call last)",
            "\u001b[0;32m<ipython-input-39-a2265dc8296b>\u001b[0m in \u001b[0;36m<module>\u001b[0;34m()\u001b[0m\n\u001b[1;32m      6\u001b[0m              \u001b[0;34m\"training.num_workers=0\"\u001b[0m\u001b[0;34m\u001b[0m\u001b[0;34m\u001b[0m\u001b[0m\n\u001b[1;32m      7\u001b[0m              ]\n\u001b[0;32m----> 8\u001b[0;31m \u001b[0mrun\u001b[0m\u001b[0;34m(\u001b[0m\u001b[0mopts\u001b[0m\u001b[0;34m=\u001b[0m\u001b[0mopts\u001b[0m\u001b[0;34m)\u001b[0m\u001b[0;34m\u001b[0m\u001b[0;34m\u001b[0m\u001b[0m\n\u001b[0m",
            "\u001b[0;32m/content/explainableVQA/mmf/mmf_cli/run.py\u001b[0m in \u001b[0;36mrun\u001b[0;34m(opts, predict)\u001b[0m\n\u001b[1;32m     89\u001b[0m         \u001b[0margs\u001b[0m\u001b[0;34m.\u001b[0m\u001b[0mopts\u001b[0m \u001b[0;34m=\u001b[0m \u001b[0mopts\u001b[0m\u001b[0;34m\u001b[0m\u001b[0;34m\u001b[0m\u001b[0m\n\u001b[1;32m     90\u001b[0m \u001b[0;34m\u001b[0m\u001b[0m\n\u001b[0;32m---> 91\u001b[0;31m     \u001b[0mconfiguration\u001b[0m \u001b[0;34m=\u001b[0m \u001b[0mConfiguration\u001b[0m\u001b[0;34m(\u001b[0m\u001b[0margs\u001b[0m\u001b[0;34m)\u001b[0m\u001b[0;34m\u001b[0m\u001b[0;34m\u001b[0m\u001b[0m\n\u001b[0m\u001b[1;32m     92\u001b[0m     \u001b[0;31m# Do set runtime args which can be changed by MMF\u001b[0m\u001b[0;34m\u001b[0m\u001b[0;34m\u001b[0m\u001b[0;34m\u001b[0m\u001b[0m\n\u001b[1;32m     93\u001b[0m     \u001b[0mconfiguration\u001b[0m\u001b[0;34m.\u001b[0m\u001b[0margs\u001b[0m \u001b[0;34m=\u001b[0m \u001b[0margs\u001b[0m\u001b[0;34m\u001b[0m\u001b[0;34m\u001b[0m\u001b[0m\n",
            "\u001b[0;32m/content/explainableVQA/mmf/mmf/utils/configuration.py\u001b[0m in \u001b[0;36m__init__\u001b[0;34m(self, args, default_only)\u001b[0m\n\u001b[1;32m    337\u001b[0m             \u001b[0mother_configs\u001b[0m \u001b[0;34m=\u001b[0m \u001b[0;34m{\u001b[0m\u001b[0;34m}\u001b[0m\u001b[0;34m\u001b[0m\u001b[0;34m\u001b[0m\u001b[0m\n\u001b[1;32m    338\u001b[0m         \u001b[0;32melse\u001b[0m\u001b[0;34m:\u001b[0m\u001b[0;34m\u001b[0m\u001b[0;34m\u001b[0m\u001b[0m\n\u001b[0;32m--> 339\u001b[0;31m             \u001b[0mother_configs\u001b[0m \u001b[0;34m=\u001b[0m \u001b[0mself\u001b[0m\u001b[0;34m.\u001b[0m\u001b[0m_build_other_configs\u001b[0m\u001b[0;34m(\u001b[0m\u001b[0;34m)\u001b[0m\u001b[0;34m\u001b[0m\u001b[0;34m\u001b[0m\u001b[0m\n\u001b[0m\u001b[1;32m    340\u001b[0m \u001b[0;34m\u001b[0m\u001b[0m\n\u001b[1;32m    341\u001b[0m         \u001b[0mself\u001b[0m\u001b[0;34m.\u001b[0m\u001b[0mconfig\u001b[0m \u001b[0;34m=\u001b[0m \u001b[0mOmegaConf\u001b[0m\u001b[0;34m.\u001b[0m\u001b[0mmerge\u001b[0m\u001b[0;34m(\u001b[0m\u001b[0mself\u001b[0m\u001b[0;34m.\u001b[0m\u001b[0m_default_config\u001b[0m\u001b[0;34m,\u001b[0m \u001b[0mother_configs\u001b[0m\u001b[0;34m)\u001b[0m\u001b[0;34m\u001b[0m\u001b[0;34m\u001b[0m\u001b[0m\n",
            "\u001b[0;32m/content/explainableVQA/mmf/mmf/utils/configuration.py\u001b[0m in \u001b[0;36m_build_other_configs\u001b[0;34m(self)\u001b[0m\n\u001b[1;32m    360\u001b[0m     \u001b[0;32mdef\u001b[0m \u001b[0m_build_other_configs\u001b[0m\u001b[0;34m(\u001b[0m\u001b[0mself\u001b[0m\u001b[0;34m)\u001b[0m\u001b[0;34m:\u001b[0m\u001b[0;34m\u001b[0m\u001b[0;34m\u001b[0m\u001b[0m\n\u001b[1;32m    361\u001b[0m         \u001b[0mopts_config\u001b[0m \u001b[0;34m=\u001b[0m \u001b[0mself\u001b[0m\u001b[0;34m.\u001b[0m\u001b[0m_build_opt_list\u001b[0m\u001b[0;34m(\u001b[0m\u001b[0mself\u001b[0m\u001b[0;34m.\u001b[0m\u001b[0margs\u001b[0m\u001b[0;34m.\u001b[0m\u001b[0mopts\u001b[0m\u001b[0;34m)\u001b[0m\u001b[0;34m\u001b[0m\u001b[0;34m\u001b[0m\u001b[0m\n\u001b[0;32m--> 362\u001b[0;31m         \u001b[0muser_config\u001b[0m \u001b[0;34m=\u001b[0m \u001b[0mself\u001b[0m\u001b[0;34m.\u001b[0m\u001b[0m_build_user_config\u001b[0m\u001b[0;34m(\u001b[0m\u001b[0mopts_config\u001b[0m\u001b[0;34m)\u001b[0m\u001b[0;34m\u001b[0m\u001b[0;34m\u001b[0m\u001b[0m\n\u001b[0m\u001b[1;32m    363\u001b[0m \u001b[0;34m\u001b[0m\u001b[0m\n\u001b[1;32m    364\u001b[0m         \u001b[0mself\u001b[0m\u001b[0;34m.\u001b[0m\u001b[0m_opts_config\u001b[0m \u001b[0;34m=\u001b[0m \u001b[0mopts_config\u001b[0m\u001b[0;34m\u001b[0m\u001b[0;34m\u001b[0m\u001b[0m\n",
            "\u001b[0;32m/content/explainableVQA/mmf/mmf/utils/configuration.py\u001b[0m in \u001b[0;36m_build_user_config\u001b[0;34m(self, opts)\u001b[0m\n\u001b[1;32m    386\u001b[0m         \u001b[0mself\u001b[0m\u001b[0;34m.\u001b[0m\u001b[0mconfig_path\u001b[0m \u001b[0;34m=\u001b[0m \u001b[0mopts\u001b[0m\u001b[0;34m.\u001b[0m\u001b[0mconfig\u001b[0m\u001b[0;34m\u001b[0m\u001b[0;34m\u001b[0m\u001b[0m\n\u001b[1;32m    387\u001b[0m         \u001b[0;32mif\u001b[0m \u001b[0mself\u001b[0m\u001b[0;34m.\u001b[0m\u001b[0mconfig_path\u001b[0m \u001b[0;32mis\u001b[0m \u001b[0;32mnot\u001b[0m \u001b[0;32mNone\u001b[0m\u001b[0;34m:\u001b[0m\u001b[0;34m\u001b[0m\u001b[0;34m\u001b[0m\u001b[0m\n\u001b[0;32m--> 388\u001b[0;31m             \u001b[0muser_config\u001b[0m \u001b[0;34m=\u001b[0m \u001b[0mload_yaml\u001b[0m\u001b[0;34m(\u001b[0m\u001b[0mself\u001b[0m\u001b[0;34m.\u001b[0m\u001b[0mconfig_path\u001b[0m\u001b[0;34m)\u001b[0m\u001b[0;34m\u001b[0m\u001b[0;34m\u001b[0m\u001b[0m\n\u001b[0m\u001b[1;32m    389\u001b[0m \u001b[0;34m\u001b[0m\u001b[0m\n\u001b[1;32m    390\u001b[0m         \u001b[0;32mreturn\u001b[0m \u001b[0muser_config\u001b[0m\u001b[0;34m\u001b[0m\u001b[0;34m\u001b[0m\u001b[0m\n",
            "\u001b[0;32m/content/explainableVQA/mmf/mmf/utils/configuration.py\u001b[0m in \u001b[0;36mload_yaml\u001b[0;34m(f)\u001b[0m\n\u001b[1;32m     31\u001b[0m         \u001b[0mrelative\u001b[0m \u001b[0;34m=\u001b[0m \u001b[0mos\u001b[0m\u001b[0;34m.\u001b[0m\u001b[0mpath\u001b[0m\u001b[0;34m.\u001b[0m\u001b[0mabspath\u001b[0m\u001b[0;34m(\u001b[0m\u001b[0mos\u001b[0m\u001b[0;34m.\u001b[0m\u001b[0mpath\u001b[0m\u001b[0;34m.\u001b[0m\u001b[0mjoin\u001b[0m\u001b[0;34m(\u001b[0m\u001b[0mget_mmf_root\u001b[0m\u001b[0;34m(\u001b[0m\u001b[0;34m)\u001b[0m\u001b[0;34m,\u001b[0m \u001b[0mf\u001b[0m\u001b[0;34m)\u001b[0m\u001b[0;34m)\u001b[0m\u001b[0;34m\u001b[0m\u001b[0;34m\u001b[0m\u001b[0m\n\u001b[1;32m     32\u001b[0m         \u001b[0;32mif\u001b[0m \u001b[0;32mnot\u001b[0m \u001b[0mPathManager\u001b[0m\u001b[0;34m.\u001b[0m\u001b[0misfile\u001b[0m\u001b[0;34m(\u001b[0m\u001b[0mrelative\u001b[0m\u001b[0;34m)\u001b[0m\u001b[0;34m:\u001b[0m\u001b[0;34m\u001b[0m\u001b[0;34m\u001b[0m\u001b[0m\n\u001b[0;32m---> 33\u001b[0;31m             \u001b[0;32mraise\u001b[0m \u001b[0me\u001b[0m\u001b[0;34m\u001b[0m\u001b[0;34m\u001b[0m\u001b[0m\n\u001b[0m\u001b[1;32m     34\u001b[0m         \u001b[0;32melse\u001b[0m\u001b[0;34m:\u001b[0m\u001b[0;34m\u001b[0m\u001b[0;34m\u001b[0m\u001b[0m\n\u001b[1;32m     35\u001b[0m             \u001b[0mf\u001b[0m \u001b[0;34m=\u001b[0m \u001b[0mrelative\u001b[0m\u001b[0;34m\u001b[0m\u001b[0;34m\u001b[0m\u001b[0m\n",
            "\u001b[0;32m/content/explainableVQA/mmf/mmf/utils/configuration.py\u001b[0m in \u001b[0;36mload_yaml\u001b[0;34m(f)\u001b[0m\n\u001b[1;32m     24\u001b[0m \u001b[0;34m\u001b[0m\u001b[0m\n\u001b[1;32m     25\u001b[0m     \u001b[0;32mtry\u001b[0m\u001b[0;34m:\u001b[0m\u001b[0;34m\u001b[0m\u001b[0;34m\u001b[0m\u001b[0m\n\u001b[0;32m---> 26\u001b[0;31m         \u001b[0mmapping\u001b[0m \u001b[0;34m=\u001b[0m \u001b[0mOmegaConf\u001b[0m\u001b[0;34m.\u001b[0m\u001b[0mload\u001b[0m\u001b[0;34m(\u001b[0m\u001b[0mPathManager\u001b[0m\u001b[0;34m.\u001b[0m\u001b[0mget_local_path\u001b[0m\u001b[0;34m(\u001b[0m\u001b[0mabs_f\u001b[0m\u001b[0;34m)\u001b[0m\u001b[0;34m)\u001b[0m\u001b[0;34m\u001b[0m\u001b[0;34m\u001b[0m\u001b[0m\n\u001b[0m\u001b[1;32m     27\u001b[0m         \u001b[0mf\u001b[0m \u001b[0;34m=\u001b[0m \u001b[0mabs_f\u001b[0m\u001b[0;34m\u001b[0m\u001b[0;34m\u001b[0m\u001b[0m\n\u001b[1;32m     28\u001b[0m     \u001b[0;32mexcept\u001b[0m \u001b[0mFileNotFoundError\u001b[0m \u001b[0;32mas\u001b[0m \u001b[0me\u001b[0m\u001b[0;34m:\u001b[0m\u001b[0;34m\u001b[0m\u001b[0;34m\u001b[0m\u001b[0m\n",
            "\u001b[0;32m/usr/local/lib/python3.7/dist-packages/omegaconf/omegaconf.py\u001b[0m in \u001b[0;36mload\u001b[0;34m(file_)\u001b[0m\n\u001b[1;32m    181\u001b[0m \u001b[0;34m\u001b[0m\u001b[0m\n\u001b[1;32m    182\u001b[0m         \u001b[0;32mif\u001b[0m \u001b[0misinstance\u001b[0m\u001b[0;34m(\u001b[0m\u001b[0mfile_\u001b[0m\u001b[0;34m,\u001b[0m \u001b[0;34m(\u001b[0m\u001b[0mstr\u001b[0m\u001b[0;34m,\u001b[0m \u001b[0mpathlib\u001b[0m\u001b[0;34m.\u001b[0m\u001b[0mPath\u001b[0m\u001b[0;34m)\u001b[0m\u001b[0;34m)\u001b[0m\u001b[0;34m:\u001b[0m\u001b[0;34m\u001b[0m\u001b[0;34m\u001b[0m\u001b[0m\n\u001b[0;32m--> 183\u001b[0;31m             \u001b[0;32mwith\u001b[0m \u001b[0mio\u001b[0m\u001b[0;34m.\u001b[0m\u001b[0mopen\u001b[0m\u001b[0;34m(\u001b[0m\u001b[0mos\u001b[0m\u001b[0;34m.\u001b[0m\u001b[0mpath\u001b[0m\u001b[0;34m.\u001b[0m\u001b[0mabspath\u001b[0m\u001b[0;34m(\u001b[0m\u001b[0mfile_\u001b[0m\u001b[0;34m)\u001b[0m\u001b[0;34m,\u001b[0m \u001b[0;34m\"r\"\u001b[0m\u001b[0;34m,\u001b[0m \u001b[0mencoding\u001b[0m\u001b[0;34m=\u001b[0m\u001b[0;34m\"utf-8\"\u001b[0m\u001b[0;34m)\u001b[0m \u001b[0;32mas\u001b[0m \u001b[0mf\u001b[0m\u001b[0;34m:\u001b[0m\u001b[0;34m\u001b[0m\u001b[0;34m\u001b[0m\u001b[0m\n\u001b[0m\u001b[1;32m    184\u001b[0m                 \u001b[0mobj\u001b[0m \u001b[0;34m=\u001b[0m \u001b[0myaml\u001b[0m\u001b[0;34m.\u001b[0m\u001b[0mload\u001b[0m\u001b[0;34m(\u001b[0m\u001b[0mf\u001b[0m\u001b[0;34m,\u001b[0m \u001b[0mLoader\u001b[0m\u001b[0;34m=\u001b[0m\u001b[0mget_yaml_loader\u001b[0m\u001b[0;34m(\u001b[0m\u001b[0;34m)\u001b[0m\u001b[0;34m)\u001b[0m\u001b[0;34m\u001b[0m\u001b[0;34m\u001b[0m\u001b[0m\n\u001b[1;32m    185\u001b[0m         \u001b[0;32melif\u001b[0m \u001b[0mgetattr\u001b[0m\u001b[0;34m(\u001b[0m\u001b[0mfile_\u001b[0m\u001b[0;34m,\u001b[0m \u001b[0;34m\"read\"\u001b[0m\u001b[0;34m,\u001b[0m \u001b[0;32mNone\u001b[0m\u001b[0;34m)\u001b[0m\u001b[0;34m:\u001b[0m\u001b[0;34m\u001b[0m\u001b[0;34m\u001b[0m\u001b[0m\n",
            "\u001b[0;31mFileNotFoundError\u001b[0m: [Errno 2] No such file or directory: '/content/explainableVQA/mmf/mmf/configs/models/first_model/defaults.yaml'"
          ]
        }
      ]
    },
    {
      "cell_type": "markdown",
      "source": [
        ""
      ],
      "metadata": {
        "id": "V0toz6UUYHiF"
      }
    },
    {
      "cell_type": "markdown",
      "source": [
        ""
      ],
      "metadata": {
        "id": "Fl40D7PZYHkg"
      }
    },
    {
      "cell_type": "markdown",
      "source": [
        ""
      ],
      "metadata": {
        "id": "ZJbu4kcmYHnD"
      }
    },
    {
      "cell_type": "markdown",
      "source": [
        ""
      ],
      "metadata": {
        "id": "SR9viY-iYHpJ"
      }
    }
  ],
  "metadata": {
    "accelerator": "GPU",
    "colab": {
      "collapsed_sections": [],
      "name": "mmf_demo.ipynb",
      "provenance": []
    },
    "kernelspec": {
      "display_name": "Python 3 (ipykernel)",
      "language": "python",
      "name": "python3"
    },
    "language_info": {
      "codemirror_mode": {
        "name": "ipython",
        "version": 3
      },
      "file_extension": ".py",
      "mimetype": "text/x-python",
      "name": "python",
      "nbconvert_exporter": "python",
      "pygments_lexer": "ipython3",
      "version": "3.7.11"
    }
  },
  "nbformat": 4,
  "nbformat_minor": 0
}