{
 "cells": [
  {
   "cell_type": "markdown",
   "id": "2763f47c",
   "metadata": {},
   "source": [
    "# Featurization ideas"
   ]
  },
  {
   "cell_type": "markdown",
   "id": "5365dfba",
   "metadata": {},
   "source": [
    "**Sentence Embeddings:**\n",
    "> - *sent2vec (EPFL):* https://github.com/epfml/sent2vec\n",
    "> - *sen2vec:* https://pypi.org/project/sen2vec/1.44/#description"
   ]
  },
  {
   "cell_type": "code",
   "execution_count": null,
   "id": "7e99abd7",
   "metadata": {},
   "outputs": [],
   "source": []
  },
  {
   "cell_type": "code",
   "execution_count": null,
   "id": "99b2b5e3",
   "metadata": {},
   "outputs": [],
   "source": []
  }
 ],
 "metadata": {
  "kernelspec": {
   "display_name": "VQA environment",
   "language": "python",
   "name": "test_vqa"
  },
  "language_info": {
   "codemirror_mode": {
    "name": "ipython",
    "version": 3
   },
   "file_extension": ".py",
   "mimetype": "text/x-python",
   "name": "python",
   "nbconvert_exporter": "python",
   "pygments_lexer": "ipython3",
   "version": "3.8.12"
  }
 },
 "nbformat": 4,
 "nbformat_minor": 5
}
